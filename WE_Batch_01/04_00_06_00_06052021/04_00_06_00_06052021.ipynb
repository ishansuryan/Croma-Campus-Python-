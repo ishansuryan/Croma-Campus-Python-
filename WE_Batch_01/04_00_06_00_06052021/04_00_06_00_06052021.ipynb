{
 "metadata": {
  "language_info": {
   "codemirror_mode": {
    "name": "ipython",
    "version": 3
   },
   "file_extension": ".py",
   "mimetype": "text/x-python",
   "name": "python",
   "nbconvert_exporter": "python",
   "pygments_lexer": "ipython3",
   "version": "3.9.5"
  },
  "orig_nbformat": 2,
  "kernelspec": {
   "name": "python395jvsc74a57bd0d2152fd7f0bbc62aa1baff8c990435d1e2c7175d001561303988032604c11a48",
   "display_name": "Python 3.9.5 64-bit"
  },
  "metadata": {
   "interpreter": {
    "hash": "d2152fd7f0bbc62aa1baff8c990435d1e2c7175d001561303988032604c11a48"
   }
  }
 },
 "nbformat": 4,
 "nbformat_minor": 2,
 "cells": [
  {
   "cell_type": "code",
   "execution_count": 1,
   "metadata": {},
   "outputs": [],
   "source": [
    "import numpy as np"
   ]
  },
  {
   "cell_type": "code",
   "execution_count": 5,
   "metadata": {},
   "outputs": [
    {
     "output_type": "stream",
     "name": "stdout",
     "text": [
      "[1, 2, 3, 4, 5, 6]\n"
     ]
    },
    {
     "output_type": "execute_result",
     "data": {
      "text/plain": [
       "array([1, 2, 3, 4, 5, 6], dtype=int8)"
      ]
     },
     "metadata": {},
     "execution_count": 5
    }
   ],
   "source": [
    "l = [1,2,3,4,5,6]\n",
    "print(l)\n",
    "l = np.array(l,dtype = np.int8)\n",
    "l"
   ]
  },
  {
   "cell_type": "code",
   "execution_count": 6,
   "metadata": {},
   "outputs": [
    {
     "output_type": "execute_result",
     "data": {
      "text/plain": [
       "dtype('int8')"
      ]
     },
     "metadata": {},
     "execution_count": 6
    }
   ],
   "source": [
    "l.dtype"
   ]
  },
  {
   "cell_type": "code",
   "execution_count": 7,
   "metadata": {},
   "outputs": [
    {
     "output_type": "execute_result",
     "data": {
      "text/plain": [
       "array([1. , 2. , 3. , 4. , 5.5, 6. ])"
      ]
     },
     "metadata": {},
     "execution_count": 7
    }
   ],
   "source": [
    "l1 = [1,2,3,4,5.5,6]\n",
    "l1 = np.array(l1)\n",
    "l1"
   ]
  },
  {
   "cell_type": "code",
   "execution_count": 8,
   "metadata": {},
   "outputs": [
    {
     "output_type": "execute_result",
     "data": {
      "text/plain": [
       "array(['1', '2', '3', '4', '5.5', '6'], dtype='<U32')"
      ]
     },
     "metadata": {},
     "execution_count": 8
    }
   ],
   "source": [
    "l2 = [1,2,3,'4',5.5,6]\n",
    "l2 = np.array(l2)\n",
    "l2"
   ]
  },
  {
   "cell_type": "code",
   "execution_count": 10,
   "metadata": {},
   "outputs": [
    {
     "output_type": "execute_result",
     "data": {
      "text/plain": [
       "array([1, 3, 5, 7, 9])"
      ]
     },
     "metadata": {},
     "execution_count": 10
    }
   ],
   "source": [
    "l3 = np.arange(1,11,2)\n",
    "l3"
   ]
  },
  {
   "cell_type": "code",
   "execution_count": 12,
   "metadata": {},
   "outputs": [
    {
     "output_type": "execute_result",
     "data": {
      "text/plain": [
       "array([1.        , 1.21052632, 1.42105263, 1.63157895, 1.84210526,\n",
       "       2.05263158, 2.26315789, 2.47368421, 2.68421053, 2.89473684,\n",
       "       3.10526316, 3.31578947, 3.52631579, 3.73684211, 3.94736842,\n",
       "       4.15789474, 4.36842105, 4.57894737, 4.78947368, 5.        ])"
      ]
     },
     "metadata": {},
     "execution_count": 12
    }
   ],
   "source": [
    "l3 = np.linspace(1,5,20)\n",
    "l3"
   ]
  },
  {
   "cell_type": "code",
   "execution_count": 19,
   "metadata": {},
   "outputs": [
    {
     "output_type": "execute_result",
     "data": {
      "text/plain": [
       "array([[0.97498623, 0.87644546, 0.4480338 , 0.37297574, 0.67628393],\n",
       "       [0.98729754, 0.99791731, 0.56070464, 0.82330929, 0.16458042],\n",
       "       [0.21794939, 0.73293442, 0.15453929, 0.16152944, 0.51970734]])"
      ]
     },
     "metadata": {},
     "execution_count": 19
    }
   ],
   "source": [
    "l4 = np.random.rand(3,5)\n",
    "l4"
   ]
  },
  {
   "cell_type": "code",
   "execution_count": 17,
   "metadata": {},
   "outputs": [
    {
     "output_type": "execute_result",
     "data": {
      "text/plain": [
       "array([[ 1,  2,  3],\n",
       "       [ 4,  5,  6],\n",
       "       [ 7,  8,  9],\n",
       "       [10, 11, 12]])"
      ]
     },
     "metadata": {},
     "execution_count": 17
    }
   ],
   "source": [
    "l5 = [[1,2,3],[4,5,6],[7,8,9],[10,11,12]]\n",
    "l5 = np.array(l5)\n",
    "l5"
   ]
  },
  {
   "cell_type": "code",
   "execution_count": 18,
   "metadata": {},
   "outputs": [
    {
     "output_type": "execute_result",
     "data": {
      "text/plain": [
       "(4, 3)"
      ]
     },
     "metadata": {},
     "execution_count": 18
    }
   ],
   "source": [
    "l5.shape"
   ]
  },
  {
   "cell_type": "code",
   "execution_count": 20,
   "metadata": {},
   "outputs": [
    {
     "output_type": "execute_result",
     "data": {
      "text/plain": [
       "2"
      ]
     },
     "metadata": {},
     "execution_count": 20
    }
   ],
   "source": [
    "l5.ndim"
   ]
  },
  {
   "cell_type": "code",
   "execution_count": 30,
   "metadata": {},
   "outputs": [
    {
     "output_type": "execute_result",
     "data": {
      "text/plain": [
       "array([[[[3.2, 3.2, 3.2, 3.2, 3.2],\n",
       "         [3.2, 3.2, 3.2, 3.2, 3.2],\n",
       "         [3.2, 3.2, 3.2, 3.2, 3.2],\n",
       "         [3.2, 3.2, 3.2, 3.2, 3.2]],\n",
       "\n",
       "        [[3.2, 3.2, 3.2, 3.2, 3.2],\n",
       "         [3.2, 3.2, 3.2, 3.2, 3.2],\n",
       "         [3.2, 3.2, 3.2, 3.2, 3.2],\n",
       "         [3.2, 3.2, 3.2, 3.2, 3.2]]],\n",
       "\n",
       "\n",
       "       [[[3.2, 3.2, 3.2, 3.2, 3.2],\n",
       "         [3.2, 3.2, 3.2, 3.2, 3.2],\n",
       "         [3.2, 3.2, 3.2, 3.2, 3.2],\n",
       "         [3.2, 3.2, 3.2, 3.2, 3.2]],\n",
       "\n",
       "        [[3.2, 3.2, 3.2, 3.2, 3.2],\n",
       "         [3.2, 3.2, 3.2, 3.2, 3.2],\n",
       "         [3.2, 3.2, 3.2, 3.2, 3.2],\n",
       "         [3.2, 3.2, 3.2, 3.2, 3.2]]],\n",
       "\n",
       "\n",
       "       [[[3.2, 3.2, 3.2, 3.2, 3.2],\n",
       "         [3.2, 3.2, 3.2, 3.2, 3.2],\n",
       "         [3.2, 3.2, 3.2, 3.2, 3.2],\n",
       "         [3.2, 3.2, 3.2, 3.2, 3.2]],\n",
       "\n",
       "        [[3.2, 3.2, 3.2, 3.2, 3.2],\n",
       "         [3.2, 3.2, 3.2, 3.2, 3.2],\n",
       "         [3.2, 3.2, 3.2, 3.2, 3.2],\n",
       "         [3.2, 3.2, 3.2, 3.2, 3.2]]]])"
      ]
     },
     "metadata": {},
     "execution_count": 30
    }
   ],
   "source": [
    "d_arr = np.full((3,2,4,5),3.2)\n",
    "d_arr"
   ]
  },
  {
   "cell_type": "code",
   "execution_count": 25,
   "metadata": {},
   "outputs": [
    {
     "output_type": "execute_result",
     "data": {
      "text/plain": [
       "3"
      ]
     },
     "metadata": {},
     "execution_count": 25
    }
   ],
   "source": [
    "d_arr.ndim"
   ]
  },
  {
   "cell_type": "code",
   "execution_count": 32,
   "metadata": {},
   "outputs": [
    {
     "output_type": "execute_result",
     "data": {
      "text/plain": [
       "array([[[20.        , 21.30434783],\n",
       "        [22.60869565, 23.91304348],\n",
       "        [25.2173913 , 26.52173913],\n",
       "        [27.82608696, 29.13043478]],\n",
       "\n",
       "       [[30.43478261, 31.73913043],\n",
       "        [33.04347826, 34.34782609],\n",
       "        [35.65217391, 36.95652174],\n",
       "        [38.26086957, 39.56521739]],\n",
       "\n",
       "       [[40.86956522, 42.17391304],\n",
       "        [43.47826087, 44.7826087 ],\n",
       "        [46.08695652, 47.39130435],\n",
       "        [48.69565217, 50.        ]]])"
      ]
     },
     "metadata": {},
     "execution_count": 32
    }
   ],
   "source": [
    "mat = np.linspace(20,50,24).reshape(3,4,2)\n",
    "mat"
   ]
  },
  {
   "cell_type": "code",
   "execution_count": null,
   "metadata": {},
   "outputs": [],
   "source": []
  }
 ]
}