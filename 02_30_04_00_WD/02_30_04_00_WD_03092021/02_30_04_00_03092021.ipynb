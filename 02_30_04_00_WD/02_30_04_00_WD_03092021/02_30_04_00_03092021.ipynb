{
 "metadata": {
  "language_info": {
   "codemirror_mode": {
    "name": "ipython",
    "version": 3
   },
   "file_extension": ".py",
   "mimetype": "text/x-python",
   "name": "python",
   "nbconvert_exporter": "python",
   "pygments_lexer": "ipython3",
   "version": "3.8.5-final"
  },
  "orig_nbformat": 2,
  "kernelspec": {
   "name": "python3",
   "display_name": "Python 3.8.5 64-bit (conda)",
   "metadata": {
    "interpreter": {
     "hash": "b3ba2566441a7c06988d0923437866b63cedc61552a5af99d1f4fb67d367b25f"
    }
   }
  }
 },
 "nbformat": 4,
 "nbformat_minor": 2,
 "cells": [
  {
   "cell_type": "code",
   "execution_count": 30,
   "metadata": {},
   "outputs": [],
   "source": [
    "from sklearn.datasets import fetch_california_housing\n",
    "from sklearn.preprocessing import StandardScaler\n",
    "housing = fetch_california_housing()"
   ]
  },
  {
   "cell_type": "code",
   "execution_count": 6,
   "metadata": {},
   "outputs": [
    {
     "output_type": "execute_result",
     "data": {
      "text/plain": [
       "{'data': array([[   8.3252    ,   41.        ,    6.98412698, ...,    2.55555556,\n",
       "           37.88      , -122.23      ],\n",
       "        [   8.3014    ,   21.        ,    6.23813708, ...,    2.10984183,\n",
       "           37.86      , -122.22      ],\n",
       "        [   7.2574    ,   52.        ,    8.28813559, ...,    2.80225989,\n",
       "           37.85      , -122.24      ],\n",
       "        ...,\n",
       "        [   1.7       ,   17.        ,    5.20554273, ...,    2.3256351 ,\n",
       "           39.43      , -121.22      ],\n",
       "        [   1.8672    ,   18.        ,    5.32951289, ...,    2.12320917,\n",
       "           39.43      , -121.32      ],\n",
       "        [   2.3886    ,   16.        ,    5.25471698, ...,    2.61698113,\n",
       "           39.37      , -121.24      ]]),\n",
       " 'target': array([4.526, 3.585, 3.521, ..., 0.923, 0.847, 0.894]),\n",
       " 'frame': None,\n",
       " 'target_names': ['MedHouseVal'],\n",
       " 'feature_names': ['MedInc',\n",
       "  'HouseAge',\n",
       "  'AveRooms',\n",
       "  'AveBedrms',\n",
       "  'Population',\n",
       "  'AveOccup',\n",
       "  'Latitude',\n",
       "  'Longitude'],\n",
       " 'DESCR': '.. _california_housing_dataset:\\n\\nCalifornia Housing dataset\\n--------------------------\\n\\n**Data Set Characteristics:**\\n\\n    :Number of Instances: 20640\\n\\n    :Number of Attributes: 8 numeric, predictive attributes and the target\\n\\n    :Attribute Information:\\n        - MedInc        median income in block\\n        - HouseAge      median house age in block\\n        - AveRooms      average number of rooms\\n        - AveBedrms     average number of bedrooms\\n        - Population    block population\\n        - AveOccup      average house occupancy\\n        - Latitude      house block latitude\\n        - Longitude     house block longitude\\n\\n    :Missing Attribute Values: None\\n\\nThis dataset was obtained from the StatLib repository.\\nhttp://lib.stat.cmu.edu/datasets/\\n\\nThe target variable is the median house value for California districts.\\n\\nThis dataset was derived from the 1990 U.S. census, using one row per census\\nblock group. A block group is the smallest geographical unit for which the U.S.\\nCensus Bureau publishes sample data (a block group typically has a population\\nof 600 to 3,000 people).\\n\\nIt can be downloaded/loaded using the\\n:func:`sklearn.datasets.fetch_california_housing` function.\\n\\n.. topic:: References\\n\\n    - Pace, R. Kelley and Ronald Barry, Sparse Spatial Autoregressions,\\n      Statistics and Probability Letters, 33 (1997) 291-297\\n'}"
      ]
     },
     "metadata": {},
     "execution_count": 6
    }
   ],
   "source": [
    "housing"
   ]
  },
  {
   "cell_type": "code",
   "execution_count": 7,
   "metadata": {},
   "outputs": [],
   "source": [
    "x = housing.data\n",
    "y = housing.target"
   ]
  },
  {
   "cell_type": "code",
   "execution_count": 28,
   "metadata": {},
   "outputs": [
    {
     "output_type": "execute_result",
     "data": {
      "text/plain": [
       "16512"
      ]
     },
     "metadata": {},
     "execution_count": 28
    }
   ],
   "source": [
    "from sklearn.model_selection import train_test_split\n",
    "x_train_full,x_test,y_train_full,y_test = train_test_split(x,y,test_size = 0.2, random_state = 42)\n",
    "x_train, x_valid, y_train, y_valid = train_test_split(x_train_full,y_train_full, random_state = 42)\n",
    "len(x_train_full)"
   ]
  },
  {
   "cell_type": "code",
   "execution_count": 26,
   "metadata": {},
   "outputs": [
    {
     "output_type": "execute_result",
     "data": {
      "text/plain": [
       "(12384, 4128)"
      ]
     },
     "metadata": {},
     "execution_count": 26
    }
   ],
   "source": [
    "len(x_train), len(x_valid)"
   ]
  },
  {
   "cell_type": "code",
   "execution_count": 15,
   "metadata": {},
   "outputs": [
    {
     "output_type": "execute_result",
     "data": {
      "text/plain": [
       "8"
      ]
     },
     "metadata": {},
     "execution_count": 15
    }
   ],
   "source": [
    "x_train.shape[1]"
   ]
  },
  {
   "source": [
    "x_train.shape[1:]"
   ],
   "cell_type": "code",
   "metadata": {},
   "execution_count": null,
   "outputs": []
  },
  {
   "cell_type": "code",
   "execution_count": 31,
   "metadata": {},
   "outputs": [],
   "source": [
    "scaler = StandardScaler()\n",
    "x_train = scaler.fit_transform(x_train)\n",
    "x_valid = scaler.transform(x_valid)\n",
    "x_test  = scaler.transform(x_test)"
   ]
  },
  {
   "cell_type": "code",
   "execution_count": 32,
   "metadata": {},
   "outputs": [],
   "source": [
    "import tensorflow as tf\n",
    "from tensorflow import keras"
   ]
  },
  {
   "cell_type": "code",
   "execution_count": 33,
   "metadata": {},
   "outputs": [],
   "source": [
    "keras.backend.clear_session()\n",
    "tf.random.set_seed(42)"
   ]
  },
  {
   "cell_type": "code",
   "execution_count": 34,
   "metadata": {},
   "outputs": [],
   "source": [
    "model = keras.models.Sequential([keras.layers.Dense(30, activation = 'relu', input_shape = [x_train.shape[1]]),\n",
    "                                 keras.layers.Dense(1)])"
   ]
  },
  {
   "cell_type": "code",
   "execution_count": 35,
   "metadata": {},
   "outputs": [
    {
     "output_type": "stream",
     "name": "stdout",
     "text": [
      "Epoch 1/20\n",
      "387/387 [==============================] - 1s 965us/step - loss: 2.2106 - val_loss: 0.9017\n",
      "Epoch 2/20\n",
      "387/387 [==============================] - 0s 660us/step - loss: 0.7103 - val_loss: 0.6828\n",
      "Epoch 3/20\n",
      "387/387 [==============================] - 0s 662us/step - loss: 0.6407 - val_loss: 0.6394\n",
      "Epoch 4/20\n",
      "387/387 [==============================] - 0s 664us/step - loss: 0.6115 - val_loss: 0.6087\n",
      "Epoch 5/20\n",
      "387/387 [==============================] - 0s 681us/step - loss: 0.5839 - val_loss: 0.5861\n",
      "Epoch 6/20\n",
      "387/387 [==============================] - 0s 643us/step - loss: 0.5644 - val_loss: 0.5671\n",
      "Epoch 7/20\n",
      "387/387 [==============================] - 0s 668us/step - loss: 0.5357 - val_loss: 0.5508\n",
      "Epoch 8/20\n",
      "387/387 [==============================] - 0s 671us/step - loss: 0.5180 - val_loss: 0.5348\n",
      "Epoch 9/20\n",
      "387/387 [==============================] - 0s 683us/step - loss: 0.5033 - val_loss: 0.5225\n",
      "Epoch 10/20\n",
      "387/387 [==============================] - 0s 646us/step - loss: 0.5011 - val_loss: 0.5132\n",
      "Epoch 11/20\n",
      "387/387 [==============================] - 0s 687us/step - loss: 0.4997 - val_loss: 0.5043\n",
      "Epoch 12/20\n",
      "387/387 [==============================] - 0s 652us/step - loss: 0.4875 - val_loss: 0.4990\n",
      "Epoch 13/20\n",
      "387/387 [==============================] - 0s 665us/step - loss: 0.4857 - val_loss: 0.4903\n",
      "Epoch 14/20\n",
      "387/387 [==============================] - 0s 663us/step - loss: 0.4646 - val_loss: 0.4832\n",
      "Epoch 15/20\n",
      "387/387 [==============================] - 0s 661us/step - loss: 0.4637 - val_loss: 0.4796\n",
      "Epoch 16/20\n",
      "387/387 [==============================] - 0s 682us/step - loss: 0.4813 - val_loss: 0.4744\n",
      "Epoch 17/20\n",
      "387/387 [==============================] - 0s 637us/step - loss: 0.4534 - val_loss: 0.4705\n",
      "Epoch 18/20\n",
      "387/387 [==============================] - 0s 764us/step - loss: 0.4621 - val_loss: 0.4668\n",
      "Epoch 19/20\n",
      "387/387 [==============================] - 0s 704us/step - loss: 0.4864 - val_loss: 0.4632\n",
      "Epoch 20/20\n",
      "387/387 [==============================] - 0s 698us/step - loss: 0.4666 - val_loss: 0.4617\n"
     ]
    }
   ],
   "source": [
    "model.compile(loss = 'mse', optimizer = keras.optimizers.SGD(lr = 1e-3))\n",
    "history = model.fit(x_train,y_train, epochs = 20, validation_data=(x_valid,y_valid),)"
   ]
  },
  {
   "cell_type": "code",
   "execution_count": 37,
   "metadata": {},
   "outputs": [
    {
     "output_type": "stream",
     "name": "stdout",
     "text": [
      "129/129 [==============================] - 0s 1ms/step - loss: 0.4722\n"
     ]
    }
   ],
   "source": [
    "mse_test = model.evaluate(x_test,y_test)"
   ]
  },
  {
   "cell_type": "code",
   "execution_count": null,
   "metadata": {},
   "outputs": [],
   "source": []
  }
 ]
}