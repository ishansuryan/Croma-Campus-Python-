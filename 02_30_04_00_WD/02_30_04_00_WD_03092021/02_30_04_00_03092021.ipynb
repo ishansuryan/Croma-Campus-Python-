{
 "metadata": {
  "language_info": {
   "codemirror_mode": {
    "name": "ipython",
    "version": 3
   },
   "file_extension": ".py",
   "mimetype": "text/x-python",
   "name": "python",
   "nbconvert_exporter": "python",
   "pygments_lexer": "ipython3",
   "version": "3.8.5-final"
  },
  "orig_nbformat": 2,
  "kernelspec": {
   "name": "python3",
   "display_name": "Python 3.8.5 64-bit (conda)",
   "metadata": {
    "interpreter": {
     "hash": "b3ba2566441a7c06988d0923437866b63cedc61552a5af99d1f4fb67d367b25f"
    }
   }
  }
 },
 "nbformat": 4,
 "nbformat_minor": 2,
 "cells": [
  {
   "cell_type": "code",
   "execution_count": 1,
   "metadata": {},
   "outputs": [],
   "source": [
    "from sklearn.datasets import fetch_california_housing\n",
    "from sklearn.preprocessing import StandardScaler\n",
    "housing = fetch_california_housing()"
   ]
  },
  {
   "cell_type": "code",
   "execution_count": 2,
   "metadata": {},
   "outputs": [
    {
     "output_type": "execute_result",
     "data": {
      "text/plain": [
       "{'data': array([[   8.3252    ,   41.        ,    6.98412698, ...,    2.55555556,\n",
       "           37.88      , -122.23      ],\n",
       "        [   8.3014    ,   21.        ,    6.23813708, ...,    2.10984183,\n",
       "           37.86      , -122.22      ],\n",
       "        [   7.2574    ,   52.        ,    8.28813559, ...,    2.80225989,\n",
       "           37.85      , -122.24      ],\n",
       "        ...,\n",
       "        [   1.7       ,   17.        ,    5.20554273, ...,    2.3256351 ,\n",
       "           39.43      , -121.22      ],\n",
       "        [   1.8672    ,   18.        ,    5.32951289, ...,    2.12320917,\n",
       "           39.43      , -121.32      ],\n",
       "        [   2.3886    ,   16.        ,    5.25471698, ...,    2.61698113,\n",
       "           39.37      , -121.24      ]]),\n",
       " 'target': array([4.526, 3.585, 3.521, ..., 0.923, 0.847, 0.894]),\n",
       " 'frame': None,\n",
       " 'target_names': ['MedHouseVal'],\n",
       " 'feature_names': ['MedInc',\n",
       "  'HouseAge',\n",
       "  'AveRooms',\n",
       "  'AveBedrms',\n",
       "  'Population',\n",
       "  'AveOccup',\n",
       "  'Latitude',\n",
       "  'Longitude'],\n",
       " 'DESCR': '.. _california_housing_dataset:\\n\\nCalifornia Housing dataset\\n--------------------------\\n\\n**Data Set Characteristics:**\\n\\n    :Number of Instances: 20640\\n\\n    :Number of Attributes: 8 numeric, predictive attributes and the target\\n\\n    :Attribute Information:\\n        - MedInc        median income in block\\n        - HouseAge      median house age in block\\n        - AveRooms      average number of rooms\\n        - AveBedrms     average number of bedrooms\\n        - Population    block population\\n        - AveOccup      average house occupancy\\n        - Latitude      house block latitude\\n        - Longitude     house block longitude\\n\\n    :Missing Attribute Values: None\\n\\nThis dataset was obtained from the StatLib repository.\\nhttp://lib.stat.cmu.edu/datasets/\\n\\nThe target variable is the median house value for California districts.\\n\\nThis dataset was derived from the 1990 U.S. census, using one row per census\\nblock group. A block group is the smallest geographical unit for which the U.S.\\nCensus Bureau publishes sample data (a block group typically has a population\\nof 600 to 3,000 people).\\n\\nIt can be downloaded/loaded using the\\n:func:`sklearn.datasets.fetch_california_housing` function.\\n\\n.. topic:: References\\n\\n    - Pace, R. Kelley and Ronald Barry, Sparse Spatial Autoregressions,\\n      Statistics and Probability Letters, 33 (1997) 291-297\\n'}"
      ]
     },
     "metadata": {},
     "execution_count": 2
    }
   ],
   "source": [
    "housing"
   ]
  },
  {
   "cell_type": "code",
   "execution_count": 3,
   "metadata": {},
   "outputs": [],
   "source": [
    "x = housing.data\n",
    "y = housing.target"
   ]
  },
  {
   "cell_type": "code",
   "execution_count": 4,
   "metadata": {},
   "outputs": [
    {
     "output_type": "execute_result",
     "data": {
      "text/plain": [
       "16512"
      ]
     },
     "metadata": {},
     "execution_count": 4
    }
   ],
   "source": [
    "from sklearn.model_selection import train_test_split\n",
    "x_train_full,x_test,y_train_full,y_test = train_test_split(x,y,test_size = 0.2, random_state = 42)\n",
    "x_train, x_valid, y_train, y_valid = train_test_split(x_train_full,y_train_full, random_state = 42)\n",
    "len(x_train_full)"
   ]
  },
  {
   "cell_type": "code",
   "execution_count": 5,
   "metadata": {},
   "outputs": [
    {
     "output_type": "execute_result",
     "data": {
      "text/plain": [
       "(12384, 4128)"
      ]
     },
     "metadata": {},
     "execution_count": 5
    }
   ],
   "source": [
    "len(x_train), len(x_valid)"
   ]
  },
  {
   "cell_type": "code",
   "execution_count": 6,
   "metadata": {},
   "outputs": [
    {
     "output_type": "execute_result",
     "data": {
      "text/plain": [
       "8"
      ]
     },
     "metadata": {},
     "execution_count": 6
    }
   ],
   "source": [
    "x_train.shape[1]"
   ]
  },
  {
   "source": [
    "x_train.shape[1:]"
   ],
   "cell_type": "code",
   "metadata": {},
   "execution_count": 7,
   "outputs": [
    {
     "output_type": "execute_result",
     "data": {
      "text/plain": [
       "(8,)"
      ]
     },
     "metadata": {},
     "execution_count": 7
    }
   ]
  },
  {
   "cell_type": "code",
   "execution_count": 8,
   "metadata": {},
   "outputs": [],
   "source": [
    "scaler = StandardScaler()\n",
    "x_train = scaler.fit_transform(x_train)\n",
    "x_valid = scaler.transform(x_valid)\n",
    "x_test  = scaler.transform(x_test)"
   ]
  },
  {
   "cell_type": "code",
   "execution_count": 9,
   "metadata": {},
   "outputs": [],
   "source": [
    "import tensorflow as tf\n",
    "from tensorflow import keras"
   ]
  },
  {
   "cell_type": "code",
   "execution_count": 18,
   "metadata": {},
   "outputs": [],
   "source": [
    "keras.backend.clear_session()\n",
    "tf.random.set_seed(42)"
   ]
  },
  {
   "cell_type": "code",
   "execution_count": 20,
   "metadata": {},
   "outputs": [],
   "source": [
    "model = keras.models.Sequential([keras.layers.Dense(30, activation = 'relu', input_shape = [x_train.shape[1]]),\n",
    "                                 keras.layers.Dense(1)])"
   ]
  },
  {
   "cell_type": "code",
   "execution_count": 21,
   "metadata": {},
   "outputs": [],
   "source": [
    "model.compile(loss = 'mse', optimizer = keras.optimizers.SGD(lr = 1e-3))\n",
    "#history = model.fit(x_train,y_train, epochs = 20, validation_data=(x_valid,y_valid),)"
   ]
  },
  {
   "cell_type": "code",
   "execution_count": 22,
   "metadata": {},
   "outputs": [],
   "source": [
    "import os\n",
    "root_logdir = os.path.join(os.curdir, \"my_logs\")\n",
    "def get_run_logdir():\n",
    "    import time\n",
    "    run_id = time.strftime(\"run_%Y_%m_%d-%H_%M_%S\")\n",
    "    return os.path.join(root_logdir, run_id)\n",
    "run_logdir = get_run_logdir()"
   ]
  },
  {
   "cell_type": "code",
   "execution_count": 23,
   "metadata": {},
   "outputs": [
    {
     "output_type": "stream",
     "name": "stdout",
     "text": [
      "Epoch 1/30\n",
      "387/387 [==============================] - 1s 3ms/step - loss: 2.2106 - val_loss: 0.9017\n",
      "Epoch 2/30\n",
      "387/387 [==============================] - 0s 1ms/step - loss: 0.7103 - val_loss: 0.6828\n",
      "Epoch 3/30\n",
      "387/387 [==============================] - 0s 746us/step - loss: 0.6407 - val_loss: 0.6394\n",
      "Epoch 4/30\n",
      "387/387 [==============================] - 0s 702us/step - loss: 0.6115 - val_loss: 0.6087\n",
      "Epoch 5/30\n",
      "387/387 [==============================] - 0s 728us/step - loss: 0.5839 - val_loss: 0.5861\n",
      "Epoch 6/30\n",
      "387/387 [==============================] - 0s 978us/step - loss: 0.5644 - val_loss: 0.5671\n",
      "Epoch 7/30\n",
      "387/387 [==============================] - 0s 716us/step - loss: 0.5357 - val_loss: 0.5508\n",
      "Epoch 8/30\n",
      "387/387 [==============================] - 0s 690us/step - loss: 0.5180 - val_loss: 0.5348\n",
      "Epoch 9/30\n",
      "387/387 [==============================] - 0s 1ms/step - loss: 0.5033 - val_loss: 0.5225\n",
      "Epoch 10/30\n",
      "387/387 [==============================] - 0s 906us/step - loss: 0.5011 - val_loss: 0.5132\n",
      "Epoch 11/30\n",
      "387/387 [==============================] - 0s 1ms/step - loss: 0.4997 - val_loss: 0.5043\n",
      "Epoch 12/30\n",
      "387/387 [==============================] - 0s 811us/step - loss: 0.4875 - val_loss: 0.4990\n",
      "Epoch 13/30\n",
      "387/387 [==============================] - 0s 817us/step - loss: 0.4857 - val_loss: 0.4903\n",
      "Epoch 14/30\n",
      "387/387 [==============================] - 0s 766us/step - loss: 0.4646 - val_loss: 0.4832\n",
      "Epoch 15/30\n",
      "387/387 [==============================] - 0s 939us/step - loss: 0.4637 - val_loss: 0.4796\n",
      "Epoch 16/30\n",
      "387/387 [==============================] - 0s 782us/step - loss: 0.4813 - val_loss: 0.4744\n",
      "Epoch 17/30\n",
      "387/387 [==============================] - 0s 718us/step - loss: 0.4534 - val_loss: 0.4705\n",
      "Epoch 18/30\n",
      "387/387 [==============================] - 0s 762us/step - loss: 0.4621 - val_loss: 0.4668\n",
      "Epoch 19/30\n",
      "387/387 [==============================] - 0s 739us/step - loss: 0.4864 - val_loss: 0.4632\n",
      "Epoch 20/30\n",
      "387/387 [==============================] - 0s 929us/step - loss: 0.4666 - val_loss: 0.4617\n",
      "Epoch 21/30\n",
      "387/387 [==============================] - 0s 1ms/step - loss: 0.4613 - val_loss: 0.4576\n",
      "Epoch 22/30\n",
      "387/387 [==============================] - 0s 796us/step - loss: 0.4551 - val_loss: 0.4541\n",
      "Epoch 23/30\n",
      "387/387 [==============================] - 0s 614us/step - loss: 0.4477 - val_loss: 0.4530\n",
      "Epoch 24/30\n",
      "387/387 [==============================] - 0s 767us/step - loss: 0.4503 - val_loss: 0.4487\n",
      "Epoch 25/30\n",
      "387/387 [==============================] - 0s 708us/step - loss: 0.4400 - val_loss: 0.4483\n",
      "Epoch 26/30\n",
      "387/387 [==============================] - 0s 795us/step - loss: 0.4441 - val_loss: 0.4451\n",
      "Epoch 27/30\n",
      "387/387 [==============================] - 0s 633us/step - loss: 0.4167 - val_loss: 0.4429\n",
      "Epoch 28/30\n",
      "387/387 [==============================] - 0s 677us/step - loss: 0.4254 - val_loss: 0.4436\n",
      "Epoch 29/30\n",
      "387/387 [==============================] - 0s 743us/step - loss: 0.4404 - val_loss: 0.4405\n",
      "Epoch 30/30\n",
      "387/387 [==============================] - 0s 690us/step - loss: 0.4523 - val_loss: 0.4383\n"
     ]
    }
   ],
   "source": [
    "tensorboard_cb = keras.callbacks.TensorBoard(run_logdir)\n",
    "history = model.fit(x_train, y_train, epochs=30,validation_data=(x_valid,y_valid), callbacks=[tensorboard_cb])"
   ]
  },
  {
   "cell_type": "code",
   "execution_count": 13,
   "metadata": {},
   "outputs": [
    {
     "output_type": "stream",
     "name": "stdout",
     "text": [
      "129/129 [==============================] - 0s 415us/step - loss: 0.4722\n"
     ]
    }
   ],
   "source": [
    "mse_test = model.evaluate(x_test,y_test)"
   ]
  },
  {
   "cell_type": "code",
   "execution_count": 14,
   "metadata": {},
   "outputs": [],
   "source": [
    "input_ = keras.layers.Input(shape=x_train.shape[1:])\n",
    "hidden1=keras.layers.Dense(30,activation=\"relu\")(input_)\n",
    "hidden2=keras.layers.Dense(30,activation=\"relu\")(hidden1)\n",
    "concat = keras.layers.Concatenate()([input_,hidden2])\n",
    "output = keras.layers.Dense(1)(concat)\n",
    "model = keras.Model(inputs=[input_], outputs=[output])"
   ]
  },
  {
   "cell_type": "code",
   "execution_count": 15,
   "metadata": {},
   "outputs": [],
   "source": [
    "input_A = keras.layers.Input(shape=[5],name=\"wide_input\")\n",
    "input_B = keras.layers.Input(shape=[6],name=\"deep_input\")\n",
    "hidden1 = keras.layers.Dense(30,activation=\"relu\")(input_B)\n",
    "hidden2 = keras.layers.Dense(30,activation=\"relu\")(hidden1)\n",
    "concat = keras.layers.concatenate([input_A, hidden2])\n",
    "output = keras.layers.Dense(1, name=\"output\")(concat)\n",
    "model = keras.Model(inputs=[input_A, input_B],outputs=[output])"
   ]
  },
  {
   "cell_type": "code",
   "execution_count": 17,
   "metadata": {},
   "outputs": [],
   "source": [
    "model.compile(loss=\"mse\",optimizer=keras.optimizers.SGD(lr=1e-3))"
   ]
  },
  {
   "cell_type": "code",
   "execution_count": 19,
   "metadata": {},
   "outputs": [
    {
     "output_type": "stream",
     "name": "stdout",
     "text": [
      "Epoch 1/20\n",
      "387/387 [==============================] - 1s 1ms/step - loss: 3.1020 - val_loss: 0.9717\n",
      "Epoch 2/20\n",
      "387/387 [==============================] - 0s 744us/step - loss: 0.8325 - val_loss: 0.7239\n",
      "Epoch 3/20\n",
      "387/387 [==============================] - 0s 776us/step - loss: 0.6724 - val_loss: 0.6534\n",
      "Epoch 4/20\n",
      "387/387 [==============================] - 0s 834us/step - loss: 0.6423 - val_loss: 0.6121\n",
      "Epoch 5/20\n",
      "387/387 [==============================] - 0s 767us/step - loss: 0.6045 - val_loss: 0.5841\n",
      "Epoch 6/20\n",
      "387/387 [==============================] - 0s 775us/step - loss: 0.5771 - val_loss: 0.5634\n",
      "Epoch 7/20\n",
      "387/387 [==============================] - 0s 870us/step - loss: 0.5494 - val_loss: 0.5473\n",
      "Epoch 8/20\n",
      "387/387 [==============================] - 0s 724us/step - loss: 0.5293 - val_loss: 0.5329\n",
      "Epoch 9/20\n",
      "387/387 [==============================] - 0s 704us/step - loss: 0.5134 - val_loss: 0.5216\n",
      "Epoch 10/20\n",
      "387/387 [==============================] - 0s 706us/step - loss: 0.5124 - val_loss: 0.5135\n",
      "Epoch 11/20\n",
      "387/387 [==============================] - 0s 693us/step - loss: 0.5043 - val_loss: 0.5043\n",
      "Epoch 12/20\n",
      "387/387 [==============================] - 0s 695us/step - loss: 0.4927 - val_loss: 0.5042\n",
      "Epoch 13/20\n",
      "387/387 [==============================] - 0s 705us/step - loss: 0.4914 - val_loss: 0.4933\n",
      "Epoch 14/20\n",
      "387/387 [==============================] - 0s 796us/step - loss: 0.4751 - val_loss: 0.4867\n",
      "Epoch 15/20\n",
      "387/387 [==============================] - 0s 775us/step - loss: 0.4710 - val_loss: 0.4831\n",
      "Epoch 16/20\n",
      "387/387 [==============================] - 0s 1ms/step - loss: 0.4913 - val_loss: 0.4824\n",
      "Epoch 17/20\n",
      "387/387 [==============================] - 0s 907us/step - loss: 0.4610 - val_loss: 0.4773\n",
      "Epoch 18/20\n",
      "387/387 [==============================] - 0s 865us/step - loss: 0.4722 - val_loss: 0.4734\n",
      "Epoch 19/20\n",
      "387/387 [==============================] - 0s 787us/step - loss: 0.4883 - val_loss: 0.4701\n",
      "Epoch 20/20\n",
      "387/387 [==============================] - 0s 716us/step - loss: 0.4737 - val_loss: 0.4668\n"
     ]
    }
   ],
   "source": [
    "x_train_A, x_train_B = x_train[:, :5], x_train[:, 2:]\n",
    "x_valid_A, x_valid_B = x_valid[:, :5], x_valid[:, 2:]\n",
    "x_test_A,  x_test_B  = x_test[:, :5],  x_test[:, 2:]\n",
    "x_new_A,   x_new_B   = x_test_A[:3],   x_test_B[:3]\n",
    "history = model.fit((x_train_A, x_train_B), y_train,epochs=20,validation_data=((x_valid_A,x_valid_B),y_valid))"
   ]
  },
  {
   "cell_type": "code",
   "execution_count": 20,
   "metadata": {},
   "outputs": [
    {
     "output_type": "stream",
     "name": "stdout",
     "text": [
      "129/129 [==============================] - 0s 434us/step - loss: 0.4742\n"
     ]
    }
   ],
   "source": [
    "mse_test = model.evaluate((x_test_A, x_test_B),y_test)\n",
    "y_pred   = model.predict(( x_new_A,  x_new_B))"
   ]
  },
  {
   "cell_type": "code",
   "execution_count": 31,
   "metadata": {},
   "outputs": [],
   "source": [
    "output = keras.layers.Dense(1,name=\"main_output\")(concat)\n",
    "aux_output = keras.layers.Dense(1,name=\"aux_output\")(hidden2)\n",
    "model = keras.Model(inputs=[input_A, input_B],outputs=[output, aux_output])\n",
    "model.compile(loss=[\"mse\", \"mse\"], loss_weights=[0.9,0.1], optimizer=\"sgd\")"
   ]
  },
  {
   "cell_type": "code",
   "execution_count": 32,
   "metadata": {},
   "outputs": [
    {
     "output_type": "stream",
     "name": "stdout",
     "text": [
      "Epoch 1/20\n",
      "387/387 [==============================] - 1s 2ms/step - loss: 1.1760 - main_output_loss: 0.9790 - aux_output_loss: 2.9488 - val_loss: 0.4128 - val_main_output_loss: 0.3726 - val_aux_output_loss: 0.7742\n",
      "Epoch 2/20\n",
      "387/387 [==============================] - 0s 1ms/step - loss: 0.3835 - main_output_loss: 0.3542 - aux_output_loss: 0.6472 - val_loss: 0.3845 - val_main_output_loss: 0.3561 - val_aux_output_loss: 0.6408\n",
      "Epoch 3/20\n",
      "387/387 [==============================] - 0s 1ms/step - loss: 0.3766 - main_output_loss: 0.3562 - aux_output_loss: 0.5605 - val_loss: 0.3742 - val_main_output_loss: 0.3491 - val_aux_output_loss: 0.6008\n",
      "Epoch 4/20\n",
      "387/387 [==============================] - 0s 894us/step - loss: 0.3624 - main_output_loss: 0.3422 - aux_output_loss: 0.5440 - val_loss: 0.3675 - val_main_output_loss: 0.3442 - val_aux_output_loss: 0.5772\n",
      "Epoch 5/20\n",
      "387/387 [==============================] - 0s 973us/step - loss: 0.3617 - main_output_loss: 0.3444 - aux_output_loss: 0.5170 - val_loss: 0.3606 - val_main_output_loss: 0.3393 - val_aux_output_loss: 0.5514\n",
      "Epoch 6/20\n",
      "387/387 [==============================] - 0s 1ms/step - loss: 0.3566 - main_output_loss: 0.3389 - aux_output_loss: 0.5164 - val_loss: 0.3716 - val_main_output_loss: 0.3528 - val_aux_output_loss: 0.5404\n",
      "Epoch 7/20\n",
      "387/387 [==============================] - 0s 902us/step - loss: 0.3544 - main_output_loss: 0.3389 - aux_output_loss: 0.4939 - val_loss: 0.3674 - val_main_output_loss: 0.3493 - val_aux_output_loss: 0.5310\n",
      "Epoch 8/20\n",
      "387/387 [==============================] - 0s 949us/step - loss: 0.3513 - main_output_loss: 0.3360 - aux_output_loss: 0.4885 - val_loss: 0.3489 - val_main_output_loss: 0.3298 - val_aux_output_loss: 0.5209\n",
      "Epoch 9/20\n",
      "387/387 [==============================] - 0s 967us/step - loss: 0.3480 - main_output_loss: 0.3321 - aux_output_loss: 0.4908 - val_loss: 0.3496 - val_main_output_loss: 0.3314 - val_aux_output_loss: 0.5130\n",
      "Epoch 10/20\n",
      "387/387 [==============================] - 0s 881us/step - loss: 0.3433 - main_output_loss: 0.3288 - aux_output_loss: 0.4737 - val_loss: 0.3454 - val_main_output_loss: 0.3273 - val_aux_output_loss: 0.5083\n",
      "Epoch 11/20\n",
      "387/387 [==============================] - 0s 911us/step - loss: 0.3428 - main_output_loss: 0.3291 - aux_output_loss: 0.4664 - val_loss: 0.3575 - val_main_output_loss: 0.3403 - val_aux_output_loss: 0.5127\n",
      "Epoch 12/20\n",
      "387/387 [==============================] - 0s 1ms/step - loss: 0.3368 - main_output_loss: 0.3237 - aux_output_loss: 0.4553 - val_loss: 0.3463 - val_main_output_loss: 0.3288 - val_aux_output_loss: 0.5032\n",
      "Epoch 13/20\n",
      "387/387 [==============================] - 0s 1ms/step - loss: 0.3409 - main_output_loss: 0.3270 - aux_output_loss: 0.4660 - val_loss: 0.3510 - val_main_output_loss: 0.3348 - val_aux_output_loss: 0.4972\n",
      "Epoch 14/20\n",
      "387/387 [==============================] - 0s 988us/step - loss: 0.3337 - main_output_loss: 0.3201 - aux_output_loss: 0.4558 - val_loss: 0.3545 - val_main_output_loss: 0.3393 - val_aux_output_loss: 0.4907\n",
      "Epoch 15/20\n",
      "387/387 [==============================] - 0s 1ms/step - loss: 0.3348 - main_output_loss: 0.3213 - aux_output_loss: 0.4562 - val_loss: 0.3405 - val_main_output_loss: 0.3246 - val_aux_output_loss: 0.4837\n",
      "Epoch 16/20\n",
      "387/387 [==============================] - 0s 905us/step - loss: 0.3576 - main_output_loss: 0.3453 - aux_output_loss: 0.4682 - val_loss: 0.3463 - val_main_output_loss: 0.3305 - val_aux_output_loss: 0.4882\n",
      "Epoch 17/20\n",
      "387/387 [==============================] - 0s 893us/step - loss: 0.3336 - main_output_loss: 0.3214 - aux_output_loss: 0.4433 - val_loss: 0.3385 - val_main_output_loss: 0.3235 - val_aux_output_loss: 0.4739\n",
      "Epoch 18/20\n",
      "387/387 [==============================] - 0s 863us/step - loss: 0.3299 - main_output_loss: 0.3177 - aux_output_loss: 0.4393 - val_loss: 0.3378 - val_main_output_loss: 0.3234 - val_aux_output_loss: 0.4669\n",
      "Epoch 19/20\n",
      "387/387 [==============================] - 0s 855us/step - loss: 0.3414 - main_output_loss: 0.3295 - aux_output_loss: 0.4485 - val_loss: 0.3418 - val_main_output_loss: 0.3274 - val_aux_output_loss: 0.4713\n",
      "Epoch 20/20\n",
      "387/387 [==============================] - 0s 954us/step - loss: 0.3454 - main_output_loss: 0.3338 - aux_output_loss: 0.4498 - val_loss: 0.3356 - val_main_output_loss: 0.3213 - val_aux_output_loss: 0.4637\n"
     ]
    }
   ],
   "source": [
    "history = model.fit( [x_train_A, x_train_B],[y_train, y_train], epochs=20,validation_data=([x_valid_A, x_valid_B],[y_valid,y_valid]))"
   ]
  },
  {
   "cell_type": "code",
   "execution_count": 27,
   "metadata": {},
   "outputs": [
    {
     "output_type": "stream",
     "name": "stdout",
     "text": [
      "129/129 [==============================] - 0s 650us/step - loss: 0.3729 - main_output_loss: 0.3603 - aux_output_loss: 0.4867\n"
     ]
    }
   ],
   "source": [
    "mse_test = model.evaluate((x_test_A,  x_test_B),(y_test,y_test))\n",
    "y_pred_main, y_pred_aux   = model.predict(( x_new_A,  x_new_B))"
   ]
  },
  {
   "cell_type": "code",
   "execution_count": 28,
   "metadata": {},
   "outputs": [
    {
     "output_type": "execute_result",
     "data": {
      "text/plain": [
       "(array([[0.40951228],\n",
       "        [1.5830526 ],\n",
       "        [3.5901754 ]], dtype=float32),\n",
       " array([[0.8465092],\n",
       "        [1.9512239],\n",
       "        [2.89537  ]], dtype=float32))"
      ]
     },
     "metadata": {},
     "execution_count": 28
    }
   ],
   "source": [
    "y_pred_main, y_pred_aux"
   ]
  },
  {
   "cell_type": "code",
   "execution_count": 26,
   "metadata": {},
   "outputs": [
    {
     "output_type": "stream",
     "name": "stdout",
     "text": [
      "129/129 [==============================] - 0s 763us/step - loss: 0.3729 - main_output_loss: 0.3603 - aux_output_loss: 0.4867\n"
     ]
    }
   ],
   "source": [
    "total_loss, main_loss ,aux_loss = model.evaluate((x_test_A,  x_test_B),(y_test,y_test))"
   ]
  },
  {
   "cell_type": "code",
   "execution_count": 34,
   "metadata": {},
   "outputs": [
    {
     "output_type": "stream",
     "name": "stdout",
     "text": [
      "Model: \"model_4\"\n__________________________________________________________________________________________________\nLayer (type)                    Output Shape         Param #     Connected to                     \n==================================================================================================\ndeep_input (InputLayer)         [(None, 6)]          0                                            \n__________________________________________________________________________________________________\ndense_5 (Dense)                 (None, 30)           210         deep_input[0][0]                 \n__________________________________________________________________________________________________\nwide_input (InputLayer)         [(None, 5)]          0                                            \n__________________________________________________________________________________________________\ndense_6 (Dense)                 (None, 30)           930         dense_5[0][0]                    \n__________________________________________________________________________________________________\nconcatenate_1 (Concatenate)     (None, 35)           0           wide_input[0][0]                 \n                                                                 dense_6[0][0]                    \n__________________________________________________________________________________________________\nmain_output (Dense)             (None, 1)            36          concatenate_1[0][0]              \n__________________________________________________________________________________________________\naux_output (Dense)              (None, 1)            31          dense_6[0][0]                    \n==================================================================================================\nTotal params: 1,207\nTrainable params: 1,207\nNon-trainable params: 0\n__________________________________________________________________________________________________\n"
     ]
    }
   ],
   "source": [
    "model.summary()"
   ]
  },
  {
   "source": [
    "# Saving a model"
   ],
   "cell_type": "markdown",
   "metadata": {}
  },
  {
   "cell_type": "code",
   "execution_count": 39,
   "metadata": {},
   "outputs": [],
   "source": [
    "model.save(\"test_model.h5\")"
   ]
  },
  {
   "cell_type": "code",
   "execution_count": null,
   "metadata": {},
   "outputs": [],
   "source": []
  },
  {
   "cell_type": "code",
   "execution_count": 38,
   "metadata": {},
   "outputs": [
    {
     "output_type": "execute_result",
     "data": {
      "text/plain": [
       "2"
      ]
     },
     "metadata": {},
     "execution_count": 38
    }
   ],
   "source": []
  },
  {
   "cell_type": "code",
   "execution_count": null,
   "metadata": {},
   "outputs": [],
   "source": []
  }
 ]
}