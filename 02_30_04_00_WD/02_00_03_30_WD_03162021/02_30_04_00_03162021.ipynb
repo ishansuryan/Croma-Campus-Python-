{
 "metadata": {
  "language_info": {
   "codemirror_mode": {
    "name": "ipython",
    "version": 3
   },
   "file_extension": ".py",
   "mimetype": "text/x-python",
   "name": "python",
   "nbconvert_exporter": "python",
   "pygments_lexer": "ipython3",
   "version": "3.8.5-final"
  },
  "orig_nbformat": 2,
  "kernelspec": {
   "name": "python3",
   "display_name": "Python 3.8.5 64-bit (conda)",
   "metadata": {
    "interpreter": {
     "hash": "b3ba2566441a7c06988d0923437866b63cedc61552a5af99d1f4fb67d367b25f"
    }
   }
  }
 },
 "nbformat": 4,
 "nbformat_minor": 2,
 "cells": [
  {
   "cell_type": "code",
   "execution_count": 4,
   "metadata": {},
   "outputs": [],
   "source": [
    "from sklearn.datasets import fetch_california_housing\n",
    "from sklearn.preprocessing import StandardScaler\n",
    "housing = fetch_california_housing()"
   ]
  },
  {
   "cell_type": "code",
   "execution_count": 5,
   "metadata": {},
   "outputs": [
    {
     "output_type": "execute_result",
     "data": {
      "text/plain": [
       "{'data': array([[   8.3252    ,   41.        ,    6.98412698, ...,    2.55555556,\n",
       "           37.88      , -122.23      ],\n",
       "        [   8.3014    ,   21.        ,    6.23813708, ...,    2.10984183,\n",
       "           37.86      , -122.22      ],\n",
       "        [   7.2574    ,   52.        ,    8.28813559, ...,    2.80225989,\n",
       "           37.85      , -122.24      ],\n",
       "        ...,\n",
       "        [   1.7       ,   17.        ,    5.20554273, ...,    2.3256351 ,\n",
       "           39.43      , -121.22      ],\n",
       "        [   1.8672    ,   18.        ,    5.32951289, ...,    2.12320917,\n",
       "           39.43      , -121.32      ],\n",
       "        [   2.3886    ,   16.        ,    5.25471698, ...,    2.61698113,\n",
       "           39.37      , -121.24      ]]),\n",
       " 'target': array([4.526, 3.585, 3.521, ..., 0.923, 0.847, 0.894]),\n",
       " 'frame': None,\n",
       " 'target_names': ['MedHouseVal'],\n",
       " 'feature_names': ['MedInc',\n",
       "  'HouseAge',\n",
       "  'AveRooms',\n",
       "  'AveBedrms',\n",
       "  'Population',\n",
       "  'AveOccup',\n",
       "  'Latitude',\n",
       "  'Longitude'],\n",
       " 'DESCR': '.. _california_housing_dataset:\\n\\nCalifornia Housing dataset\\n--------------------------\\n\\n**Data Set Characteristics:**\\n\\n    :Number of Instances: 20640\\n\\n    :Number of Attributes: 8 numeric, predictive attributes and the target\\n\\n    :Attribute Information:\\n        - MedInc        median income in block\\n        - HouseAge      median house age in block\\n        - AveRooms      average number of rooms\\n        - AveBedrms     average number of bedrooms\\n        - Population    block population\\n        - AveOccup      average house occupancy\\n        - Latitude      house block latitude\\n        - Longitude     house block longitude\\n\\n    :Missing Attribute Values: None\\n\\nThis dataset was obtained from the StatLib repository.\\nhttp://lib.stat.cmu.edu/datasets/\\n\\nThe target variable is the median house value for California districts.\\n\\nThis dataset was derived from the 1990 U.S. census, using one row per census\\nblock group. A block group is the smallest geographical unit for which the U.S.\\nCensus Bureau publishes sample data (a block group typically has a population\\nof 600 to 3,000 people).\\n\\nIt can be downloaded/loaded using the\\n:func:`sklearn.datasets.fetch_california_housing` function.\\n\\n.. topic:: References\\n\\n    - Pace, R. Kelley and Ronald Barry, Sparse Spatial Autoregressions,\\n      Statistics and Probability Letters, 33 (1997) 291-297\\n'}"
      ]
     },
     "metadata": {},
     "execution_count": 5
    }
   ],
   "source": [
    "housing"
   ]
  },
  {
   "cell_type": "code",
   "execution_count": 6,
   "metadata": {},
   "outputs": [],
   "source": [
    "x = housing.data\n",
    "y = housing.target"
   ]
  },
  {
   "cell_type": "code",
   "execution_count": 7,
   "metadata": {},
   "outputs": [
    {
     "output_type": "execute_result",
     "data": {
      "text/plain": [
       "16512"
      ]
     },
     "metadata": {},
     "execution_count": 7
    }
   ],
   "source": [
    "from sklearn.model_selection import train_test_split\n",
    "x_train_full,x_test,y_train_full,y_test = train_test_split(x,y,test_size = 0.2, random_state = 42)\n",
    "x_train, x_valid, y_train, y_valid = train_test_split(x_train_full,y_train_full, random_state = 42)\n",
    "len(x_train_full)"
   ]
  },
  {
   "cell_type": "code",
   "execution_count": 8,
   "metadata": {},
   "outputs": [
    {
     "output_type": "execute_result",
     "data": {
      "text/plain": [
       "(12384, 4128)"
      ]
     },
     "metadata": {},
     "execution_count": 8
    }
   ],
   "source": [
    "len(x_train), len(x_valid)"
   ]
  },
  {
   "cell_type": "code",
   "execution_count": 9,
   "metadata": {},
   "outputs": [
    {
     "output_type": "execute_result",
     "data": {
      "text/plain": [
       "8"
      ]
     },
     "metadata": {},
     "execution_count": 9
    }
   ],
   "source": [
    "x_train.shape[1]"
   ]
  },
  {
   "source": [
    "x_train.shape[1:]"
   ],
   "cell_type": "code",
   "metadata": {},
   "execution_count": 10,
   "outputs": [
    {
     "output_type": "execute_result",
     "data": {
      "text/plain": [
       "(8,)"
      ]
     },
     "metadata": {},
     "execution_count": 10
    }
   ]
  },
  {
   "cell_type": "code",
   "execution_count": 11,
   "metadata": {},
   "outputs": [],
   "source": [
    "scaler = StandardScaler()\n",
    "x_train = scaler.fit_transform(x_train)\n",
    "x_valid = scaler.transform(x_valid)\n",
    "x_test  = scaler.transform(x_test)"
   ]
  },
  {
   "cell_type": "code",
   "execution_count": 12,
   "metadata": {},
   "outputs": [],
   "source": [
    "import tensorflow as tf\n",
    "from tensorflow import keras"
   ]
  },
  {
   "cell_type": "code",
   "execution_count": 65,
   "metadata": {},
   "outputs": [],
   "source": [
    "import os\n",
    "root_logdir = os.path.join(os.curdir, \"my_logs\")\n",
    "def get_run_logdir():\n",
    "    import time\n",
    "    run_id = time.strftime(\"run_%Y_%m_%d-%H_%M_%S\")\n",
    "    return os.path.join(root_logdir, run_id)\n",
    "run_logdir = get_run_logdir()"
   ]
  },
  {
   "cell_type": "code",
   "execution_count": 119,
   "metadata": {},
   "outputs": [],
   "source": [
    "keras.backend.clear_session()\n",
    "tf.random.set_seed(42)"
   ]
  },
  {
   "cell_type": "code",
   "execution_count": 120,
   "metadata": {},
   "outputs": [],
   "source": [
    "model = keras.models.Sequential([keras.layers.Dense(30, activation = 'relu', input_shape = [x_train.shape[1]]),\n",
    "                                 keras.layers.Dense(15,activation = 'relu'),\n",
    "                                 keras.layers.Dense(1)])"
   ]
  },
  {
   "cell_type": "code",
   "execution_count": 121,
   "metadata": {},
   "outputs": [],
   "source": [
    "model.compile(loss = 'mse', optimizer = keras.optimizers.SGD(lr = 1e-3))\n",
    "#history = model.fit(x_train,y_train, epochs = 20, validation_data=(x_valid,y_valid),)"
   ]
  },
  {
   "cell_type": "code",
   "execution_count": 122,
   "metadata": {},
   "outputs": [
    {
     "output_type": "stream",
     "name": "stdout",
     "text": [
      "Epoch 1/50\n",
      "387/387 [==============================] - 1s 3ms/step - loss: 4.1180 - val_loss: 1.0623\n",
      "Epoch 2/50\n",
      "387/387 [==============================] - 0s 689us/step - loss: 0.8267 - val_loss: 0.6761\n",
      "Epoch 3/50\n",
      "387/387 [==============================] - 0s 695us/step - loss: 0.6257 - val_loss: 0.6212\n",
      "Epoch 4/50\n",
      "387/387 [==============================] - 0s 697us/step - loss: 0.5950 - val_loss: 0.5890\n",
      "Epoch 5/50\n",
      "387/387 [==============================] - 0s 676us/step - loss: 0.5636 - val_loss: 0.5633\n",
      "Epoch 6/50\n",
      "387/387 [==============================] - 0s 688us/step - loss: 0.5421 - val_loss: 0.5411\n",
      "Epoch 7/50\n",
      " 89/387 [=====>........................] - ETA: 0s - loss: 0.4985"
     ]
    },
    {
     "output_type": "error",
     "ename": "KeyboardInterrupt",
     "evalue": "",
     "traceback": [
      "\u001b[1;31m---------------------------------------------------------------------------\u001b[0m",
      "\u001b[1;31mKeyboardInterrupt\u001b[0m                         Traceback (most recent call last)",
      "\u001b[1;32m<ipython-input-122-04af41a97842>\u001b[0m in \u001b[0;36m<module>\u001b[1;34m\u001b[0m\n\u001b[0;32m      2\u001b[0m \u001b[0mcheckpoint_cb\u001b[0m \u001b[1;33m=\u001b[0m \u001b[0mkeras\u001b[0m\u001b[1;33m.\u001b[0m\u001b[0mcallbacks\u001b[0m\u001b[1;33m.\u001b[0m\u001b[0mModelCheckpoint\u001b[0m\u001b[1;33m(\u001b[0m\u001b[1;34m'checkpoint.h5'\u001b[0m\u001b[1;33m)\u001b[0m\u001b[1;33m\u001b[0m\u001b[1;33m\u001b[0m\u001b[0m\n\u001b[0;32m      3\u001b[0m \u001b[0mearly_stopping_cb\u001b[0m \u001b[1;33m=\u001b[0m \u001b[0mkeras\u001b[0m\u001b[1;33m.\u001b[0m\u001b[0mcallbacks\u001b[0m\u001b[1;33m.\u001b[0m\u001b[0mEarlyStopping\u001b[0m\u001b[1;33m(\u001b[0m\u001b[0mmonitor\u001b[0m \u001b[1;33m=\u001b[0m \u001b[1;34m'loss'\u001b[0m\u001b[1;33m,\u001b[0m \u001b[0mpatience\u001b[0m \u001b[1;33m=\u001b[0m \u001b[1;36m3\u001b[0m\u001b[1;33m,\u001b[0m \u001b[0mrestore_best_weights\u001b[0m\u001b[1;33m=\u001b[0m\u001b[1;32mTrue\u001b[0m\u001b[1;33m,\u001b[0m \u001b[0mmin_delta\u001b[0m \u001b[1;33m=\u001b[0m \u001b[1;36m0.01\u001b[0m\u001b[1;33m)\u001b[0m\u001b[1;33m\u001b[0m\u001b[1;33m\u001b[0m\u001b[0m\n\u001b[1;32m----> 4\u001b[1;33m \u001b[0mhistory\u001b[0m \u001b[1;33m=\u001b[0m \u001b[0mmodel\u001b[0m\u001b[1;33m.\u001b[0m\u001b[0mfit\u001b[0m\u001b[1;33m(\u001b[0m\u001b[0mx_train\u001b[0m\u001b[1;33m,\u001b[0m \u001b[0my_train\u001b[0m\u001b[1;33m,\u001b[0m \u001b[0mepochs\u001b[0m\u001b[1;33m=\u001b[0m\u001b[1;36m50\u001b[0m\u001b[1;33m,\u001b[0m\u001b[0mvalidation_data\u001b[0m\u001b[1;33m=\u001b[0m\u001b[1;33m(\u001b[0m\u001b[0mx_valid\u001b[0m\u001b[1;33m,\u001b[0m\u001b[0my_valid\u001b[0m\u001b[1;33m)\u001b[0m\u001b[1;33m,\u001b[0m \u001b[0mcallbacks\u001b[0m\u001b[1;33m=\u001b[0m\u001b[1;33m[\u001b[0m\u001b[0mtensorboard_cb\u001b[0m\u001b[1;33m,\u001b[0m\u001b[0mcheckpoint_cb\u001b[0m\u001b[1;33m,\u001b[0m\u001b[0mearly_stopping_cb\u001b[0m\u001b[1;33m]\u001b[0m\u001b[1;33m)\u001b[0m\u001b[1;33m\u001b[0m\u001b[1;33m\u001b[0m\u001b[0m\n\u001b[0m",
      "\u001b[1;32mC:\\ProgramData\\Anaconda3\\lib\\site-packages\\tensorflow\\python\\keras\\engine\\training.py\u001b[0m in \u001b[0;36mfit\u001b[1;34m(self, x, y, batch_size, epochs, verbose, callbacks, validation_split, validation_data, shuffle, class_weight, sample_weight, initial_epoch, steps_per_epoch, validation_steps, validation_batch_size, validation_freq, max_queue_size, workers, use_multiprocessing)\u001b[0m\n\u001b[0;32m   1098\u001b[0m                 _r=1):\n\u001b[0;32m   1099\u001b[0m               \u001b[0mcallbacks\u001b[0m\u001b[1;33m.\u001b[0m\u001b[0mon_train_batch_begin\u001b[0m\u001b[1;33m(\u001b[0m\u001b[0mstep\u001b[0m\u001b[1;33m)\u001b[0m\u001b[1;33m\u001b[0m\u001b[1;33m\u001b[0m\u001b[0m\n\u001b[1;32m-> 1100\u001b[1;33m               \u001b[0mtmp_logs\u001b[0m \u001b[1;33m=\u001b[0m \u001b[0mself\u001b[0m\u001b[1;33m.\u001b[0m\u001b[0mtrain_function\u001b[0m\u001b[1;33m(\u001b[0m\u001b[0miterator\u001b[0m\u001b[1;33m)\u001b[0m\u001b[1;33m\u001b[0m\u001b[1;33m\u001b[0m\u001b[0m\n\u001b[0m\u001b[0;32m   1101\u001b[0m               \u001b[1;32mif\u001b[0m \u001b[0mdata_handler\u001b[0m\u001b[1;33m.\u001b[0m\u001b[0mshould_sync\u001b[0m\u001b[1;33m:\u001b[0m\u001b[1;33m\u001b[0m\u001b[1;33m\u001b[0m\u001b[0m\n\u001b[0;32m   1102\u001b[0m                 \u001b[0mcontext\u001b[0m\u001b[1;33m.\u001b[0m\u001b[0masync_wait\u001b[0m\u001b[1;33m(\u001b[0m\u001b[1;33m)\u001b[0m\u001b[1;33m\u001b[0m\u001b[1;33m\u001b[0m\u001b[0m\n",
      "\u001b[1;32mC:\\ProgramData\\Anaconda3\\lib\\site-packages\\tensorflow\\python\\eager\\def_function.py\u001b[0m in \u001b[0;36m__call__\u001b[1;34m(self, *args, **kwds)\u001b[0m\n\u001b[0;32m    826\u001b[0m     \u001b[0mtracing_count\u001b[0m \u001b[1;33m=\u001b[0m \u001b[0mself\u001b[0m\u001b[1;33m.\u001b[0m\u001b[0mexperimental_get_tracing_count\u001b[0m\u001b[1;33m(\u001b[0m\u001b[1;33m)\u001b[0m\u001b[1;33m\u001b[0m\u001b[1;33m\u001b[0m\u001b[0m\n\u001b[0;32m    827\u001b[0m     \u001b[1;32mwith\u001b[0m \u001b[0mtrace\u001b[0m\u001b[1;33m.\u001b[0m\u001b[0mTrace\u001b[0m\u001b[1;33m(\u001b[0m\u001b[0mself\u001b[0m\u001b[1;33m.\u001b[0m\u001b[0m_name\u001b[0m\u001b[1;33m)\u001b[0m \u001b[1;32mas\u001b[0m \u001b[0mtm\u001b[0m\u001b[1;33m:\u001b[0m\u001b[1;33m\u001b[0m\u001b[1;33m\u001b[0m\u001b[0m\n\u001b[1;32m--> 828\u001b[1;33m       \u001b[0mresult\u001b[0m \u001b[1;33m=\u001b[0m \u001b[0mself\u001b[0m\u001b[1;33m.\u001b[0m\u001b[0m_call\u001b[0m\u001b[1;33m(\u001b[0m\u001b[1;33m*\u001b[0m\u001b[0margs\u001b[0m\u001b[1;33m,\u001b[0m \u001b[1;33m**\u001b[0m\u001b[0mkwds\u001b[0m\u001b[1;33m)\u001b[0m\u001b[1;33m\u001b[0m\u001b[1;33m\u001b[0m\u001b[0m\n\u001b[0m\u001b[0;32m    829\u001b[0m       \u001b[0mcompiler\u001b[0m \u001b[1;33m=\u001b[0m \u001b[1;34m\"xla\"\u001b[0m \u001b[1;32mif\u001b[0m \u001b[0mself\u001b[0m\u001b[1;33m.\u001b[0m\u001b[0m_experimental_compile\u001b[0m \u001b[1;32melse\u001b[0m \u001b[1;34m\"nonXla\"\u001b[0m\u001b[1;33m\u001b[0m\u001b[1;33m\u001b[0m\u001b[0m\n\u001b[0;32m    830\u001b[0m       \u001b[0mnew_tracing_count\u001b[0m \u001b[1;33m=\u001b[0m \u001b[0mself\u001b[0m\u001b[1;33m.\u001b[0m\u001b[0mexperimental_get_tracing_count\u001b[0m\u001b[1;33m(\u001b[0m\u001b[1;33m)\u001b[0m\u001b[1;33m\u001b[0m\u001b[1;33m\u001b[0m\u001b[0m\n",
      "\u001b[1;32mC:\\ProgramData\\Anaconda3\\lib\\site-packages\\tensorflow\\python\\eager\\def_function.py\u001b[0m in \u001b[0;36m_call\u001b[1;34m(self, *args, **kwds)\u001b[0m\n\u001b[0;32m    853\u001b[0m       \u001b[1;31m# In this case we have created variables on the first call, so we run the\u001b[0m\u001b[1;33m\u001b[0m\u001b[1;33m\u001b[0m\u001b[1;33m\u001b[0m\u001b[0m\n\u001b[0;32m    854\u001b[0m       \u001b[1;31m# defunned version which is guaranteed to never create variables.\u001b[0m\u001b[1;33m\u001b[0m\u001b[1;33m\u001b[0m\u001b[1;33m\u001b[0m\u001b[0m\n\u001b[1;32m--> 855\u001b[1;33m       \u001b[1;32mreturn\u001b[0m \u001b[0mself\u001b[0m\u001b[1;33m.\u001b[0m\u001b[0m_stateless_fn\u001b[0m\u001b[1;33m(\u001b[0m\u001b[1;33m*\u001b[0m\u001b[0margs\u001b[0m\u001b[1;33m,\u001b[0m \u001b[1;33m**\u001b[0m\u001b[0mkwds\u001b[0m\u001b[1;33m)\u001b[0m  \u001b[1;31m# pylint: disable=not-callable\u001b[0m\u001b[1;33m\u001b[0m\u001b[1;33m\u001b[0m\u001b[0m\n\u001b[0m\u001b[0;32m    856\u001b[0m     \u001b[1;32melif\u001b[0m \u001b[0mself\u001b[0m\u001b[1;33m.\u001b[0m\u001b[0m_stateful_fn\u001b[0m \u001b[1;32mis\u001b[0m \u001b[1;32mnot\u001b[0m \u001b[1;32mNone\u001b[0m\u001b[1;33m:\u001b[0m\u001b[1;33m\u001b[0m\u001b[1;33m\u001b[0m\u001b[0m\n\u001b[0;32m    857\u001b[0m       \u001b[1;31m# Release the lock early so that multiple threads can perform the call\u001b[0m\u001b[1;33m\u001b[0m\u001b[1;33m\u001b[0m\u001b[1;33m\u001b[0m\u001b[0m\n",
      "\u001b[1;32mC:\\ProgramData\\Anaconda3\\lib\\site-packages\\tensorflow\\python\\eager\\function.py\u001b[0m in \u001b[0;36m__call__\u001b[1;34m(self, *args, **kwargs)\u001b[0m\n\u001b[0;32m   2940\u001b[0m       (graph_function,\n\u001b[0;32m   2941\u001b[0m        filtered_flat_args) = self._maybe_define_function(args, kwargs)\n\u001b[1;32m-> 2942\u001b[1;33m     return graph_function._call_flat(\n\u001b[0m\u001b[0;32m   2943\u001b[0m         filtered_flat_args, captured_inputs=graph_function.captured_inputs)  # pylint: disable=protected-access\n\u001b[0;32m   2944\u001b[0m \u001b[1;33m\u001b[0m\u001b[0m\n",
      "\u001b[1;32mC:\\ProgramData\\Anaconda3\\lib\\site-packages\\tensorflow\\python\\eager\\function.py\u001b[0m in \u001b[0;36m_call_flat\u001b[1;34m(self, args, captured_inputs, cancellation_manager)\u001b[0m\n\u001b[0;32m   1916\u001b[0m         and executing_eagerly):\n\u001b[0;32m   1917\u001b[0m       \u001b[1;31m# No tape is watching; skip to running the function.\u001b[0m\u001b[1;33m\u001b[0m\u001b[1;33m\u001b[0m\u001b[1;33m\u001b[0m\u001b[0m\n\u001b[1;32m-> 1918\u001b[1;33m       return self._build_call_outputs(self._inference_function.call(\n\u001b[0m\u001b[0;32m   1919\u001b[0m           ctx, args, cancellation_manager=cancellation_manager))\n\u001b[0;32m   1920\u001b[0m     forward_backward = self._select_forward_and_backward_functions(\n",
      "\u001b[1;32mC:\\ProgramData\\Anaconda3\\lib\\site-packages\\tensorflow\\python\\eager\\function.py\u001b[0m in \u001b[0;36mcall\u001b[1;34m(self, ctx, args, cancellation_manager)\u001b[0m\n\u001b[0;32m    553\u001b[0m       \u001b[1;32mwith\u001b[0m \u001b[0m_InterpolateFunctionError\u001b[0m\u001b[1;33m(\u001b[0m\u001b[0mself\u001b[0m\u001b[1;33m)\u001b[0m\u001b[1;33m:\u001b[0m\u001b[1;33m\u001b[0m\u001b[1;33m\u001b[0m\u001b[0m\n\u001b[0;32m    554\u001b[0m         \u001b[1;32mif\u001b[0m \u001b[0mcancellation_manager\u001b[0m \u001b[1;32mis\u001b[0m \u001b[1;32mNone\u001b[0m\u001b[1;33m:\u001b[0m\u001b[1;33m\u001b[0m\u001b[1;33m\u001b[0m\u001b[0m\n\u001b[1;32m--> 555\u001b[1;33m           outputs = execute.execute(\n\u001b[0m\u001b[0;32m    556\u001b[0m               \u001b[0mstr\u001b[0m\u001b[1;33m(\u001b[0m\u001b[0mself\u001b[0m\u001b[1;33m.\u001b[0m\u001b[0msignature\u001b[0m\u001b[1;33m.\u001b[0m\u001b[0mname\u001b[0m\u001b[1;33m)\u001b[0m\u001b[1;33m,\u001b[0m\u001b[1;33m\u001b[0m\u001b[1;33m\u001b[0m\u001b[0m\n\u001b[0;32m    557\u001b[0m               \u001b[0mnum_outputs\u001b[0m\u001b[1;33m=\u001b[0m\u001b[0mself\u001b[0m\u001b[1;33m.\u001b[0m\u001b[0m_num_outputs\u001b[0m\u001b[1;33m,\u001b[0m\u001b[1;33m\u001b[0m\u001b[1;33m\u001b[0m\u001b[0m\n",
      "\u001b[1;32mC:\\ProgramData\\Anaconda3\\lib\\site-packages\\tensorflow\\python\\eager\\execute.py\u001b[0m in \u001b[0;36mquick_execute\u001b[1;34m(op_name, num_outputs, inputs, attrs, ctx, name)\u001b[0m\n\u001b[0;32m     57\u001b[0m   \u001b[1;32mtry\u001b[0m\u001b[1;33m:\u001b[0m\u001b[1;33m\u001b[0m\u001b[1;33m\u001b[0m\u001b[0m\n\u001b[0;32m     58\u001b[0m     \u001b[0mctx\u001b[0m\u001b[1;33m.\u001b[0m\u001b[0mensure_initialized\u001b[0m\u001b[1;33m(\u001b[0m\u001b[1;33m)\u001b[0m\u001b[1;33m\u001b[0m\u001b[1;33m\u001b[0m\u001b[0m\n\u001b[1;32m---> 59\u001b[1;33m     tensors = pywrap_tfe.TFE_Py_Execute(ctx._handle, device_name, op_name,\n\u001b[0m\u001b[0;32m     60\u001b[0m                                         inputs, attrs, num_outputs)\n\u001b[0;32m     61\u001b[0m   \u001b[1;32mexcept\u001b[0m \u001b[0mcore\u001b[0m\u001b[1;33m.\u001b[0m\u001b[0m_NotOkStatusException\u001b[0m \u001b[1;32mas\u001b[0m \u001b[0me\u001b[0m\u001b[1;33m:\u001b[0m\u001b[1;33m\u001b[0m\u001b[1;33m\u001b[0m\u001b[0m\n",
      "\u001b[1;31mKeyboardInterrupt\u001b[0m: "
     ]
    }
   ],
   "source": [
    "tensorboard_cb = keras.callbacks.TensorBoard(run_logdir)\n",
    "checkpoint_cb = keras.callbacks.ModelCheckpoint('checkpoint.h5')\n",
    "early_stopping_cb = keras.callbacks.EarlyStopping(monitor = 'loss', patience = 3, restore_best_weights=True, min_delta = 0.01)\n",
    "history = model.fit(x_train, y_train, epochs=50,validation_data=(x_valid,y_valid), callbacks=[tensorboard_cb,checkpoint_cb,early_stopping_cb])"
   ]
  },
  {
   "cell_type": "code",
   "execution_count": 19,
   "metadata": {},
   "outputs": [
    {
     "output_type": "stream",
     "name": "stdout",
     "text": [
      "129/129 [==============================] - 0s 460us/step - loss: 0.4170\n"
     ]
    }
   ],
   "source": [
    "mse_test = model.evaluate(x_test,y_test)"
   ]
  },
  {
   "cell_type": "code",
   "execution_count": 14,
   "metadata": {},
   "outputs": [],
   "source": [
    "input_ = keras.layers.Input(shape=x_train.shape[1:])\n",
    "hidden1=keras.layers.Dense(30,activation=\"relu\")(input_)\n",
    "hidden2=keras.layers.Dense(30,activation=\"relu\")(hidden1)\n",
    "concat = keras.layers.Concatenate()([input_,hidden2])\n",
    "output = keras.layers.Dense(1)(concat)\n",
    "model = keras.Model(inputs=[input_], outputs=[output])"
   ]
  },
  {
   "cell_type": "code",
   "execution_count": 15,
   "metadata": {},
   "outputs": [],
   "source": [
    "input_A = keras.layers.Input(shape=[5],name=\"wide_input\")\n",
    "input_B = keras.layers.Input(shape=[6],name=\"deep_input\")\n",
    "hidden1 = keras.layers.Dense(30,activation=\"relu\")(input_B)\n",
    "hidden2 = keras.layers.Dense(30,activation=\"relu\")(hidden1)\n",
    "concat = keras.layers.concatenate([input_A, hidden2])\n",
    "output = keras.layers.Dense(1, name=\"output\")(concat)\n",
    "model = keras.Model(inputs=[input_A, input_B],outputs=[output])"
   ]
  },
  {
   "cell_type": "code",
   "execution_count": 17,
   "metadata": {},
   "outputs": [],
   "source": [
    "model.compile(loss=\"mse\",optimizer=keras.optimizers.SGD(lr=1e-3))"
   ]
  },
  {
   "cell_type": "code",
   "execution_count": 19,
   "metadata": {},
   "outputs": [
    {
     "output_type": "stream",
     "name": "stdout",
     "text": [
      "Epoch 1/20\n",
      "387/387 [==============================] - 1s 1ms/step - loss: 3.1020 - val_loss: 0.9717\n",
      "Epoch 2/20\n",
      "387/387 [==============================] - 0s 744us/step - loss: 0.8325 - val_loss: 0.7239\n",
      "Epoch 3/20\n",
      "387/387 [==============================] - 0s 776us/step - loss: 0.6724 - val_loss: 0.6534\n",
      "Epoch 4/20\n",
      "387/387 [==============================] - 0s 834us/step - loss: 0.6423 - val_loss: 0.6121\n",
      "Epoch 5/20\n",
      "387/387 [==============================] - 0s 767us/step - loss: 0.6045 - val_loss: 0.5841\n",
      "Epoch 6/20\n",
      "387/387 [==============================] - 0s 775us/step - loss: 0.5771 - val_loss: 0.5634\n",
      "Epoch 7/20\n",
      "387/387 [==============================] - 0s 870us/step - loss: 0.5494 - val_loss: 0.5473\n",
      "Epoch 8/20\n",
      "387/387 [==============================] - 0s 724us/step - loss: 0.5293 - val_loss: 0.5329\n",
      "Epoch 9/20\n",
      "387/387 [==============================] - 0s 704us/step - loss: 0.5134 - val_loss: 0.5216\n",
      "Epoch 10/20\n",
      "387/387 [==============================] - 0s 706us/step - loss: 0.5124 - val_loss: 0.5135\n",
      "Epoch 11/20\n",
      "387/387 [==============================] - 0s 693us/step - loss: 0.5043 - val_loss: 0.5043\n",
      "Epoch 12/20\n",
      "387/387 [==============================] - 0s 695us/step - loss: 0.4927 - val_loss: 0.5042\n",
      "Epoch 13/20\n",
      "387/387 [==============================] - 0s 705us/step - loss: 0.4914 - val_loss: 0.4933\n",
      "Epoch 14/20\n",
      "387/387 [==============================] - 0s 796us/step - loss: 0.4751 - val_loss: 0.4867\n",
      "Epoch 15/20\n",
      "387/387 [==============================] - 0s 775us/step - loss: 0.4710 - val_loss: 0.4831\n",
      "Epoch 16/20\n",
      "387/387 [==============================] - 0s 1ms/step - loss: 0.4913 - val_loss: 0.4824\n",
      "Epoch 17/20\n",
      "387/387 [==============================] - 0s 907us/step - loss: 0.4610 - val_loss: 0.4773\n",
      "Epoch 18/20\n",
      "387/387 [==============================] - 0s 865us/step - loss: 0.4722 - val_loss: 0.4734\n",
      "Epoch 19/20\n",
      "387/387 [==============================] - 0s 787us/step - loss: 0.4883 - val_loss: 0.4701\n",
      "Epoch 20/20\n",
      "387/387 [==============================] - 0s 716us/step - loss: 0.4737 - val_loss: 0.4668\n"
     ]
    }
   ],
   "source": [
    "x_train_A, x_train_B = x_train[:, :5], x_train[:, 2:]\n",
    "x_valid_A, x_valid_B = x_valid[:, :5], x_valid[:, 2:]\n",
    "x_test_A,  x_test_B  = x_test[:, :5],  x_test[:, 2:]\n",
    "x_new_A,   x_new_B   = x_test_A[:3],   x_test_B[:3]\n",
    "history = model.fit((x_train_A, x_train_B), y_train,epochs=20,validation_data=((x_valid_A,x_valid_B),y_valid))"
   ]
  },
  {
   "cell_type": "code",
   "execution_count": 20,
   "metadata": {},
   "outputs": [
    {
     "output_type": "stream",
     "name": "stdout",
     "text": [
      "129/129 [==============================] - 0s 434us/step - loss: 0.4742\n"
     ]
    }
   ],
   "source": [
    "mse_test = model.evaluate((x_test_A, x_test_B),y_test)\n",
    "y_pred   = model.predict(( x_new_A,  x_new_B))"
   ]
  },
  {
   "cell_type": "code",
   "execution_count": 31,
   "metadata": {},
   "outputs": [],
   "source": [
    "output = keras.layers.Dense(1,name=\"main_output\")(concat)\n",
    "aux_output = keras.layers.Dense(1,name=\"aux_output\")(hidden2)\n",
    "model = keras.Model(inputs=[input_A, input_B],outputs=[output, aux_output])\n",
    "model.compile(loss=[\"mse\", \"mse\"], loss_weights=[0.9,0.1], optimizer=\"sgd\")"
   ]
  },
  {
   "cell_type": "code",
   "execution_count": 32,
   "metadata": {},
   "outputs": [
    {
     "output_type": "stream",
     "name": "stdout",
     "text": [
      "Epoch 1/20\n",
      "387/387 [==============================] - 1s 2ms/step - loss: 1.1760 - main_output_loss: 0.9790 - aux_output_loss: 2.9488 - val_loss: 0.4128 - val_main_output_loss: 0.3726 - val_aux_output_loss: 0.7742\n",
      "Epoch 2/20\n",
      "387/387 [==============================] - 0s 1ms/step - loss: 0.3835 - main_output_loss: 0.3542 - aux_output_loss: 0.6472 - val_loss: 0.3845 - val_main_output_loss: 0.3561 - val_aux_output_loss: 0.6408\n",
      "Epoch 3/20\n",
      "387/387 [==============================] - 0s 1ms/step - loss: 0.3766 - main_output_loss: 0.3562 - aux_output_loss: 0.5605 - val_loss: 0.3742 - val_main_output_loss: 0.3491 - val_aux_output_loss: 0.6008\n",
      "Epoch 4/20\n",
      "387/387 [==============================] - 0s 894us/step - loss: 0.3624 - main_output_loss: 0.3422 - aux_output_loss: 0.5440 - val_loss: 0.3675 - val_main_output_loss: 0.3442 - val_aux_output_loss: 0.5772\n",
      "Epoch 5/20\n",
      "387/387 [==============================] - 0s 973us/step - loss: 0.3617 - main_output_loss: 0.3444 - aux_output_loss: 0.5170 - val_loss: 0.3606 - val_main_output_loss: 0.3393 - val_aux_output_loss: 0.5514\n",
      "Epoch 6/20\n",
      "387/387 [==============================] - 0s 1ms/step - loss: 0.3566 - main_output_loss: 0.3389 - aux_output_loss: 0.5164 - val_loss: 0.3716 - val_main_output_loss: 0.3528 - val_aux_output_loss: 0.5404\n",
      "Epoch 7/20\n",
      "387/387 [==============================] - 0s 902us/step - loss: 0.3544 - main_output_loss: 0.3389 - aux_output_loss: 0.4939 - val_loss: 0.3674 - val_main_output_loss: 0.3493 - val_aux_output_loss: 0.5310\n",
      "Epoch 8/20\n",
      "387/387 [==============================] - 0s 949us/step - loss: 0.3513 - main_output_loss: 0.3360 - aux_output_loss: 0.4885 - val_loss: 0.3489 - val_main_output_loss: 0.3298 - val_aux_output_loss: 0.5209\n",
      "Epoch 9/20\n",
      "387/387 [==============================] - 0s 967us/step - loss: 0.3480 - main_output_loss: 0.3321 - aux_output_loss: 0.4908 - val_loss: 0.3496 - val_main_output_loss: 0.3314 - val_aux_output_loss: 0.5130\n",
      "Epoch 10/20\n",
      "387/387 [==============================] - 0s 881us/step - loss: 0.3433 - main_output_loss: 0.3288 - aux_output_loss: 0.4737 - val_loss: 0.3454 - val_main_output_loss: 0.3273 - val_aux_output_loss: 0.5083\n",
      "Epoch 11/20\n",
      "387/387 [==============================] - 0s 911us/step - loss: 0.3428 - main_output_loss: 0.3291 - aux_output_loss: 0.4664 - val_loss: 0.3575 - val_main_output_loss: 0.3403 - val_aux_output_loss: 0.5127\n",
      "Epoch 12/20\n",
      "387/387 [==============================] - 0s 1ms/step - loss: 0.3368 - main_output_loss: 0.3237 - aux_output_loss: 0.4553 - val_loss: 0.3463 - val_main_output_loss: 0.3288 - val_aux_output_loss: 0.5032\n",
      "Epoch 13/20\n",
      "387/387 [==============================] - 0s 1ms/step - loss: 0.3409 - main_output_loss: 0.3270 - aux_output_loss: 0.4660 - val_loss: 0.3510 - val_main_output_loss: 0.3348 - val_aux_output_loss: 0.4972\n",
      "Epoch 14/20\n",
      "387/387 [==============================] - 0s 988us/step - loss: 0.3337 - main_output_loss: 0.3201 - aux_output_loss: 0.4558 - val_loss: 0.3545 - val_main_output_loss: 0.3393 - val_aux_output_loss: 0.4907\n",
      "Epoch 15/20\n",
      "387/387 [==============================] - 0s 1ms/step - loss: 0.3348 - main_output_loss: 0.3213 - aux_output_loss: 0.4562 - val_loss: 0.3405 - val_main_output_loss: 0.3246 - val_aux_output_loss: 0.4837\n",
      "Epoch 16/20\n",
      "387/387 [==============================] - 0s 905us/step - loss: 0.3576 - main_output_loss: 0.3453 - aux_output_loss: 0.4682 - val_loss: 0.3463 - val_main_output_loss: 0.3305 - val_aux_output_loss: 0.4882\n",
      "Epoch 17/20\n",
      "387/387 [==============================] - 0s 893us/step - loss: 0.3336 - main_output_loss: 0.3214 - aux_output_loss: 0.4433 - val_loss: 0.3385 - val_main_output_loss: 0.3235 - val_aux_output_loss: 0.4739\n",
      "Epoch 18/20\n",
      "387/387 [==============================] - 0s 863us/step - loss: 0.3299 - main_output_loss: 0.3177 - aux_output_loss: 0.4393 - val_loss: 0.3378 - val_main_output_loss: 0.3234 - val_aux_output_loss: 0.4669\n",
      "Epoch 19/20\n",
      "387/387 [==============================] - 0s 855us/step - loss: 0.3414 - main_output_loss: 0.3295 - aux_output_loss: 0.4485 - val_loss: 0.3418 - val_main_output_loss: 0.3274 - val_aux_output_loss: 0.4713\n",
      "Epoch 20/20\n",
      "387/387 [==============================] - 0s 954us/step - loss: 0.3454 - main_output_loss: 0.3338 - aux_output_loss: 0.4498 - val_loss: 0.3356 - val_main_output_loss: 0.3213 - val_aux_output_loss: 0.4637\n"
     ]
    }
   ],
   "source": [
    "history = model.fit( [x_train_A, x_train_B],[y_train, y_train], epochs=20,validation_data=([x_valid_A, x_valid_B],[y_valid,y_valid]))"
   ]
  },
  {
   "cell_type": "code",
   "execution_count": 27,
   "metadata": {},
   "outputs": [
    {
     "output_type": "stream",
     "name": "stdout",
     "text": [
      "129/129 [==============================] - 0s 650us/step - loss: 0.3729 - main_output_loss: 0.3603 - aux_output_loss: 0.4867\n"
     ]
    }
   ],
   "source": [
    "mse_test = model.evaluate((x_test_A,  x_test_B),(y_test,y_test))\n",
    "y_pred_main, y_pred_aux   = model.predict(( x_new_A,  x_new_B))"
   ]
  },
  {
   "cell_type": "code",
   "execution_count": 28,
   "metadata": {},
   "outputs": [
    {
     "output_type": "execute_result",
     "data": {
      "text/plain": [
       "(array([[0.40951228],\n",
       "        [1.5830526 ],\n",
       "        [3.5901754 ]], dtype=float32),\n",
       " array([[0.8465092],\n",
       "        [1.9512239],\n",
       "        [2.89537  ]], dtype=float32))"
      ]
     },
     "metadata": {},
     "execution_count": 28
    }
   ],
   "source": [
    "y_pred_main, y_pred_aux"
   ]
  },
  {
   "cell_type": "code",
   "execution_count": 26,
   "metadata": {},
   "outputs": [
    {
     "output_type": "stream",
     "name": "stdout",
     "text": [
      "129/129 [==============================] - 0s 763us/step - loss: 0.3729 - main_output_loss: 0.3603 - aux_output_loss: 0.4867\n"
     ]
    }
   ],
   "source": [
    "total_loss, main_loss ,aux_loss = model.evaluate((x_test_A,  x_test_B),(y_test,y_test))"
   ]
  },
  {
   "cell_type": "code",
   "execution_count": 34,
   "metadata": {},
   "outputs": [
    {
     "output_type": "stream",
     "name": "stdout",
     "text": [
      "Model: \"model_4\"\n__________________________________________________________________________________________________\nLayer (type)                    Output Shape         Param #     Connected to                     \n==================================================================================================\ndeep_input (InputLayer)         [(None, 6)]          0                                            \n__________________________________________________________________________________________________\ndense_5 (Dense)                 (None, 30)           210         deep_input[0][0]                 \n__________________________________________________________________________________________________\nwide_input (InputLayer)         [(None, 5)]          0                                            \n__________________________________________________________________________________________________\ndense_6 (Dense)                 (None, 30)           930         dense_5[0][0]                    \n__________________________________________________________________________________________________\nconcatenate_1 (Concatenate)     (None, 35)           0           wide_input[0][0]                 \n                                                                 dense_6[0][0]                    \n__________________________________________________________________________________________________\nmain_output (Dense)             (None, 1)            36          concatenate_1[0][0]              \n__________________________________________________________________________________________________\naux_output (Dense)              (None, 1)            31          dense_6[0][0]                    \n==================================================================================================\nTotal params: 1,207\nTrainable params: 1,207\nNon-trainable params: 0\n__________________________________________________________________________________________________\n"
     ]
    }
   ],
   "source": [
    "model.summary()"
   ]
  },
  {
   "source": [
    "# Saving a model"
   ],
   "cell_type": "markdown",
   "metadata": {}
  },
  {
   "cell_type": "code",
   "execution_count": 39,
   "metadata": {},
   "outputs": [],
   "source": [
    "model.save(\"test_model.h5\")"
   ]
  },
  {
   "cell_type": "code",
   "execution_count": null,
   "metadata": {},
   "outputs": [],
   "source": []
  },
  {
   "cell_type": "code",
   "execution_count": 123,
   "metadata": {},
   "outputs": [],
   "source": [
    "modell = keras.models.load_model('checkpoint.h5')"
   ]
  },
  {
   "cell_type": "code",
   "execution_count": 124,
   "metadata": {},
   "outputs": [
    {
     "output_type": "stream",
     "name": "stdout",
     "text": [
      "Epoch 1/50\n",
      "387/387 [==============================] - 0s 747us/step - loss: 0.5092 - val_loss: 0.5157\n",
      "Epoch 2/50\n",
      "387/387 [==============================] - 0s 730us/step - loss: 0.4956 - val_loss: 0.5034\n",
      "Epoch 3/50\n",
      "387/387 [==============================] - 0s 736us/step - loss: 0.4848 - val_loss: 0.4917\n",
      "Epoch 4/50\n",
      "387/387 [==============================] - 0s 818us/step - loss: 0.4758 - val_loss: 0.4836\n",
      "Epoch 5/50\n",
      "387/387 [==============================] - 0s 796us/step - loss: 0.4692 - val_loss: 0.4789\n",
      "Epoch 6/50\n",
      "387/387 [==============================] - 0s 752us/step - loss: 0.4629 - val_loss: 0.4740\n",
      "Epoch 7/50\n",
      "387/387 [==============================] - 0s 761us/step - loss: 0.4573 - val_loss: 0.4641\n",
      "Epoch 8/50\n",
      "387/387 [==============================] - 0s 720us/step - loss: 0.4528 - val_loss: 0.4603\n",
      "Epoch 9/50\n",
      "387/387 [==============================] - 0s 761us/step - loss: 0.4477 - val_loss: 0.4563\n",
      "Epoch 10/50\n",
      "387/387 [==============================] - 0s 878us/step - loss: 0.4433 - val_loss: 0.4494\n",
      "Epoch 11/50\n",
      "387/387 [==============================] - 0s 748us/step - loss: 0.4399 - val_loss: 0.4555\n",
      "Epoch 12/50\n",
      "387/387 [==============================] - 0s 788us/step - loss: 0.4354 - val_loss: 0.4425\n",
      "Epoch 13/50\n",
      "387/387 [==============================] - 0s 785us/step - loss: 0.4323 - val_loss: 0.4379\n",
      "Epoch 14/50\n",
      "387/387 [==============================] - 0s 728us/step - loss: 0.4283 - val_loss: 0.4340\n",
      "Epoch 15/50\n",
      "387/387 [==============================] - 0s 776us/step - loss: 0.4249 - val_loss: 0.4371\n",
      "Epoch 16/50\n",
      "387/387 [==============================] - 0s 716us/step - loss: 0.4216 - val_loss: 0.4287\n",
      "Epoch 17/50\n",
      "387/387 [==============================] - 0s 785us/step - loss: 0.4198 - val_loss: 0.4263\n",
      "Epoch 18/50\n",
      "387/387 [==============================] - 0s 743us/step - loss: 0.4160 - val_loss: 0.4262\n",
      "Epoch 19/50\n",
      "387/387 [==============================] - 0s 764us/step - loss: 0.4133 - val_loss: 0.4196\n",
      "Epoch 20/50\n",
      "387/387 [==============================] - 0s 790us/step - loss: 0.4104 - val_loss: 0.4254\n",
      "Epoch 21/50\n",
      "387/387 [==============================] - 0s 801us/step - loss: 0.4085 - val_loss: 0.4156\n",
      "Epoch 22/50\n",
      "387/387 [==============================] - 0s 760us/step - loss: 0.4057 - val_loss: 0.4140\n",
      "Epoch 23/50\n",
      "387/387 [==============================] - 0s 742us/step - loss: 0.4039 - val_loss: 0.4102\n",
      "Epoch 24/50\n",
      "387/387 [==============================] - 0s 808us/step - loss: 0.4014 - val_loss: 0.4087\n",
      "Epoch 25/50\n",
      "387/387 [==============================] - 0s 764us/step - loss: 0.3994 - val_loss: 0.4069\n",
      "Epoch 26/50\n",
      "387/387 [==============================] - 0s 782us/step - loss: 0.3975 - val_loss: 0.4052\n",
      "Epoch 27/50\n",
      "387/387 [==============================] - 0s 899us/step - loss: 0.3955 - val_loss: 0.4022\n",
      "Epoch 28/50\n",
      "387/387 [==============================] - 0s 773us/step - loss: 0.3934 - val_loss: 0.4042\n",
      "Epoch 29/50\n",
      "387/387 [==============================] - 0s 729us/step - loss: 0.3919 - val_loss: 0.3986\n",
      "Epoch 30/50\n",
      "387/387 [==============================] - 0s 764us/step - loss: 0.3897 - val_loss: 0.3973\n",
      "Epoch 31/50\n",
      "387/387 [==============================] - 0s 780us/step - loss: 0.3887 - val_loss: 0.3962\n",
      "Epoch 32/50\n",
      "387/387 [==============================] - 0s 757us/step - loss: 0.3869 - val_loss: 0.3945\n",
      "Epoch 33/50\n",
      "387/387 [==============================] - 0s 753us/step - loss: 0.3855 - val_loss: 0.3929\n",
      "Epoch 34/50\n",
      "387/387 [==============================] - 0s 747us/step - loss: 0.3837 - val_loss: 0.3911\n",
      "Epoch 35/50\n",
      "387/387 [==============================] - 0s 739us/step - loss: 0.3825 - val_loss: 0.3896\n",
      "Epoch 36/50\n",
      "387/387 [==============================] - 0s 722us/step - loss: 0.3814 - val_loss: 0.3883\n",
      "Epoch 37/50\n",
      "387/387 [==============================] - 0s 763us/step - loss: 0.3796 - val_loss: 0.3857\n",
      "Epoch 38/50\n",
      "387/387 [==============================] - 0s 825us/step - loss: 0.3786 - val_loss: 0.3861\n",
      "Epoch 39/50\n",
      "387/387 [==============================] - 0s 758us/step - loss: 0.3770 - val_loss: 0.3864\n",
      "Epoch 40/50\n",
      "387/387 [==============================] - 0s 783us/step - loss: 0.3759 - val_loss: 0.3838\n",
      "Epoch 41/50\n",
      "387/387 [==============================] - 0s 776us/step - loss: 0.3750 - val_loss: 0.3819\n",
      "Epoch 42/50\n",
      "387/387 [==============================] - 0s 813us/step - loss: 0.3736 - val_loss: 0.3808\n",
      "Epoch 43/50\n",
      "387/387 [==============================] - 0s 833us/step - loss: 0.3723 - val_loss: 0.3789\n",
      "Epoch 44/50\n",
      "387/387 [==============================] - 0s 766us/step - loss: 0.3713 - val_loss: 0.3781\n",
      "Epoch 45/50\n",
      "387/387 [==============================] - 0s 773us/step - loss: 0.3700 - val_loss: 0.3765\n",
      "Epoch 46/50\n",
      "387/387 [==============================] - 0s 770us/step - loss: 0.3690 - val_loss: 0.3776\n",
      "Epoch 47/50\n",
      "387/387 [==============================] - 0s 748us/step - loss: 0.3681 - val_loss: 0.3745\n",
      "Epoch 48/50\n",
      "387/387 [==============================] - 0s 777us/step - loss: 0.3666 - val_loss: 0.3751\n",
      "Epoch 49/50\n",
      "387/387 [==============================] - 0s 792us/step - loss: 0.3661 - val_loss: 0.3732\n",
      "Epoch 50/50\n",
      "387/387 [==============================] - 0s 858us/step - loss: 0.3650 - val_loss: 0.3709\n"
     ]
    }
   ],
   "source": [
    "history = model.fit(x_train, y_train, epochs=50,validation_data=(x_valid,y_valid), )"
   ]
  },
  {
   "source": [
    "callbacks=[tensorboard_cb,checkpoint_cb,early_stopping_cb]"
   ],
   "cell_type": "markdown",
   "metadata": {}
  }
 ]
}