{
 "metadata": {
  "language_info": {
   "codemirror_mode": {
    "name": "ipython",
    "version": 3
   },
   "file_extension": ".py",
   "mimetype": "text/x-python",
   "name": "python",
   "nbconvert_exporter": "python",
   "pygments_lexer": "ipython3",
   "version": "3.9.5"
  },
  "orig_nbformat": 2,
  "kernelspec": {
   "name": "python395jvsc74a57bd0d2152fd7f0bbc62aa1baff8c990435d1e2c7175d001561303988032604c11a48",
   "display_name": "Python 3.9.5 64-bit"
  },
  "metadata": {
   "interpreter": {
    "hash": "d2152fd7f0bbc62aa1baff8c990435d1e2c7175d001561303988032604c11a48"
   }
  }
 },
 "nbformat": 4,
 "nbformat_minor": 2,
 "cells": [
  {
   "cell_type": "code",
   "execution_count": 1,
   "metadata": {},
   "outputs": [],
   "source": [
    "import pandas as pd\n",
    "import numpy as np\n",
    "import tensorflow as tf\n",
    "from tensorflow import keras\n",
    "tf.random.set_seed(42)\n",
    "np.random.seed(42)\n",
    "from sklearn.preprocessing import MinMaxScaler, StandardScaler\n",
    "from sklearn.impute import SimpleImputer\n",
    "from sklearn.metrics import r2_score"
   ]
  },
  {
   "cell_type": "code",
   "execution_count": 4,
   "metadata": {},
   "outputs": [],
   "source": [
    "housing = pd.read_csv('/mnt/New_Volume/Work_From_Home/Croma_Campus/05312021/09_30_11_00_05312021/housing.csv')"
   ]
  },
  {
   "cell_type": "code",
   "execution_count": 5,
   "metadata": {},
   "outputs": [
    {
     "output_type": "execute_result",
     "data": {
      "text/plain": [
       "   longitude  latitude  housing_median_age  total_rooms  total_bedrooms  \\\n",
       "0    -122.23     37.88                41.0        880.0           129.0   \n",
       "1    -122.22     37.86                21.0       7099.0          1106.0   \n",
       "2    -122.24     37.85                52.0       1467.0           190.0   \n",
       "3    -122.25     37.85                52.0       1274.0           235.0   \n",
       "4    -122.25     37.85                52.0       1627.0           280.0   \n",
       "\n",
       "   population  households  median_income  median_house_value ocean_proximity  \n",
       "0       322.0       126.0         8.3252            452600.0        NEAR BAY  \n",
       "1      2401.0      1138.0         8.3014            358500.0        NEAR BAY  \n",
       "2       496.0       177.0         7.2574            352100.0        NEAR BAY  \n",
       "3       558.0       219.0         5.6431            341300.0        NEAR BAY  \n",
       "4       565.0       259.0         3.8462            342200.0        NEAR BAY  "
      ],
      "text/html": "<div>\n<style scoped>\n    .dataframe tbody tr th:only-of-type {\n        vertical-align: middle;\n    }\n\n    .dataframe tbody tr th {\n        vertical-align: top;\n    }\n\n    .dataframe thead th {\n        text-align: right;\n    }\n</style>\n<table border=\"1\" class=\"dataframe\">\n  <thead>\n    <tr style=\"text-align: right;\">\n      <th></th>\n      <th>longitude</th>\n      <th>latitude</th>\n      <th>housing_median_age</th>\n      <th>total_rooms</th>\n      <th>total_bedrooms</th>\n      <th>population</th>\n      <th>households</th>\n      <th>median_income</th>\n      <th>median_house_value</th>\n      <th>ocean_proximity</th>\n    </tr>\n  </thead>\n  <tbody>\n    <tr>\n      <th>0</th>\n      <td>-122.23</td>\n      <td>37.88</td>\n      <td>41.0</td>\n      <td>880.0</td>\n      <td>129.0</td>\n      <td>322.0</td>\n      <td>126.0</td>\n      <td>8.3252</td>\n      <td>452600.0</td>\n      <td>NEAR BAY</td>\n    </tr>\n    <tr>\n      <th>1</th>\n      <td>-122.22</td>\n      <td>37.86</td>\n      <td>21.0</td>\n      <td>7099.0</td>\n      <td>1106.0</td>\n      <td>2401.0</td>\n      <td>1138.0</td>\n      <td>8.3014</td>\n      <td>358500.0</td>\n      <td>NEAR BAY</td>\n    </tr>\n    <tr>\n      <th>2</th>\n      <td>-122.24</td>\n      <td>37.85</td>\n      <td>52.0</td>\n      <td>1467.0</td>\n      <td>190.0</td>\n      <td>496.0</td>\n      <td>177.0</td>\n      <td>7.2574</td>\n      <td>352100.0</td>\n      <td>NEAR BAY</td>\n    </tr>\n    <tr>\n      <th>3</th>\n      <td>-122.25</td>\n      <td>37.85</td>\n      <td>52.0</td>\n      <td>1274.0</td>\n      <td>235.0</td>\n      <td>558.0</td>\n      <td>219.0</td>\n      <td>5.6431</td>\n      <td>341300.0</td>\n      <td>NEAR BAY</td>\n    </tr>\n    <tr>\n      <th>4</th>\n      <td>-122.25</td>\n      <td>37.85</td>\n      <td>52.0</td>\n      <td>1627.0</td>\n      <td>280.0</td>\n      <td>565.0</td>\n      <td>259.0</td>\n      <td>3.8462</td>\n      <td>342200.0</td>\n      <td>NEAR BAY</td>\n    </tr>\n  </tbody>\n</table>\n</div>"
     },
     "metadata": {},
     "execution_count": 5
    }
   ],
   "source": [
    "housing.head()"
   ]
  },
  {
   "cell_type": "code",
   "execution_count": 6,
   "metadata": {},
   "outputs": [
    {
     "output_type": "execute_result",
     "data": {
      "text/plain": [
       "longitude               0\n",
       "latitude                0\n",
       "housing_median_age      0\n",
       "total_rooms             0\n",
       "total_bedrooms        207\n",
       "population              0\n",
       "households              0\n",
       "median_income           0\n",
       "median_house_value      0\n",
       "ocean_proximity         0\n",
       "dtype: int64"
      ]
     },
     "metadata": {},
     "execution_count": 6
    }
   ],
   "source": [
    "housing.isna().sum()"
   ]
  },
  {
   "cell_type": "code",
   "execution_count": 7,
   "metadata": {},
   "outputs": [
    {
     "output_type": "execute_result",
     "data": {
      "text/plain": [
       "(20640, 10)"
      ]
     },
     "metadata": {},
     "execution_count": 7
    }
   ],
   "source": [
    "housing.shape"
   ]
  },
  {
   "cell_type": "code",
   "execution_count": 8,
   "metadata": {},
   "outputs": [
    {
     "output_type": "execute_result",
     "data": {
      "text/plain": [
       "(10,)"
      ]
     },
     "metadata": {},
     "execution_count": 8
    }
   ],
   "source": [
    "housing.shape[1:]"
   ]
  },
  {
   "cell_type": "code",
   "execution_count": 9,
   "metadata": {},
   "outputs": [],
   "source": [
    "imputer = SimpleImputer(strategy = 'median')"
   ]
  },
  {
   "cell_type": "code",
   "execution_count": 10,
   "metadata": {},
   "outputs": [
    {
     "output_type": "execute_result",
     "data": {
      "text/plain": [
       "   longitude  latitude  housing_median_age  total_rooms  total_bedrooms  \\\n",
       "0    -122.23     37.88                41.0        880.0           129.0   \n",
       "1    -122.22     37.86                21.0       7099.0          1106.0   \n",
       "2    -122.24     37.85                52.0       1467.0           190.0   \n",
       "3    -122.25     37.85                52.0       1274.0           235.0   \n",
       "4    -122.25     37.85                52.0       1627.0           280.0   \n",
       "\n",
       "   population  households  median_income  median_house_value  \n",
       "0       322.0       126.0         8.3252            452600.0  \n",
       "1      2401.0      1138.0         8.3014            358500.0  \n",
       "2       496.0       177.0         7.2574            352100.0  \n",
       "3       558.0       219.0         5.6431            341300.0  \n",
       "4       565.0       259.0         3.8462            342200.0  "
      ],
      "text/html": "<div>\n<style scoped>\n    .dataframe tbody tr th:only-of-type {\n        vertical-align: middle;\n    }\n\n    .dataframe tbody tr th {\n        vertical-align: top;\n    }\n\n    .dataframe thead th {\n        text-align: right;\n    }\n</style>\n<table border=\"1\" class=\"dataframe\">\n  <thead>\n    <tr style=\"text-align: right;\">\n      <th></th>\n      <th>longitude</th>\n      <th>latitude</th>\n      <th>housing_median_age</th>\n      <th>total_rooms</th>\n      <th>total_bedrooms</th>\n      <th>population</th>\n      <th>households</th>\n      <th>median_income</th>\n      <th>median_house_value</th>\n    </tr>\n  </thead>\n  <tbody>\n    <tr>\n      <th>0</th>\n      <td>-122.23</td>\n      <td>37.88</td>\n      <td>41.0</td>\n      <td>880.0</td>\n      <td>129.0</td>\n      <td>322.0</td>\n      <td>126.0</td>\n      <td>8.3252</td>\n      <td>452600.0</td>\n    </tr>\n    <tr>\n      <th>1</th>\n      <td>-122.22</td>\n      <td>37.86</td>\n      <td>21.0</td>\n      <td>7099.0</td>\n      <td>1106.0</td>\n      <td>2401.0</td>\n      <td>1138.0</td>\n      <td>8.3014</td>\n      <td>358500.0</td>\n    </tr>\n    <tr>\n      <th>2</th>\n      <td>-122.24</td>\n      <td>37.85</td>\n      <td>52.0</td>\n      <td>1467.0</td>\n      <td>190.0</td>\n      <td>496.0</td>\n      <td>177.0</td>\n      <td>7.2574</td>\n      <td>352100.0</td>\n    </tr>\n    <tr>\n      <th>3</th>\n      <td>-122.25</td>\n      <td>37.85</td>\n      <td>52.0</td>\n      <td>1274.0</td>\n      <td>235.0</td>\n      <td>558.0</td>\n      <td>219.0</td>\n      <td>5.6431</td>\n      <td>341300.0</td>\n    </tr>\n    <tr>\n      <th>4</th>\n      <td>-122.25</td>\n      <td>37.85</td>\n      <td>52.0</td>\n      <td>1627.0</td>\n      <td>280.0</td>\n      <td>565.0</td>\n      <td>259.0</td>\n      <td>3.8462</td>\n      <td>342200.0</td>\n    </tr>\n  </tbody>\n</table>\n</div>"
     },
     "metadata": {},
     "execution_count": 10
    }
   ],
   "source": [
    "housing_ = pd.DataFrame(imputer.fit_transform(housing.select_dtypes(exclude= 'object')), columns= housing.select_dtypes(exclude= 'object').columns)\n",
    "housing_.head()"
   ]
  },
  {
   "cell_type": "code",
   "execution_count": 11,
   "metadata": {},
   "outputs": [
    {
     "output_type": "execute_result",
     "data": {
      "text/plain": [
       "   longitude  latitude  housing_median_age  total_rooms  total_bedrooms  \\\n",
       "0  -1.327835  1.052548            0.982143    -0.804819       -0.972476   \n",
       "1  -1.322844  1.043185           -0.607019     2.045890        1.357143   \n",
       "2  -1.332827  1.038503            1.856182    -0.535746       -0.827024   \n",
       "3  -1.337818  1.038503            1.856182    -0.624215       -0.719723   \n",
       "4  -1.337818  1.038503            1.856182    -0.462404       -0.612423   \n",
       "\n",
       "   population  households  median_income  median_house_value ocean_proximity  \n",
       "0   -0.974429   -0.977033       2.344766            2.129631        NEAR BAY  \n",
       "1    0.861439    1.669961       2.332238            1.314156        NEAR BAY  \n",
       "2   -0.820777   -0.843637       1.782699            1.258693        NEAR BAY  \n",
       "3   -0.766028   -0.733781       0.932968            1.165100        NEAR BAY  \n",
       "4   -0.759847   -0.629157      -0.012881            1.172900        NEAR BAY  "
      ],
      "text/html": "<div>\n<style scoped>\n    .dataframe tbody tr th:only-of-type {\n        vertical-align: middle;\n    }\n\n    .dataframe tbody tr th {\n        vertical-align: top;\n    }\n\n    .dataframe thead th {\n        text-align: right;\n    }\n</style>\n<table border=\"1\" class=\"dataframe\">\n  <thead>\n    <tr style=\"text-align: right;\">\n      <th></th>\n      <th>longitude</th>\n      <th>latitude</th>\n      <th>housing_median_age</th>\n      <th>total_rooms</th>\n      <th>total_bedrooms</th>\n      <th>population</th>\n      <th>households</th>\n      <th>median_income</th>\n      <th>median_house_value</th>\n      <th>ocean_proximity</th>\n    </tr>\n  </thead>\n  <tbody>\n    <tr>\n      <th>0</th>\n      <td>-1.327835</td>\n      <td>1.052548</td>\n      <td>0.982143</td>\n      <td>-0.804819</td>\n      <td>-0.972476</td>\n      <td>-0.974429</td>\n      <td>-0.977033</td>\n      <td>2.344766</td>\n      <td>2.129631</td>\n      <td>NEAR BAY</td>\n    </tr>\n    <tr>\n      <th>1</th>\n      <td>-1.322844</td>\n      <td>1.043185</td>\n      <td>-0.607019</td>\n      <td>2.045890</td>\n      <td>1.357143</td>\n      <td>0.861439</td>\n      <td>1.669961</td>\n      <td>2.332238</td>\n      <td>1.314156</td>\n      <td>NEAR BAY</td>\n    </tr>\n    <tr>\n      <th>2</th>\n      <td>-1.332827</td>\n      <td>1.038503</td>\n      <td>1.856182</td>\n      <td>-0.535746</td>\n      <td>-0.827024</td>\n      <td>-0.820777</td>\n      <td>-0.843637</td>\n      <td>1.782699</td>\n      <td>1.258693</td>\n      <td>NEAR BAY</td>\n    </tr>\n    <tr>\n      <th>3</th>\n      <td>-1.337818</td>\n      <td>1.038503</td>\n      <td>1.856182</td>\n      <td>-0.624215</td>\n      <td>-0.719723</td>\n      <td>-0.766028</td>\n      <td>-0.733781</td>\n      <td>0.932968</td>\n      <td>1.165100</td>\n      <td>NEAR BAY</td>\n    </tr>\n    <tr>\n      <th>4</th>\n      <td>-1.337818</td>\n      <td>1.038503</td>\n      <td>1.856182</td>\n      <td>-0.462404</td>\n      <td>-0.612423</td>\n      <td>-0.759847</td>\n      <td>-0.629157</td>\n      <td>-0.012881</td>\n      <td>1.172900</td>\n      <td>NEAR BAY</td>\n    </tr>\n  </tbody>\n</table>\n</div>"
     },
     "metadata": {},
     "execution_count": 11
    }
   ],
   "source": [
    "# scaler = MinMaxScaler()\n",
    "scaler = StandardScaler()\n",
    "x = pd.DataFrame(scaler.fit_transform(housing_),columns = housing_.columns)\n",
    "x = pd.concat([x,housing[housing.select_dtypes(include = 'object').columns]],axis = 1)\n",
    "x.head()"
   ]
  },
  {
   "cell_type": "code",
   "execution_count": 12,
   "metadata": {},
   "outputs": [],
   "source": [
    "y = x['median_house_value']\n",
    "x = x.drop('median_house_value', axis = 1)"
   ]
  },
  {
   "cell_type": "code",
   "execution_count": 13,
   "metadata": {},
   "outputs": [
    {
     "output_type": "execute_result",
     "data": {
      "text/plain": [
       "   longitude  latitude  housing_median_age  total_rooms  total_bedrooms  \\\n",
       "0  -1.327835  1.052548            0.982143    -0.804819       -0.972476   \n",
       "1  -1.322844  1.043185           -0.607019     2.045890        1.357143   \n",
       "2  -1.332827  1.038503            1.856182    -0.535746       -0.827024   \n",
       "3  -1.337818  1.038503            1.856182    -0.624215       -0.719723   \n",
       "4  -1.337818  1.038503            1.856182    -0.462404       -0.612423   \n",
       "\n",
       "   population  households  median_income  ocean_proximity_<1H OCEAN  \\\n",
       "0   -0.974429   -0.977033       2.344766                          0   \n",
       "1    0.861439    1.669961       2.332238                          0   \n",
       "2   -0.820777   -0.843637       1.782699                          0   \n",
       "3   -0.766028   -0.733781       0.932968                          0   \n",
       "4   -0.759847   -0.629157      -0.012881                          0   \n",
       "\n",
       "   ocean_proximity_INLAND  ocean_proximity_ISLAND  ocean_proximity_NEAR BAY  \\\n",
       "0                       0                       0                         1   \n",
       "1                       0                       0                         1   \n",
       "2                       0                       0                         1   \n",
       "3                       0                       0                         1   \n",
       "4                       0                       0                         1   \n",
       "\n",
       "   ocean_proximity_NEAR OCEAN  \n",
       "0                           0  \n",
       "1                           0  \n",
       "2                           0  \n",
       "3                           0  \n",
       "4                           0  "
      ],
      "text/html": "<div>\n<style scoped>\n    .dataframe tbody tr th:only-of-type {\n        vertical-align: middle;\n    }\n\n    .dataframe tbody tr th {\n        vertical-align: top;\n    }\n\n    .dataframe thead th {\n        text-align: right;\n    }\n</style>\n<table border=\"1\" class=\"dataframe\">\n  <thead>\n    <tr style=\"text-align: right;\">\n      <th></th>\n      <th>longitude</th>\n      <th>latitude</th>\n      <th>housing_median_age</th>\n      <th>total_rooms</th>\n      <th>total_bedrooms</th>\n      <th>population</th>\n      <th>households</th>\n      <th>median_income</th>\n      <th>ocean_proximity_&lt;1H OCEAN</th>\n      <th>ocean_proximity_INLAND</th>\n      <th>ocean_proximity_ISLAND</th>\n      <th>ocean_proximity_NEAR BAY</th>\n      <th>ocean_proximity_NEAR OCEAN</th>\n    </tr>\n  </thead>\n  <tbody>\n    <tr>\n      <th>0</th>\n      <td>-1.327835</td>\n      <td>1.052548</td>\n      <td>0.982143</td>\n      <td>-0.804819</td>\n      <td>-0.972476</td>\n      <td>-0.974429</td>\n      <td>-0.977033</td>\n      <td>2.344766</td>\n      <td>0</td>\n      <td>0</td>\n      <td>0</td>\n      <td>1</td>\n      <td>0</td>\n    </tr>\n    <tr>\n      <th>1</th>\n      <td>-1.322844</td>\n      <td>1.043185</td>\n      <td>-0.607019</td>\n      <td>2.045890</td>\n      <td>1.357143</td>\n      <td>0.861439</td>\n      <td>1.669961</td>\n      <td>2.332238</td>\n      <td>0</td>\n      <td>0</td>\n      <td>0</td>\n      <td>1</td>\n      <td>0</td>\n    </tr>\n    <tr>\n      <th>2</th>\n      <td>-1.332827</td>\n      <td>1.038503</td>\n      <td>1.856182</td>\n      <td>-0.535746</td>\n      <td>-0.827024</td>\n      <td>-0.820777</td>\n      <td>-0.843637</td>\n      <td>1.782699</td>\n      <td>0</td>\n      <td>0</td>\n      <td>0</td>\n      <td>1</td>\n      <td>0</td>\n    </tr>\n    <tr>\n      <th>3</th>\n      <td>-1.337818</td>\n      <td>1.038503</td>\n      <td>1.856182</td>\n      <td>-0.624215</td>\n      <td>-0.719723</td>\n      <td>-0.766028</td>\n      <td>-0.733781</td>\n      <td>0.932968</td>\n      <td>0</td>\n      <td>0</td>\n      <td>0</td>\n      <td>1</td>\n      <td>0</td>\n    </tr>\n    <tr>\n      <th>4</th>\n      <td>-1.337818</td>\n      <td>1.038503</td>\n      <td>1.856182</td>\n      <td>-0.462404</td>\n      <td>-0.612423</td>\n      <td>-0.759847</td>\n      <td>-0.629157</td>\n      <td>-0.012881</td>\n      <td>0</td>\n      <td>0</td>\n      <td>0</td>\n      <td>1</td>\n      <td>0</td>\n    </tr>\n  </tbody>\n</table>\n</div>"
     },
     "metadata": {},
     "execution_count": 13
    }
   ],
   "source": [
    "x= pd.get_dummies(x)\n",
    "x.head()"
   ]
  },
  {
   "cell_type": "code",
   "execution_count": 14,
   "metadata": {},
   "outputs": [
    {
     "output_type": "execute_result",
     "data": {
      "text/plain": [
       "longitude                     0\n",
       "latitude                      0\n",
       "housing_median_age            0\n",
       "total_rooms                   0\n",
       "total_bedrooms                0\n",
       "population                    0\n",
       "households                    0\n",
       "median_income                 0\n",
       "ocean_proximity_<1H OCEAN     0\n",
       "ocean_proximity_INLAND        0\n",
       "ocean_proximity_ISLAND        0\n",
       "ocean_proximity_NEAR BAY      0\n",
       "ocean_proximity_NEAR OCEAN    0\n",
       "dtype: int64"
      ]
     },
     "metadata": {},
     "execution_count": 14
    }
   ],
   "source": [
    "x.isna().sum()"
   ]
  },
  {
   "cell_type": "code",
   "execution_count": 15,
   "metadata": {},
   "outputs": [],
   "source": [
    "x_train,x_valid = x[:16000],x[16000:]\n",
    "y_train,y_valid = y[:16000],y[16000:]"
   ]
  },
  {
   "cell_type": "code",
   "execution_count": 16,
   "metadata": {},
   "outputs": [],
   "source": [
    "keras.backend.clear_session()"
   ]
  },
  {
   "cell_type": "code",
   "execution_count": 17,
   "metadata": {},
   "outputs": [],
   "source": [
    "model = keras.models.Sequential([\n",
    "    keras.layers.InputLayer(input_shape = x.shape[1:]),\n",
    "    keras.layers.Dense(100, activation = 'relu'),\n",
    "    # keras.layers.BatchNormalization(),\n",
    "    keras.layers.Dense(1)\n",
    "])"
   ]
  },
  {
   "cell_type": "code",
   "execution_count": 18,
   "metadata": {},
   "outputs": [],
   "source": [
    "# loss = keras.losses.mean_squared_error\n",
    "# optimizer = keras.optimizers.SGD()\n",
    "model.compile(optimizer='sgd', loss = 'mae')"
   ]
  },
  {
   "cell_type": "code",
   "execution_count": 19,
   "metadata": {},
   "outputs": [],
   "source": [
    "import os\n",
    "root_logdir = os.path.join(os.curdir, \"my_logs\")\n",
    "def get_run_logdir():\n",
    "    import time\n",
    "    run_id = time.strftime(\"run_%Y_%m_%d-%H_%M_%S\")\n",
    "    return os.path.join(root_logdir, run_id)\n",
    "    \n",
    "run_logdir = get_run_logdir()\n",
    "tensorboard_cb = keras.callbacks.TensorBoard(run_logdir)"
   ]
  },
  {
   "cell_type": "code",
   "execution_count": 37,
   "metadata": {},
   "outputs": [
    {
     "output_type": "stream",
     "name": "stdout",
     "text": [
      "Epoch 1/100\n",
      "500/500 [==============================] - 1s 2ms/step - loss: 0.3485 - val_loss: 0.3969\n",
      "Epoch 2/100\n",
      "500/500 [==============================] - 1s 2ms/step - loss: 0.3459 - val_loss: 0.4003\n",
      "Epoch 3/100\n",
      "500/500 [==============================] - 1s 2ms/step - loss: 0.3444 - val_loss: 0.3979\n",
      "Epoch 4/100\n",
      "500/500 [==============================] - 1s 2ms/step - loss: 0.3422 - val_loss: 0.3949\n",
      "Epoch 5/100\n",
      "500/500 [==============================] - 1s 2ms/step - loss: 0.3409 - val_loss: 0.3935\n",
      "Epoch 6/100\n",
      "500/500 [==============================] - 1s 3ms/step - loss: 0.3389 - val_loss: 0.3951\n",
      "Epoch 7/100\n",
      "500/500 [==============================] - 1s 3ms/step - loss: 0.3375 - val_loss: 0.3969\n",
      "Epoch 8/100\n",
      "500/500 [==============================] - 1s 2ms/step - loss: 0.3358 - val_loss: 0.4053\n",
      "Epoch 9/100\n",
      "500/500 [==============================] - 1s 2ms/step - loss: 0.3345 - val_loss: 0.4089\n",
      "Epoch 10/100\n",
      "500/500 [==============================] - 1s 2ms/step - loss: 0.3336 - val_loss: 0.4004\n",
      "Epoch 11/100\n",
      "500/500 [==============================] - 1s 2ms/step - loss: 0.3321 - val_loss: 0.4001\n",
      "Epoch 12/100\n",
      "500/500 [==============================] - 1s 2ms/step - loss: 0.3309 - val_loss: 0.4002\n",
      "Epoch 13/100\n",
      "500/500 [==============================] - 1s 2ms/step - loss: 0.3303 - val_loss: 0.3974\n",
      "Epoch 14/100\n",
      "500/500 [==============================] - 1s 2ms/step - loss: 0.3291 - val_loss: 0.3966\n",
      "Epoch 15/100\n",
      "500/500 [==============================] - 1s 2ms/step - loss: 0.3281 - val_loss: 0.3979\n",
      "Epoch 16/100\n",
      "500/500 [==============================] - 1s 2ms/step - loss: 0.3272 - val_loss: 0.3964\n",
      "Epoch 17/100\n",
      "500/500 [==============================] - 1s 2ms/step - loss: 0.3261 - val_loss: 0.4047\n",
      "Epoch 18/100\n",
      "500/500 [==============================] - 1s 2ms/step - loss: 0.3255 - val_loss: 0.4015\n",
      "Epoch 19/100\n",
      "500/500 [==============================] - 1s 2ms/step - loss: 0.3245 - val_loss: 0.4036\n",
      "Epoch 20/100\n",
      "500/500 [==============================] - 1s 2ms/step - loss: 0.3233 - val_loss: 0.4126\n",
      "Epoch 21/100\n",
      "500/500 [==============================] - 1s 2ms/step - loss: 0.3225 - val_loss: 0.4068\n",
      "Epoch 22/100\n",
      "500/500 [==============================] - 1s 2ms/step - loss: 0.3218 - val_loss: 0.4171\n",
      "Epoch 23/100\n",
      "500/500 [==============================] - 1s 2ms/step - loss: 0.3214 - val_loss: 0.4137\n",
      "Epoch 24/100\n",
      "500/500 [==============================] - 1s 2ms/step - loss: 0.3205 - val_loss: 0.4133\n",
      "Epoch 25/100\n",
      "500/500 [==============================] - 1s 2ms/step - loss: 0.3194 - val_loss: 0.4081\n",
      "Epoch 26/100\n",
      "500/500 [==============================] - 1s 2ms/step - loss: 0.3194 - val_loss: 0.4116\n",
      "Epoch 27/100\n",
      "500/500 [==============================] - 1s 2ms/step - loss: 0.3179 - val_loss: 0.4075\n",
      "Epoch 28/100\n",
      "500/500 [==============================] - 1s 2ms/step - loss: 0.3176 - val_loss: 0.4181\n",
      "Epoch 29/100\n",
      "500/500 [==============================] - 1s 2ms/step - loss: 0.3173 - val_loss: 0.4063\n",
      "Epoch 30/100\n",
      "500/500 [==============================] - 1s 2ms/step - loss: 0.3164 - val_loss: 0.4073\n",
      "Epoch 31/100\n",
      "500/500 [==============================] - 1s 2ms/step - loss: 0.3157 - val_loss: 0.4092\n",
      "Epoch 32/100\n",
      "500/500 [==============================] - 1s 2ms/step - loss: 0.3156 - val_loss: 0.4108\n",
      "Epoch 33/100\n",
      "500/500 [==============================] - 1s 2ms/step - loss: 0.3148 - val_loss: 0.4205\n",
      "Epoch 34/100\n",
      "500/500 [==============================] - 1s 2ms/step - loss: 0.3145 - val_loss: 0.4141\n",
      "Epoch 35/100\n",
      "500/500 [==============================] - 1s 2ms/step - loss: 0.3138 - val_loss: 0.4111\n",
      "Epoch 36/100\n",
      "500/500 [==============================] - 1s 2ms/step - loss: 0.3137 - val_loss: 0.4189\n",
      "Epoch 37/100\n",
      "500/500 [==============================] - 1s 2ms/step - loss: 0.3131 - val_loss: 0.4206\n",
      "Epoch 38/100\n",
      "500/500 [==============================] - 1s 2ms/step - loss: 0.3127 - val_loss: 0.4169\n",
      "Epoch 39/100\n",
      "500/500 [==============================] - 1s 2ms/step - loss: 0.3122 - val_loss: 0.4173\n",
      "Epoch 40/100\n",
      "500/500 [==============================] - 1s 2ms/step - loss: 0.3118 - val_loss: 0.4137\n",
      "Epoch 41/100\n",
      "500/500 [==============================] - 1s 2ms/step - loss: 0.3115 - val_loss: 0.4129\n",
      "Epoch 42/100\n",
      "500/500 [==============================] - 1s 2ms/step - loss: 0.3106 - val_loss: 0.4112\n",
      "Epoch 43/100\n",
      "500/500 [==============================] - 1s 2ms/step - loss: 0.3109 - val_loss: 0.4153\n",
      "Epoch 44/100\n",
      "500/500 [==============================] - 1s 2ms/step - loss: 0.3103 - val_loss: 0.4174\n",
      "Epoch 45/100\n",
      "500/500 [==============================] - 1s 2ms/step - loss: 0.3090 - val_loss: 0.4275\n",
      "Epoch 46/100\n",
      "500/500 [==============================] - 1s 2ms/step - loss: 0.3092 - val_loss: 0.4274\n",
      "Epoch 47/100\n",
      "500/500 [==============================] - 1s 2ms/step - loss: 0.3082 - val_loss: 0.4226\n",
      "Epoch 48/100\n",
      "500/500 [==============================] - 1s 2ms/step - loss: 0.3080 - val_loss: 0.4463\n",
      "Epoch 49/100\n",
      "500/500 [==============================] - 1s 2ms/step - loss: 0.3078 - val_loss: 0.4213\n",
      "Epoch 50/100\n",
      "500/500 [==============================] - 1s 2ms/step - loss: 0.3076 - val_loss: 0.4248\n",
      "Epoch 51/100\n",
      "500/500 [==============================] - 1s 2ms/step - loss: 0.3073 - val_loss: 0.4257\n",
      "Epoch 52/100\n",
      "500/500 [==============================] - 1s 2ms/step - loss: 0.3072 - val_loss: 0.4221\n",
      "Epoch 53/100\n",
      "500/500 [==============================] - 1s 2ms/step - loss: 0.3062 - val_loss: 0.4265\n",
      "Epoch 54/100\n",
      "500/500 [==============================] - 1s 2ms/step - loss: 0.3059 - val_loss: 0.4246\n",
      "Epoch 55/100\n",
      "500/500 [==============================] - 1s 2ms/step - loss: 0.3057 - val_loss: 0.4262\n",
      "Epoch 56/100\n",
      "500/500 [==============================] - 1s 2ms/step - loss: 0.3052 - val_loss: 0.4281\n",
      "Epoch 57/100\n",
      "500/500 [==============================] - 1s 2ms/step - loss: 0.3057 - val_loss: 0.4293\n",
      "Epoch 58/100\n",
      "500/500 [==============================] - 1s 2ms/step - loss: 0.3046 - val_loss: 0.4257\n",
      "Epoch 59/100\n",
      "500/500 [==============================] - 1s 2ms/step - loss: 0.3049 - val_loss: 0.4269\n",
      "Epoch 60/100\n",
      "500/500 [==============================] - 1s 2ms/step - loss: 0.3044 - val_loss: 0.4416\n",
      "Epoch 61/100\n",
      "500/500 [==============================] - 1s 2ms/step - loss: 0.3038 - val_loss: 0.4293\n",
      "Epoch 62/100\n",
      "500/500 [==============================] - 1s 2ms/step - loss: 0.3037 - val_loss: 0.4289\n",
      "Epoch 63/100\n",
      "500/500 [==============================] - 1s 2ms/step - loss: 0.3038 - val_loss: 0.4233\n",
      "Epoch 64/100\n",
      "500/500 [==============================] - 1s 2ms/step - loss: 0.3030 - val_loss: 0.4210\n",
      "Epoch 65/100\n",
      "500/500 [==============================] - 1s 2ms/step - loss: 0.3030 - val_loss: 0.4299\n",
      "Epoch 66/100\n",
      "500/500 [==============================] - 1s 2ms/step - loss: 0.3025 - val_loss: 0.4320\n",
      "Epoch 67/100\n",
      "500/500 [==============================] - 1s 2ms/step - loss: 0.3024 - val_loss: 0.4401\n",
      "Epoch 68/100\n",
      "500/500 [==============================] - 1s 2ms/step - loss: 0.3023 - val_loss: 0.4342\n",
      "Epoch 69/100\n",
      "500/500 [==============================] - 1s 2ms/step - loss: 0.3024 - val_loss: 0.4365\n",
      "Epoch 70/100\n",
      "500/500 [==============================] - 1s 2ms/step - loss: 0.3016 - val_loss: 0.4403\n",
      "Epoch 71/100\n",
      "500/500 [==============================] - 1s 2ms/step - loss: 0.3021 - val_loss: 0.4470\n",
      "Epoch 72/100\n",
      "500/500 [==============================] - 1s 2ms/step - loss: 0.3014 - val_loss: 0.4365\n",
      "Epoch 73/100\n",
      "500/500 [==============================] - 1s 2ms/step - loss: 0.3010 - val_loss: 0.4359\n",
      "Epoch 74/100\n",
      "500/500 [==============================] - 1s 2ms/step - loss: 0.3012 - val_loss: 0.4401\n",
      "Epoch 75/100\n",
      "500/500 [==============================] - 1s 2ms/step - loss: 0.3007 - val_loss: 0.4367\n",
      "Epoch 76/100\n",
      "500/500 [==============================] - 1s 2ms/step - loss: 0.2996 - val_loss: 0.4336\n",
      "Epoch 77/100\n",
      "500/500 [==============================] - 1s 2ms/step - loss: 0.3002 - val_loss: 0.4244\n",
      "Epoch 78/100\n",
      "500/500 [==============================] - 1s 2ms/step - loss: 0.3004 - val_loss: 0.4437\n",
      "Epoch 79/100\n",
      "500/500 [==============================] - 1s 2ms/step - loss: 0.2996 - val_loss: 0.4404\n",
      "Epoch 80/100\n",
      "500/500 [==============================] - 1s 2ms/step - loss: 0.2996 - val_loss: 0.4369\n",
      "Epoch 81/100\n",
      "500/500 [==============================] - 1s 2ms/step - loss: 0.2989 - val_loss: 0.4349\n",
      "Epoch 82/100\n",
      "500/500 [==============================] - 1s 2ms/step - loss: 0.2992 - val_loss: 0.4498\n",
      "Epoch 83/100\n",
      "500/500 [==============================] - 1s 2ms/step - loss: 0.2993 - val_loss: 0.4338\n",
      "Epoch 84/100\n",
      "500/500 [==============================] - 1s 2ms/step - loss: 0.2987 - val_loss: 0.4252\n",
      "Epoch 85/100\n",
      "500/500 [==============================] - 1s 2ms/step - loss: 0.2983 - val_loss: 0.4386\n",
      "Epoch 86/100\n",
      "500/500 [==============================] - 1s 2ms/step - loss: 0.2992 - val_loss: 0.4382\n",
      "Epoch 87/100\n",
      "500/500 [==============================] - 1s 2ms/step - loss: 0.2984 - val_loss: 0.4257\n",
      "Epoch 88/100\n",
      "500/500 [==============================] - 1s 2ms/step - loss: 0.2983 - val_loss: 0.4351\n",
      "Epoch 89/100\n",
      "500/500 [==============================] - 1s 2ms/step - loss: 0.2976 - val_loss: 0.4308\n",
      "Epoch 90/100\n",
      "500/500 [==============================] - 1s 2ms/step - loss: 0.2976 - val_loss: 0.4363\n",
      "Epoch 91/100\n",
      "500/500 [==============================] - 1s 2ms/step - loss: 0.2977 - val_loss: 0.4371\n",
      "Epoch 92/100\n",
      "500/500 [==============================] - 1s 2ms/step - loss: 0.2972 - val_loss: 0.4527\n",
      "Epoch 93/100\n",
      "500/500 [==============================] - 1s 2ms/step - loss: 0.2969 - val_loss: 0.4410\n",
      "Epoch 94/100\n",
      "500/500 [==============================] - 1s 2ms/step - loss: 0.2972 - val_loss: 0.4516\n",
      "Epoch 95/100\n",
      "500/500 [==============================] - 1s 2ms/step - loss: 0.2972 - val_loss: 0.4461\n",
      "Epoch 96/100\n",
      "500/500 [==============================] - 1s 2ms/step - loss: 0.2970 - val_loss: 0.4496\n",
      "Epoch 97/100\n",
      "500/500 [==============================] - 1s 2ms/step - loss: 0.2966 - val_loss: 0.4333\n",
      "Epoch 98/100\n",
      "500/500 [==============================] - 1s 2ms/step - loss: 0.2966 - val_loss: 0.4428\n",
      "Epoch 99/100\n",
      "500/500 [==============================] - 1s 2ms/step - loss: 0.2964 - val_loss: 0.4309\n",
      "Epoch 100/100\n",
      "500/500 [==============================] - 1s 2ms/step - loss: 0.2967 - val_loss: 0.4387\n"
     ]
    }
   ],
   "source": [
    "history = model.fit(x_train,y_train, validation_data=(x_valid,y_valid), epochs=100, callbacks= [keras.callbacks.ModelCheckpoint('checkpoint.h5'), tensorboard_cb])"
   ]
  },
  {
   "cell_type": "code",
   "execution_count": 22,
   "metadata": {},
   "outputs": [],
   "source": [
    "# model = keras.models.load_model('/mnt/New_Volume/Work From Home/Croma Campus/06012021/09_30_11_00_06012021/checkpoint.h5')"
   ]
  },
  {
   "cell_type": "code",
   "execution_count": 23,
   "metadata": {},
   "outputs": [],
   "source": [
    "from sklearn.metrics import r2_score"
   ]
  },
  {
   "cell_type": "code",
   "execution_count": 24,
   "metadata": {},
   "outputs": [
    {
     "output_type": "execute_result",
     "data": {
      "text/plain": [
       "0.7080346964523567"
      ]
     },
     "metadata": {},
     "execution_count": 24
    }
   ],
   "source": [
    "y_pred = model.predict(x_train)\n",
    "score = r2_score(y_train, y_pred)\n",
    "score"
   ]
  },
  {
   "cell_type": "code",
   "execution_count": 25,
   "metadata": {},
   "outputs": [
    {
     "output_type": "execute_result",
     "data": {
      "text/plain": [
       "0.7069270161800558"
      ]
     },
     "metadata": {},
     "execution_count": 25
    }
   ],
   "source": [
    "y_pred_val = model.predict(x_valid)\n",
    "score_val= r2_score(y_valid, y_pred_val)\n",
    "score_val"
   ]
  },
  {
   "cell_type": "code",
   "execution_count": 26,
   "metadata": {},
   "outputs": [
    {
     "output_type": "stream",
     "name": "stdout",
     "text": [
      "145/145 [==============================] - 0s 2ms/step - loss: 0.3982\n"
     ]
    },
    {
     "output_type": "execute_result",
     "data": {
      "text/plain": [
       "0.39818963408470154"
      ]
     },
     "metadata": {},
     "execution_count": 26
    }
   ],
   "source": [
    "model.evaluate(x_valid,y_valid)"
   ]
  },
  {
   "cell_type": "code",
   "execution_count": 27,
   "metadata": {},
   "outputs": [
    {
     "output_type": "execute_result",
     "data": {
      "text/plain": [
       "array([[2.3683856]], dtype=float32)"
      ]
     },
     "metadata": {},
     "execution_count": 27
    }
   ],
   "source": [
    "model.predict(np.array(x.iloc[1,:]).reshape(-1,13))"
   ]
  },
  {
   "cell_type": "code",
   "execution_count": 28,
   "metadata": {},
   "outputs": [
    {
     "output_type": "execute_result",
     "data": {
      "text/plain": [
       "1.314156136924335"
      ]
     },
     "metadata": {},
     "execution_count": 28
    }
   ],
   "source": [
    "y[1]"
   ]
  },
  {
   "cell_type": "code",
   "execution_count": 29,
   "metadata": {},
   "outputs": [],
   "source": [
    "def pow(a):\n",
    "    def inner(b):\n",
    "        return b**a\n",
    "    return inner"
   ]
  },
  {
   "cell_type": "code",
   "execution_count": 30,
   "metadata": {},
   "outputs": [],
   "source": [
    "import matplotlib.pyplot as plt"
   ]
  },
  {
   "cell_type": "code",
   "execution_count": 31,
   "metadata": {},
   "outputs": [
    {
     "output_type": "execute_result",
     "data": {
      "text/plain": [
       "[<matplotlib.lines.Line2D at 0x7fcf7315bbe0>]"
      ]
     },
     "metadata": {},
     "execution_count": 31
    },
    {
     "output_type": "display_data",
     "data": {
      "text/plain": "<Figure size 432x288 with 1 Axes>",
      "image/svg+xml": "<?xml version=\"1.0\" encoding=\"utf-8\" standalone=\"no\"?>\n<!DOCTYPE svg PUBLIC \"-//W3C//DTD SVG 1.1//EN\"\n  \"http://www.w3.org/Graphics/SVG/1.1/DTD/svg11.dtd\">\n<svg height=\"248.518125pt\" version=\"1.1\" viewBox=\"0 0 378.465625 248.518125\" width=\"378.465625pt\" xmlns=\"http://www.w3.org/2000/svg\" xmlns:xlink=\"http://www.w3.org/1999/xlink\">\n <metadata>\n  <rdf:RDF xmlns:cc=\"http://creativecommons.org/ns#\" xmlns:dc=\"http://purl.org/dc/elements/1.1/\" xmlns:rdf=\"http://www.w3.org/1999/02/22-rdf-syntax-ns#\">\n   <cc:Work>\n    <dc:type rdf:resource=\"http://purl.org/dc/dcmitype/StillImage\"/>\n    <dc:date>2021-06-07T09:39:32.061070</dc:date>\n    <dc:format>image/svg+xml</dc:format>\n    <dc:creator>\n     <cc:Agent>\n      <dc:title>Matplotlib v3.4.1, https://matplotlib.org/</dc:title>\n     </cc:Agent>\n    </dc:creator>\n   </cc:Work>\n  </rdf:RDF>\n </metadata>\n <defs>\n  <style type=\"text/css\">*{stroke-linecap:butt;stroke-linejoin:round;}</style>\n </defs>\n <g id=\"figure_1\">\n  <g id=\"patch_1\">\n   <path d=\"M 0 248.518125 \nL 378.465625 248.518125 \nL 378.465625 0 \nL 0 0 \nz\n\" style=\"fill:none;\"/>\n  </g>\n  <g id=\"axes_1\">\n   <g id=\"patch_2\">\n    <path d=\"M 36.465625 224.64 \nL 371.265625 224.64 \nL 371.265625 7.2 \nL 36.465625 7.2 \nz\n\" style=\"fill:#ffffff;\"/>\n   </g>\n   <g id=\"matplotlib.axis_1\">\n    <g id=\"xtick_1\">\n     <g id=\"line2d_1\">\n      <defs>\n       <path d=\"M 0 0 \nL 0 3.5 \n\" id=\"m82c1a61177\" style=\"stroke:#000000;stroke-width:0.8;\"/>\n      </defs>\n      <g>\n       <use style=\"stroke:#000000;stroke-width:0.8;\" x=\"51.683807\" xlink:href=\"#m82c1a61177\" y=\"224.64\"/>\n      </g>\n     </g>\n     <g id=\"text_1\">\n      <!-- 0 -->\n      <g transform=\"translate(48.502557 239.238438)scale(0.1 -0.1)\">\n       <defs>\n        <path d=\"M 2034 4250 \nQ 1547 4250 1301 3770 \nQ 1056 3291 1056 2328 \nQ 1056 1369 1301 889 \nQ 1547 409 2034 409 \nQ 2525 409 2770 889 \nQ 3016 1369 3016 2328 \nQ 3016 3291 2770 3770 \nQ 2525 4250 2034 4250 \nz\nM 2034 4750 \nQ 2819 4750 3233 4129 \nQ 3647 3509 3647 2328 \nQ 3647 1150 3233 529 \nQ 2819 -91 2034 -91 \nQ 1250 -91 836 529 \nQ 422 1150 422 2328 \nQ 422 3509 836 4129 \nQ 1250 4750 2034 4750 \nz\n\" id=\"DejaVuSans-30\" transform=\"scale(0.015625)\"/>\n       </defs>\n       <use xlink:href=\"#DejaVuSans-30\"/>\n      </g>\n     </g>\n    </g>\n    <g id=\"xtick_2\">\n     <g id=\"line2d_2\">\n      <g>\n       <use style=\"stroke:#000000;stroke-width:0.8;\" x=\"119.32017\" xlink:href=\"#m82c1a61177\" y=\"224.64\"/>\n      </g>\n     </g>\n     <g id=\"text_2\">\n      <!-- 2 -->\n      <g transform=\"translate(116.13892 239.238438)scale(0.1 -0.1)\">\n       <defs>\n        <path d=\"M 1228 531 \nL 3431 531 \nL 3431 0 \nL 469 0 \nL 469 531 \nQ 828 903 1448 1529 \nQ 2069 2156 2228 2338 \nQ 2531 2678 2651 2914 \nQ 2772 3150 2772 3378 \nQ 2772 3750 2511 3984 \nQ 2250 4219 1831 4219 \nQ 1534 4219 1204 4116 \nQ 875 4013 500 3803 \nL 500 4441 \nQ 881 4594 1212 4672 \nQ 1544 4750 1819 4750 \nQ 2544 4750 2975 4387 \nQ 3406 4025 3406 3419 \nQ 3406 3131 3298 2873 \nQ 3191 2616 2906 2266 \nQ 2828 2175 2409 1742 \nQ 1991 1309 1228 531 \nz\n\" id=\"DejaVuSans-32\" transform=\"scale(0.015625)\"/>\n       </defs>\n       <use xlink:href=\"#DejaVuSans-32\"/>\n      </g>\n     </g>\n    </g>\n    <g id=\"xtick_3\">\n     <g id=\"line2d_3\">\n      <g>\n       <use style=\"stroke:#000000;stroke-width:0.8;\" x=\"186.956534\" xlink:href=\"#m82c1a61177\" y=\"224.64\"/>\n      </g>\n     </g>\n     <g id=\"text_3\">\n      <!-- 4 -->\n      <g transform=\"translate(183.775284 239.238438)scale(0.1 -0.1)\">\n       <defs>\n        <path d=\"M 2419 4116 \nL 825 1625 \nL 2419 1625 \nL 2419 4116 \nz\nM 2253 4666 \nL 3047 4666 \nL 3047 1625 \nL 3713 1625 \nL 3713 1100 \nL 3047 1100 \nL 3047 0 \nL 2419 0 \nL 2419 1100 \nL 313 1100 \nL 313 1709 \nL 2253 4666 \nz\n\" id=\"DejaVuSans-34\" transform=\"scale(0.015625)\"/>\n       </defs>\n       <use xlink:href=\"#DejaVuSans-34\"/>\n      </g>\n     </g>\n    </g>\n    <g id=\"xtick_4\">\n     <g id=\"line2d_4\">\n      <g>\n       <use style=\"stroke:#000000;stroke-width:0.8;\" x=\"254.592898\" xlink:href=\"#m82c1a61177\" y=\"224.64\"/>\n      </g>\n     </g>\n     <g id=\"text_4\">\n      <!-- 6 -->\n      <g transform=\"translate(251.411648 239.238438)scale(0.1 -0.1)\">\n       <defs>\n        <path d=\"M 2113 2584 \nQ 1688 2584 1439 2293 \nQ 1191 2003 1191 1497 \nQ 1191 994 1439 701 \nQ 1688 409 2113 409 \nQ 2538 409 2786 701 \nQ 3034 994 3034 1497 \nQ 3034 2003 2786 2293 \nQ 2538 2584 2113 2584 \nz\nM 3366 4563 \nL 3366 3988 \nQ 3128 4100 2886 4159 \nQ 2644 4219 2406 4219 \nQ 1781 4219 1451 3797 \nQ 1122 3375 1075 2522 \nQ 1259 2794 1537 2939 \nQ 1816 3084 2150 3084 \nQ 2853 3084 3261 2657 \nQ 3669 2231 3669 1497 \nQ 3669 778 3244 343 \nQ 2819 -91 2113 -91 \nQ 1303 -91 875 529 \nQ 447 1150 447 2328 \nQ 447 3434 972 4092 \nQ 1497 4750 2381 4750 \nQ 2619 4750 2861 4703 \nQ 3103 4656 3366 4563 \nz\n\" id=\"DejaVuSans-36\" transform=\"scale(0.015625)\"/>\n       </defs>\n       <use xlink:href=\"#DejaVuSans-36\"/>\n      </g>\n     </g>\n    </g>\n    <g id=\"xtick_5\">\n     <g id=\"line2d_5\">\n      <g>\n       <use style=\"stroke:#000000;stroke-width:0.8;\" x=\"322.229261\" xlink:href=\"#m82c1a61177\" y=\"224.64\"/>\n      </g>\n     </g>\n     <g id=\"text_5\">\n      <!-- 8 -->\n      <g transform=\"translate(319.048011 239.238438)scale(0.1 -0.1)\">\n       <defs>\n        <path d=\"M 2034 2216 \nQ 1584 2216 1326 1975 \nQ 1069 1734 1069 1313 \nQ 1069 891 1326 650 \nQ 1584 409 2034 409 \nQ 2484 409 2743 651 \nQ 3003 894 3003 1313 \nQ 3003 1734 2745 1975 \nQ 2488 2216 2034 2216 \nz\nM 1403 2484 \nQ 997 2584 770 2862 \nQ 544 3141 544 3541 \nQ 544 4100 942 4425 \nQ 1341 4750 2034 4750 \nQ 2731 4750 3128 4425 \nQ 3525 4100 3525 3541 \nQ 3525 3141 3298 2862 \nQ 3072 2584 2669 2484 \nQ 3125 2378 3379 2068 \nQ 3634 1759 3634 1313 \nQ 3634 634 3220 271 \nQ 2806 -91 2034 -91 \nQ 1263 -91 848 271 \nQ 434 634 434 1313 \nQ 434 1759 690 2068 \nQ 947 2378 1403 2484 \nz\nM 1172 3481 \nQ 1172 3119 1398 2916 \nQ 1625 2713 2034 2713 \nQ 2441 2713 2670 2916 \nQ 2900 3119 2900 3481 \nQ 2900 3844 2670 4047 \nQ 2441 4250 2034 4250 \nQ 1625 4250 1398 4047 \nQ 1172 3844 1172 3481 \nz\n\" id=\"DejaVuSans-38\" transform=\"scale(0.015625)\"/>\n       </defs>\n       <use xlink:href=\"#DejaVuSans-38\"/>\n      </g>\n     </g>\n    </g>\n   </g>\n   <g id=\"matplotlib.axis_2\">\n    <g id=\"ytick_1\">\n     <g id=\"line2d_6\">\n      <defs>\n       <path d=\"M 0 0 \nL -3.5 0 \n\" id=\"m3fe1d48dba\" style=\"stroke:#000000;stroke-width:0.8;\"/>\n      </defs>\n      <g>\n       <use style=\"stroke:#000000;stroke-width:0.8;\" x=\"36.465625\" xlink:href=\"#m3fe1d48dba\" y=\"200.464872\"/>\n      </g>\n     </g>\n     <g id=\"text_6\">\n      <!-- 0.36 -->\n      <g transform=\"translate(7.2 204.264091)scale(0.1 -0.1)\">\n       <defs>\n        <path d=\"M 684 794 \nL 1344 794 \nL 1344 0 \nL 684 0 \nL 684 794 \nz\n\" id=\"DejaVuSans-2e\" transform=\"scale(0.015625)\"/>\n        <path d=\"M 2597 2516 \nQ 3050 2419 3304 2112 \nQ 3559 1806 3559 1356 \nQ 3559 666 3084 287 \nQ 2609 -91 1734 -91 \nQ 1441 -91 1130 -33 \nQ 819 25 488 141 \nL 488 750 \nQ 750 597 1062 519 \nQ 1375 441 1716 441 \nQ 2309 441 2620 675 \nQ 2931 909 2931 1356 \nQ 2931 1769 2642 2001 \nQ 2353 2234 1838 2234 \nL 1294 2234 \nL 1294 2753 \nL 1863 2753 \nQ 2328 2753 2575 2939 \nQ 2822 3125 2822 3475 \nQ 2822 3834 2567 4026 \nQ 2313 4219 1838 4219 \nQ 1578 4219 1281 4162 \nQ 984 4106 628 3988 \nL 628 4550 \nQ 988 4650 1302 4700 \nQ 1616 4750 1894 4750 \nQ 2613 4750 3031 4423 \nQ 3450 4097 3450 3541 \nQ 3450 3153 3228 2886 \nQ 3006 2619 2597 2516 \nz\n\" id=\"DejaVuSans-33\" transform=\"scale(0.015625)\"/>\n       </defs>\n       <use xlink:href=\"#DejaVuSans-30\"/>\n       <use x=\"63.623047\" xlink:href=\"#DejaVuSans-2e\"/>\n       <use x=\"95.410156\" xlink:href=\"#DejaVuSans-33\"/>\n       <use x=\"159.033203\" xlink:href=\"#DejaVuSans-36\"/>\n      </g>\n     </g>\n    </g>\n    <g id=\"ytick_2\">\n     <g id=\"line2d_7\">\n      <g>\n       <use style=\"stroke:#000000;stroke-width:0.8;\" x=\"36.465625\" xlink:href=\"#m3fe1d48dba\" y=\"169.514392\"/>\n      </g>\n     </g>\n     <g id=\"text_7\">\n      <!-- 0.38 -->\n      <g transform=\"translate(7.2 173.313611)scale(0.1 -0.1)\">\n       <use xlink:href=\"#DejaVuSans-30\"/>\n       <use x=\"63.623047\" xlink:href=\"#DejaVuSans-2e\"/>\n       <use x=\"95.410156\" xlink:href=\"#DejaVuSans-33\"/>\n       <use x=\"159.033203\" xlink:href=\"#DejaVuSans-38\"/>\n      </g>\n     </g>\n    </g>\n    <g id=\"ytick_3\">\n     <g id=\"line2d_8\">\n      <g>\n       <use style=\"stroke:#000000;stroke-width:0.8;\" x=\"36.465625\" xlink:href=\"#m3fe1d48dba\" y=\"138.563913\"/>\n      </g>\n     </g>\n     <g id=\"text_8\">\n      <!-- 0.40 -->\n      <g transform=\"translate(7.2 142.363132)scale(0.1 -0.1)\">\n       <use xlink:href=\"#DejaVuSans-30\"/>\n       <use x=\"63.623047\" xlink:href=\"#DejaVuSans-2e\"/>\n       <use x=\"95.410156\" xlink:href=\"#DejaVuSans-34\"/>\n       <use x=\"159.033203\" xlink:href=\"#DejaVuSans-30\"/>\n      </g>\n     </g>\n    </g>\n    <g id=\"ytick_4\">\n     <g id=\"line2d_9\">\n      <g>\n       <use style=\"stroke:#000000;stroke-width:0.8;\" x=\"36.465625\" xlink:href=\"#m3fe1d48dba\" y=\"107.613433\"/>\n      </g>\n     </g>\n     <g id=\"text_9\">\n      <!-- 0.42 -->\n      <g transform=\"translate(7.2 111.412652)scale(0.1 -0.1)\">\n       <use xlink:href=\"#DejaVuSans-30\"/>\n       <use x=\"63.623047\" xlink:href=\"#DejaVuSans-2e\"/>\n       <use x=\"95.410156\" xlink:href=\"#DejaVuSans-34\"/>\n       <use x=\"159.033203\" xlink:href=\"#DejaVuSans-32\"/>\n      </g>\n     </g>\n    </g>\n    <g id=\"ytick_5\">\n     <g id=\"line2d_10\">\n      <g>\n       <use style=\"stroke:#000000;stroke-width:0.8;\" x=\"36.465625\" xlink:href=\"#m3fe1d48dba\" y=\"76.662954\"/>\n      </g>\n     </g>\n     <g id=\"text_10\">\n      <!-- 0.44 -->\n      <g transform=\"translate(7.2 80.462172)scale(0.1 -0.1)\">\n       <use xlink:href=\"#DejaVuSans-30\"/>\n       <use x=\"63.623047\" xlink:href=\"#DejaVuSans-2e\"/>\n       <use x=\"95.410156\" xlink:href=\"#DejaVuSans-34\"/>\n       <use x=\"159.033203\" xlink:href=\"#DejaVuSans-34\"/>\n      </g>\n     </g>\n    </g>\n    <g id=\"ytick_6\">\n     <g id=\"line2d_11\">\n      <g>\n       <use style=\"stroke:#000000;stroke-width:0.8;\" x=\"36.465625\" xlink:href=\"#m3fe1d48dba\" y=\"45.712474\"/>\n      </g>\n     </g>\n     <g id=\"text_11\">\n      <!-- 0.46 -->\n      <g transform=\"translate(7.2 49.511693)scale(0.1 -0.1)\">\n       <use xlink:href=\"#DejaVuSans-30\"/>\n       <use x=\"63.623047\" xlink:href=\"#DejaVuSans-2e\"/>\n       <use x=\"95.410156\" xlink:href=\"#DejaVuSans-34\"/>\n       <use x=\"159.033203\" xlink:href=\"#DejaVuSans-36\"/>\n      </g>\n     </g>\n    </g>\n    <g id=\"ytick_7\">\n     <g id=\"line2d_12\">\n      <g>\n       <use style=\"stroke:#000000;stroke-width:0.8;\" x=\"36.465625\" xlink:href=\"#m3fe1d48dba\" y=\"14.761995\"/>\n      </g>\n     </g>\n     <g id=\"text_12\">\n      <!-- 0.48 -->\n      <g transform=\"translate(7.2 18.561213)scale(0.1 -0.1)\">\n       <use xlink:href=\"#DejaVuSans-30\"/>\n       <use x=\"63.623047\" xlink:href=\"#DejaVuSans-2e\"/>\n       <use x=\"95.410156\" xlink:href=\"#DejaVuSans-34\"/>\n       <use x=\"159.033203\" xlink:href=\"#DejaVuSans-38\"/>\n      </g>\n     </g>\n    </g>\n   </g>\n   <g id=\"line2d_13\">\n    <path clip-path=\"url(#p50d89ed23b)\" d=\"M 51.683807 17.083636 \nL 85.501989 145.232182 \nL 119.32017 162.653202 \nL 153.138352 175.390202 \nL 186.956534 184.826084 \nL 220.774716 192.555625 \nL 254.592898 199.092601 \nL 288.41108 205.279619 \nL 322.229261 210.301329 \nL 356.047443 214.756364 \n\" style=\"fill:none;stroke:#1f77b4;stroke-linecap:square;stroke-width:1.5;\"/>\n   </g>\n   <g id=\"line2d_14\">\n    <path clip-path=\"url(#p50d89ed23b)\" d=\"M 67.865799 27.128392 \nL 65.065357 56.021622 \nL 64.684654 79.477695 \nL 64.406311 98.496398 \nL 64.200108 123.407182 \nL 64.031194 136.220279 \nL 63.888341 120.572013 \nL 63.753135 119.355972 \nL 63.643395 113.988041 \nL 63.546039 141.365497 \n\" style=\"fill:none;stroke:#ff7f0e;stroke-linecap:square;stroke-width:1.5;\"/>\n   </g>\n   <g id=\"patch_3\">\n    <path d=\"M 36.465625 224.64 \nL 36.465625 7.2 \n\" style=\"fill:none;stroke:#000000;stroke-linecap:square;stroke-linejoin:miter;stroke-width:0.8;\"/>\n   </g>\n   <g id=\"patch_4\">\n    <path d=\"M 371.265625 224.64 \nL 371.265625 7.2 \n\" style=\"fill:none;stroke:#000000;stroke-linecap:square;stroke-linejoin:miter;stroke-width:0.8;\"/>\n   </g>\n   <g id=\"patch_5\">\n    <path d=\"M 36.465625 224.64 \nL 371.265625 224.64 \n\" style=\"fill:none;stroke:#000000;stroke-linecap:square;stroke-linejoin:miter;stroke-width:0.8;\"/>\n   </g>\n   <g id=\"patch_6\">\n    <path d=\"M 36.465625 7.2 \nL 371.265625 7.2 \n\" style=\"fill:none;stroke:#000000;stroke-linecap:square;stroke-linejoin:miter;stroke-width:0.8;\"/>\n   </g>\n  </g>\n </g>\n <defs>\n  <clipPath id=\"p50d89ed23b\">\n   <rect height=\"217.44\" width=\"334.8\" x=\"36.465625\" y=\"7.2\"/>\n  </clipPath>\n </defs>\n</svg>\n",
      "image/png": "[encoded data removed]"
     },
     "metadata": {
      "needs_background": "light"
     }
    }
   ],
   "source": [
    "plt.plot(history.history['loss'])\n",
    "plt.plot(history.history['loss'],history.history['val_loss'])"
   ]
  },
  {
   "cell_type": "code",
   "execution_count": 32,
   "metadata": {},
   "outputs": [
    {
     "output_type": "execute_result",
     "data": {
      "text/plain": [
       "{'loss': [0.47849977016448975,\n",
       "  0.39569100737571716,\n",
       "  0.38443365693092346,\n",
       "  0.37620308995246887,\n",
       "  0.37010568380355835,\n",
       "  0.3651109039783478,\n",
       "  0.36088675260543823,\n",
       "  0.3568887412548065,\n",
       "  0.3536437451839447,\n",
       "  0.3507649302482605],\n",
       " 'val_loss': [0.47200891375541687,\n",
       "  0.45333829522132874,\n",
       "  0.4381811320781708,\n",
       "  0.42589136958122253,\n",
       "  0.4097941815853119,\n",
       "  0.4015144407749176,\n",
       "  0.41162624955177307,\n",
       "  0.41241204738616943,\n",
       "  0.4158807694911957,\n",
       "  0.39818963408470154]}"
      ]
     },
     "metadata": {},
     "execution_count": 32
    }
   ],
   "source": [
    "history.history"
   ]
  },
  {
   "cell_type": "code",
   "execution_count": null,
   "metadata": {},
   "outputs": [],
   "source": []
  }
 ]
}