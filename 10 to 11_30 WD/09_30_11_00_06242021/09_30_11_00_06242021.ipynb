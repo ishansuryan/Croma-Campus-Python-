{
 "cells": [
  {
   "cell_type": "code",
   "execution_count": 5,
   "metadata": {},
   "outputs": [],
   "source": [
    "import cv2\n",
    "import matplotlib.pyplot as plt"
   ]
  },
  {
   "cell_type": "code",
   "execution_count": 47,
   "metadata": {},
   "outputs": [],
   "source": [
    "path = '/home/athharv/Downloads/stairs.jpg'\n",
    "img = cv2.imread(path,1)            # 0 for b/w image, 1 for color image, -1 for alpha channel"
   ]
  },
  {
   "cell_type": "code",
   "execution_count": 48,
   "metadata": {},
   "outputs": [],
   "source": [
    "cv2.imshow('Stairs Picture',img)\n",
    "cv2.waitKey(5000)\n",
    "cv2.destroyAllWindows()"
   ]
  },
  {
   "cell_type": "code",
   "execution_count": 18,
   "metadata": {},
   "outputs": [],
   "source": [
    "\n",
    "while True:\n",
    "    cv2.imshow('Stairs Picture',img)\n",
    "    if cv2.waitKey(1) & 0xFF == ord('q'):\n",
    "        break\n",
    "    \n",
    "cv2.destroyAllWindows()"
   ]
  },
  {
   "cell_type": "code",
   "execution_count": 12,
   "metadata": {},
   "outputs": [
    {
     "data": {
      "text/plain": [
       "113"
      ]
     },
     "execution_count": 12,
     "metadata": {},
     "output_type": "execute_result"
    }
   ],
   "source": [
    "# 0xFF is equivalent to witing 11111111\n",
    "ord('q')"
   ]
  },
  {
   "cell_type": "code",
   "execution_count": 25,
   "metadata": {},
   "outputs": [],
   "source": [
    "import numpy as np"
   ]
  },
  {
   "cell_type": "code",
   "execution_count": 35,
   "metadata": {},
   "outputs": [],
   "source": [
    "np_image = np.ones((100,100))\n",
    "np_image[:,49:51] = 0\n",
    "np_image[49:51,:] = 0\n",
    "np_image = np_image[...,np.newaxis]\n",
    "# np_image\n"
   ]
  },
  {
   "cell_type": "code",
   "execution_count": 36,
   "metadata": {},
   "outputs": [],
   "source": [
    "\n",
    "while True:\n",
    "    cv2.imshow('Numpy image',np_image)\n",
    "    if cv2.waitKey(1) & 0xFF == ord('q'):\n",
    "        break\n",
    "cv2.destroyAllWindows()"
   ]
  },
  {
   "cell_type": "code",
   "execution_count": 42,
   "metadata": {},
   "outputs": [],
   "source": [
    "# Drawing shapes with open cv on images\n",
    "\n",
    "image = cv2.rectangle(img,(10,10),(90,90),(255,0,0),5)\n",
    "while True:\n",
    "    cv2.imshow('Rectangle', image)\n",
    "    if cv2.waitKey(1) & 0xFF == ord('q'):\n",
    "        break\n",
    "cv2.destroyAllWindows()"
   ]
  },
  {
   "cell_type": "code",
   "execution_count": 50,
   "metadata": {},
   "outputs": [],
   "source": [
    "image = cv2.putText(img,'Rectangle',(100,100),cv2.FONT_HERSHEY_COMPLEX, 1, (0,0,255), 1, )\n",
    "image = cv2.rectangle(image,(100,100),(350,250),(255,0,0),1)\n",
    "image = cv2.circle(image, (225,175), 75,(0,255,0),2 , cv2.LINE_AA)\n",
    "while True:\n",
    "    cv2.imshow('Rectangle', image)\n",
    "    if cv2.waitKey(1) & 0xFF == ord('q'):\n",
    "        break\n",
    "cv2.destroyAllWindows()"
   ]
  },
  {
   "cell_type": "code",
   "execution_count": 44,
   "metadata": {},
   "outputs": [
    {
     "name": "stdout",
     "output_type": "stream",
     "text": [
      "\u001b[0;31mDocstring:\u001b[0m\n",
      "putText(img, text, org, fontFace, fontScale, color[, thickness[, lineType[, bottomLeftOrigin]]]) -> img\n",
      ".   @brief Draws a text string.\n",
      ".   \n",
      ".   The function cv::putText renders the specified text string in the image. Symbols that cannot be rendered\n",
      ".   using the specified font are replaced by question marks. See #getTextSize for a text rendering code\n",
      ".   example.\n",
      ".   \n",
      ".   @param img Image.\n",
      ".   @param text Text string to be drawn.\n",
      ".   @param org Bottom-left corner of the text string in the image.\n",
      ".   @param fontFace Font type, see #HersheyFonts.\n",
      ".   @param fontScale Font scale factor that is multiplied by the font-specific base size.\n",
      ".   @param color Text color.\n",
      ".   @param thickness Thickness of the lines used to draw a text.\n",
      ".   @param lineType Line type. See #LineTypes\n",
      ".   @param bottomLeftOrigin When true, the image data origin is at the bottom-left corner. Otherwise,\n",
      ".   it is at the top-left corner.\n",
      "\u001b[0;31mType:\u001b[0m      builtin_function_or_method\n"
     ]
    }
   ],
   "source": [
    "cv2.putText?"
   ]
  },
  {
   "cell_type": "code",
   "execution_count": null,
   "metadata": {},
   "outputs": [],
   "source": []
  }
 ],
 "metadata": {
  "interpreter": {
   "hash": "4e1d9a8909477db77738c33245c29c7265277ef753467dede8cf3f814cde494e"
  },
  "kernelspec": {
   "display_name": "Python 3.9.5 64-bit",
   "name": "python3"
  },
  "language_info": {
   "codemirror_mode": {
    "name": "ipython",
    "version": 3
   },
   "file_extension": ".py",
   "mimetype": "text/x-python",
   "name": "python",
   "nbconvert_exporter": "python",
   "pygments_lexer": "ipython3",
   "version": "3.9.5"
  },
  "orig_nbformat": 4
 },
 "nbformat": 4,
 "nbformat_minor": 2
}