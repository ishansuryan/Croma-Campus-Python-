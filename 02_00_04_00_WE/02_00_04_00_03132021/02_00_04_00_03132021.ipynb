{
 "metadata": {
  "language_info": {
   "codemirror_mode": {
    "name": "ipython",
    "version": 3
   },
   "file_extension": ".py",
   "mimetype": "text/x-python",
   "name": "python",
   "nbconvert_exporter": "python",
   "pygments_lexer": "ipython3",
   "version": "3.8.5-final"
  },
  "orig_nbformat": 2,
  "kernelspec": {
   "name": "python3",
   "display_name": "Python 3.8.5 64-bit (conda)",
   "metadata": {
    "interpreter": {
     "hash": "b3ba2566441a7c06988d0923437866b63cedc61552a5af99d1f4fb67d367b25f"
    }
   }
  }
 },
 "nbformat": 4,
 "nbformat_minor": 2,
 "cells": [
  {
   "source": [
    "# For Loops\n",
    "## Syntax:\n",
    "## for variable in iterable:\n",
    "##     commands/Statements to be Excuted again and again"
   ],
   "cell_type": "markdown",
   "metadata": {}
  },
  {
   "cell_type": "code",
   "execution_count": 1,
   "metadata": {},
   "outputs": [
    {
     "output_type": "stream",
     "name": "stdout",
     "text": [
      "h\ne\nl\nl\no\n"
     ]
    }
   ],
   "source": [
    "s = 'hello'\n",
    "for i in s:\n",
    "    print(i)"
   ]
  },
  {
   "cell_type": "code",
   "execution_count": 2,
   "metadata": {},
   "outputs": [
    {
     "output_type": "stream",
     "name": "stdout",
     "text": [
      "h\ne\nl\nl\no\n"
     ]
    }
   ],
   "source": [
    "for i in range(len(s)):\n",
    "    print(s[i])"
   ]
  },
  {
   "cell_type": "code",
   "execution_count": 3,
   "metadata": {},
   "outputs": [
    {
     "output_type": "stream",
     "name": "stdout",
     "text": [
      "*\n**\n***\n****\n*****\n"
     ]
    }
   ],
   "source": [
    "for i in range(5):\n",
    "    for j in range(i+1):\n",
    "        print('*', end = '')\n",
    "    print()"
   ]
  },
  {
   "cell_type": "code",
   "execution_count": 17,
   "metadata": {},
   "outputs": [
    {
     "output_type": "stream",
     "name": "stdout",
     "text": [
      "*********\n *******\n  *****\n   ***\n    *\n   ***\n  *****\n *******\n*********\n"
     ]
    }
   ],
   "source": [
    "for row in range(5):\n",
    "    for space in range(row):\n",
    "        print(end = ' ')\n",
    "    for star in range(5-row):\n",
    "        print('*',end = '')\n",
    "    for star in range(5-row-1):\n",
    "        print('*',end = '')\n",
    "    print()\n",
    "for row in range(4,0,-1):\n",
    "    for space in range(row-1):\n",
    "        print(end = ' ')\n",
    "    for star in range(4-row+1):\n",
    "        print('*',end = '')\n",
    "    for star in range(4-row+2):\n",
    "        print('*',end = '')\n",
    "    print()\n"
   ]
  },
  {
   "source": [
    "# While loop\n",
    "# Syntax:\n",
    "## while condition:             # condition should be returning true of false\n",
    "##      Commands / statements to be repeated    \n",
    "\n",
    "### keep in mind that lop must have a termination condition otherwise it easily can become infinite loop."
   ],
   "cell_type": "markdown",
   "metadata": {}
  },
  {
   "cell_type": "code",
   "execution_count": 18,
   "metadata": {},
   "outputs": [
    {
     "output_type": "stream",
     "name": "stdout",
     "text": [
      "1\n2\n3\n4\n5\n6\n7\n8\n9\n10\n"
     ]
    }
   ],
   "source": [
    "i = 1\n",
    "while i<11:\n",
    "    print(i)\n",
    "    i +=1"
   ]
  },
  {
   "cell_type": "code",
   "execution_count": 21,
   "metadata": {},
   "outputs": [],
   "source": [
    "l = ['east','west','north','south']\n",
    "direction = '!' \n",
    "while direction not in l:\n",
    "    direction = input('Enter the direction').lower()"
   ]
  },
  {
   "cell_type": "code",
   "execution_count": null,
   "metadata": {},
   "outputs": [],
   "source": []
  }
 ]
}