{
 "metadata": {
  "language_info": {
   "codemirror_mode": {
    "name": "ipython",
    "version": 3
   },
   "file_extension": ".py",
   "mimetype": "text/x-python",
   "name": "python",
   "nbconvert_exporter": "python",
   "pygments_lexer": "ipython3",
   "version": "3.8.5-final"
  },
  "orig_nbformat": 2,
  "kernelspec": {
   "name": "python385jvsc74a57bd0a124b63fbf84d1399b97618073f5975a9b2c6e352603a12ba8f5391aae751726",
   "display_name": "Python 3.8.5 64-bit ('base': conda)"
  }
 },
 "nbformat": 4,
 "nbformat_minor": 2,
 "cells": [
  {
   "source": [
    "# Classes"
   ],
   "cell_type": "markdown",
   "metadata": {}
  },
  {
   "source": [
    "## Multiple Inheritance"
   ],
   "cell_type": "markdown",
   "metadata": {}
  },
  {
   "cell_type": "code",
   "execution_count": 17,
   "metadata": {},
   "outputs": [],
   "source": [
    "class grand_father():\n",
    "    def __init__(self,nme):\n",
    "        self.name = nme\n",
    "    \n",
    "    def get_name(self):\n",
    "        print(self.name)"
   ]
  },
  {
   "cell_type": "code",
   "execution_count": 18,
   "metadata": {},
   "outputs": [],
   "source": [
    "class father():\n",
    "    def __init__(self, ag):\n",
    "        # super().__init__(nmee)\n",
    "        self.age = ag\n",
    "    \n",
    "    def get_age(self):\n",
    "        print(self.age)"
   ]
  },
  {
   "cell_type": "code",
   "execution_count": 26,
   "metadata": {},
   "outputs": [],
   "source": [
    "class child(father, grand_father):\n",
    "    def __init__(self, nmeee, agee, cls):\n",
    "        father.__init__(self,agee)\n",
    "        grand_father.__init__(self,nmeee)\n",
    "        self.class_ = cls\n",
    "\n",
    "    def get_clas(self):\n",
    "        print(self.class_)"
   ]
  },
  {
   "cell_type": "code",
   "execution_count": 27,
   "metadata": {},
   "outputs": [],
   "source": [
    "c1 = child('Arvind','25','16')"
   ]
  },
  {
   "cell_type": "code",
   "execution_count": 28,
   "metadata": {},
   "outputs": [
    {
     "output_type": "stream",
     "name": "stdout",
     "text": [
      "Arvind\n"
     ]
    }
   ],
   "source": [
    "c1.get_name()"
   ]
  },
  {
   "source": [
    "## Multilevel Inheritance"
   ],
   "cell_type": "markdown",
   "metadata": {}
  },
  {
   "cell_type": "code",
   "execution_count": 36,
   "metadata": {},
   "outputs": [],
   "source": [
    "class grand_father_():\n",
    "    def __init__(self,nme):\n",
    "        self.name = nme\n",
    "    \n",
    "    def get_name(self):\n",
    "        print(self.name)"
   ]
  },
  {
   "cell_type": "code",
   "execution_count": 46,
   "metadata": {},
   "outputs": [],
   "source": [
    "class father_(grand_father_):\n",
    "    def __init__(self, nmee, ag):\n",
    "        super().__init__(nmee)\n",
    "        self.age = ag\n",
    "    \n",
    "    def get_age(self):\n",
    "        print(self.age)"
   ]
  },
  {
   "cell_type": "code",
   "execution_count": 47,
   "metadata": {},
   "outputs": [],
   "source": [
    "class child_(father_):\n",
    "    def __init__(self, nmeee, agee, cls):\n",
    "        super().__init__(nmeee,agee)\n",
    "        self.class_ = cls\n",
    "\n",
    "    def get_clas(self):\n",
    "        print(self.class_)"
   ]
  },
  {
   "cell_type": "code",
   "execution_count": 48,
   "metadata": {},
   "outputs": [],
   "source": [
    "c2 = child_('Ram','25','20')"
   ]
  },
  {
   "cell_type": "code",
   "execution_count": 49,
   "metadata": {},
   "outputs": [
    {
     "output_type": "stream",
     "name": "stdout",
     "text": [
      "Ram\n"
     ]
    }
   ],
   "source": [
    "c2.get_name()"
   ]
  },
  {
   "cell_type": "code",
   "execution_count": 50,
   "metadata": {},
   "outputs": [],
   "source": [
    "# Poly-morphism"
   ]
  },
  {
   "cell_type": "code",
   "execution_count": 51,
   "metadata": {},
   "outputs": [],
   "source": [
    "class dog():\n",
    "    def __init__(self, nme, brd, snd):\n",
    "        self.name = nme\n",
    "        self.breed = brd \n",
    "        self.sound = snd \n",
    "\n",
    "    def makesound(self):\n",
    "        print('dogs make sound', self.sound)\n",
    "\n",
    "    def get_breed(self):\n",
    "        print('dogs breed is', self.breed)     \n",
    "\n",
    "    def get_name(self):\n",
    "        print('Dogs name is',self.name)"
   ]
  },
  {
   "cell_type": "code",
   "execution_count": 52,
   "metadata": {},
   "outputs": [],
   "source": [
    "class cat():\n",
    "    def __init__(self, nme, brd, snd):\n",
    "        self.name = nme\n",
    "        self.breed = brd \n",
    "        self.sound = snd \n",
    "\n",
    "    def makesound(self):\n",
    "        print('cat make sound', self.sound)\n",
    "\n",
    "    def get_breed(self):\n",
    "        print('cat breed is', self.breed)     \n",
    "\n",
    "    def get_name(self):\n",
    "        print('cat name is',self.name)"
   ]
  },
  {
   "cell_type": "code",
   "execution_count": 53,
   "metadata": {},
   "outputs": [],
   "source": [
    "d1 = dog('jimmy','labrathor', 'bark')\n",
    "c1 = cat('Patrick','small','meow')"
   ]
  },
  {
   "cell_type": "code",
   "execution_count": 55,
   "metadata": {},
   "outputs": [],
   "source": [
    "def accessor(class_):\n",
    "    class_.get_name()\n",
    "    class_.get_breed()\n",
    "    class_.makesound()"
   ]
  },
  {
   "cell_type": "code",
   "execution_count": 56,
   "metadata": {},
   "outputs": [
    {
     "output_type": "stream",
     "name": "stdout",
     "text": [
      "cat name is Patrick\ncat breed is small\ncat make sound meow\n"
     ]
    }
   ],
   "source": [
    "accessor(c1)"
   ]
  },
  {
   "cell_type": "code",
   "execution_count": 58,
   "metadata": {},
   "outputs": [
    {
     "output_type": "stream",
     "name": "stdout",
     "text": [
      "Dogs name is jimmy\ndogs breed is labrathor\ndogs make sound bark\n"
     ]
    }
   ],
   "source": [
    "accessor(d1)"
   ]
  },
  {
   "cell_type": "code",
   "execution_count": null,
   "metadata": {},
   "outputs": [],
   "source": []
  }
 ]
}