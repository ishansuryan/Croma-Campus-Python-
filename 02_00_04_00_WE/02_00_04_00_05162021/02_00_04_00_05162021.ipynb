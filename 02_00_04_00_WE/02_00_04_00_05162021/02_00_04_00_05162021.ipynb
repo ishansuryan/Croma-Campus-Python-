{
 "metadata": {
  "language_info": {
   "codemirror_mode": {
    "name": "ipython",
    "version": 3
   },
   "file_extension": ".py",
   "mimetype": "text/x-python",
   "name": "python",
   "nbconvert_exporter": "python",
   "pygments_lexer": "ipython3",
   "version": "3.9.5"
  },
  "orig_nbformat": 2,
  "kernelspec": {
   "name": "python395jvsc74a57bd0d2152fd7f0bbc62aa1baff8c990435d1e2c7175d001561303988032604c11a48",
   "display_name": "Python 3.9.5 64-bit"
  },
  "metadata": {
   "interpreter": {
    "hash": "d2152fd7f0bbc62aa1baff8c990435d1e2c7175d001561303988032604c11a48"
   }
  }
 },
 "nbformat": 4,
 "nbformat_minor": 2,
 "cells": [
  {
   "cell_type": "code",
   "execution_count": 1,
   "metadata": {},
   "outputs": [],
   "source": [
    "import numpy as np"
   ]
  },
  {
   "cell_type": "code",
   "execution_count": 32,
   "metadata": {},
   "outputs": [
    {
     "output_type": "execute_result",
     "data": {
      "text/plain": [
       "numpy.ndarray"
      ]
     },
     "metadata": {},
     "execution_count": 32
    }
   ],
   "source": [
    "arr = np.array([1])\n",
    "type(arr)"
   ]
  },
  {
   "cell_type": "code",
   "execution_count": 33,
   "metadata": {},
   "outputs": [
    {
     "output_type": "execute_result",
     "data": {
      "text/plain": [
       "112"
      ]
     },
     "metadata": {},
     "execution_count": 33
    }
   ],
   "source": [
    "arr.__sizeof__()"
   ]
  },
  {
   "source": [
    "arr.dtype"
   ],
   "cell_type": "code",
   "metadata": {},
   "execution_count": 34,
   "outputs": [
    {
     "output_type": "execute_result",
     "data": {
      "text/plain": [
       "dtype('int64')"
      ]
     },
     "metadata": {},
     "execution_count": 34
    }
   ]
  },
  {
   "cell_type": "code",
   "execution_count": 43,
   "metadata": {},
   "outputs": [
    {
     "output_type": "execute_result",
     "data": {
      "text/plain": [
       "array([[1, 2, 3],\n",
       "       [4, 5, 6]])"
      ]
     },
     "metadata": {},
     "execution_count": 43
    }
   ],
   "source": [
    "l = [[1,2,3],[4,5,6,]]\n",
    "arr_1 = np.array(l)\n",
    "arr_1"
   ]
  },
  {
   "cell_type": "code",
   "execution_count": 56,
   "metadata": {},
   "outputs": [
    {
     "output_type": "execute_result",
     "data": {
      "text/plain": [
       "array([[1, 2],\n",
       "       [3, 4],\n",
       "       [5, 6]])"
      ]
     },
     "metadata": {},
     "execution_count": 56
    }
   ],
   "source": [
    "arr_1.reshape(3,2)"
   ]
  },
  {
   "cell_type": "code",
   "execution_count": 54,
   "metadata": {},
   "outputs": [
    {
     "output_type": "execute_result",
     "data": {
      "text/plain": [
       "2"
      ]
     },
     "metadata": {},
     "execution_count": 54
    }
   ],
   "source": [
    "arr_1.ndim"
   ]
  },
  {
   "cell_type": "code",
   "execution_count": 44,
   "metadata": {},
   "outputs": [
    {
     "output_type": "execute_result",
     "data": {
      "text/plain": [
       "(2, 3)"
      ]
     },
     "metadata": {},
     "execution_count": 44
    }
   ],
   "source": [
    "arr_1.shape"
   ]
  },
  {
   "cell_type": "code",
   "execution_count": 45,
   "metadata": {},
   "outputs": [
    {
     "output_type": "execute_result",
     "data": {
      "text/plain": [
       "6"
      ]
     },
     "metadata": {},
     "execution_count": 45
    }
   ],
   "source": [
    "arr_1.size"
   ]
  },
  {
   "cell_type": "code",
   "execution_count": 57,
   "metadata": {},
   "outputs": [
    {
     "output_type": "execute_result",
     "data": {
      "text/plain": [
       "array([0, 3, 6, 9])"
      ]
     },
     "metadata": {},
     "execution_count": 57
    }
   ],
   "source": [
    "a = np.arange(0,10,3)\n",
    "a"
   ]
  },
  {
   "cell_type": "code",
   "execution_count": 58,
   "metadata": {},
   "outputs": [
    {
     "output_type": "execute_result",
     "data": {
      "text/plain": [
       "4"
      ]
     },
     "metadata": {},
     "execution_count": 58
    }
   ],
   "source": [
    "len(a)"
   ]
  },
  {
   "cell_type": "code",
   "execution_count": 61,
   "metadata": {},
   "outputs": [
    {
     "output_type": "execute_result",
     "data": {
      "text/plain": [
       "array([[0.02371295, 0.32779278, 0.26349468, 0.52379759, 0.29563828,\n",
       "        0.21461809, 0.56290315, 0.22871657, 0.78727392, 0.82576186],\n",
       "       [0.23661403, 0.42137084, 0.38293445, 0.3837126 , 0.67317362,\n",
       "        0.39138853, 0.30597727, 0.86946587, 0.27568179, 0.60043128],\n",
       "       [0.04935185, 0.384061  , 0.18003925, 0.33478019, 0.95371324,\n",
       "        0.62638191, 0.65169219, 0.67309322, 0.75514084, 0.88085564],\n",
       "       [0.17746157, 0.97475723, 0.46317388, 0.40704339, 0.22524388,\n",
       "        0.82279656, 0.6587661 , 0.60472988, 0.81350594, 0.51608561],\n",
       "       [0.18740521, 0.13824341, 0.38781449, 0.20258642, 0.8101014 ,\n",
       "        0.71839125, 0.7908676 , 0.75371129, 0.65907413, 0.38486501],\n",
       "       [0.72115415, 0.73835028, 0.50473789, 0.92962002, 0.12702847,\n",
       "        0.68976511, 0.08461377, 0.06937715, 0.35730705, 0.28121406],\n",
       "       [0.9565577 , 0.64612647, 0.56790137, 0.07499117, 0.91761465,\n",
       "        0.52170462, 0.82792131, 0.43648987, 0.59495039, 0.25310994],\n",
       "       [0.68376298, 0.19901532, 0.65164789, 0.34503362, 0.43517341,\n",
       "        0.94376317, 0.1225935 , 0.22924593, 0.69819782, 0.73602451],\n",
       "       [0.98934628, 0.61022099, 0.96178038, 0.07275853, 0.06132494,\n",
       "        0.40599229, 0.01734567, 0.51675608, 0.98334465, 0.82397322],\n",
       "       [0.81246305, 0.67836849, 0.74842931, 0.88021654, 0.02759533,\n",
       "        0.63649537, 0.29354745, 0.21302229, 0.04640028, 0.65429037]])"
      ]
     },
     "metadata": {},
     "execution_count": 61
    }
   ],
   "source": [
    "b = np.random.rand(10,10)\n",
    "b"
   ]
  },
  {
   "cell_type": "code",
   "execution_count": 62,
   "metadata": {},
   "outputs": [
    {
     "output_type": "execute_result",
     "data": {
      "text/plain": [
       "0.3878144857445732"
      ]
     },
     "metadata": {},
     "execution_count": 62
    }
   ],
   "source": [
    "b[4,2]"
   ]
  },
  {
   "cell_type": "code",
   "execution_count": 63,
   "metadata": {},
   "outputs": [
    {
     "output_type": "execute_result",
     "data": {
      "text/plain": [
       "array([[0.38781449, 0.20258642, 0.8101014 , 0.71839125],\n",
       "       [0.50473789, 0.92962002, 0.12702847, 0.68976511],\n",
       "       [0.56790137, 0.07499117, 0.91761465, 0.52170462],\n",
       "       [0.65164789, 0.34503362, 0.43517341, 0.94376317],\n",
       "       [0.96178038, 0.07275853, 0.06132494, 0.40599229]])"
      ]
     },
     "metadata": {},
     "execution_count": 63
    }
   ],
   "source": [
    "b[4:9,2:6]"
   ]
  },
  {
   "cell_type": "code",
   "execution_count": null,
   "metadata": {},
   "outputs": [],
   "source": []
  }
 ]
}