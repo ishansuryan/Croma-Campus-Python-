{
 "metadata": {
  "language_info": {
   "codemirror_mode": {
    "name": "ipython",
    "version": 3
   },
   "file_extension": ".py",
   "mimetype": "text/x-python",
   "name": "python",
   "nbconvert_exporter": "python",
   "pygments_lexer": "ipython3",
   "version": "3.8.5"
  },
  "orig_nbformat": 2,
  "kernelspec": {
   "name": "python3",
   "display_name": "Python 3.8.5 64-bit ('base': conda)",
   "metadata": {
    "interpreter": {
     "hash": "b3ba2566441a7c06988d0923437866b63cedc61552a5af99d1f4fb67d367b25f"
    }
   }
  }
 },
 "nbformat": 4,
 "nbformat_minor": 2,
 "cells": [
  {
   "source": [
    "# Functions in Python"
   ],
   "cell_type": "markdown",
   "metadata": {}
  },
  {
   "cell_type": "code",
   "execution_count": 3,
   "metadata": {},
   "outputs": [
    {
     "output_type": "execute_result",
     "data": {
      "text/plain": [
       "' syntax is \\ndef name_of_function(arguments_if_any):\\n    code to executed\\n    return # not necessary'"
      ]
     },
     "metadata": {},
     "execution_count": 3
    }
   ],
   "source": [
    "''' syntax is \n",
    "def name_of_function(arguments_if_any):\n",
    "    code to executed\n",
    "    return # not necessary'''"
   ]
  },
  {
   "cell_type": "code",
   "execution_count": 6,
   "metadata": {},
   "outputs": [],
   "source": [
    "def addition():\n",
    "    a = int(input(\"Enter the number\"))\n",
    "    b = int(input(\"Enter the number\"))\n",
    "    print('The sum is:',a+b)"
   ]
  },
  {
   "cell_type": "code",
   "execution_count": 7,
   "metadata": {},
   "outputs": [
    {
     "output_type": "stream",
     "name": "stdout",
     "text": [
      "The sum is: 13\n"
     ]
    }
   ],
   "source": [
    "addition()"
   ]
  },
  {
   "cell_type": "code",
   "execution_count": 9,
   "metadata": {},
   "outputs": [],
   "source": [
    "def addition_2(a,b):\n",
    "     print('The sum is:',a+b)"
   ]
  },
  {
   "cell_type": "code",
   "execution_count": 11,
   "metadata": {},
   "outputs": [
    {
     "output_type": "stream",
     "name": "stdout",
     "text": [
      "The sum is: 4.5\n"
     ]
    }
   ],
   "source": [
    "addition_2(3.3,1.2)"
   ]
  },
  {
   "cell_type": "code",
   "execution_count": 13,
   "metadata": {},
   "outputs": [],
   "source": [
    "def addition_3(a=0,b=0):\n",
    "    print('The sum is:',a+b)"
   ]
  },
  {
   "cell_type": "code",
   "execution_count": 14,
   "metadata": {},
   "outputs": [
    {
     "output_type": "stream",
     "name": "stdout",
     "text": [
      "The sum is: 0\n"
     ]
    }
   ],
   "source": [
    "addition_3()"
   ]
  },
  {
   "cell_type": "code",
   "execution_count": 15,
   "metadata": {},
   "outputs": [
    {
     "output_type": "stream",
     "name": "stdout",
     "text": [
      "The sum is: 2\n"
     ]
    }
   ],
   "source": [
    "addition_3(2)"
   ]
  },
  {
   "cell_type": "code",
   "execution_count": 17,
   "metadata": {},
   "outputs": [],
   "source": [
    "def addition(a=0,b=0):\n",
    "    print('The sum is:', a+b)\n",
    "\n",
    "def subtraction(a=0,b=0):\n",
    "    print('The subtraction is:', a-b)\n",
    "\n",
    "def multiplication(a=0,b=0):\n",
    "    print('The multiplication is:', a-b)\n",
    "\n",
    "def devision(a=1,b=1):\n",
    "    print('The devision is:', a/b)"
   ]
  },
  {
   "cell_type": "code",
   "execution_count": 18,
   "metadata": {},
   "outputs": [],
   "source": [
    "def choice():\n",
    "    a = int(input(\"Enter the number\"))\n",
    "    b = int(input(\"Enter the number\"))\n",
    "    c = int(input(\"Enter your Choice\\n1 for addition\\n2for Subtraction\\n3 for multiplication\\n4 for devision\"))\n",
    "\n",
    "    if c==1:\n",
    "        addition(a,b)\n",
    "    elif c==2:\n",
    "        subtraction(a,b)\n",
    "    elif c==3:\n",
    "        multiplication(a,b)\n",
    "    elif c==4:\n",
    "        devision(a,b)"
   ]
  },
  {
   "cell_type": "code",
   "execution_count": 19,
   "metadata": {},
   "outputs": [
    {
     "output_type": "stream",
     "name": "stdout",
     "text": [
      "The subtraction is: -10\n"
     ]
    }
   ],
   "source": [
    "choice()"
   ]
  },
  {
   "cell_type": "code",
   "execution_count": 20,
   "metadata": {},
   "outputs": [],
   "source": [
    "def addition_2(a,b):\n",
    "    return a+b"
   ]
  },
  {
   "cell_type": "code",
   "execution_count": 23,
   "metadata": {},
   "outputs": [
    {
     "output_type": "execute_result",
     "data": {
      "text/plain": [
       "10.0"
      ]
     },
     "metadata": {},
     "execution_count": 23
    }
   ],
   "source": [
    "x = addition_2(3.2,6.8)\n",
    "x"
   ]
  },
  {
   "cell_type": "code",
   "execution_count": null,
   "metadata": {},
   "outputs": [],
   "source": []
  }
 ]
}