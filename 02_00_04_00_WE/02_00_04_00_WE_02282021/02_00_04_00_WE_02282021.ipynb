{
 "metadata": {
  "language_info": {
   "codemirror_mode": {
    "name": "ipython",
    "version": 3
   },
   "file_extension": ".py",
   "mimetype": "text/x-python",
   "name": "python",
   "nbconvert_exporter": "python",
   "pygments_lexer": "ipython3",
   "version": "3.8.5-final"
  },
  "orig_nbformat": 2,
  "kernelspec": {
   "name": "python3",
   "display_name": "Python 3.8.5 64-bit ('ProgramData': virtualenv)",
   "metadata": {
    "interpreter": {
     "hash": "b3ba2566441a7c06988d0923437866b63cedc61552a5af99d1f4fb67d367b25f"
    }
   }
  }
 },
 "nbformat": 4,
 "nbformat_minor": 2,
 "cells": [
  {
   "source": [
    "# If else statement:\n",
    "### Syntax:\n",
    "### if Condition(condition will always risult in Either True or False):\n",
    "### ____this indentation is a must to tell what will be executed when this condition is       'True'.\n",
    "### elis conditoin:\n",
    "###     code to be executed when condition is True.\n",
    "\n",
    "### else:\n",
    "###     finally executes when all above conditions are False.\n",
    "\n",
    "### Rules:\n",
    "### 1) There can be n number of if statements in a program.\n",
    "### 2) There has to if statement before elif statement\n",
    "### 3) There can be n number of elif statements in a program\n",
    "### 4) There has to at least 1 if or elif statement before else statement. "
   ],
   "cell_type": "markdown",
   "metadata": {}
  },
  {
   "cell_type": "code",
   "execution_count": 5,
   "metadata": {},
   "outputs": [
    {
     "output_type": "stream",
     "name": "stdout",
     "text": [
      "a is a posiive number\n"
     ]
    }
   ],
   "source": [
    "a  = -0\n",
    "if a>=0:\n",
    "    print('a is a posiive number')\n",
    "\n",
    "elif a<0:\n",
    "    print('a is a negative number')\n",
    "\n",
    "else: \n",
    "    print('a is zero')"
   ]
  },
  {
   "cell_type": "code",
   "execution_count": 24,
   "metadata": {},
   "outputs": [],
   "source": [
    "a = 10\n",
    "b = 10\n",
    "c = 10"
   ]
  },
  {
   "cell_type": "code",
   "execution_count": 25,
   "metadata": {},
   "outputs": [
    {
     "output_type": "stream",
     "name": "stdout",
     "text": [
      "All the numbers are equal\n"
     ]
    }
   ],
   "source": [
    "if a==b==c:\n",
    "    print('All the numbers are equal')\n",
    "\n",
    "elif a>=b:\n",
    "\n",
    "    if a==b:\n",
    "        if a>c:\n",
    "            print('a and b are qual and grater than c')\n",
    "        \n",
    "        else:\n",
    "            print('c is the biggest')\n",
    "    \n",
    "    elif a >= c:\n",
    "        \n",
    "        if a ==c:\n",
    "            print('a and c are equal and bigger than b')\n",
    "        \n",
    "        else:\n",
    "            print('a is the biggest')\n",
    "        \n",
    "    else:\n",
    "        print('c is the biggest')\n",
    "    \n",
    "elif b>=c:\n",
    "    if b==c:\n",
    "        print('b equals c and grater than a')\n",
    "    \n",
    "    else: print('b is gartest')\n",
    "\n",
    "else : print('C is the gartest')"
   ]
  },
  {
   "source": [
    "# logical operators in Python\n",
    "## <, >, <=, >=, ==, !=, is, not, in, not in"
   ],
   "cell_type": "markdown",
   "metadata": {}
  },
  {
   "cell_type": "code",
   "execution_count": 26,
   "metadata": {},
   "outputs": [
    {
     "output_type": "stream",
     "name": "stdout",
     "text": [
      "both are same\n"
     ]
    }
   ],
   "source": [
    "d = 10\n",
    "e = 10\n",
    "\n",
    "if d is e:\n",
    "    print('both are same')"
   ]
  },
  {
   "cell_type": "code",
   "execution_count": 27,
   "metadata": {},
   "outputs": [
    {
     "output_type": "stream",
     "name": "stdout",
     "text": [
      "both are different\n"
     ]
    }
   ],
   "source": [
    "e =2\n",
    "if d is not e:\n",
    "    print('both are different')"
   ]
  },
  {
   "cell_type": "code",
   "execution_count": 28,
   "metadata": {},
   "outputs": [
    {
     "output_type": "stream",
     "name": "stdout",
     "text": [
      "sub string is there in S string\n"
     ]
    }
   ],
   "source": [
    "s = 'hello'\n",
    "if 'o' in s:\n",
    "    print('sub string is there in S string')"
   ]
  },
  {
   "cell_type": "code",
   "execution_count": null,
   "metadata": {},
   "outputs": [],
   "source": []
  }
 ]
}