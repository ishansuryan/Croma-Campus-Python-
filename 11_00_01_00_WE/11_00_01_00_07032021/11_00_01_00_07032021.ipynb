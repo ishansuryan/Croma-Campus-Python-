{
 "cells": [
  {
   "cell_type": "code",
   "execution_count": 1,
   "metadata": {},
   "outputs": [
    {
     "name": "stderr",
     "output_type": "stream",
     "text": [
      "2021-07-03 12:51:59.093021: I tensorflow/stream_executor/platform/default/dso_loader.cc:53] Successfully opened dynamic library libcudart.so.11.0\n"
     ]
    }
   ],
   "source": [
    "import tensorflow as tf\n",
    "from tensorflow import keras\n",
    "import numpy as np\n",
    "from sklearn.datasets import fetch_openml"
   ]
  },
  {
   "cell_type": "code",
   "execution_count": 2,
   "metadata": {},
   "outputs": [],
   "source": [
    "mnist = fetch_openml('mnist_784', version = 1)"
   ]
  },
  {
   "cell_type": "code",
   "execution_count": 3,
   "metadata": {},
   "outputs": [],
   "source": [
    "x = np.array(mnist['data'])/255\n",
    "y = np.array(mnist['target'], dtype = np.int8)"
   ]
  },
  {
   "cell_type": "code",
   "execution_count": 8,
   "metadata": {},
   "outputs": [],
   "source": [
    "x_train,x_valid = x[:55000], x[55000:60000]\n",
    "y_train,y_valid = y[:55000], y[55000:60000]\n",
    "x_test, y_test = x[60000:], y[60000:]"
   ]
  },
  {
   "cell_type": "code",
   "execution_count": 9,
   "metadata": {},
   "outputs": [],
   "source": [
    "keras.backend.clear_session()\n",
    "model = keras.models.Sequential([\n",
    "    # input layer \n",
    "    keras.layers.InputLayer(input_shape = [784]),\n",
    "    # defining hidden layers\n",
    "    keras.layers.Dense(200, activation = 'relu'),\n",
    "    # outputlayer\n",
    "    keras.layers.Dense(10,activation = 'softmax')\n",
    "])"
   ]
  },
  {
   "cell_type": "code",
   "execution_count": 10,
   "metadata": {},
   "outputs": [
    {
     "name": "stdout",
     "output_type": "stream",
     "text": [
      "Epoch 1/20\n",
      "1719/1719 [==============================] - 4s 2ms/step - loss: 0.6761 - accuracy: 0.8303 - val_loss: 0.3054 - val_accuracy: 0.9196\n",
      "Epoch 2/20\n",
      "1719/1719 [==============================] - 3s 2ms/step - loss: 0.3457 - accuracy: 0.9031 - val_loss: 0.2472 - val_accuracy: 0.9340\n",
      "Epoch 3/20\n",
      "1719/1719 [==============================] - 3s 2ms/step - loss: 0.2945 - accuracy: 0.9170 - val_loss: 0.2175 - val_accuracy: 0.9414\n",
      "Epoch 4/20\n",
      "1719/1719 [==============================] - 3s 2ms/step - loss: 0.2628 - accuracy: 0.9266 - val_loss: 0.1971 - val_accuracy: 0.9476\n",
      "Epoch 5/20\n",
      "1719/1719 [==============================] - 3s 2ms/step - loss: 0.2394 - accuracy: 0.9324 - val_loss: 0.1821 - val_accuracy: 0.9526\n",
      "Epoch 6/20\n",
      "1719/1719 [==============================] - 3s 2ms/step - loss: 0.2200 - accuracy: 0.9380 - val_loss: 0.1697 - val_accuracy: 0.9558\n",
      "Epoch 7/20\n",
      "1719/1719 [==============================] - 3s 2ms/step - loss: 0.2034 - accuracy: 0.9431 - val_loss: 0.1575 - val_accuracy: 0.9618\n",
      "Epoch 8/20\n",
      "1719/1719 [==============================] - 3s 2ms/step - loss: 0.1894 - accuracy: 0.9466 - val_loss: 0.1482 - val_accuracy: 0.9622\n",
      "Epoch 9/20\n",
      "1719/1719 [==============================] - 3s 2ms/step - loss: 0.1770 - accuracy: 0.9501 - val_loss: 0.1414 - val_accuracy: 0.9654\n",
      "Epoch 10/20\n",
      "1719/1719 [==============================] - 3s 2ms/step - loss: 0.1663 - accuracy: 0.9536 - val_loss: 0.1372 - val_accuracy: 0.9656\n",
      "Epoch 11/20\n",
      "1719/1719 [==============================] - 3s 2ms/step - loss: 0.1570 - accuracy: 0.9559 - val_loss: 0.1309 - val_accuracy: 0.9650\n",
      "Epoch 12/20\n",
      "1719/1719 [==============================] - 3s 2ms/step - loss: 0.1487 - accuracy: 0.9583 - val_loss: 0.1264 - val_accuracy: 0.9670\n",
      "Epoch 13/20\n",
      "1719/1719 [==============================] - 3s 2ms/step - loss: 0.1413 - accuracy: 0.9605 - val_loss: 0.1219 - val_accuracy: 0.9690\n",
      "Epoch 14/20\n",
      "1719/1719 [==============================] - 3s 2ms/step - loss: 0.1346 - accuracy: 0.9619 - val_loss: 0.1187 - val_accuracy: 0.9684\n",
      "Epoch 15/20\n",
      "1719/1719 [==============================] - 3s 2ms/step - loss: 0.1283 - accuracy: 0.9639 - val_loss: 0.1138 - val_accuracy: 0.9686\n",
      "Epoch 16/20\n",
      "1719/1719 [==============================] - 3s 2ms/step - loss: 0.1228 - accuracy: 0.9658 - val_loss: 0.1105 - val_accuracy: 0.9704\n",
      "Epoch 17/20\n",
      "1719/1719 [==============================] - 4s 2ms/step - loss: 0.1177 - accuracy: 0.9673 - val_loss: 0.1071 - val_accuracy: 0.9724\n",
      "Epoch 18/20\n",
      "1719/1719 [==============================] - 3s 2ms/step - loss: 0.1127 - accuracy: 0.9685 - val_loss: 0.1067 - val_accuracy: 0.9696\n",
      "Epoch 19/20\n",
      "1719/1719 [==============================] - 3s 2ms/step - loss: 0.1085 - accuracy: 0.9701 - val_loss: 0.1024 - val_accuracy: 0.9714\n",
      "Epoch 20/20\n",
      "1719/1719 [==============================] - 3s 2ms/step - loss: 0.1045 - accuracy: 0.9715 - val_loss: 0.1005 - val_accuracy: 0.9730\n"
     ]
    }
   ],
   "source": [
    "model.compile(optimizer = 'SGD', loss = 'sparse_categorical_crossentropy', metrics = ['accuracy'])\n",
    "history = model.fit(x_train,y_train,validation_data = (x_valid,y_valid), epochs = 20, )"
   ]
  },
  {
   "cell_type": "code",
   "execution_count": 7,
   "metadata": {},
   "outputs": [
    {
     "data": {
      "text/plain": [
       "[PhysicalDevice(name='/physical_device:CPU:0', device_type='CPU'),\n",
       " PhysicalDevice(name='/physical_device:GPU:0', device_type='GPU')]"
      ]
     },
     "execution_count": 7,
     "metadata": {},
     "output_type": "execute_result"
    }
   ],
   "source": [
    "tf.config.list_physical_devices()"
   ]
  },
  {
   "cell_type": "code",
   "execution_count": 11,
   "metadata": {},
   "outputs": [
    {
     "name": "stdout",
     "output_type": "stream",
     "text": [
      "313/313 [==============================] - 1s 2ms/step - loss: 0.1121 - accuracy: 0.9673\n"
     ]
    },
    {
     "data": {
      "text/plain": [
       "[0.11205232888460159, 0.9672999978065491]"
      ]
     },
     "execution_count": 11,
     "metadata": {},
     "output_type": "execute_result"
    }
   ],
   "source": [
    "model.evaluate(x_test, y_test)"
   ]
  },
  {
   "cell_type": "code",
   "execution_count": null,
   "metadata": {},
   "outputs": [],
   "source": []
  }
 ],
 "metadata": {
  "interpreter": {
   "hash": "e7370f93d1d0cde622a1f8e1c04877d8463912d04d973331ad4851f04de6915a"
  },
  "kernelspec": {
   "display_name": "Python 3.9.5 64-bit",
   "name": "python3"
  },
  "language_info": {
   "codemirror_mode": {
    "name": "ipython",
    "version": 3
   },
   "file_extension": ".py",
   "mimetype": "text/x-python",
   "name": "python",
   "nbconvert_exporter": "python",
   "pygments_lexer": "ipython3",
   "version": "3.9.5"
  },
  "orig_nbformat": 4
 },
 "nbformat": 4,
 "nbformat_minor": 2
}