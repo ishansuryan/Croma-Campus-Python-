{
 "metadata": {
  "language_info": {
   "codemirror_mode": {
    "name": "ipython",
    "version": 3
   },
   "file_extension": ".py",
   "mimetype": "text/x-python",
   "name": "python",
   "nbconvert_exporter": "python",
   "pygments_lexer": "ipython3",
   "version": "3.8.5"
  },
  "orig_nbformat": 2,
  "kernelspec": {
   "name": "python3",
   "display_name": "Python 3.8.5 64-bit ('base': conda)",
   "metadata": {
    "interpreter": {
     "hash": "b3ba2566441a7c06988d0923437866b63cedc61552a5af99d1f4fb67d367b25f"
    }
   }
  }
 },
 "nbformat": 4,
 "nbformat_minor": 2,
 "cells": [
  {
   "cell_type": "code",
   "execution_count": 7,
   "metadata": {},
   "outputs": [],
   "source": [
    "from sklearn.datasets import fetch_openml"
   ]
  },
  {
   "cell_type": "code",
   "execution_count": 49,
   "metadata": {},
   "outputs": [],
   "source": [
    "mnist = fetch_openml('mnist_784', version = 1)\n",
    "# mnist"
   ]
  },
  {
   "cell_type": "code",
   "execution_count": 50,
   "metadata": {},
   "outputs": [
    {
     "output_type": "execute_result",
     "data": {
      "text/plain": [
       "70000"
      ]
     },
     "metadata": {},
     "execution_count": 50
    }
   ],
   "source": [
    "len(mnist['data'])"
   ]
  },
  {
   "cell_type": "code",
   "execution_count": 51,
   "metadata": {},
   "outputs": [
    {
     "output_type": "execute_result",
     "data": {
      "text/plain": [
       "784"
      ]
     },
     "metadata": {},
     "execution_count": 51
    }
   ],
   "source": [
    "len(mnist['data'][0])"
   ]
  },
  {
   "cell_type": "code",
   "execution_count": 52,
   "metadata": {},
   "outputs": [],
   "source": [
    "x,y = mnist['data'],mnist['target']"
   ]
  },
  {
   "cell_type": "code",
   "execution_count": 53,
   "metadata": {},
   "outputs": [],
   "source": [
    "import matplotlib.pyplot as plt"
   ]
  },
  {
   "cell_type": "code",
   "execution_count": 54,
   "metadata": {},
   "outputs": [
    {
     "output_type": "execute_result",
     "data": {
      "text/plain": [
       "<matplotlib.image.AxesImage at 0x1f80ef2daf0>"
      ]
     },
     "metadata": {},
     "execution_count": 54
    },
    {
     "output_type": "display_data",
     "data": {
      "text/plain": "<Figure size 432x288 with 1 Axes>",
      "image/svg+xml": "<?xml version=\"1.0\" encoding=\"utf-8\" standalone=\"no\"?>\r\n<!DOCTYPE svg PUBLIC \"-//W3C//DTD SVG 1.1//EN\"\r\n  \"http://www.w3.org/Graphics/SVG/1.1/DTD/svg11.dtd\">\r\n<!-- Created with matplotlib (https://matplotlib.org/) -->\r\n<svg height=\"248.518125pt\" version=\"1.1\" viewBox=\"0 0 251.565 248.518125\" width=\"251.565pt\" xmlns=\"http://www.w3.org/2000/svg\" xmlns:xlink=\"http://www.w3.org/1999/xlink\">\r\n <metadata>\r\n  <rdf:RDF xmlns:cc=\"http://creativecommons.org/ns#\" xmlns:dc=\"http://purl.org/dc/elements/1.1/\" xmlns:rdf=\"http://www.w3.org/1999/02/22-rdf-syntax-ns#\">\r\n   <cc:Work>\r\n    <dc:type rdf:resource=\"http://purl.org/dc/dcmitype/StillImage\"/>\r\n    <dc:date>2021-04-03T11:54:55.901619</dc:date>\r\n    <dc:format>image/svg+xml</dc:format>\r\n    <dc:creator>\r\n     <cc:Agent>\r\n      <dc:title>Matplotlib v3.3.2, https://matplotlib.org/</dc:title>\r\n     </cc:Agent>\r\n    </dc:creator>\r\n   </cc:Work>\r\n  </rdf:RDF>\r\n </metadata>\r\n <defs>\r\n  <style type=\"text/css\">*{stroke-linecap:butt;stroke-linejoin:round;}</style>\r\n </defs>\r\n <g id=\"figure_1\">\r\n  <g id=\"patch_1\">\r\n   <path d=\"M 0 248.518125 \r\nL 251.565 248.518125 \r\nL 251.565 0 \r\nL 0 0 \r\nz\r\n\" style=\"fill:none;\"/>\r\n  </g>\r\n  <g id=\"axes_1\">\r\n   <g id=\"patch_2\">\r\n    <path d=\"M 26.925 224.64 \r\nL 244.365 224.64 \r\nL 244.365 7.2 \r\nL 26.925 7.2 \r\nz\r\n\" style=\"fill:#ffffff;\"/>\r\n   </g>\r\n   <g clip-path=\"url(#pc2f6fb305c)\">\r\n    <image height=\"218\" id=\"imagedab48083d6\" transform=\"scale(1 -1)translate(0 -218)\" width=\"218\" x=\"26.925\" xlink:href=\"data:image/png;base64,\r\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\" y=\"-6.64\"/>\r\n   </g>\r\n   <g id=\"matplotlib.axis_1\">\r\n    <g id=\"xtick_1\">\r\n     <g id=\"line2d_1\">\r\n      <defs>\r\n       <path d=\"M 0 0 \r\nL 0 3.5 \r\n\" id=\"me4886026bb\" style=\"stroke:#000000;stroke-width:0.8;\"/>\r\n      </defs>\r\n      <g>\r\n       <use style=\"stroke:#000000;stroke-width:0.8;\" x=\"30.807857\" xlink:href=\"#me4886026bb\" y=\"224.64\"/>\r\n      </g>\r\n     </g>\r\n     <g id=\"text_1\">\r\n      <!-- 0 -->\r\n      <g transform=\"translate(27.626607 239.238437)scale(0.1 -0.1)\">\r\n       <defs>\r\n        <path d=\"M 31.78125 66.40625 \r\nQ 24.171875 66.40625 20.328125 58.90625 \r\nQ 16.5 51.421875 16.5 36.375 \r\nQ 16.5 21.390625 20.328125 13.890625 \r\nQ 24.171875 6.390625 31.78125 6.390625 \r\nQ 39.453125 6.390625 43.28125 13.890625 \r\nQ 47.125 21.390625 47.125 36.375 \r\nQ 47.125 51.421875 43.28125 58.90625 \r\nQ 39.453125 66.40625 31.78125 66.40625 \r\nz\r\nM 31.78125 74.21875 \r\nQ 44.046875 74.21875 50.515625 64.515625 \r\nQ 56.984375 54.828125 56.984375 36.375 \r\nQ 56.984375 17.96875 50.515625 8.265625 \r\nQ 44.046875 -1.421875 31.78125 -1.421875 \r\nQ 19.53125 -1.421875 13.0625 8.265625 \r\nQ 6.59375 17.96875 6.59375 36.375 \r\nQ 6.59375 54.828125 13.0625 64.515625 \r\nQ 19.53125 74.21875 31.78125 74.21875 \r\nz\r\n\" id=\"DejaVuSans-48\"/>\r\n       </defs>\r\n       <use xlink:href=\"#DejaVuSans-48\"/>\r\n      </g>\r\n     </g>\r\n    </g>\r\n    <g id=\"xtick_2\">\r\n     <g id=\"line2d_2\">\r\n      <g>\r\n       <use style=\"stroke:#000000;stroke-width:0.8;\" x=\"69.636429\" xlink:href=\"#me4886026bb\" y=\"224.64\"/>\r\n      </g>\r\n     </g>\r\n     <g id=\"text_2\">\r\n      <!-- 5 -->\r\n      <g transform=\"translate(66.455179 239.238437)scale(0.1 -0.1)\">\r\n       <defs>\r\n        <path d=\"M 10.796875 72.90625 \r\nL 49.515625 72.90625 \r\nL 49.515625 64.59375 \r\nL 19.828125 64.59375 \r\nL 19.828125 46.734375 \r\nQ 21.96875 47.46875 24.109375 47.828125 \r\nQ 26.265625 48.1875 28.421875 48.1875 \r\nQ 40.625 48.1875 47.75 41.5 \r\nQ 54.890625 34.8125 54.890625 23.390625 \r\nQ 54.890625 11.625 47.5625 5.09375 \r\nQ 40.234375 -1.421875 26.90625 -1.421875 \r\nQ 22.3125 -1.421875 17.546875 -0.640625 \r\nQ 12.796875 0.140625 7.71875 1.703125 \r\nL 7.71875 11.625 \r\nQ 12.109375 9.234375 16.796875 8.0625 \r\nQ 21.484375 6.890625 26.703125 6.890625 \r\nQ 35.15625 6.890625 40.078125 11.328125 \r\nQ 45.015625 15.765625 45.015625 23.390625 \r\nQ 45.015625 31 40.078125 35.4375 \r\nQ 35.15625 39.890625 26.703125 39.890625 \r\nQ 22.75 39.890625 18.8125 39.015625 \r\nQ 14.890625 38.140625 10.796875 36.28125 \r\nz\r\n\" id=\"DejaVuSans-53\"/>\r\n       </defs>\r\n       <use xlink:href=\"#DejaVuSans-53\"/>\r\n      </g>\r\n     </g>\r\n    </g>\r\n    <g id=\"xtick_3\">\r\n     <g id=\"line2d_3\">\r\n      <g>\r\n       <use style=\"stroke:#000000;stroke-width:0.8;\" x=\"108.465\" xlink:href=\"#me4886026bb\" y=\"224.64\"/>\r\n      </g>\r\n     </g>\r\n     <g id=\"text_3\">\r\n      <!-- 10 -->\r\n      <g transform=\"translate(102.1025 239.238437)scale(0.1 -0.1)\">\r\n       <defs>\r\n        <path d=\"M 12.40625 8.296875 \r\nL 28.515625 8.296875 \r\nL 28.515625 63.921875 \r\nL 10.984375 60.40625 \r\nL 10.984375 69.390625 \r\nL 28.421875 72.90625 \r\nL 38.28125 72.90625 \r\nL 38.28125 8.296875 \r\nL 54.390625 8.296875 \r\nL 54.390625 0 \r\nL 12.40625 0 \r\nz\r\n\" id=\"DejaVuSans-49\"/>\r\n       </defs>\r\n       <use xlink:href=\"#DejaVuSans-49\"/>\r\n       <use x=\"63.623047\" xlink:href=\"#DejaVuSans-48\"/>\r\n      </g>\r\n     </g>\r\n    </g>\r\n    <g id=\"xtick_4\">\r\n     <g id=\"line2d_4\">\r\n      <g>\r\n       <use style=\"stroke:#000000;stroke-width:0.8;\" x=\"147.293571\" xlink:href=\"#me4886026bb\" y=\"224.64\"/>\r\n      </g>\r\n     </g>\r\n     <g id=\"text_4\">\r\n      <!-- 15 -->\r\n      <g transform=\"translate(140.931071 239.238437)scale(0.1 -0.1)\">\r\n       <use xlink:href=\"#DejaVuSans-49\"/>\r\n       <use x=\"63.623047\" xlink:href=\"#DejaVuSans-53\"/>\r\n      </g>\r\n     </g>\r\n    </g>\r\n    <g id=\"xtick_5\">\r\n     <g id=\"line2d_5\">\r\n      <g>\r\n       <use style=\"stroke:#000000;stroke-width:0.8;\" x=\"186.122143\" xlink:href=\"#me4886026bb\" y=\"224.64\"/>\r\n      </g>\r\n     </g>\r\n     <g id=\"text_5\">\r\n      <!-- 20 -->\r\n      <g transform=\"translate(179.759643 239.238437)scale(0.1 -0.1)\">\r\n       <defs>\r\n        <path d=\"M 19.1875 8.296875 \r\nL 53.609375 8.296875 \r\nL 53.609375 0 \r\nL 7.328125 0 \r\nL 7.328125 8.296875 \r\nQ 12.9375 14.109375 22.625 23.890625 \r\nQ 32.328125 33.6875 34.8125 36.53125 \r\nQ 39.546875 41.84375 41.421875 45.53125 \r\nQ 43.3125 49.21875 43.3125 52.78125 \r\nQ 43.3125 58.59375 39.234375 62.25 \r\nQ 35.15625 65.921875 28.609375 65.921875 \r\nQ 23.96875 65.921875 18.8125 64.3125 \r\nQ 13.671875 62.703125 7.8125 59.421875 \r\nL 7.8125 69.390625 \r\nQ 13.765625 71.78125 18.9375 73 \r\nQ 24.125 74.21875 28.421875 74.21875 \r\nQ 39.75 74.21875 46.484375 68.546875 \r\nQ 53.21875 62.890625 53.21875 53.421875 \r\nQ 53.21875 48.921875 51.53125 44.890625 \r\nQ 49.859375 40.875 45.40625 35.40625 \r\nQ 44.1875 33.984375 37.640625 27.21875 \r\nQ 31.109375 20.453125 19.1875 8.296875 \r\nz\r\n\" id=\"DejaVuSans-50\"/>\r\n       </defs>\r\n       <use xlink:href=\"#DejaVuSans-50\"/>\r\n       <use x=\"63.623047\" xlink:href=\"#DejaVuSans-48\"/>\r\n      </g>\r\n     </g>\r\n    </g>\r\n    <g id=\"xtick_6\">\r\n     <g id=\"line2d_6\">\r\n      <g>\r\n       <use style=\"stroke:#000000;stroke-width:0.8;\" x=\"224.950714\" xlink:href=\"#me4886026bb\" y=\"224.64\"/>\r\n      </g>\r\n     </g>\r\n     <g id=\"text_6\">\r\n      <!-- 25 -->\r\n      <g transform=\"translate(218.588214 239.238437)scale(0.1 -0.1)\">\r\n       <use xlink:href=\"#DejaVuSans-50\"/>\r\n       <use x=\"63.623047\" xlink:href=\"#DejaVuSans-53\"/>\r\n      </g>\r\n     </g>\r\n    </g>\r\n   </g>\r\n   <g id=\"matplotlib.axis_2\">\r\n    <g id=\"ytick_1\">\r\n     <g id=\"line2d_7\">\r\n      <defs>\r\n       <path d=\"M 0 0 \r\nL -3.5 0 \r\n\" id=\"m6ebff6ec6a\" style=\"stroke:#000000;stroke-width:0.8;\"/>\r\n      </defs>\r\n      <g>\r\n       <use style=\"stroke:#000000;stroke-width:0.8;\" x=\"26.925\" xlink:href=\"#m6ebff6ec6a\" y=\"11.082857\"/>\r\n      </g>\r\n     </g>\r\n     <g id=\"text_7\">\r\n      <!-- 0 -->\r\n      <g transform=\"translate(13.5625 14.882076)scale(0.1 -0.1)\">\r\n       <use xlink:href=\"#DejaVuSans-48\"/>\r\n      </g>\r\n     </g>\r\n    </g>\r\n    <g id=\"ytick_2\">\r\n     <g id=\"line2d_8\">\r\n      <g>\r\n       <use style=\"stroke:#000000;stroke-width:0.8;\" x=\"26.925\" xlink:href=\"#m6ebff6ec6a\" y=\"49.911429\"/>\r\n      </g>\r\n     </g>\r\n     <g id=\"text_8\">\r\n      <!-- 5 -->\r\n      <g transform=\"translate(13.5625 53.710647)scale(0.1 -0.1)\">\r\n       <use xlink:href=\"#DejaVuSans-53\"/>\r\n      </g>\r\n     </g>\r\n    </g>\r\n    <g id=\"ytick_3\">\r\n     <g id=\"line2d_9\">\r\n      <g>\r\n       <use style=\"stroke:#000000;stroke-width:0.8;\" x=\"26.925\" xlink:href=\"#m6ebff6ec6a\" y=\"88.74\"/>\r\n      </g>\r\n     </g>\r\n     <g id=\"text_9\">\r\n      <!-- 10 -->\r\n      <g transform=\"translate(7.2 92.539219)scale(0.1 -0.1)\">\r\n       <use xlink:href=\"#DejaVuSans-49\"/>\r\n       <use x=\"63.623047\" xlink:href=\"#DejaVuSans-48\"/>\r\n      </g>\r\n     </g>\r\n    </g>\r\n    <g id=\"ytick_4\">\r\n     <g id=\"line2d_10\">\r\n      <g>\r\n       <use style=\"stroke:#000000;stroke-width:0.8;\" x=\"26.925\" xlink:href=\"#m6ebff6ec6a\" y=\"127.568571\"/>\r\n      </g>\r\n     </g>\r\n     <g id=\"text_10\">\r\n      <!-- 15 -->\r\n      <g transform=\"translate(7.2 131.36779)scale(0.1 -0.1)\">\r\n       <use xlink:href=\"#DejaVuSans-49\"/>\r\n       <use x=\"63.623047\" xlink:href=\"#DejaVuSans-53\"/>\r\n      </g>\r\n     </g>\r\n    </g>\r\n    <g id=\"ytick_5\">\r\n     <g id=\"line2d_11\">\r\n      <g>\r\n       <use style=\"stroke:#000000;stroke-width:0.8;\" x=\"26.925\" xlink:href=\"#m6ebff6ec6a\" y=\"166.397143\"/>\r\n      </g>\r\n     </g>\r\n     <g id=\"text_11\">\r\n      <!-- 20 -->\r\n      <g transform=\"translate(7.2 170.196362)scale(0.1 -0.1)\">\r\n       <use xlink:href=\"#DejaVuSans-50\"/>\r\n       <use x=\"63.623047\" xlink:href=\"#DejaVuSans-48\"/>\r\n      </g>\r\n     </g>\r\n    </g>\r\n    <g id=\"ytick_6\">\r\n     <g id=\"line2d_12\">\r\n      <g>\r\n       <use style=\"stroke:#000000;stroke-width:0.8;\" x=\"26.925\" xlink:href=\"#m6ebff6ec6a\" y=\"205.225714\"/>\r\n      </g>\r\n     </g>\r\n     <g id=\"text_12\">\r\n      <!-- 25 -->\r\n      <g transform=\"translate(7.2 209.024933)scale(0.1 -0.1)\">\r\n       <use xlink:href=\"#DejaVuSans-50\"/>\r\n       <use x=\"63.623047\" xlink:href=\"#DejaVuSans-53\"/>\r\n      </g>\r\n     </g>\r\n    </g>\r\n   </g>\r\n   <g id=\"patch_3\">\r\n    <path d=\"M 26.925 224.64 \r\nL 26.925 7.2 \r\n\" style=\"fill:none;stroke:#000000;stroke-linecap:square;stroke-linejoin:miter;stroke-width:0.8;\"/>\r\n   </g>\r\n   <g id=\"patch_4\">\r\n    <path d=\"M 244.365 224.64 \r\nL 244.365 7.2 \r\n\" style=\"fill:none;stroke:#000000;stroke-linecap:square;stroke-linejoin:miter;stroke-width:0.8;\"/>\r\n   </g>\r\n   <g id=\"patch_5\">\r\n    <path d=\"M 26.925 224.64 \r\nL 244.365 224.64 \r\n\" style=\"fill:none;stroke:#000000;stroke-linecap:square;stroke-linejoin:miter;stroke-width:0.8;\"/>\r\n   </g>\r\n   <g id=\"patch_6\">\r\n    <path d=\"M 26.925 7.2 \r\nL 244.365 7.2 \r\n\" style=\"fill:none;stroke:#000000;stroke-linecap:square;stroke-linejoin:miter;stroke-width:0.8;\"/>\r\n   </g>\r\n  </g>\r\n </g>\r\n <defs>\r\n  <clipPath id=\"pc2f6fb305c\">\r\n   <rect height=\"217.44\" width=\"217.44\" x=\"26.925\" y=\"7.2\"/>\r\n  </clipPath>\r\n </defs>\r\n</svg>\r\n",
      "image/png": "[encoded data removed]"
     },
     "metadata": {
      "needs_background": "light"
     }
    }
   ],
   "source": [
    "x_ =x[1].reshape(28,28)\n",
    "plt.imshow(x_, cmap ='binary')"
   ]
  },
  {
   "source": [
    "# Splitting the data in test and train set"
   ],
   "cell_type": "markdown",
   "metadata": {}
  },
  {
   "cell_type": "code",
   "execution_count": 55,
   "metadata": {},
   "outputs": [],
   "source": [
    "x_train,x_test = x[:60000],x[60000:]\n",
    "y_train,y_test = y[:60000],y[60000:]"
   ]
  },
  {
   "source": [
    "# Shuffling the data"
   ],
   "cell_type": "markdown",
   "metadata": {}
  },
  {
   "cell_type": "code",
   "execution_count": 56,
   "metadata": {},
   "outputs": [],
   "source": [
    "import numpy as np\n",
    "np.random.seed(42)\n",
    "shuffled_index = np.random.permutation(60000)\n",
    "x_train = x_train[shuffled_index]\n",
    "y_train = y_train[shuffled_index]\n",
    "y_train_5 = (y_train == '5')"
   ]
  },
  {
   "cell_type": "code",
   "execution_count": 68,
   "metadata": {},
   "outputs": [
    {
     "output_type": "execute_result",
     "data": {
      "text/plain": [
       "(array([False,  True]), array([54579,  5421], dtype=int64))"
      ]
     },
     "metadata": {},
     "execution_count": 68
    }
   ],
   "source": [
    "np.unique(y_train_5, return_counts=True)"
   ]
  },
  {
   "cell_type": "code",
   "execution_count": 61,
   "metadata": {},
   "outputs": [
    {
     "output_type": "execute_result",
     "data": {
      "text/plain": [
       "array([12628, 37730, 39991, ...,   860, 15795, 56422])"
      ]
     },
     "metadata": {},
     "execution_count": 61
    }
   ],
   "source": [
    "shuffled_index"
   ]
  },
  {
   "cell_type": "code",
   "execution_count": 62,
   "metadata": {},
   "outputs": [],
   "source": [
    "from sklearn.linear_model import SGDClassifier\n",
    "sgd_clf = SGDClassifier(loss = 'hinge', penalty = 'l2') "
   ]
  },
  {
   "cell_type": "code",
   "execution_count": 63,
   "metadata": {},
   "outputs": [
    {
     "output_type": "execute_result",
     "data": {
      "text/plain": [
       "SGDClassifier()"
      ]
     },
     "metadata": {},
     "execution_count": 63
    }
   ],
   "source": [
    "sgd_clf.fit(x_train,y_train_5)"
   ]
  },
  {
   "cell_type": "code",
   "execution_count": 70,
   "metadata": {},
   "outputs": [
    {
     "output_type": "stream",
     "text": [
      "\u001b[1;31mInit signature:\u001b[0m\n",
      "\u001b[0mSGDClassifier\u001b[0m\u001b[1;33m(\u001b[0m\u001b[1;33m\n",
      "\u001b[0m    \u001b[0mloss\u001b[0m\u001b[1;33m=\u001b[0m\u001b[1;34m'hinge'\u001b[0m\u001b[1;33m,\u001b[0m\u001b[1;33m\n",
      "\u001b[0m    \u001b[1;33m*\u001b[0m\u001b[1;33m,\u001b[0m\u001b[1;33m\n",
      "\u001b[0m    \u001b[0mpenalty\u001b[0m\u001b[1;33m=\u001b[0m\u001b[1;34m'l2'\u001b[0m\u001b[1;33m,\u001b[0m\u001b[1;33m\n",
      "\u001b[0m    \u001b[0malpha\u001b[0m\u001b[1;33m=\u001b[0m\u001b[1;36m0.0001\u001b[0m\u001b[1;33m,\u001b[0m\u001b[1;33m\n",
      "\u001b[0m    \u001b[0ml1_ratio\u001b[0m\u001b[1;33m=\u001b[0m\u001b[1;36m0.15\u001b[0m\u001b[1;33m,\u001b[0m\u001b[1;33m\n",
      "\u001b[0m    \u001b[0mfit_intercept\u001b[0m\u001b[1;33m=\u001b[0m\u001b[1;32mTrue\u001b[0m\u001b[1;33m,\u001b[0m\u001b[1;33m\n",
      "\u001b[0m    \u001b[0mmax_iter\u001b[0m\u001b[1;33m=\u001b[0m\u001b[1;36m1000\u001b[0m\u001b[1;33m,\u001b[0m\u001b[1;33m\n",
      "\u001b[0m    \u001b[0mtol\u001b[0m\u001b[1;33m=\u001b[0m\u001b[1;36m0.001\u001b[0m\u001b[1;33m,\u001b[0m\u001b[1;33m\n",
      "\u001b[0m    \u001b[0mshuffle\u001b[0m\u001b[1;33m=\u001b[0m\u001b[1;32mTrue\u001b[0m\u001b[1;33m,\u001b[0m\u001b[1;33m\n",
      "\u001b[0m    \u001b[0mverbose\u001b[0m\u001b[1;33m=\u001b[0m\u001b[1;36m0\u001b[0m\u001b[1;33m,\u001b[0m\u001b[1;33m\n",
      "\u001b[0m    \u001b[0mepsilon\u001b[0m\u001b[1;33m=\u001b[0m\u001b[1;36m0.1\u001b[0m\u001b[1;33m,\u001b[0m\u001b[1;33m\n",
      "\u001b[0m    \u001b[0mn_jobs\u001b[0m\u001b[1;33m=\u001b[0m\u001b[1;32mNone\u001b[0m\u001b[1;33m,\u001b[0m\u001b[1;33m\n",
      "\u001b[0m    \u001b[0mrandom_state\u001b[0m\u001b[1;33m=\u001b[0m\u001b[1;32mNone\u001b[0m\u001b[1;33m,\u001b[0m\u001b[1;33m\n",
      "\u001b[0m    \u001b[0mlearning_rate\u001b[0m\u001b[1;33m=\u001b[0m\u001b[1;34m'optimal'\u001b[0m\u001b[1;33m,\u001b[0m\u001b[1;33m\n",
      "\u001b[0m    \u001b[0meta0\u001b[0m\u001b[1;33m=\u001b[0m\u001b[1;36m0.0\u001b[0m\u001b[1;33m,\u001b[0m\u001b[1;33m\n",
      "\u001b[0m    \u001b[0mpower_t\u001b[0m\u001b[1;33m=\u001b[0m\u001b[1;36m0.5\u001b[0m\u001b[1;33m,\u001b[0m\u001b[1;33m\n",
      "\u001b[0m    \u001b[0mearly_stopping\u001b[0m\u001b[1;33m=\u001b[0m\u001b[1;32mFalse\u001b[0m\u001b[1;33m,\u001b[0m\u001b[1;33m\n",
      "\u001b[0m    \u001b[0mvalidation_fraction\u001b[0m\u001b[1;33m=\u001b[0m\u001b[1;36m0.1\u001b[0m\u001b[1;33m,\u001b[0m\u001b[1;33m\n",
      "\u001b[0m    \u001b[0mn_iter_no_change\u001b[0m\u001b[1;33m=\u001b[0m\u001b[1;36m5\u001b[0m\u001b[1;33m,\u001b[0m\u001b[1;33m\n",
      "\u001b[0m    \u001b[0mclass_weight\u001b[0m\u001b[1;33m=\u001b[0m\u001b[1;32mNone\u001b[0m\u001b[1;33m,\u001b[0m\u001b[1;33m\n",
      "\u001b[0m    \u001b[0mwarm_start\u001b[0m\u001b[1;33m=\u001b[0m\u001b[1;32mFalse\u001b[0m\u001b[1;33m,\u001b[0m\u001b[1;33m\n",
      "\u001b[0m    \u001b[0maverage\u001b[0m\u001b[1;33m=\u001b[0m\u001b[1;32mFalse\u001b[0m\u001b[1;33m,\u001b[0m\u001b[1;33m\n",
      "\u001b[0m\u001b[1;33m)\u001b[0m\u001b[1;33m\u001b[0m\u001b[1;33m\u001b[0m\u001b[0m\n",
      "\u001b[1;31mDocstring:\u001b[0m     \n",
      "Linear classifiers (SVM, logistic regression, etc.) with SGD training.\n",
      "\n",
      "This estimator implements regularized linear models with stochastic\n",
      "gradient descent (SGD) learning: the gradient of the loss is estimated\n",
      "each sample at a time and the model is updated along the way with a\n",
      "decreasing strength schedule (aka learning rate). SGD allows minibatch\n",
      "(online/out-of-core) learning via the `partial_fit` method.\n",
      "For best results using the default learning rate schedule, the data should\n",
      "have zero mean and unit variance.\n",
      "\n",
      "This implementation works with data represented as dense or sparse arrays\n",
      "of floating point values for the features. The model it fits can be\n",
      "controlled with the loss parameter; by default, it fits a linear support\n",
      "vector machine (SVM).\n",
      "\n",
      "The regularizer is a penalty added to the loss function that shrinks model\n",
      "parameters towards the zero vector using either the squared euclidean norm\n",
      "L2 or the absolute norm L1 or a combination of both (Elastic Net). If the\n",
      "parameter update crosses the 0.0 value because of the regularizer, the\n",
      "update is truncated to 0.0 to allow for learning sparse models and achieve\n",
      "online feature selection.\n",
      "\n",
      "Read more in the :ref:`User Guide <sgd>`.\n",
      "\n",
      "Parameters\n",
      "----------\n",
      "loss : str, default='hinge'\n",
      "    The loss function to be used. Defaults to 'hinge', which gives a\n",
      "    linear SVM.\n",
      "\n",
      "    The possible options are 'hinge', 'log', 'modified_huber',\n",
      "    'squared_hinge', 'perceptron', or a regression loss: 'squared_loss',\n",
      "    'huber', 'epsilon_insensitive', or 'squared_epsilon_insensitive'.\n",
      "\n",
      "    The 'log' loss gives logistic regression, a probabilistic classifier.\n",
      "    'modified_huber' is another smooth loss that brings tolerance to\n",
      "    outliers as well as probability estimates.\n",
      "    'squared_hinge' is like hinge but is quadratically penalized.\n",
      "    'perceptron' is the linear loss used by the perceptron algorithm.\n",
      "    The other losses are designed for regression but can be useful in\n",
      "    classification as well; see\n",
      "    :class:`~sklearn.linear_model.SGDRegressor` for a description.\n",
      "\n",
      "    More details about the losses formulas can be found in the\n",
      "    :ref:`User Guide <sgd_mathematical_formulation>`.\n",
      "\n",
      "penalty : {'l2', 'l1', 'elasticnet'}, default='l2'\n",
      "    The penalty (aka regularization term) to be used. Defaults to 'l2'\n",
      "    which is the standard regularizer for linear SVM models. 'l1' and\n",
      "    'elasticnet' might bring sparsity to the model (feature selection)\n",
      "    not achievable with 'l2'.\n",
      "\n",
      "alpha : float, default=0.0001\n",
      "    Constant that multiplies the regularization term. The higher the\n",
      "    value, the stronger the regularization.\n",
      "    Also used to compute the learning rate when set to `learning_rate` is\n",
      "    set to 'optimal'.\n",
      "\n",
      "l1_ratio : float, default=0.15\n",
      "    The Elastic Net mixing parameter, with 0 <= l1_ratio <= 1.\n",
      "    l1_ratio=0 corresponds to L2 penalty, l1_ratio=1 to L1.\n",
      "    Only used if `penalty` is 'elasticnet'.\n",
      "\n",
      "fit_intercept : bool, default=True\n",
      "    Whether the intercept should be estimated or not. If False, the\n",
      "    data is assumed to be already centered.\n",
      "\n",
      "max_iter : int, default=1000\n",
      "    The maximum number of passes over the training data (aka epochs).\n",
      "    It only impacts the behavior in the ``fit`` method, and not the\n",
      "    :meth:`partial_fit` method.\n",
      "\n",
      "    .. versionadded:: 0.19\n",
      "\n",
      "tol : float, default=1e-3\n",
      "    The stopping criterion. If it is not None, training will stop\n",
      "    when (loss > best_loss - tol) for ``n_iter_no_change`` consecutive\n",
      "    epochs.\n",
      "\n",
      "    .. versionadded:: 0.19\n",
      "\n",
      "shuffle : bool, default=True\n",
      "    Whether or not the training data should be shuffled after each epoch.\n",
      "\n",
      "verbose : int, default=0\n",
      "    The verbosity level.\n",
      "\n",
      "epsilon : float, default=0.1\n",
      "    Epsilon in the epsilon-insensitive loss functions; only if `loss` is\n",
      "    'huber', 'epsilon_insensitive', or 'squared_epsilon_insensitive'.\n",
      "    For 'huber', determines the threshold at which it becomes less\n",
      "    important to get the prediction exactly right.\n",
      "    For epsilon-insensitive, any differences between the current prediction\n",
      "    and the correct label are ignored if they are less than this threshold.\n",
      "\n",
      "n_jobs : int, default=None\n",
      "    The number of CPUs to use to do the OVA (One Versus All, for\n",
      "    multi-class problems) computation.\n",
      "    ``None`` means 1 unless in a :obj:`joblib.parallel_backend` context.\n",
      "    ``-1`` means using all processors. See :term:`Glossary <n_jobs>`\n",
      "    for more details.\n",
      "\n",
      "random_state : int, RandomState instance, default=None\n",
      "    Used for shuffling the data, when ``shuffle`` is set to ``True``.\n",
      "    Pass an int for reproducible output across multiple function calls.\n",
      "    See :term:`Glossary <random_state>`.\n",
      "\n",
      "learning_rate : str, default='optimal'\n",
      "    The learning rate schedule:\n",
      "\n",
      "    - 'constant': `eta = eta0`\n",
      "    - 'optimal': `eta = 1.0 / (alpha * (t + t0))`\n",
      "      where t0 is chosen by a heuristic proposed by Leon Bottou.\n",
      "    - 'invscaling': `eta = eta0 / pow(t, power_t)`\n",
      "    - 'adaptive': eta = eta0, as long as the training keeps decreasing.\n",
      "      Each time n_iter_no_change consecutive epochs fail to decrease the\n",
      "      training loss by tol or fail to increase validation score by tol if\n",
      "      early_stopping is True, the current learning rate is divided by 5.\n",
      "\n",
      "        .. versionadded:: 0.20\n",
      "            Added 'adaptive' option\n",
      "\n",
      "eta0 : double, default=0.0\n",
      "    The initial learning rate for the 'constant', 'invscaling' or\n",
      "    'adaptive' schedules. The default value is 0.0 as eta0 is not used by\n",
      "    the default schedule 'optimal'.\n",
      "\n",
      "power_t : double, default=0.5\n",
      "    The exponent for inverse scaling learning rate [default 0.5].\n",
      "\n",
      "early_stopping : bool, default=False\n",
      "    Whether to use early stopping to terminate training when validation\n",
      "    score is not improving. If set to True, it will automatically set aside\n",
      "    a stratified fraction of training data as validation and terminate\n",
      "    training when validation score returned by the `score` method is not\n",
      "    improving by at least tol for n_iter_no_change consecutive epochs.\n",
      "\n",
      "    .. versionadded:: 0.20\n",
      "        Added 'early_stopping' option\n",
      "\n",
      "validation_fraction : float, default=0.1\n",
      "    The proportion of training data to set aside as validation set for\n",
      "    early stopping. Must be between 0 and 1.\n",
      "    Only used if `early_stopping` is True.\n",
      "\n",
      "    .. versionadded:: 0.20\n",
      "        Added 'validation_fraction' option\n",
      "\n",
      "n_iter_no_change : int, default=5\n",
      "    Number of iterations with no improvement to wait before early stopping.\n",
      "\n",
      "    .. versionadded:: 0.20\n",
      "        Added 'n_iter_no_change' option\n",
      "\n",
      "class_weight : dict, {class_label: weight} or \"balanced\", default=None\n",
      "    Preset for the class_weight fit parameter.\n",
      "\n",
      "    Weights associated with classes. If not given, all classes\n",
      "    are supposed to have weight one.\n",
      "\n",
      "    The \"balanced\" mode uses the values of y to automatically adjust\n",
      "    weights inversely proportional to class frequencies in the input data\n",
      "    as ``n_samples / (n_classes * np.bincount(y))``.\n",
      "\n",
      "warm_start : bool, default=False\n",
      "    When set to True, reuse the solution of the previous call to fit as\n",
      "    initialization, otherwise, just erase the previous solution.\n",
      "    See :term:`the Glossary <warm_start>`.\n",
      "\n",
      "    Repeatedly calling fit or partial_fit when warm_start is True can\n",
      "    result in a different solution than when calling fit a single time\n",
      "    because of the way the data is shuffled.\n",
      "    If a dynamic learning rate is used, the learning rate is adapted\n",
      "    depending on the number of samples already seen. Calling ``fit`` resets\n",
      "    this counter, while ``partial_fit`` will result in increasing the\n",
      "    existing counter.\n",
      "\n",
      "average : bool or int, default=False\n",
      "    When set to True, computes the averaged SGD weights accross all\n",
      "    updates and stores the result in the ``coef_`` attribute. If set to\n",
      "    an int greater than 1, averaging will begin once the total number of\n",
      "    samples seen reaches `average`. So ``average=10`` will begin\n",
      "    averaging after seeing 10 samples.\n",
      "\n",
      "Attributes\n",
      "----------\n",
      "coef_ : ndarray of shape (1, n_features) if n_classes == 2 else             (n_classes, n_features)\n",
      "    Weights assigned to the features.\n",
      "\n",
      "intercept_ : ndarray of shape (1,) if n_classes == 2 else (n_classes,)\n",
      "    Constants in decision function.\n",
      "\n",
      "n_iter_ : int\n",
      "    The actual number of iterations before reaching the stopping criterion.\n",
      "    For multiclass fits, it is the maximum over every binary fit.\n",
      "\n",
      "loss_function_ : concrete ``LossFunction``\n",
      "\n",
      "classes_ : array of shape (n_classes,)\n",
      "\n",
      "t_ : int\n",
      "    Number of weight updates performed during training.\n",
      "    Same as ``(n_iter_ * n_samples)``.\n",
      "\n",
      "See Also\n",
      "--------\n",
      "sklearn.svm.LinearSVC: Linear support vector classification.\n",
      "LogisticRegression: Logistic regression.\n",
      "Perceptron: Inherits from SGDClassifier. ``Perceptron()`` is equivalent to\n",
      "    ``SGDClassifier(loss=\"perceptron\", eta0=1, learning_rate=\"constant\",\n",
      "    penalty=None)``.\n",
      "\n",
      "Examples\n",
      "--------\n",
      ">>> import numpy as np\n",
      ">>> from sklearn.linear_model import SGDClassifier\n",
      ">>> from sklearn.preprocessing import StandardScaler\n",
      ">>> from sklearn.pipeline import make_pipeline\n",
      ">>> X = np.array([[-1, -1], [-2, -1], [1, 1], [2, 1]])\n",
      ">>> Y = np.array([1, 1, 2, 2])\n",
      ">>> # Always scale the input. The most convenient way is to use a pipeline.\n",
      ">>> clf = make_pipeline(StandardScaler(),\n",
      "...                     SGDClassifier(max_iter=1000, tol=1e-3))\n",
      ">>> clf.fit(X, Y)\n",
      "Pipeline(steps=[('standardscaler', StandardScaler()),\n",
      "                ('sgdclassifier', SGDClassifier())])\n",
      ">>> print(clf.predict([[-0.8, -1]]))\n",
      "[1]\n",
      "\u001b[1;31mFile:\u001b[0m           c:\\programdata\\anaconda3\\lib\\site-packages\\sklearn\\linear_model\\_stochastic_gradient.py\n",
      "\u001b[1;31mType:\u001b[0m           ABCMeta\n",
      "\u001b[1;31mSubclasses:\u001b[0m     \n"
     ],
     "name": "stdout"
    }
   ],
   "source": [
    "SGDClassifier?"
   ]
  },
  {
   "cell_type": "code",
   "execution_count": null,
   "metadata": {},
   "outputs": [],
   "source": []
  }
 ]
}