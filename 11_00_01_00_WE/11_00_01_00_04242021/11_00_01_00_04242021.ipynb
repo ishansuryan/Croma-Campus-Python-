{
 "metadata": {
  "language_info": {
   "codemirror_mode": {
    "name": "ipython",
    "version": 3
   },
   "file_extension": ".py",
   "mimetype": "text/x-python",
   "name": "python",
   "nbconvert_exporter": "python",
   "pygments_lexer": "ipython3",
   "version": "3.7.6"
  },
  "orig_nbformat": 2,
  "kernelspec": {
   "name": "python376jvsc74a57bd007efdcd4b820c98a756949507a4d29d7862823915ec7477944641bea022f4f62",
   "display_name": "Python 3.7.6 64-bit (conda)"
  }
 },
 "nbformat": 4,
 "nbformat_minor": 2,
 "cells": [
  {
   "cell_type": "code",
   "execution_count": 21,
   "metadata": {},
   "outputs": [],
   "source": [
    "from sklearn.datasets import fetch_openml\n",
    "%matplotlib inline\n",
    "import matplotlib.pyplot as plt\n",
    "import numpy as np"
   ]
  },
  {
   "cell_type": "code",
   "execution_count": 17,
   "metadata": {},
   "outputs": [],
   "source": [
    "digits = fetch_openml('mnist_784', version = 1 )"
   ]
  },
  {
   "cell_type": "code",
   "execution_count": 19,
   "metadata": {},
   "outputs": [],
   "source": [
    "x , y = digits['data'], digits['target']"
   ]
  },
  {
   "cell_type": "code",
   "execution_count": 20,
   "metadata": {},
   "outputs": [
    {
     "output_type": "execute_result",
     "data": {
      "text/plain": [
       "70000"
      ]
     },
     "metadata": {},
     "execution_count": 20
    }
   ],
   "source": [
    "len(x)"
   ]
  },
  {
   "cell_type": "code",
   "execution_count": 24,
   "metadata": {},
   "outputs": [
    {
     "output_type": "execute_result",
     "data": {
      "text/plain": [
       "array(['5', '0', '4', ..., '4', '5', '6'], dtype=object)"
      ]
     },
     "metadata": {},
     "execution_count": 24
    }
   ],
   "source": [
    "y"
   ]
  },
  {
   "cell_type": "code",
   "execution_count": 23,
   "metadata": {},
   "outputs": [
    {
     "output_type": "display_data",
     "data": {
      "text/plain": "<Figure size 432x288 with 1 Axes>",
      "image/svg+xml": "<?xml version=\"1.0\" encoding=\"utf-8\" standalone=\"no\"?>\r\n<!DOCTYPE svg PUBLIC \"-//W3C//DTD SVG 1.1//EN\"\r\n  \"http://www.w3.org/Graphics/SVG/1.1/DTD/svg11.dtd\">\r\n<!-- Created with matplotlib (https://matplotlib.org/) -->\r\n<svg height=\"248.518125pt\" version=\"1.1\" viewBox=\"0 0 251.565 248.518125\" width=\"251.565pt\" xmlns=\"http://www.w3.org/2000/svg\" xmlns:xlink=\"http://www.w3.org/1999/xlink\">\r\n <defs>\r\n  <style type=\"text/css\">\r\n*{stroke-linecap:butt;stroke-linejoin:round;}\r\n  </style>\r\n </defs>\r\n <g id=\"figure_1\">\r\n  <g id=\"patch_1\">\r\n   <path d=\"M 0 248.518125 \r\nL 251.565 248.518125 \r\nL 251.565 0 \r\nL 0 0 \r\nz\r\n\" style=\"fill:none;\"/>\r\n  </g>\r\n  <g id=\"axes_1\">\r\n   <g id=\"patch_2\">\r\n    <path d=\"M 26.925 224.64 \r\nL 244.365 224.64 \r\nL 244.365 7.2 \r\nL 26.925 7.2 \r\nz\r\n\" style=\"fill:#ffffff;\"/>\r\n   </g>\r\n   <g clip-path=\"url(#p172e0687b8)\">\r\n    <image height=\"218\" id=\"image2cd37dfc20\" transform=\"scale(1 -1)translate(0 -218)\" width=\"218\" x=\"26.925\" xlink:href=\"data:image/png;base64,\r\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\" y=\"-6.64\"/>\r\n   </g>\r\n   <g id=\"matplotlib.axis_1\">\r\n    <g id=\"xtick_1\">\r\n     <g id=\"line2d_1\">\r\n      <defs>\r\n       <path d=\"M 0 0 \r\nL 0 3.5 \r\n\" id=\"mba2f7e5378\" style=\"stroke:#000000;stroke-width:0.8;\"/>\r\n      </defs>\r\n      <g>\r\n       <use style=\"stroke:#000000;stroke-width:0.8;\" x=\"30.807857\" xlink:href=\"#mba2f7e5378\" y=\"224.64\"/>\r\n      </g>\r\n     </g>\r\n     <g id=\"text_1\">\r\n      <!-- 0 -->\r\n      <defs>\r\n       <path d=\"M 31.78125 66.40625 \r\nQ 24.171875 66.40625 20.328125 58.90625 \r\nQ 16.5 51.421875 16.5 36.375 \r\nQ 16.5 21.390625 20.328125 13.890625 \r\nQ 24.171875 6.390625 31.78125 6.390625 \r\nQ 39.453125 6.390625 43.28125 13.890625 \r\nQ 47.125 21.390625 47.125 36.375 \r\nQ 47.125 51.421875 43.28125 58.90625 \r\nQ 39.453125 66.40625 31.78125 66.40625 \r\nz\r\nM 31.78125 74.21875 \r\nQ 44.046875 74.21875 50.515625 64.515625 \r\nQ 56.984375 54.828125 56.984375 36.375 \r\nQ 56.984375 17.96875 50.515625 8.265625 \r\nQ 44.046875 -1.421875 31.78125 -1.421875 \r\nQ 19.53125 -1.421875 13.0625 8.265625 \r\nQ 6.59375 17.96875 6.59375 36.375 \r\nQ 6.59375 54.828125 13.0625 64.515625 \r\nQ 19.53125 74.21875 31.78125 74.21875 \r\nz\r\n\" id=\"DejaVuSans-48\"/>\r\n      </defs>\r\n      <g transform=\"translate(27.626607 239.238437)scale(0.1 -0.1)\">\r\n       <use xlink:href=\"#DejaVuSans-48\"/>\r\n      </g>\r\n     </g>\r\n    </g>\r\n    <g id=\"xtick_2\">\r\n     <g id=\"line2d_2\">\r\n      <g>\r\n       <use style=\"stroke:#000000;stroke-width:0.8;\" x=\"69.636429\" xlink:href=\"#mba2f7e5378\" y=\"224.64\"/>\r\n      </g>\r\n     </g>\r\n     <g id=\"text_2\">\r\n      <!-- 5 -->\r\n      <defs>\r\n       <path d=\"M 10.796875 72.90625 \r\nL 49.515625 72.90625 \r\nL 49.515625 64.59375 \r\nL 19.828125 64.59375 \r\nL 19.828125 46.734375 \r\nQ 21.96875 47.46875 24.109375 47.828125 \r\nQ 26.265625 48.1875 28.421875 48.1875 \r\nQ 40.625 48.1875 47.75 41.5 \r\nQ 54.890625 34.8125 54.890625 23.390625 \r\nQ 54.890625 11.625 47.5625 5.09375 \r\nQ 40.234375 -1.421875 26.90625 -1.421875 \r\nQ 22.3125 -1.421875 17.546875 -0.640625 \r\nQ 12.796875 0.140625 7.71875 1.703125 \r\nL 7.71875 11.625 \r\nQ 12.109375 9.234375 16.796875 8.0625 \r\nQ 21.484375 6.890625 26.703125 6.890625 \r\nQ 35.15625 6.890625 40.078125 11.328125 \r\nQ 45.015625 15.765625 45.015625 23.390625 \r\nQ 45.015625 31 40.078125 35.4375 \r\nQ 35.15625 39.890625 26.703125 39.890625 \r\nQ 22.75 39.890625 18.8125 39.015625 \r\nQ 14.890625 38.140625 10.796875 36.28125 \r\nz\r\n\" id=\"DejaVuSans-53\"/>\r\n      </defs>\r\n      <g transform=\"translate(66.455179 239.238437)scale(0.1 -0.1)\">\r\n       <use xlink:href=\"#DejaVuSans-53\"/>\r\n      </g>\r\n     </g>\r\n    </g>\r\n    <g id=\"xtick_3\">\r\n     <g id=\"line2d_3\">\r\n      <g>\r\n       <use style=\"stroke:#000000;stroke-width:0.8;\" x=\"108.465\" xlink:href=\"#mba2f7e5378\" y=\"224.64\"/>\r\n      </g>\r\n     </g>\r\n     <g id=\"text_3\">\r\n      <!-- 10 -->\r\n      <defs>\r\n       <path d=\"M 12.40625 8.296875 \r\nL 28.515625 8.296875 \r\nL 28.515625 63.921875 \r\nL 10.984375 60.40625 \r\nL 10.984375 69.390625 \r\nL 28.421875 72.90625 \r\nL 38.28125 72.90625 \r\nL 38.28125 8.296875 \r\nL 54.390625 8.296875 \r\nL 54.390625 0 \r\nL 12.40625 0 \r\nz\r\n\" id=\"DejaVuSans-49\"/>\r\n      </defs>\r\n      <g transform=\"translate(102.1025 239.238437)scale(0.1 -0.1)\">\r\n       <use xlink:href=\"#DejaVuSans-49\"/>\r\n       <use x=\"63.623047\" xlink:href=\"#DejaVuSans-48\"/>\r\n      </g>\r\n     </g>\r\n    </g>\r\n    <g id=\"xtick_4\">\r\n     <g id=\"line2d_4\">\r\n      <g>\r\n       <use style=\"stroke:#000000;stroke-width:0.8;\" x=\"147.293571\" xlink:href=\"#mba2f7e5378\" y=\"224.64\"/>\r\n      </g>\r\n     </g>\r\n     <g id=\"text_4\">\r\n      <!-- 15 -->\r\n      <g transform=\"translate(140.931071 239.238437)scale(0.1 -0.1)\">\r\n       <use xlink:href=\"#DejaVuSans-49\"/>\r\n       <use x=\"63.623047\" xlink:href=\"#DejaVuSans-53\"/>\r\n      </g>\r\n     </g>\r\n    </g>\r\n    <g id=\"xtick_5\">\r\n     <g id=\"line2d_5\">\r\n      <g>\r\n       <use style=\"stroke:#000000;stroke-width:0.8;\" x=\"186.122143\" xlink:href=\"#mba2f7e5378\" y=\"224.64\"/>\r\n      </g>\r\n     </g>\r\n     <g id=\"text_5\">\r\n      <!-- 20 -->\r\n      <defs>\r\n       <path d=\"M 19.1875 8.296875 \r\nL 53.609375 8.296875 \r\nL 53.609375 0 \r\nL 7.328125 0 \r\nL 7.328125 8.296875 \r\nQ 12.9375 14.109375 22.625 23.890625 \r\nQ 32.328125 33.6875 34.8125 36.53125 \r\nQ 39.546875 41.84375 41.421875 45.53125 \r\nQ 43.3125 49.21875 43.3125 52.78125 \r\nQ 43.3125 58.59375 39.234375 62.25 \r\nQ 35.15625 65.921875 28.609375 65.921875 \r\nQ 23.96875 65.921875 18.8125 64.3125 \r\nQ 13.671875 62.703125 7.8125 59.421875 \r\nL 7.8125 69.390625 \r\nQ 13.765625 71.78125 18.9375 73 \r\nQ 24.125 74.21875 28.421875 74.21875 \r\nQ 39.75 74.21875 46.484375 68.546875 \r\nQ 53.21875 62.890625 53.21875 53.421875 \r\nQ 53.21875 48.921875 51.53125 44.890625 \r\nQ 49.859375 40.875 45.40625 35.40625 \r\nQ 44.1875 33.984375 37.640625 27.21875 \r\nQ 31.109375 20.453125 19.1875 8.296875 \r\nz\r\n\" id=\"DejaVuSans-50\"/>\r\n      </defs>\r\n      <g transform=\"translate(179.759643 239.238437)scale(0.1 -0.1)\">\r\n       <use xlink:href=\"#DejaVuSans-50\"/>\r\n       <use x=\"63.623047\" xlink:href=\"#DejaVuSans-48\"/>\r\n      </g>\r\n     </g>\r\n    </g>\r\n    <g id=\"xtick_6\">\r\n     <g id=\"line2d_6\">\r\n      <g>\r\n       <use style=\"stroke:#000000;stroke-width:0.8;\" x=\"224.950714\" xlink:href=\"#mba2f7e5378\" y=\"224.64\"/>\r\n      </g>\r\n     </g>\r\n     <g id=\"text_6\">\r\n      <!-- 25 -->\r\n      <g transform=\"translate(218.588214 239.238437)scale(0.1 -0.1)\">\r\n       <use xlink:href=\"#DejaVuSans-50\"/>\r\n       <use x=\"63.623047\" xlink:href=\"#DejaVuSans-53\"/>\r\n      </g>\r\n     </g>\r\n    </g>\r\n   </g>\r\n   <g id=\"matplotlib.axis_2\">\r\n    <g id=\"ytick_1\">\r\n     <g id=\"line2d_7\">\r\n      <defs>\r\n       <path d=\"M 0 0 \r\nL -3.5 0 \r\n\" id=\"m74c599d222\" style=\"stroke:#000000;stroke-width:0.8;\"/>\r\n      </defs>\r\n      <g>\r\n       <use style=\"stroke:#000000;stroke-width:0.8;\" x=\"26.925\" xlink:href=\"#m74c599d222\" y=\"11.082857\"/>\r\n      </g>\r\n     </g>\r\n     <g id=\"text_7\">\r\n      <!-- 0 -->\r\n      <g transform=\"translate(13.5625 14.882076)scale(0.1 -0.1)\">\r\n       <use xlink:href=\"#DejaVuSans-48\"/>\r\n      </g>\r\n     </g>\r\n    </g>\r\n    <g id=\"ytick_2\">\r\n     <g id=\"line2d_8\">\r\n      <g>\r\n       <use style=\"stroke:#000000;stroke-width:0.8;\" x=\"26.925\" xlink:href=\"#m74c599d222\" y=\"49.911429\"/>\r\n      </g>\r\n     </g>\r\n     <g id=\"text_8\">\r\n      <!-- 5 -->\r\n      <g transform=\"translate(13.5625 53.710647)scale(0.1 -0.1)\">\r\n       <use xlink:href=\"#DejaVuSans-53\"/>\r\n      </g>\r\n     </g>\r\n    </g>\r\n    <g id=\"ytick_3\">\r\n     <g id=\"line2d_9\">\r\n      <g>\r\n       <use style=\"stroke:#000000;stroke-width:0.8;\" x=\"26.925\" xlink:href=\"#m74c599d222\" y=\"88.74\"/>\r\n      </g>\r\n     </g>\r\n     <g id=\"text_9\">\r\n      <!-- 10 -->\r\n      <g transform=\"translate(7.2 92.539219)scale(0.1 -0.1)\">\r\n       <use xlink:href=\"#DejaVuSans-49\"/>\r\n       <use x=\"63.623047\" xlink:href=\"#DejaVuSans-48\"/>\r\n      </g>\r\n     </g>\r\n    </g>\r\n    <g id=\"ytick_4\">\r\n     <g id=\"line2d_10\">\r\n      <g>\r\n       <use style=\"stroke:#000000;stroke-width:0.8;\" x=\"26.925\" xlink:href=\"#m74c599d222\" y=\"127.568571\"/>\r\n      </g>\r\n     </g>\r\n     <g id=\"text_10\">\r\n      <!-- 15 -->\r\n      <g transform=\"translate(7.2 131.36779)scale(0.1 -0.1)\">\r\n       <use xlink:href=\"#DejaVuSans-49\"/>\r\n       <use x=\"63.623047\" xlink:href=\"#DejaVuSans-53\"/>\r\n      </g>\r\n     </g>\r\n    </g>\r\n    <g id=\"ytick_5\">\r\n     <g id=\"line2d_11\">\r\n      <g>\r\n       <use style=\"stroke:#000000;stroke-width:0.8;\" x=\"26.925\" xlink:href=\"#m74c599d222\" y=\"166.397143\"/>\r\n      </g>\r\n     </g>\r\n     <g id=\"text_11\">\r\n      <!-- 20 -->\r\n      <g transform=\"translate(7.2 170.196362)scale(0.1 -0.1)\">\r\n       <use xlink:href=\"#DejaVuSans-50\"/>\r\n       <use x=\"63.623047\" xlink:href=\"#DejaVuSans-48\"/>\r\n      </g>\r\n     </g>\r\n    </g>\r\n    <g id=\"ytick_6\">\r\n     <g id=\"line2d_12\">\r\n      <g>\r\n       <use style=\"stroke:#000000;stroke-width:0.8;\" x=\"26.925\" xlink:href=\"#m74c599d222\" y=\"205.225714\"/>\r\n      </g>\r\n     </g>\r\n     <g id=\"text_12\">\r\n      <!-- 25 -->\r\n      <g transform=\"translate(7.2 209.024933)scale(0.1 -0.1)\">\r\n       <use xlink:href=\"#DejaVuSans-50\"/>\r\n       <use x=\"63.623047\" xlink:href=\"#DejaVuSans-53\"/>\r\n      </g>\r\n     </g>\r\n    </g>\r\n   </g>\r\n   <g id=\"patch_3\">\r\n    <path d=\"M 26.925 224.64 \r\nL 26.925 7.2 \r\n\" style=\"fill:none;stroke:#000000;stroke-linecap:square;stroke-linejoin:miter;stroke-width:0.8;\"/>\r\n   </g>\r\n   <g id=\"patch_4\">\r\n    <path d=\"M 244.365 224.64 \r\nL 244.365 7.2 \r\n\" style=\"fill:none;stroke:#000000;stroke-linecap:square;stroke-linejoin:miter;stroke-width:0.8;\"/>\r\n   </g>\r\n   <g id=\"patch_5\">\r\n    <path d=\"M 26.925 224.64 \r\nL 244.365 224.64 \r\n\" style=\"fill:none;stroke:#000000;stroke-linecap:square;stroke-linejoin:miter;stroke-width:0.8;\"/>\r\n   </g>\r\n   <g id=\"patch_6\">\r\n    <path d=\"M 26.925 7.2 \r\nL 244.365 7.2 \r\n\" style=\"fill:none;stroke:#000000;stroke-linecap:square;stroke-linejoin:miter;stroke-width:0.8;\"/>\r\n   </g>\r\n  </g>\r\n </g>\r\n <defs>\r\n  <clipPath id=\"p172e0687b8\">\r\n   <rect height=\"217.44\" width=\"217.44\" x=\"26.925\" y=\"7.2\"/>\r\n  </clipPath>\r\n </defs>\r\n</svg>\r\n",
      "image/png": "[encoded data removed]"
     },
     "metadata": {
      "needs_background": "light"
     }
    }
   ],
   "source": [
    "plt.imshow(x[1].reshape(-1,28))\n",
    "plt.show()"
   ]
  },
  {
   "cell_type": "code",
   "execution_count": 34,
   "metadata": {},
   "outputs": [
    {
     "output_type": "execute_result",
     "data": {
      "text/plain": [
       "(array([False,  True]), array([62707,  7293], dtype=int64))"
      ]
     },
     "metadata": {},
     "execution_count": 34
    }
   ],
   "source": [
    "np.unique(y_7, return_counts=True)"
   ]
  },
  {
   "cell_type": "code",
   "execution_count": 36,
   "metadata": {},
   "outputs": [],
   "source": [
    "from sklearn.linear_model import SGDClassifier\n",
    "from sklearn.model_selection import train_test_split"
   ]
  },
  {
   "cell_type": "code",
   "execution_count": null,
   "metadata": {},
   "outputs": [],
   "source": [
    "# x_train,x_test,y_7_train,y_7_test = train_test_split(x,y_7,test_size = 0.2, random_seed = 42)"
   ]
  },
  {
   "cell_type": "code",
   "execution_count": 46,
   "metadata": {},
   "outputs": [],
   "source": [
    "x_train, x_test = x[:60000], x[60000:]\n",
    "y_train, y_test = y[:60000], y[60000:]"
   ]
  },
  {
   "cell_type": "code",
   "execution_count": 47,
   "metadata": {},
   "outputs": [
    {
     "output_type": "execute_result",
     "data": {
      "text/plain": [
       "<matplotlib.image.AxesImage at 0x17f2a188908>"
      ]
     },
     "metadata": {},
     "execution_count": 47
    },
    {
     "output_type": "display_data",
     "data": {
      "text/plain": "<Figure size 432x288 with 1 Axes>",
      "image/svg+xml": "<?xml version=\"1.0\" encoding=\"utf-8\" standalone=\"no\"?>\r\n<!DOCTYPE svg PUBLIC \"-//W3C//DTD SVG 1.1//EN\"\r\n  \"http://www.w3.org/Graphics/SVG/1.1/DTD/svg11.dtd\">\r\n<!-- Created with matplotlib (https://matplotlib.org/) -->\r\n<svg height=\"248.518125pt\" version=\"1.1\" viewBox=\"0 0 251.565 248.518125\" width=\"251.565pt\" xmlns=\"http://www.w3.org/2000/svg\" xmlns:xlink=\"http://www.w3.org/1999/xlink\">\r\n <defs>\r\n  <style type=\"text/css\">\r\n*{stroke-linecap:butt;stroke-linejoin:round;}\r\n  </style>\r\n </defs>\r\n <g id=\"figure_1\">\r\n  <g id=\"patch_1\">\r\n   <path d=\"M 0 248.518125 \r\nL 251.565 248.518125 \r\nL 251.565 0 \r\nL 0 0 \r\nz\r\n\" style=\"fill:none;\"/>\r\n  </g>\r\n  <g id=\"axes_1\">\r\n   <g id=\"patch_2\">\r\n    <path d=\"M 26.925 224.64 \r\nL 244.365 224.64 \r\nL 244.365 7.2 \r\nL 26.925 7.2 \r\nz\r\n\" style=\"fill:#ffffff;\"/>\r\n   </g>\r\n   <g clip-path=\"url(#p52ef0ee389)\">\r\n    <image height=\"218\" id=\"image02cccdb36e\" transform=\"scale(1 -1)translate(0 -218)\" width=\"218\" x=\"26.925\" xlink:href=\"data:image/png;base64,\r\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\" y=\"-6.64\"/>\r\n   </g>\r\n   <g id=\"matplotlib.axis_1\">\r\n    <g id=\"xtick_1\">\r\n     <g id=\"line2d_1\">\r\n      <defs>\r\n       <path d=\"M 0 0 \r\nL 0 3.5 \r\n\" id=\"m6263ae377b\" style=\"stroke:#000000;stroke-width:0.8;\"/>\r\n      </defs>\r\n      <g>\r\n       <use style=\"stroke:#000000;stroke-width:0.8;\" x=\"30.807857\" xlink:href=\"#m6263ae377b\" y=\"224.64\"/>\r\n      </g>\r\n     </g>\r\n     <g id=\"text_1\">\r\n      <!-- 0 -->\r\n      <defs>\r\n       <path d=\"M 31.78125 66.40625 \r\nQ 24.171875 66.40625 20.328125 58.90625 \r\nQ 16.5 51.421875 16.5 36.375 \r\nQ 16.5 21.390625 20.328125 13.890625 \r\nQ 24.171875 6.390625 31.78125 6.390625 \r\nQ 39.453125 6.390625 43.28125 13.890625 \r\nQ 47.125 21.390625 47.125 36.375 \r\nQ 47.125 51.421875 43.28125 58.90625 \r\nQ 39.453125 66.40625 31.78125 66.40625 \r\nz\r\nM 31.78125 74.21875 \r\nQ 44.046875 74.21875 50.515625 64.515625 \r\nQ 56.984375 54.828125 56.984375 36.375 \r\nQ 56.984375 17.96875 50.515625 8.265625 \r\nQ 44.046875 -1.421875 31.78125 -1.421875 \r\nQ 19.53125 -1.421875 13.0625 8.265625 \r\nQ 6.59375 17.96875 6.59375 36.375 \r\nQ 6.59375 54.828125 13.0625 64.515625 \r\nQ 19.53125 74.21875 31.78125 74.21875 \r\nz\r\n\" id=\"DejaVuSans-48\"/>\r\n      </defs>\r\n      <g transform=\"translate(27.626607 239.238437)scale(0.1 -0.1)\">\r\n       <use xlink:href=\"#DejaVuSans-48\"/>\r\n      </g>\r\n     </g>\r\n    </g>\r\n    <g id=\"xtick_2\">\r\n     <g id=\"line2d_2\">\r\n      <g>\r\n       <use style=\"stroke:#000000;stroke-width:0.8;\" x=\"69.636429\" xlink:href=\"#m6263ae377b\" y=\"224.64\"/>\r\n      </g>\r\n     </g>\r\n     <g id=\"text_2\">\r\n      <!-- 5 -->\r\n      <defs>\r\n       <path d=\"M 10.796875 72.90625 \r\nL 49.515625 72.90625 \r\nL 49.515625 64.59375 \r\nL 19.828125 64.59375 \r\nL 19.828125 46.734375 \r\nQ 21.96875 47.46875 24.109375 47.828125 \r\nQ 26.265625 48.1875 28.421875 48.1875 \r\nQ 40.625 48.1875 47.75 41.5 \r\nQ 54.890625 34.8125 54.890625 23.390625 \r\nQ 54.890625 11.625 47.5625 5.09375 \r\nQ 40.234375 -1.421875 26.90625 -1.421875 \r\nQ 22.3125 -1.421875 17.546875 -0.640625 \r\nQ 12.796875 0.140625 7.71875 1.703125 \r\nL 7.71875 11.625 \r\nQ 12.109375 9.234375 16.796875 8.0625 \r\nQ 21.484375 6.890625 26.703125 6.890625 \r\nQ 35.15625 6.890625 40.078125 11.328125 \r\nQ 45.015625 15.765625 45.015625 23.390625 \r\nQ 45.015625 31 40.078125 35.4375 \r\nQ 35.15625 39.890625 26.703125 39.890625 \r\nQ 22.75 39.890625 18.8125 39.015625 \r\nQ 14.890625 38.140625 10.796875 36.28125 \r\nz\r\n\" id=\"DejaVuSans-53\"/>\r\n      </defs>\r\n      <g transform=\"translate(66.455179 239.238437)scale(0.1 -0.1)\">\r\n       <use xlink:href=\"#DejaVuSans-53\"/>\r\n      </g>\r\n     </g>\r\n    </g>\r\n    <g id=\"xtick_3\">\r\n     <g id=\"line2d_3\">\r\n      <g>\r\n       <use style=\"stroke:#000000;stroke-width:0.8;\" x=\"108.465\" xlink:href=\"#m6263ae377b\" y=\"224.64\"/>\r\n      </g>\r\n     </g>\r\n     <g id=\"text_3\">\r\n      <!-- 10 -->\r\n      <defs>\r\n       <path d=\"M 12.40625 8.296875 \r\nL 28.515625 8.296875 \r\nL 28.515625 63.921875 \r\nL 10.984375 60.40625 \r\nL 10.984375 69.390625 \r\nL 28.421875 72.90625 \r\nL 38.28125 72.90625 \r\nL 38.28125 8.296875 \r\nL 54.390625 8.296875 \r\nL 54.390625 0 \r\nL 12.40625 0 \r\nz\r\n\" id=\"DejaVuSans-49\"/>\r\n      </defs>\r\n      <g transform=\"translate(102.1025 239.238437)scale(0.1 -0.1)\">\r\n       <use xlink:href=\"#DejaVuSans-49\"/>\r\n       <use x=\"63.623047\" xlink:href=\"#DejaVuSans-48\"/>\r\n      </g>\r\n     </g>\r\n    </g>\r\n    <g id=\"xtick_4\">\r\n     <g id=\"line2d_4\">\r\n      <g>\r\n       <use style=\"stroke:#000000;stroke-width:0.8;\" x=\"147.293571\" xlink:href=\"#m6263ae377b\" y=\"224.64\"/>\r\n      </g>\r\n     </g>\r\n     <g id=\"text_4\">\r\n      <!-- 15 -->\r\n      <g transform=\"translate(140.931071 239.238437)scale(0.1 -0.1)\">\r\n       <use xlink:href=\"#DejaVuSans-49\"/>\r\n       <use x=\"63.623047\" xlink:href=\"#DejaVuSans-53\"/>\r\n      </g>\r\n     </g>\r\n    </g>\r\n    <g id=\"xtick_5\">\r\n     <g id=\"line2d_5\">\r\n      <g>\r\n       <use style=\"stroke:#000000;stroke-width:0.8;\" x=\"186.122143\" xlink:href=\"#m6263ae377b\" y=\"224.64\"/>\r\n      </g>\r\n     </g>\r\n     <g id=\"text_5\">\r\n      <!-- 20 -->\r\n      <defs>\r\n       <path d=\"M 19.1875 8.296875 \r\nL 53.609375 8.296875 \r\nL 53.609375 0 \r\nL 7.328125 0 \r\nL 7.328125 8.296875 \r\nQ 12.9375 14.109375 22.625 23.890625 \r\nQ 32.328125 33.6875 34.8125 36.53125 \r\nQ 39.546875 41.84375 41.421875 45.53125 \r\nQ 43.3125 49.21875 43.3125 52.78125 \r\nQ 43.3125 58.59375 39.234375 62.25 \r\nQ 35.15625 65.921875 28.609375 65.921875 \r\nQ 23.96875 65.921875 18.8125 64.3125 \r\nQ 13.671875 62.703125 7.8125 59.421875 \r\nL 7.8125 69.390625 \r\nQ 13.765625 71.78125 18.9375 73 \r\nQ 24.125 74.21875 28.421875 74.21875 \r\nQ 39.75 74.21875 46.484375 68.546875 \r\nQ 53.21875 62.890625 53.21875 53.421875 \r\nQ 53.21875 48.921875 51.53125 44.890625 \r\nQ 49.859375 40.875 45.40625 35.40625 \r\nQ 44.1875 33.984375 37.640625 27.21875 \r\nQ 31.109375 20.453125 19.1875 8.296875 \r\nz\r\n\" id=\"DejaVuSans-50\"/>\r\n      </defs>\r\n      <g transform=\"translate(179.759643 239.238437)scale(0.1 -0.1)\">\r\n       <use xlink:href=\"#DejaVuSans-50\"/>\r\n       <use x=\"63.623047\" xlink:href=\"#DejaVuSans-48\"/>\r\n      </g>\r\n     </g>\r\n    </g>\r\n    <g id=\"xtick_6\">\r\n     <g id=\"line2d_6\">\r\n      <g>\r\n       <use style=\"stroke:#000000;stroke-width:0.8;\" x=\"224.950714\" xlink:href=\"#m6263ae377b\" y=\"224.64\"/>\r\n      </g>\r\n     </g>\r\n     <g id=\"text_6\">\r\n      <!-- 25 -->\r\n      <g transform=\"translate(218.588214 239.238437)scale(0.1 -0.1)\">\r\n       <use xlink:href=\"#DejaVuSans-50\"/>\r\n       <use x=\"63.623047\" xlink:href=\"#DejaVuSans-53\"/>\r\n      </g>\r\n     </g>\r\n    </g>\r\n   </g>\r\n   <g id=\"matplotlib.axis_2\">\r\n    <g id=\"ytick_1\">\r\n     <g id=\"line2d_7\">\r\n      <defs>\r\n       <path d=\"M 0 0 \r\nL -3.5 0 \r\n\" id=\"ma6736a2692\" style=\"stroke:#000000;stroke-width:0.8;\"/>\r\n      </defs>\r\n      <g>\r\n       <use style=\"stroke:#000000;stroke-width:0.8;\" x=\"26.925\" xlink:href=\"#ma6736a2692\" y=\"11.082857\"/>\r\n      </g>\r\n     </g>\r\n     <g id=\"text_7\">\r\n      <!-- 0 -->\r\n      <g transform=\"translate(13.5625 14.882076)scale(0.1 -0.1)\">\r\n       <use xlink:href=\"#DejaVuSans-48\"/>\r\n      </g>\r\n     </g>\r\n    </g>\r\n    <g id=\"ytick_2\">\r\n     <g id=\"line2d_8\">\r\n      <g>\r\n       <use style=\"stroke:#000000;stroke-width:0.8;\" x=\"26.925\" xlink:href=\"#ma6736a2692\" y=\"49.911429\"/>\r\n      </g>\r\n     </g>\r\n     <g id=\"text_8\">\r\n      <!-- 5 -->\r\n      <g transform=\"translate(13.5625 53.710647)scale(0.1 -0.1)\">\r\n       <use xlink:href=\"#DejaVuSans-53\"/>\r\n      </g>\r\n     </g>\r\n    </g>\r\n    <g id=\"ytick_3\">\r\n     <g id=\"line2d_9\">\r\n      <g>\r\n       <use style=\"stroke:#000000;stroke-width:0.8;\" x=\"26.925\" xlink:href=\"#ma6736a2692\" y=\"88.74\"/>\r\n      </g>\r\n     </g>\r\n     <g id=\"text_9\">\r\n      <!-- 10 -->\r\n      <g transform=\"translate(7.2 92.539219)scale(0.1 -0.1)\">\r\n       <use xlink:href=\"#DejaVuSans-49\"/>\r\n       <use x=\"63.623047\" xlink:href=\"#DejaVuSans-48\"/>\r\n      </g>\r\n     </g>\r\n    </g>\r\n    <g id=\"ytick_4\">\r\n     <g id=\"line2d_10\">\r\n      <g>\r\n       <use style=\"stroke:#000000;stroke-width:0.8;\" x=\"26.925\" xlink:href=\"#ma6736a2692\" y=\"127.568571\"/>\r\n      </g>\r\n     </g>\r\n     <g id=\"text_10\">\r\n      <!-- 15 -->\r\n      <g transform=\"translate(7.2 131.36779)scale(0.1 -0.1)\">\r\n       <use xlink:href=\"#DejaVuSans-49\"/>\r\n       <use x=\"63.623047\" xlink:href=\"#DejaVuSans-53\"/>\r\n      </g>\r\n     </g>\r\n    </g>\r\n    <g id=\"ytick_5\">\r\n     <g id=\"line2d_11\">\r\n      <g>\r\n       <use style=\"stroke:#000000;stroke-width:0.8;\" x=\"26.925\" xlink:href=\"#ma6736a2692\" y=\"166.397143\"/>\r\n      </g>\r\n     </g>\r\n     <g id=\"text_11\">\r\n      <!-- 20 -->\r\n      <g transform=\"translate(7.2 170.196362)scale(0.1 -0.1)\">\r\n       <use xlink:href=\"#DejaVuSans-50\"/>\r\n       <use x=\"63.623047\" xlink:href=\"#DejaVuSans-48\"/>\r\n      </g>\r\n     </g>\r\n    </g>\r\n    <g id=\"ytick_6\">\r\n     <g id=\"line2d_12\">\r\n      <g>\r\n       <use style=\"stroke:#000000;stroke-width:0.8;\" x=\"26.925\" xlink:href=\"#ma6736a2692\" y=\"205.225714\"/>\r\n      </g>\r\n     </g>\r\n     <g id=\"text_12\">\r\n      <!-- 25 -->\r\n      <g transform=\"translate(7.2 209.024933)scale(0.1 -0.1)\">\r\n       <use xlink:href=\"#DejaVuSans-50\"/>\r\n       <use x=\"63.623047\" xlink:href=\"#DejaVuSans-53\"/>\r\n      </g>\r\n     </g>\r\n    </g>\r\n   </g>\r\n   <g id=\"patch_3\">\r\n    <path d=\"M 26.925 224.64 \r\nL 26.925 7.2 \r\n\" style=\"fill:none;stroke:#000000;stroke-linecap:square;stroke-linejoin:miter;stroke-width:0.8;\"/>\r\n   </g>\r\n   <g id=\"patch_4\">\r\n    <path d=\"M 244.365 224.64 \r\nL 244.365 7.2 \r\n\" style=\"fill:none;stroke:#000000;stroke-linecap:square;stroke-linejoin:miter;stroke-width:0.8;\"/>\r\n   </g>\r\n   <g id=\"patch_5\">\r\n    <path d=\"M 26.925 224.64 \r\nL 244.365 224.64 \r\n\" style=\"fill:none;stroke:#000000;stroke-linecap:square;stroke-linejoin:miter;stroke-width:0.8;\"/>\r\n   </g>\r\n   <g id=\"patch_6\">\r\n    <path d=\"M 26.925 7.2 \r\nL 244.365 7.2 \r\n\" style=\"fill:none;stroke:#000000;stroke-linecap:square;stroke-linejoin:miter;stroke-width:0.8;\"/>\r\n   </g>\r\n  </g>\r\n </g>\r\n <defs>\r\n  <clipPath id=\"p52ef0ee389\">\r\n   <rect height=\"217.44\" width=\"217.44\" x=\"26.925\" y=\"7.2\"/>\r\n  </clipPath>\r\n </defs>\r\n</svg>\r\n",
      "image/png": "[encoded data removed]"
     },
     "metadata": {
      "needs_background": "light"
     }
    }
   ],
   "source": [
    "plt.imshow(x_train[1].reshape(-1,28))"
   ]
  },
  {
   "cell_type": "code",
   "execution_count": 48,
   "metadata": {},
   "outputs": [
    {
     "output_type": "execute_result",
     "data": {
      "text/plain": [
       "array([12628, 37730, 39991, ...,   860, 15795, 56422])"
      ]
     },
     "metadata": {},
     "execution_count": 48
    }
   ],
   "source": [
    "np.random.seed(42)\n",
    "shuffle_index = np.random.permutation(60000)\n",
    "shuffle_index"
   ]
  },
  {
   "cell_type": "code",
   "execution_count": 49,
   "metadata": {},
   "outputs": [],
   "source": [
    "x_train = x_train[shuffle_index]\n",
    "y_train = y_train[shuffle_index]"
   ]
  },
  {
   "cell_type": "code",
   "execution_count": 50,
   "metadata": {},
   "outputs": [
    {
     "output_type": "execute_result",
     "data": {
      "text/plain": [
       "<matplotlib.image.AxesImage at 0x17f29ed6f48>"
      ]
     },
     "metadata": {},
     "execution_count": 50
    },
    {
     "output_type": "display_data",
     "data": {
      "text/plain": "<Figure size 432x288 with 1 Axes>",
      "image/svg+xml": "<?xml version=\"1.0\" encoding=\"utf-8\" standalone=\"no\"?>\r\n<!DOCTYPE svg PUBLIC \"-//W3C//DTD SVG 1.1//EN\"\r\n  \"http://www.w3.org/Graphics/SVG/1.1/DTD/svg11.dtd\">\r\n<!-- Created with matplotlib (https://matplotlib.org/) -->\r\n<svg height=\"248.518125pt\" version=\"1.1\" viewBox=\"0 0 251.565 248.518125\" width=\"251.565pt\" xmlns=\"http://www.w3.org/2000/svg\" xmlns:xlink=\"http://www.w3.org/1999/xlink\">\r\n <defs>\r\n  <style type=\"text/css\">\r\n*{stroke-linecap:butt;stroke-linejoin:round;}\r\n  </style>\r\n </defs>\r\n <g id=\"figure_1\">\r\n  <g id=\"patch_1\">\r\n   <path d=\"M 0 248.518125 \r\nL 251.565 248.518125 \r\nL 251.565 0 \r\nL 0 0 \r\nz\r\n\" style=\"fill:none;\"/>\r\n  </g>\r\n  <g id=\"axes_1\">\r\n   <g id=\"patch_2\">\r\n    <path d=\"M 26.925 224.64 \r\nL 244.365 224.64 \r\nL 244.365 7.2 \r\nL 26.925 7.2 \r\nz\r\n\" style=\"fill:#ffffff;\"/>\r\n   </g>\r\n   <g clip-path=\"url(#pa15f977a18)\">\r\n    <image height=\"218\" id=\"imageb7929b68e1\" transform=\"scale(1 -1)translate(0 -218)\" width=\"218\" x=\"26.925\" xlink:href=\"data:image/png;base64,\r\niVBORw0KGgoAAAANSUhEUgAAANoAAADaCAYAAADAHVzbAAAABHNCSVQICAgIfAhkiAAABHtJREFUeJzt3aFrnGccwPG7URUxO5gpIzGtmltKaVRhelCIq21hqmZ/REzVILN1VdGzHWWpm+pMQ4gp1FbMdqpiLPceubf3fZO7z8c+3N1jvjxwP573nT+cP/o0A9bqq6k3ANtAaBAQGgSEBgGhQUBoEBAaBIQGAaFBQGgQEBoEhAYBoUFAaBAQGgSEBgGhQUBoEBAaBIQGAaFBQGgQEBoEhAYBoUFAaBAQGgSEBgGhQUBoELg19Qam8s9PPwyuvz+YD67f3387uP7i9qsr7+mzxxcHK392NpvNzo/uDK7vnLwZ9f1cnRMNAkKDgNAgIDQICA0CQoOA0CAwfzh/9GnqTazDu+f7g+tnh8fRTq6foTndh3sfw51sDycaBIQGAaFBQGgQEBoEhAYBoUHgRs/Rhu6U/fHrb+FO/m9oVjXmrtrUdl8+HVzfe3Ya7eRmcaJBQGgQEBoEhAYBoUFAaBAQGgRu9Bxt6M7Zsucuvj69O7g+5Txo7DMnp7xrZ852OScaBIQGAaFBQGgQEBoEhAaBG/33PpcbMx5Y92hgWx9150SDgNAgIDQICA0CQoOA0CAgNAiYo/Efy2Zw63yM3yZfsXGiQUBoEBAaBIQGAaFBQGgQEBoEbk29Aa6XnZM3g+u7B8OzrikfdXedOdEgIDQICA0CQoOA0CAgNAgIDQJCg4DQICA0CAgNAkKDgNAgIDQIuCazwLLHrn33y9+D669P737J7VzJOh/Ldn//7dq+e5M50SAgNAgIDQJCg4DQICA0CAgNAl7btMDv7/+aegsre3xxMLg+NONbNid7cfvVSnv6bGhvH+59HPXd15kTDQJCg4DQICA0CAgNAkKDgNAg4D7aBlo66xo5Cxtjk2dlQ5xoEBAaBIQGAaFBQGgQEBoEhAYBc7QFdl8+HVw/OzyOdnK9LLvrdn50Z3B9Z/bmS27nxnCiQUBoEBAaBIQGAaFBQGgQEBoEzNEWWPaOsQevngyuvz+Yr/zbY99BNvbZi2PsnGznnGwZJxoEhAYBoUFAaBAQGgSEBgGvbdpC3/z59cK1saOBH7/9ftTnN5UTDQJCg4DQICA0CAgNAkKDgNAg4JoMV7LscXOz2Xa+lmkZJxoEhAYBoUFAaBAQGgSEBgGhQcAcbQMN3TebzaZ9HN22cqJBQGgQEBoEhAYBoUFAaBAQGgTM0Vb07vn+2r572WubppyDnR/dGVzfmXlt02WcaBAQGgSEBgGhQUBoEBAaBIQGAXO0BZbNyc4Oj6OdtB78/GRwfefEnGwVTjQICA0CQoOA0CAgNAgIDQL+3t9Cuy+fLlzbOzkNd7I9nGgQEBoEhAYBoUFAaBAQGgSEBgFztDV5fHGw8mdfn94d9dt7z4ZnYXszs7KaEw0CQoOA0CAgNAgIDQJCg4DQIDB/OH/0aepNwKZzokFAaBAQGgSEBgGhQUBoEBAaBIQGAaFBQGgQEBoEhAYBoUFAaBAQGgSEBgGhQUBoEBAaBIQGAaFBQGgQEBoEhAYBoUFAaBAQGgSEBgGhQUBoEPgXdOSNCtL+JvYAAAAASUVORK5CYII=\" y=\"-6.64\"/>\r\n   </g>\r\n   <g id=\"matplotlib.axis_1\">\r\n    <g id=\"xtick_1\">\r\n     <g id=\"line2d_1\">\r\n      <defs>\r\n       <path d=\"M 0 0 \r\nL 0 3.5 \r\n\" id=\"m1be589faea\" style=\"stroke:#000000;stroke-width:0.8;\"/>\r\n      </defs>\r\n      <g>\r\n       <use style=\"stroke:#000000;stroke-width:0.8;\" x=\"30.807857\" xlink:href=\"#m1be589faea\" y=\"224.64\"/>\r\n      </g>\r\n     </g>\r\n     <g id=\"text_1\">\r\n      <!-- 0 -->\r\n      <defs>\r\n       <path d=\"M 31.78125 66.40625 \r\nQ 24.171875 66.40625 20.328125 58.90625 \r\nQ 16.5 51.421875 16.5 36.375 \r\nQ 16.5 21.390625 20.328125 13.890625 \r\nQ 24.171875 6.390625 31.78125 6.390625 \r\nQ 39.453125 6.390625 43.28125 13.890625 \r\nQ 47.125 21.390625 47.125 36.375 \r\nQ 47.125 51.421875 43.28125 58.90625 \r\nQ 39.453125 66.40625 31.78125 66.40625 \r\nz\r\nM 31.78125 74.21875 \r\nQ 44.046875 74.21875 50.515625 64.515625 \r\nQ 56.984375 54.828125 56.984375 36.375 \r\nQ 56.984375 17.96875 50.515625 8.265625 \r\nQ 44.046875 -1.421875 31.78125 -1.421875 \r\nQ 19.53125 -1.421875 13.0625 8.265625 \r\nQ 6.59375 17.96875 6.59375 36.375 \r\nQ 6.59375 54.828125 13.0625 64.515625 \r\nQ 19.53125 74.21875 31.78125 74.21875 \r\nz\r\n\" id=\"DejaVuSans-48\"/>\r\n      </defs>\r\n      <g transform=\"translate(27.626607 239.238437)scale(0.1 -0.1)\">\r\n       <use xlink:href=\"#DejaVuSans-48\"/>\r\n      </g>\r\n     </g>\r\n    </g>\r\n    <g id=\"xtick_2\">\r\n     <g id=\"line2d_2\">\r\n      <g>\r\n       <use style=\"stroke:#000000;stroke-width:0.8;\" x=\"69.636429\" xlink:href=\"#m1be589faea\" y=\"224.64\"/>\r\n      </g>\r\n     </g>\r\n     <g id=\"text_2\">\r\n      <!-- 5 -->\r\n      <defs>\r\n       <path d=\"M 10.796875 72.90625 \r\nL 49.515625 72.90625 \r\nL 49.515625 64.59375 \r\nL 19.828125 64.59375 \r\nL 19.828125 46.734375 \r\nQ 21.96875 47.46875 24.109375 47.828125 \r\nQ 26.265625 48.1875 28.421875 48.1875 \r\nQ 40.625 48.1875 47.75 41.5 \r\nQ 54.890625 34.8125 54.890625 23.390625 \r\nQ 54.890625 11.625 47.5625 5.09375 \r\nQ 40.234375 -1.421875 26.90625 -1.421875 \r\nQ 22.3125 -1.421875 17.546875 -0.640625 \r\nQ 12.796875 0.140625 7.71875 1.703125 \r\nL 7.71875 11.625 \r\nQ 12.109375 9.234375 16.796875 8.0625 \r\nQ 21.484375 6.890625 26.703125 6.890625 \r\nQ 35.15625 6.890625 40.078125 11.328125 \r\nQ 45.015625 15.765625 45.015625 23.390625 \r\nQ 45.015625 31 40.078125 35.4375 \r\nQ 35.15625 39.890625 26.703125 39.890625 \r\nQ 22.75 39.890625 18.8125 39.015625 \r\nQ 14.890625 38.140625 10.796875 36.28125 \r\nz\r\n\" id=\"DejaVuSans-53\"/>\r\n      </defs>\r\n      <g transform=\"translate(66.455179 239.238437)scale(0.1 -0.1)\">\r\n       <use xlink:href=\"#DejaVuSans-53\"/>\r\n      </g>\r\n     </g>\r\n    </g>\r\n    <g id=\"xtick_3\">\r\n     <g id=\"line2d_3\">\r\n      <g>\r\n       <use style=\"stroke:#000000;stroke-width:0.8;\" x=\"108.465\" xlink:href=\"#m1be589faea\" y=\"224.64\"/>\r\n      </g>\r\n     </g>\r\n     <g id=\"text_3\">\r\n      <!-- 10 -->\r\n      <defs>\r\n       <path d=\"M 12.40625 8.296875 \r\nL 28.515625 8.296875 \r\nL 28.515625 63.921875 \r\nL 10.984375 60.40625 \r\nL 10.984375 69.390625 \r\nL 28.421875 72.90625 \r\nL 38.28125 72.90625 \r\nL 38.28125 8.296875 \r\nL 54.390625 8.296875 \r\nL 54.390625 0 \r\nL 12.40625 0 \r\nz\r\n\" id=\"DejaVuSans-49\"/>\r\n      </defs>\r\n      <g transform=\"translate(102.1025 239.238437)scale(0.1 -0.1)\">\r\n       <use xlink:href=\"#DejaVuSans-49\"/>\r\n       <use x=\"63.623047\" xlink:href=\"#DejaVuSans-48\"/>\r\n      </g>\r\n     </g>\r\n    </g>\r\n    <g id=\"xtick_4\">\r\n     <g id=\"line2d_4\">\r\n      <g>\r\n       <use style=\"stroke:#000000;stroke-width:0.8;\" x=\"147.293571\" xlink:href=\"#m1be589faea\" y=\"224.64\"/>\r\n      </g>\r\n     </g>\r\n     <g id=\"text_4\">\r\n      <!-- 15 -->\r\n      <g transform=\"translate(140.931071 239.238437)scale(0.1 -0.1)\">\r\n       <use xlink:href=\"#DejaVuSans-49\"/>\r\n       <use x=\"63.623047\" xlink:href=\"#DejaVuSans-53\"/>\r\n      </g>\r\n     </g>\r\n    </g>\r\n    <g id=\"xtick_5\">\r\n     <g id=\"line2d_5\">\r\n      <g>\r\n       <use style=\"stroke:#000000;stroke-width:0.8;\" x=\"186.122143\" xlink:href=\"#m1be589faea\" y=\"224.64\"/>\r\n      </g>\r\n     </g>\r\n     <g id=\"text_5\">\r\n      <!-- 20 -->\r\n      <defs>\r\n       <path d=\"M 19.1875 8.296875 \r\nL 53.609375 8.296875 \r\nL 53.609375 0 \r\nL 7.328125 0 \r\nL 7.328125 8.296875 \r\nQ 12.9375 14.109375 22.625 23.890625 \r\nQ 32.328125 33.6875 34.8125 36.53125 \r\nQ 39.546875 41.84375 41.421875 45.53125 \r\nQ 43.3125 49.21875 43.3125 52.78125 \r\nQ 43.3125 58.59375 39.234375 62.25 \r\nQ 35.15625 65.921875 28.609375 65.921875 \r\nQ 23.96875 65.921875 18.8125 64.3125 \r\nQ 13.671875 62.703125 7.8125 59.421875 \r\nL 7.8125 69.390625 \r\nQ 13.765625 71.78125 18.9375 73 \r\nQ 24.125 74.21875 28.421875 74.21875 \r\nQ 39.75 74.21875 46.484375 68.546875 \r\nQ 53.21875 62.890625 53.21875 53.421875 \r\nQ 53.21875 48.921875 51.53125 44.890625 \r\nQ 49.859375 40.875 45.40625 35.40625 \r\nQ 44.1875 33.984375 37.640625 27.21875 \r\nQ 31.109375 20.453125 19.1875 8.296875 \r\nz\r\n\" id=\"DejaVuSans-50\"/>\r\n      </defs>\r\n      <g transform=\"translate(179.759643 239.238437)scale(0.1 -0.1)\">\r\n       <use xlink:href=\"#DejaVuSans-50\"/>\r\n       <use x=\"63.623047\" xlink:href=\"#DejaVuSans-48\"/>\r\n      </g>\r\n     </g>\r\n    </g>\r\n    <g id=\"xtick_6\">\r\n     <g id=\"line2d_6\">\r\n      <g>\r\n       <use style=\"stroke:#000000;stroke-width:0.8;\" x=\"224.950714\" xlink:href=\"#m1be589faea\" y=\"224.64\"/>\r\n      </g>\r\n     </g>\r\n     <g id=\"text_6\">\r\n      <!-- 25 -->\r\n      <g transform=\"translate(218.588214 239.238437)scale(0.1 -0.1)\">\r\n       <use xlink:href=\"#DejaVuSans-50\"/>\r\n       <use x=\"63.623047\" xlink:href=\"#DejaVuSans-53\"/>\r\n      </g>\r\n     </g>\r\n    </g>\r\n   </g>\r\n   <g id=\"matplotlib.axis_2\">\r\n    <g id=\"ytick_1\">\r\n     <g id=\"line2d_7\">\r\n      <defs>\r\n       <path d=\"M 0 0 \r\nL -3.5 0 \r\n\" id=\"ma8c673d98d\" style=\"stroke:#000000;stroke-width:0.8;\"/>\r\n      </defs>\r\n      <g>\r\n       <use style=\"stroke:#000000;stroke-width:0.8;\" x=\"26.925\" xlink:href=\"#ma8c673d98d\" y=\"11.082857\"/>\r\n      </g>\r\n     </g>\r\n     <g id=\"text_7\">\r\n      <!-- 0 -->\r\n      <g transform=\"translate(13.5625 14.882076)scale(0.1 -0.1)\">\r\n       <use xlink:href=\"#DejaVuSans-48\"/>\r\n      </g>\r\n     </g>\r\n    </g>\r\n    <g id=\"ytick_2\">\r\n     <g id=\"line2d_8\">\r\n      <g>\r\n       <use style=\"stroke:#000000;stroke-width:0.8;\" x=\"26.925\" xlink:href=\"#ma8c673d98d\" y=\"49.911429\"/>\r\n      </g>\r\n     </g>\r\n     <g id=\"text_8\">\r\n      <!-- 5 -->\r\n      <g transform=\"translate(13.5625 53.710647)scale(0.1 -0.1)\">\r\n       <use xlink:href=\"#DejaVuSans-53\"/>\r\n      </g>\r\n     </g>\r\n    </g>\r\n    <g id=\"ytick_3\">\r\n     <g id=\"line2d_9\">\r\n      <g>\r\n       <use style=\"stroke:#000000;stroke-width:0.8;\" x=\"26.925\" xlink:href=\"#ma8c673d98d\" y=\"88.74\"/>\r\n      </g>\r\n     </g>\r\n     <g id=\"text_9\">\r\n      <!-- 10 -->\r\n      <g transform=\"translate(7.2 92.539219)scale(0.1 -0.1)\">\r\n       <use xlink:href=\"#DejaVuSans-49\"/>\r\n       <use x=\"63.623047\" xlink:href=\"#DejaVuSans-48\"/>\r\n      </g>\r\n     </g>\r\n    </g>\r\n    <g id=\"ytick_4\">\r\n     <g id=\"line2d_10\">\r\n      <g>\r\n       <use style=\"stroke:#000000;stroke-width:0.8;\" x=\"26.925\" xlink:href=\"#ma8c673d98d\" y=\"127.568571\"/>\r\n      </g>\r\n     </g>\r\n     <g id=\"text_10\">\r\n      <!-- 15 -->\r\n      <g transform=\"translate(7.2 131.36779)scale(0.1 -0.1)\">\r\n       <use xlink:href=\"#DejaVuSans-49\"/>\r\n       <use x=\"63.623047\" xlink:href=\"#DejaVuSans-53\"/>\r\n      </g>\r\n     </g>\r\n    </g>\r\n    <g id=\"ytick_5\">\r\n     <g id=\"line2d_11\">\r\n      <g>\r\n       <use style=\"stroke:#000000;stroke-width:0.8;\" x=\"26.925\" xlink:href=\"#ma8c673d98d\" y=\"166.397143\"/>\r\n      </g>\r\n     </g>\r\n     <g id=\"text_11\">\r\n      <!-- 20 -->\r\n      <g transform=\"translate(7.2 170.196362)scale(0.1 -0.1)\">\r\n       <use xlink:href=\"#DejaVuSans-50\"/>\r\n       <use x=\"63.623047\" xlink:href=\"#DejaVuSans-48\"/>\r\n      </g>\r\n     </g>\r\n    </g>\r\n    <g id=\"ytick_6\">\r\n     <g id=\"line2d_12\">\r\n      <g>\r\n       <use style=\"stroke:#000000;stroke-width:0.8;\" x=\"26.925\" xlink:href=\"#ma8c673d98d\" y=\"205.225714\"/>\r\n      </g>\r\n     </g>\r\n     <g id=\"text_12\">\r\n      <!-- 25 -->\r\n      <g transform=\"translate(7.2 209.024933)scale(0.1 -0.1)\">\r\n       <use xlink:href=\"#DejaVuSans-50\"/>\r\n       <use x=\"63.623047\" xlink:href=\"#DejaVuSans-53\"/>\r\n      </g>\r\n     </g>\r\n    </g>\r\n   </g>\r\n   <g id=\"patch_3\">\r\n    <path d=\"M 26.925 224.64 \r\nL 26.925 7.2 \r\n\" style=\"fill:none;stroke:#000000;stroke-linecap:square;stroke-linejoin:miter;stroke-width:0.8;\"/>\r\n   </g>\r\n   <g id=\"patch_4\">\r\n    <path d=\"M 244.365 224.64 \r\nL 244.365 7.2 \r\n\" style=\"fill:none;stroke:#000000;stroke-linecap:square;stroke-linejoin:miter;stroke-width:0.8;\"/>\r\n   </g>\r\n   <g id=\"patch_5\">\r\n    <path d=\"M 26.925 224.64 \r\nL 244.365 224.64 \r\n\" style=\"fill:none;stroke:#000000;stroke-linecap:square;stroke-linejoin:miter;stroke-width:0.8;\"/>\r\n   </g>\r\n   <g id=\"patch_6\">\r\n    <path d=\"M 26.925 7.2 \r\nL 244.365 7.2 \r\n\" style=\"fill:none;stroke:#000000;stroke-linecap:square;stroke-linejoin:miter;stroke-width:0.8;\"/>\r\n   </g>\r\n  </g>\r\n </g>\r\n <defs>\r\n  <clipPath id=\"pa15f977a18\">\r\n   <rect height=\"217.44\" width=\"217.44\" x=\"26.925\" y=\"7.2\"/>\r\n  </clipPath>\r\n </defs>\r\n</svg>\r\n",
      "image/png": "[encoded data removed]"
     },
     "metadata": {
      "needs_background": "light"
     }
    }
   ],
   "source": [
    "plt.imshow(x_train[1].reshape(-1,28))"
   ]
  },
  {
   "cell_type": "code",
   "execution_count": 59,
   "metadata": {},
   "outputs": [],
   "source": [
    "y_7 = (y_train=='7')"
   ]
  },
  {
   "cell_type": "code",
   "execution_count": 60,
   "metadata": {},
   "outputs": [],
   "source": [
    "from sklearn.linear_model import SGDClassifier"
   ]
  },
  {
   "cell_type": "code",
   "execution_count": 61,
   "metadata": {},
   "outputs": [],
   "source": [
    "sgd_clf = SGDClassifier(random_state=42, max_iter=10)"
   ]
  },
  {
   "cell_type": "code",
   "execution_count": 62,
   "metadata": {},
   "outputs": [
    {
     "output_type": "stream",
     "name": "stderr",
     "text": [
      "D:\\Anaconda\\lib\\site-packages\\sklearn\\linear_model\\_stochastic_gradient.py:557: ConvergenceWarning: Maximum number of iteration reached before convergence. Consider increasing max_iter to improve the fit.\n  ConvergenceWarning)\n"
     ]
    },
    {
     "output_type": "execute_result",
     "data": {
      "text/plain": [
       "SGDClassifier(alpha=0.0001, average=False, class_weight=None,\n",
       "              early_stopping=False, epsilon=0.1, eta0=0.0, fit_intercept=True,\n",
       "              l1_ratio=0.15, learning_rate='optimal', loss='hinge', max_iter=10,\n",
       "              n_iter_no_change=5, n_jobs=None, penalty='l2', power_t=0.5,\n",
       "              random_state=42, shuffle=True, tol=0.001, validation_fraction=0.1,\n",
       "              verbose=0, warm_start=False)"
      ]
     },
     "metadata": {},
     "execution_count": 62
    }
   ],
   "source": [
    "sgd_clf.fit(x_train,y_7)"
   ]
  },
  {
   "cell_type": "code",
   "execution_count": 63,
   "metadata": {},
   "outputs": [
    {
     "output_type": "execute_result",
     "data": {
      "text/plain": [
       "array(['7', '2', '1', '0', '4', '1', '4', '9', '5', '9'], dtype=object)"
      ]
     },
     "metadata": {},
     "execution_count": 63
    }
   ],
   "source": [
    "y_test[:10]"
   ]
  },
  {
   "cell_type": "code",
   "execution_count": 70,
   "metadata": {},
   "outputs": [
    {
     "output_type": "execute_result",
     "data": {
      "text/plain": [
       "array([False])"
      ]
     },
     "metadata": {},
     "execution_count": 70
    }
   ],
   "source": [
    "sgd_clf.predict([x_test[3]])"
   ]
  },
  {
   "cell_type": "code",
   "execution_count": 73,
   "metadata": {},
   "outputs": [],
   "source": [
    "from sklearn.metrics import classification_report"
   ]
  },
  {
   "cell_type": "code",
   "execution_count": 79,
   "metadata": {},
   "outputs": [
    {
     "output_type": "execute_result",
     "data": {
      "text/plain": [
       "array([ True, False, False, ..., False, False, False])"
      ]
     },
     "metadata": {},
     "execution_count": 79
    }
   ],
   "source": [
    "y_pred = sgd_clf.predict(x_train)\n",
    "y_pred"
   ]
  },
  {
   "cell_type": "code",
   "execution_count": 87,
   "metadata": {},
   "outputs": [
    {
     "output_type": "execute_result",
     "data": {
      "text/plain": [
       "{'precision': 0.8437147688838782,\n",
       " 'recall': 0.9556264964086193,\n",
       " 'f1-score': 0.8961904049098122,\n",
       " 'support': 6265}"
      ]
     },
     "metadata": {},
     "execution_count": 87
    }
   ],
   "source": [
    "classification_report(y_7,y_pred,output_dict = True)['True']"
   ]
  },
  {
   "cell_type": "code",
   "execution_count": 84,
   "metadata": {},
   "outputs": [],
   "source": [
    "from sklearn.metrics import accuracy_score"
   ]
  },
  {
   "cell_type": "code",
   "execution_count": 85,
   "metadata": {},
   "outputs": [
    {
     "output_type": "execute_result",
     "data": {
      "text/plain": [
       "0.9768833333333333"
      ]
     },
     "metadata": {},
     "execution_count": 85
    }
   ],
   "source": [
    "accuracy_score(y_7,y_pred)"
   ]
  },
  {
   "cell_type": "code",
   "execution_count": 99,
   "metadata": {},
   "outputs": [
    {
     "output_type": "stream",
     "name": "stderr",
     "text": [
      "D:\\Anaconda\\lib\\site-packages\\sklearn\\linear_model\\_stochastic_gradient.py:557: ConvergenceWarning: Maximum number of iteration reached before convergence. Consider increasing max_iter to improve the fit.\n",
      "  ConvergenceWarning)\n",
      "D:\\Anaconda\\lib\\site-packages\\sklearn\\linear_model\\_stochastic_gradient.py:557: ConvergenceWarning: Maximum number of iteration reached before convergence. Consider increasing max_iter to improve the fit.\n",
      "  ConvergenceWarning)\n",
      "D:\\Anaconda\\lib\\site-packages\\sklearn\\linear_model\\_stochastic_gradient.py:557: ConvergenceWarning: Maximum number of iteration reached before convergence. Consider increasing max_iter to improve the fit.\n",
      "  ConvergenceWarning)\n",
      "D:\\Anaconda\\lib\\site-packages\\sklearn\\linear_model\\_stochastic_gradient.py:557: ConvergenceWarning: Maximum number of iteration reached before convergence. Consider increasing max_iter to improve the fit.\n",
      "  ConvergenceWarning)\n",
      "D:\\Anaconda\\lib\\site-packages\\sklearn\\linear_model\\_stochastic_gradient.py:557: ConvergenceWarning: Maximum number of iteration reached before convergence. Consider increasing max_iter to improve the fit.\n",
      "  ConvergenceWarning)\n"
     ]
    }
   ],
   "source": [
    "from sklearn.model_selection import cross_val_predict\n",
    "score = cross_val_predict(sgd_clf,x_train,y_7,method='decision_function',cv = 5)"
   ]
  },
  {
   "cell_type": "code",
   "execution_count": 100,
   "metadata": {},
   "outputs": [],
   "source": [
    "from sklearn.metrics import precision_recall_curve"
   ]
  },
  {
   "cell_type": "code",
   "execution_count": 103,
   "metadata": {},
   "outputs": [],
   "source": [
    "precision, recall,threshold = precision_recall_curve(y_7,score)"
   ]
  },
  {
   "cell_type": "code",
   "execution_count": 104,
   "metadata": {},
   "outputs": [
    {
     "output_type": "display_data",
     "data": {
      "text/plain": "<Figure size 432x288 with 1 Axes>",
      "image/svg+xml": "<?xml version=\"1.0\" encoding=\"utf-8\" standalone=\"no\"?>\r\n<!DOCTYPE svg PUBLIC \"-//W3C//DTD SVG 1.1//EN\"\r\n  \"http://www.w3.org/Graphics/SVG/1.1/DTD/svg11.dtd\">\r\n<!-- Created with matplotlib (https://matplotlib.org/) -->\r\n<svg height=\"248.518125pt\" version=\"1.1\" viewBox=\"0 0 377.393502 248.518125\" width=\"377.393502pt\" xmlns=\"http://www.w3.org/2000/svg\" xmlns:xlink=\"http://www.w3.org/1999/xlink\">\r\n <defs>\r\n  <style type=\"text/css\">\r\n*{stroke-linecap:butt;stroke-linejoin:round;}\r\n  </style>\r\n </defs>\r\n <g id=\"figure_1\">\r\n  <g id=\"patch_1\">\r\n   <path d=\"M 0 248.518125 \r\nL 377.393502 248.518125 \r\nL 377.393502 0 \r\nL 0 0 \r\nz\r\n\" style=\"fill:none;\"/>\r\n  </g>\r\n  <g id=\"axes_1\">\r\n   <g id=\"patch_2\">\r\n    <path d=\"M 30.103125 224.64 \r\nL 364.903125 224.64 \r\nL 364.903125 7.2 \r\nL 30.103125 7.2 \r\nz\r\n\" style=\"fill:#ffffff;\"/>\r\n   </g>\r\n   <g id=\"matplotlib.axis_1\">\r\n    <g id=\"xtick_1\">\r\n     <g id=\"line2d_1\">\r\n      <defs>\r\n       <path d=\"M 0 0 \r\nL 0 3.5 \r\n\" id=\"mbaf259fc8e\" style=\"stroke:#000000;stroke-width:0.8;\"/>\r\n      </defs>\r\n      <g>\r\n       <use style=\"stroke:#000000;stroke-width:0.8;\" x=\"66.10376\" xlink:href=\"#mbaf259fc8e\" y=\"224.64\"/>\r\n      </g>\r\n     </g>\r\n     <g id=\"text_1\">\r\n      <!-- −600000 -->\r\n      <defs>\r\n       <path d=\"M 10.59375 35.5 \r\nL 73.1875 35.5 \r\nL 73.1875 27.203125 \r\nL 10.59375 27.203125 \r\nz\r\n\" id=\"DejaVuSans-8722\"/>\r\n       <path d=\"M 33.015625 40.375 \r\nQ 26.375 40.375 22.484375 35.828125 \r\nQ 18.609375 31.296875 18.609375 23.390625 \r\nQ 18.609375 15.53125 22.484375 10.953125 \r\nQ 26.375 6.390625 33.015625 6.390625 \r\nQ 39.65625 6.390625 43.53125 10.953125 \r\nQ 47.40625 15.53125 47.40625 23.390625 \r\nQ 47.40625 31.296875 43.53125 35.828125 \r\nQ 39.65625 40.375 33.015625 40.375 \r\nz\r\nM 52.59375 71.296875 \r\nL 52.59375 62.3125 \r\nQ 48.875 64.0625 45.09375 64.984375 \r\nQ 41.3125 65.921875 37.59375 65.921875 \r\nQ 27.828125 65.921875 22.671875 59.328125 \r\nQ 17.53125 52.734375 16.796875 39.40625 \r\nQ 19.671875 43.65625 24.015625 45.921875 \r\nQ 28.375 48.1875 33.59375 48.1875 \r\nQ 44.578125 48.1875 50.953125 41.515625 \r\nQ 57.328125 34.859375 57.328125 23.390625 \r\nQ 57.328125 12.15625 50.6875 5.359375 \r\nQ 44.046875 -1.421875 33.015625 -1.421875 \r\nQ 20.359375 -1.421875 13.671875 8.265625 \r\nQ 6.984375 17.96875 6.984375 36.375 \r\nQ 6.984375 53.65625 15.1875 63.9375 \r\nQ 23.390625 74.21875 37.203125 74.21875 \r\nQ 40.921875 74.21875 44.703125 73.484375 \r\nQ 48.484375 72.75 52.59375 71.296875 \r\nz\r\n\" id=\"DejaVuSans-54\"/>\r\n       <path d=\"M 31.78125 66.40625 \r\nQ 24.171875 66.40625 20.328125 58.90625 \r\nQ 16.5 51.421875 16.5 36.375 \r\nQ 16.5 21.390625 20.328125 13.890625 \r\nQ 24.171875 6.390625 31.78125 6.390625 \r\nQ 39.453125 6.390625 43.28125 13.890625 \r\nQ 47.125 21.390625 47.125 36.375 \r\nQ 47.125 51.421875 43.28125 58.90625 \r\nQ 39.453125 66.40625 31.78125 66.40625 \r\nz\r\nM 31.78125 74.21875 \r\nQ 44.046875 74.21875 50.515625 64.515625 \r\nQ 56.984375 54.828125 56.984375 36.375 \r\nQ 56.984375 17.96875 50.515625 8.265625 \r\nQ 44.046875 -1.421875 31.78125 -1.421875 \r\nQ 19.53125 -1.421875 13.0625 8.265625 \r\nQ 6.59375 17.96875 6.59375 36.375 \r\nQ 6.59375 54.828125 13.0625 64.515625 \r\nQ 19.53125 74.21875 31.78125 74.21875 \r\nz\r\n\" id=\"DejaVuSans-48\"/>\r\n      </defs>\r\n      <g transform=\"translate(42.826416 239.238438)scale(0.1 -0.1)\">\r\n       <use xlink:href=\"#DejaVuSans-8722\"/>\r\n       <use x=\"83.789062\" xlink:href=\"#DejaVuSans-54\"/>\r\n       <use x=\"147.412109\" xlink:href=\"#DejaVuSans-48\"/>\r\n       <use x=\"211.035156\" xlink:href=\"#DejaVuSans-48\"/>\r\n       <use x=\"274.658203\" xlink:href=\"#DejaVuSans-48\"/>\r\n       <use x=\"338.28125\" xlink:href=\"#DejaVuSans-48\"/>\r\n       <use x=\"401.904297\" xlink:href=\"#DejaVuSans-48\"/>\r\n      </g>\r\n     </g>\r\n    </g>\r\n    <g id=\"xtick_2\">\r\n     <g id=\"line2d_2\">\r\n      <g>\r\n       <use style=\"stroke:#000000;stroke-width:0.8;\" x=\"123.104209\" xlink:href=\"#mbaf259fc8e\" y=\"224.64\"/>\r\n      </g>\r\n     </g>\r\n     <g id=\"text_2\">\r\n      <!-- −400000 -->\r\n      <defs>\r\n       <path d=\"M 37.796875 64.3125 \r\nL 12.890625 25.390625 \r\nL 37.796875 25.390625 \r\nz\r\nM 35.203125 72.90625 \r\nL 47.609375 72.90625 \r\nL 47.609375 25.390625 \r\nL 58.015625 25.390625 \r\nL 58.015625 17.1875 \r\nL 47.609375 17.1875 \r\nL 47.609375 0 \r\nL 37.796875 0 \r\nL 37.796875 17.1875 \r\nL 4.890625 17.1875 \r\nL 4.890625 26.703125 \r\nz\r\n\" id=\"DejaVuSans-52\"/>\r\n      </defs>\r\n      <g transform=\"translate(99.826865 239.238438)scale(0.1 -0.1)\">\r\n       <use xlink:href=\"#DejaVuSans-8722\"/>\r\n       <use x=\"83.789062\" xlink:href=\"#DejaVuSans-52\"/>\r\n       <use x=\"147.412109\" xlink:href=\"#DejaVuSans-48\"/>\r\n       <use x=\"211.035156\" xlink:href=\"#DejaVuSans-48\"/>\r\n       <use x=\"274.658203\" xlink:href=\"#DejaVuSans-48\"/>\r\n       <use x=\"338.28125\" xlink:href=\"#DejaVuSans-48\"/>\r\n       <use x=\"401.904297\" xlink:href=\"#DejaVuSans-48\"/>\r\n      </g>\r\n     </g>\r\n    </g>\r\n    <g id=\"xtick_3\">\r\n     <g id=\"line2d_3\">\r\n      <g>\r\n       <use style=\"stroke:#000000;stroke-width:0.8;\" x=\"180.104657\" xlink:href=\"#mbaf259fc8e\" y=\"224.64\"/>\r\n      </g>\r\n     </g>\r\n     <g id=\"text_3\">\r\n      <!-- −200000 -->\r\n      <defs>\r\n       <path d=\"M 19.1875 8.296875 \r\nL 53.609375 8.296875 \r\nL 53.609375 0 \r\nL 7.328125 0 \r\nL 7.328125 8.296875 \r\nQ 12.9375 14.109375 22.625 23.890625 \r\nQ 32.328125 33.6875 34.8125 36.53125 \r\nQ 39.546875 41.84375 41.421875 45.53125 \r\nQ 43.3125 49.21875 43.3125 52.78125 \r\nQ 43.3125 58.59375 39.234375 62.25 \r\nQ 35.15625 65.921875 28.609375 65.921875 \r\nQ 23.96875 65.921875 18.8125 64.3125 \r\nQ 13.671875 62.703125 7.8125 59.421875 \r\nL 7.8125 69.390625 \r\nQ 13.765625 71.78125 18.9375 73 \r\nQ 24.125 74.21875 28.421875 74.21875 \r\nQ 39.75 74.21875 46.484375 68.546875 \r\nQ 53.21875 62.890625 53.21875 53.421875 \r\nQ 53.21875 48.921875 51.53125 44.890625 \r\nQ 49.859375 40.875 45.40625 35.40625 \r\nQ 44.1875 33.984375 37.640625 27.21875 \r\nQ 31.109375 20.453125 19.1875 8.296875 \r\nz\r\n\" id=\"DejaVuSans-50\"/>\r\n      </defs>\r\n      <g transform=\"translate(156.827313 239.238438)scale(0.1 -0.1)\">\r\n       <use xlink:href=\"#DejaVuSans-8722\"/>\r\n       <use x=\"83.789062\" xlink:href=\"#DejaVuSans-50\"/>\r\n       <use x=\"147.412109\" xlink:href=\"#DejaVuSans-48\"/>\r\n       <use x=\"211.035156\" xlink:href=\"#DejaVuSans-48\"/>\r\n       <use x=\"274.658203\" xlink:href=\"#DejaVuSans-48\"/>\r\n       <use x=\"338.28125\" xlink:href=\"#DejaVuSans-48\"/>\r\n       <use x=\"401.904297\" xlink:href=\"#DejaVuSans-48\"/>\r\n      </g>\r\n     </g>\r\n    </g>\r\n    <g id=\"xtick_4\">\r\n     <g id=\"line2d_4\">\r\n      <g>\r\n       <use style=\"stroke:#000000;stroke-width:0.8;\" x=\"237.105105\" xlink:href=\"#mbaf259fc8e\" y=\"224.64\"/>\r\n      </g>\r\n     </g>\r\n     <g id=\"text_4\">\r\n      <!-- 0 -->\r\n      <g transform=\"translate(233.923855 239.238438)scale(0.1 -0.1)\">\r\n       <use xlink:href=\"#DejaVuSans-48\"/>\r\n      </g>\r\n     </g>\r\n    </g>\r\n    <g id=\"xtick_5\">\r\n     <g id=\"line2d_5\">\r\n      <g>\r\n       <use style=\"stroke:#000000;stroke-width:0.8;\" x=\"294.105554\" xlink:href=\"#mbaf259fc8e\" y=\"224.64\"/>\r\n      </g>\r\n     </g>\r\n     <g id=\"text_5\">\r\n      <!-- 200000 -->\r\n      <g transform=\"translate(275.018054 239.238438)scale(0.1 -0.1)\">\r\n       <use xlink:href=\"#DejaVuSans-50\"/>\r\n       <use x=\"63.623047\" xlink:href=\"#DejaVuSans-48\"/>\r\n       <use x=\"127.246094\" xlink:href=\"#DejaVuSans-48\"/>\r\n       <use x=\"190.869141\" xlink:href=\"#DejaVuSans-48\"/>\r\n       <use x=\"254.492188\" xlink:href=\"#DejaVuSans-48\"/>\r\n       <use x=\"318.115234\" xlink:href=\"#DejaVuSans-48\"/>\r\n      </g>\r\n     </g>\r\n    </g>\r\n    <g id=\"xtick_6\">\r\n     <g id=\"line2d_6\">\r\n      <g>\r\n       <use style=\"stroke:#000000;stroke-width:0.8;\" x=\"351.106002\" xlink:href=\"#mbaf259fc8e\" y=\"224.64\"/>\r\n      </g>\r\n     </g>\r\n     <g id=\"text_6\">\r\n      <!-- 400000 -->\r\n      <g transform=\"translate(332.018502 239.238438)scale(0.1 -0.1)\">\r\n       <use xlink:href=\"#DejaVuSans-52\"/>\r\n       <use x=\"63.623047\" xlink:href=\"#DejaVuSans-48\"/>\r\n       <use x=\"127.246094\" xlink:href=\"#DejaVuSans-48\"/>\r\n       <use x=\"190.869141\" xlink:href=\"#DejaVuSans-48\"/>\r\n       <use x=\"254.492188\" xlink:href=\"#DejaVuSans-48\"/>\r\n       <use x=\"318.115234\" xlink:href=\"#DejaVuSans-48\"/>\r\n      </g>\r\n     </g>\r\n    </g>\r\n   </g>\r\n   <g id=\"matplotlib.axis_2\">\r\n    <g id=\"ytick_1\">\r\n     <g id=\"line2d_7\">\r\n      <defs>\r\n       <path d=\"M 0 0 \r\nL -3.5 0 \r\n\" id=\"mc7fadfa03c\" style=\"stroke:#000000;stroke-width:0.8;\"/>\r\n      </defs>\r\n      <g>\r\n       <use style=\"stroke:#000000;stroke-width:0.8;\" x=\"30.103125\" xlink:href=\"#mc7fadfa03c\" y=\"214.787921\"/>\r\n      </g>\r\n     </g>\r\n     <g id=\"text_7\">\r\n      <!-- 0.0 -->\r\n      <defs>\r\n       <path d=\"M 10.6875 12.40625 \r\nL 21 12.40625 \r\nL 21 0 \r\nL 10.6875 0 \r\nz\r\n\" id=\"DejaVuSans-46\"/>\r\n      </defs>\r\n      <g transform=\"translate(7.2 218.587139)scale(0.1 -0.1)\">\r\n       <use xlink:href=\"#DejaVuSans-48\"/>\r\n       <use x=\"63.623047\" xlink:href=\"#DejaVuSans-46\"/>\r\n       <use x=\"95.410156\" xlink:href=\"#DejaVuSans-48\"/>\r\n      </g>\r\n     </g>\r\n    </g>\r\n    <g id=\"ytick_2\">\r\n     <g id=\"line2d_8\">\r\n      <g>\r\n       <use style=\"stroke:#000000;stroke-width:0.8;\" x=\"30.103125\" xlink:href=\"#mc7fadfa03c\" y=\"175.247064\"/>\r\n      </g>\r\n     </g>\r\n     <g id=\"text_8\">\r\n      <!-- 0.2 -->\r\n      <g transform=\"translate(7.2 179.046282)scale(0.1 -0.1)\">\r\n       <use xlink:href=\"#DejaVuSans-48\"/>\r\n       <use x=\"63.623047\" xlink:href=\"#DejaVuSans-46\"/>\r\n       <use x=\"95.410156\" xlink:href=\"#DejaVuSans-50\"/>\r\n      </g>\r\n     </g>\r\n    </g>\r\n    <g id=\"ytick_3\">\r\n     <g id=\"line2d_9\">\r\n      <g>\r\n       <use style=\"stroke:#000000;stroke-width:0.8;\" x=\"30.103125\" xlink:href=\"#mc7fadfa03c\" y=\"135.706207\"/>\r\n      </g>\r\n     </g>\r\n     <g id=\"text_9\">\r\n      <!-- 0.4 -->\r\n      <g transform=\"translate(7.2 139.505426)scale(0.1 -0.1)\">\r\n       <use xlink:href=\"#DejaVuSans-48\"/>\r\n       <use x=\"63.623047\" xlink:href=\"#DejaVuSans-46\"/>\r\n       <use x=\"95.410156\" xlink:href=\"#DejaVuSans-52\"/>\r\n      </g>\r\n     </g>\r\n    </g>\r\n    <g id=\"ytick_4\">\r\n     <g id=\"line2d_10\">\r\n      <g>\r\n       <use style=\"stroke:#000000;stroke-width:0.8;\" x=\"30.103125\" xlink:href=\"#mc7fadfa03c\" y=\"96.16535\"/>\r\n      </g>\r\n     </g>\r\n     <g id=\"text_10\">\r\n      <!-- 0.6 -->\r\n      <g transform=\"translate(7.2 99.964569)scale(0.1 -0.1)\">\r\n       <use xlink:href=\"#DejaVuSans-48\"/>\r\n       <use x=\"63.623047\" xlink:href=\"#DejaVuSans-46\"/>\r\n       <use x=\"95.410156\" xlink:href=\"#DejaVuSans-54\"/>\r\n      </g>\r\n     </g>\r\n    </g>\r\n    <g id=\"ytick_5\">\r\n     <g id=\"line2d_11\">\r\n      <g>\r\n       <use style=\"stroke:#000000;stroke-width:0.8;\" x=\"30.103125\" xlink:href=\"#mc7fadfa03c\" y=\"56.624493\"/>\r\n      </g>\r\n     </g>\r\n     <g id=\"text_11\">\r\n      <!-- 0.8 -->\r\n      <defs>\r\n       <path d=\"M 31.78125 34.625 \r\nQ 24.75 34.625 20.71875 30.859375 \r\nQ 16.703125 27.09375 16.703125 20.515625 \r\nQ 16.703125 13.921875 20.71875 10.15625 \r\nQ 24.75 6.390625 31.78125 6.390625 \r\nQ 38.8125 6.390625 42.859375 10.171875 \r\nQ 46.921875 13.96875 46.921875 20.515625 \r\nQ 46.921875 27.09375 42.890625 30.859375 \r\nQ 38.875 34.625 31.78125 34.625 \r\nz\r\nM 21.921875 38.8125 \r\nQ 15.578125 40.375 12.03125 44.71875 \r\nQ 8.5 49.078125 8.5 55.328125 \r\nQ 8.5 64.0625 14.71875 69.140625 \r\nQ 20.953125 74.21875 31.78125 74.21875 \r\nQ 42.671875 74.21875 48.875 69.140625 \r\nQ 55.078125 64.0625 55.078125 55.328125 \r\nQ 55.078125 49.078125 51.53125 44.71875 \r\nQ 48 40.375 41.703125 38.8125 \r\nQ 48.828125 37.15625 52.796875 32.3125 \r\nQ 56.78125 27.484375 56.78125 20.515625 \r\nQ 56.78125 9.90625 50.3125 4.234375 \r\nQ 43.84375 -1.421875 31.78125 -1.421875 \r\nQ 19.734375 -1.421875 13.25 4.234375 \r\nQ 6.78125 9.90625 6.78125 20.515625 \r\nQ 6.78125 27.484375 10.78125 32.3125 \r\nQ 14.796875 37.15625 21.921875 38.8125 \r\nz\r\nM 18.3125 54.390625 \r\nQ 18.3125 48.734375 21.84375 45.5625 \r\nQ 25.390625 42.390625 31.78125 42.390625 \r\nQ 38.140625 42.390625 41.71875 45.5625 \r\nQ 45.3125 48.734375 45.3125 54.390625 \r\nQ 45.3125 60.0625 41.71875 63.234375 \r\nQ 38.140625 66.40625 31.78125 66.40625 \r\nQ 25.390625 66.40625 21.84375 63.234375 \r\nQ 18.3125 60.0625 18.3125 54.390625 \r\nz\r\n\" id=\"DejaVuSans-56\"/>\r\n      </defs>\r\n      <g transform=\"translate(7.2 60.423712)scale(0.1 -0.1)\">\r\n       <use xlink:href=\"#DejaVuSans-48\"/>\r\n       <use x=\"63.623047\" xlink:href=\"#DejaVuSans-46\"/>\r\n       <use x=\"95.410156\" xlink:href=\"#DejaVuSans-56\"/>\r\n      </g>\r\n     </g>\r\n    </g>\r\n    <g id=\"ytick_6\">\r\n     <g id=\"line2d_12\">\r\n      <g>\r\n       <use style=\"stroke:#000000;stroke-width:0.8;\" x=\"30.103125\" xlink:href=\"#mc7fadfa03c\" y=\"17.083636\"/>\r\n      </g>\r\n     </g>\r\n     <g id=\"text_12\">\r\n      <!-- 1.0 -->\r\n      <defs>\r\n       <path d=\"M 12.40625 8.296875 \r\nL 28.515625 8.296875 \r\nL 28.515625 63.921875 \r\nL 10.984375 60.40625 \r\nL 10.984375 69.390625 \r\nL 28.421875 72.90625 \r\nL 38.28125 72.90625 \r\nL 38.28125 8.296875 \r\nL 54.390625 8.296875 \r\nL 54.390625 0 \r\nL 12.40625 0 \r\nz\r\n\" id=\"DejaVuSans-49\"/>\r\n      </defs>\r\n      <g transform=\"translate(7.2 20.882855)scale(0.1 -0.1)\">\r\n       <use xlink:href=\"#DejaVuSans-49\"/>\r\n       <use x=\"63.623047\" xlink:href=\"#DejaVuSans-46\"/>\r\n       <use x=\"95.410156\" xlink:href=\"#DejaVuSans-48\"/>\r\n      </g>\r\n     </g>\r\n    </g>\r\n   </g>\r\n   <g id=\"line2d_13\">\r\n    <path clip-path=\"url(#pd522abd288)\" d=\"M 45.321307 192.564191 \r\nL 46.081664 192.538996 \r\nL 50.12192 192.355627 \r\nL 50.214904 192.351156 \r\nL 53.61993 192.195206 \r\nL 59.962066 191.828713 \r\nL 62.349802 191.679628 \r\nL 63.355091 191.614334 \r\nL 65.709424 191.458487 \r\nL 69.465264 191.217831 \r\nL 73.322123 190.932246 \r\nL 73.586559 190.909247 \r\nL 76.935583 190.641539 \r\nL 77.036347 190.631177 \r\nL 79.207285 190.467032 \r\nL 79.570585 190.432115 \r\nL 81.46256 190.254071 \r\nL 83.015805 190.104439 \r\nL 102.980767 187.59278 \r\nL 103.389837 187.519115 \r\nL 104.931029 187.284102 \r\nL 105.048316 187.263314 \r\nL 105.819592 187.14225 \r\nL 106.846105 186.977083 \r\nL 107.013214 186.954578 \r\nL 108.422147 186.7186 \r\nL 109.167253 186.594612 \r\nL 110.143995 186.418266 \r\nL 112.336284 186.030099 \r\nL 113.839055 185.772634 \r\nL 114.275447 185.683277 \r\nL 115.073394 185.547859 \r\nL 115.202122 185.522284 \r\nL 115.898386 185.381169 \r\nL 116.765322 185.196791 \r\nL 117.416762 185.061773 \r\nL 118.069132 184.922634 \r\nL 121.533273 184.162295 \r\nL 121.652105 184.139547 \r\nL 130.226278 182.143955 \r\nL 130.483707 182.085349 \r\nL 131.238779 181.880137 \r\nL 131.565207 181.791525 \r\nL 132.322684 181.566553 \r\nL 132.574737 181.490581 \r\nL 133.034575 181.353855 \r\nL 133.229679 181.301386 \r\nL 133.933318 181.078842 \r\nL 143.041214 178.16453 \r\nL 143.400154 178.033997 \r\nL 144.257474 177.776032 \r\nL 144.627841 177.614787 \r\nL 145.008469 177.483651 \r\nL 147.045042 176.685422 \r\nL 147.860053 176.351564 \r\nL 148.239297 176.196883 \r\nL 151.974371 174.591797 \r\nL 152.111196 174.538174 \r\nL 152.738852 174.238349 \r\nL 152.867314 174.178427 \r\nL 153.237259 174.016423 \r\nL 153.544063 173.87885 \r\nL 153.880459 173.719898 \r\nL 154.615829 173.383016 \r\nL 154.729226 173.326099 \r\nL 155.03948 173.165616 \r\nL 155.423468 172.992207 \r\nL 155.816955 172.763497 \r\nL 156.454232 172.417878 \r\nL 156.825079 172.21656 \r\nL 157.770033 171.701793 \r\nL 157.891575 171.628098 \r\nL 158.228032 171.44807 \r\nL 159.22271 170.86456 \r\nL 159.53264 170.690678 \r\nL 161.72145 169.397335 \r\nL 161.966799 169.258541 \r\nL 162.09081 169.185183 \r\nL 162.348809 169.028124 \r\nL 162.463097 168.953439 \r\nL 163.196001 168.517493 \r\nL 163.349574 168.399372 \r\nL 163.55414 168.257879 \r\nL 163.661373 168.205255 \r\nL 164.078965 167.933235 \r\nL 164.203007 167.858495 \r\nL 164.671759 167.555331 \r\nL 164.833801 167.457635 \r\nL 165.149815 167.211616 \r\nL 166.031018 166.57696 \r\nL 166.141779 166.511024 \r\nL 166.448657 166.308323 \r\nL 166.782662 166.01743 \r\nL 167.028114 165.818392 \r\nL 167.190455 165.707486 \r\nL 167.464703 165.53331 \r\nL 167.590545 165.452655 \r\nL 167.875945 165.258779 \r\nL 167.986738 165.183158 \r\nL 168.434161 164.823892 \r\nL 168.619413 164.696206 \r\nL 168.854717 164.529029 \r\nL 169.137509 164.296815 \r\nL 169.750463 163.789851 \r\nL 169.972957 163.59107 \r\nL 170.177408 163.435304 \r\nL 170.330977 163.28748 \r\nL 170.502101 163.160404 \r\nL 170.637318 163.047883 \r\nL 170.859449 162.843231 \r\nL 171.056519 162.667779 \r\nL 172.19403 161.707352 \r\nL 172.3785 161.567714 \r\nL 172.58811 161.401948 \r\nL 173.329475 160.751289 \r\nL 173.483363 160.613683 \r\nL 173.643302 160.452984 \r\nL 174.100095 159.999328 \r\nL 178.588895 155.481396 \r\nL 178.814019 155.268264 \r\nL 179.098665 154.985808 \r\nL 179.217414 154.85186 \r\nL 181.77355 151.822126 \r\nL 181.906166 151.654264 \r\nL 184.524084 148.127441 \r\nL 184.683435 147.862006 \r\nL 185.023667 147.405765 \r\nL 185.170096 147.186373 \r\nL 185.416625 146.886604 \r\nL 185.628135 146.606826 \r\nL 185.799072 146.407834 \r\nL 185.917438 146.216507 \r\nL 188.762022 141.728424 \r\nL 188.876235 141.540453 \r\nL 189.071216 141.254467 \r\nL 189.188571 141.01073 \r\nL 189.438376 140.593387 \r\nL 189.515963 140.453703 \r\nL 189.741457 140.096685 \r\nL 189.898355 139.799147 \r\nL 190.071126 139.485329 \r\nL 190.283014 139.096891 \r\nL 190.472403 138.817707 \r\nL 190.610975 138.507829 \r\nL 190.710235 138.31028 \r\nL 190.87341 137.973988 \r\nL 192.437659 134.922938 \r\nL 193.246575 133.418262 \r\nL 193.327233 133.279302 \r\nL 194.62004 130.39577 \r\nL 194.736024 130.173177 \r\nL 194.899953 129.809401 \r\nL 195.044165 129.494225 \r\nL 195.127562 129.358604 \r\nL 196.534884 126.605647 \r\nL 196.64703 126.362068 \r\nL 196.701199 126.207533 \r\nL 196.872846 125.826777 \r\nL 197.000694 125.560607 \r\nL 197.163519 125.195199 \r\nL 197.239836 125.029825 \r\nL 197.771411 123.667521 \r\nL 197.879001 123.519221 \r\nL 198.048946 123.18414 \r\nL 198.283231 122.517907 \r\nL 198.513236 122.025264 \r\nL 198.611916 121.769328 \r\nL 198.860751 121.094343 \r\nL 198.939514 120.876856 \r\nL 199.135835 120.453504 \r\nL 199.332644 120.094806 \r\nL 200.875011 116.177392 \r\nL 200.985038 115.887298 \r\nL 200.988666 115.895375 \r\nL 201.033354 115.741538 \r\nL 201.133262 115.473208 \r\nL 201.252215 115.170367 \r\nL 201.488347 114.425332 \r\nL 201.708682 113.829026 \r\nL 201.799804 113.676537 \r\nL 201.964176 113.165623 \r\nL 202.05151 113.020032 \r\nL 202.131755 112.81378 \r\nL 202.720907 111.131527 \r\nL 202.798031 110.926408 \r\nL 202.957026 110.413599 \r\nL 203.086625 110.01289 \r\nL 203.226952 109.664921 \r\nL 203.580583 108.694628 \r\nL 203.707232 108.413661 \r\nL 203.845404 108.120377 \r\nL 204.142926 107.482362 \r\nL 204.397739 106.854175 \r\nL 205.059058 104.920103 \r\nL 205.175845 104.478473 \r\nL 205.395033 103.845029 \r\nL 205.552065 103.313233 \r\nL 206.010555 101.994496 \r\nL 206.174244 101.502153 \r\nL 206.295435 101.177677 \r\nL 207.481625 97.922292 \r\nL 207.566247 97.720828 \r\nL 207.689723 97.260794 \r\nL 208.496518 94.508521 \r\nL 208.681414 93.90633 \r\nL 208.757844 93.660935 \r\nL 208.96954 93.088068 \r\nL 209.373562 91.954018 \r\nL 209.504838 91.623854 \r\nL 209.749108 90.926979 \r\nL 209.751419 90.934664 \r\nL 209.81959 90.787464 \r\nL 210.003989 90.289053 \r\nL 210.105143 89.923149 \r\nL 210.431061 89.008426 \r\nL 210.557396 88.64235 \r\nL 210.873196 87.736114 \r\nL 210.890599 87.758793 \r\nL 210.926426 87.622729 \r\nL 210.926476 87.630286 \r\nL 211.291803 86.19332 \r\nL 211.350741 86.033274 \r\nL 212.10713 83.497176 \r\nL 212.122567 83.504549 \r\nL 212.147021 83.40981 \r\nL 212.164388 83.402579 \r\nL 212.229974 83.080521 \r\nL 212.534285 81.828509 \r\nL 212.540398 81.835793 \r\nL 212.577492 81.716017 \r\nL 212.691858 81.272178 \r\nL 212.692454 81.279433 \r\nL 212.95254 80.188426 \r\nL 213.06214 79.847619 \r\nL 213.258194 79.397047 \r\nL 213.381271 79.137969 \r\nL 213.506212 78.60484 \r\nL 213.512927 78.611952 \r\nL 213.546628 78.501663 \r\nL 213.726575 78.041118 \r\nL 213.897405 77.343847 \r\nL 213.898872 77.350885 \r\nL 213.991876 77.222349 \r\nL 214.115162 76.851465 \r\nL 214.124435 76.858472 \r\nL 214.163887 76.752191 \r\nL 214.167642 76.759193 \r\nL 214.282982 76.473985 \r\nL 214.362396 76.250442 \r\nL 215.533362 72.683471 \r\nL 215.665342 72.271471 \r\nL 215.880272 71.6711 \r\nL 216.025072 71.188345 \r\nL 216.136857 70.852584 \r\nL 216.144941 70.859202 \r\nL 216.180267 70.752837 \r\nL 217.405626 66.999323 \r\nL 217.469616 66.861673 \r\nL 218.512224 63.685729 \r\nL 218.591475 63.460948 \r\nL 218.767279 62.929236 \r\nL 218.789173 62.935253 \r\nL 218.804533 62.835534 \r\nL 219.223693 61.539561 \r\nL 219.331099 61.178607 \r\nL 219.420056 60.933061 \r\nL 219.54492 60.657228 \r\nL 219.766657 60.013255 \r\nL 219.991014 59.195476 \r\nL 220.106532 58.864571 \r\nL 220.286949 58.294402 \r\nL 220.288825 58.299999 \r\nL 220.353337 58.162253 \r\nL 220.588459 57.574683 \r\nL 220.942286 56.646261 \r\nL 221.112771 56.143753 \r\nL 221.397239 55.449088 \r\nL 221.39782 55.454418 \r\nL 222.35559 52.902473 \r\nL 222.778676 51.470688 \r\nL 222.780127 51.475619 \r\nL 222.931686 51.156863 \r\nL 223.182844 50.477121 \r\nL 223.31957 50.043904 \r\nL 223.534443 49.492287 \r\nL 223.597255 49.424241 \r\nL 223.598263 49.400128 \r\nL 223.708014 49.046937 \r\nL 223.808452 48.720957 \r\nL 223.828076 48.730232 \r\nL 223.934693 48.529332 \r\nL 224.164866 48.096073 \r\nL 224.168049 48.100646 \r\nL 224.244727 47.883698 \r\nL 224.358788 47.724584 \r\nL 224.484359 47.346292 \r\nL 224.78487 46.319512 \r\nL 225.202365 45.518515 \r\nL 225.476773 44.779602 \r\nL 225.477687 44.783797 \r\nL 225.480917 44.787994 \r\nL 225.501217 44.710698 \r\nL 225.536636 44.689101 \r\nL 225.93505 43.908897 \r\nL 225.942564 43.912992 \r\nL 225.960923 43.834705 \r\nL 225.992717 43.81676 \r\nL 226.168673 43.316833 \r\nL 226.22146 43.245917 \r\nL 226.222616 43.219578 \r\nL 226.446626 42.708015 \r\nL 226.479539 42.689363 \r\nL 226.490345 42.613569 \r\nL 226.723012 42.107552 \r\nL 226.724785 42.111439 \r\nL 227.850166 40.039005 \r\nL 228.04343 39.727765 \r\nL 228.35497 39.380164 \r\nL 228.357254 39.383721 \r\nL 228.373404 39.21919 \r\nL 228.509833 38.920671 \r\nL 228.598451 38.825403 \r\nL 228.917316 38.253713 \r\nL 229.203171 37.562326 \r\nL 229.268101 37.482716 \r\nL 229.678124 36.857291 \r\nL 229.707728 36.831477 \r\nL 229.713055 36.773369 \r\nL 229.920388 36.306237 \r\nL 229.93495 36.312542 \r\nL 230.113967 35.959107 \r\nL 230.130945 35.968433 \r\nL 230.204846 35.883137 \r\nL 230.478573 35.523394 \r\nL 230.66818 35.280299 \r\nL 230.782505 35.089611 \r\nL 230.991685 34.9939 \r\nL 231.241237 34.578713 \r\nL 231.369957 34.345901 \r\nL 231.509324 34.187232 \r\nL 231.587169 34.104755 \r\nL 231.702237 33.961237 \r\nL 231.769273 33.875507 \r\nL 231.969499 33.561779 \r\nL 232.830643 32.628454 \r\nL 232.840471 32.636464 \r\nL 232.870796 32.511231 \r\nL 232.958151 32.451192 \r\nL 232.95885 32.41983 \r\nL 233.178145 32.058133 \r\nL 233.264191 31.981505 \r\nL 233.573208 31.342809 \r\nL 233.731321 31.13159 \r\nL 233.840105 31.055061 \r\nL 233.951966 30.897036 \r\nL 233.964436 30.899449 \r\nL 234.175818 30.834267 \r\nL 234.276981 30.684914 \r\nL 234.283677 30.687301 \r\nL 234.287161 30.68969 \r\nL 234.292703 30.592677 \r\nL 234.345815 30.599799 \r\nL 234.633668 30.212709 \r\nL 234.705552 30.124078 \r\nL 234.892951 29.878329 \r\nL 234.901768 29.885138 \r\nL 234.995635 29.793448 \r\nL 235.09759 29.741211 \r\nL 235.111347 29.743462 \r\nL 235.161402 29.752476 \r\nL 235.185845 29.655854 \r\nL 235.362888 29.541618 \r\nL 235.486815 29.460045 \r\nL 235.618836 29.373745 \r\nL 235.805549 29.087238 \r\nL 235.808025 29.089394 \r\nL 235.963001 29.041987 \r\nL 235.965666 29.008544 \r\nL 236.160097 28.759508 \r\nL 236.336786 28.685916 \r\nL 236.471341 28.438517 \r\nL 236.474594 28.440581 \r\nL 236.604755 28.353249 \r\nL 236.71785 28.197511 \r\nL 236.819645 28.105352 \r\nL 237.040395 27.573179 \r\nL 237.166791 27.481471 \r\nL 237.168569 27.447021 \r\nL 237.209244 27.450834 \r\nL 237.394357 27.366301 \r\nL 237.54856 27.107873 \r\nL 237.551907 27.111584 \r\nL 237.804588 27.042347 \r\nL 237.959988 26.917288 \r\nL 238.146105 26.839511 \r\nL 238.316627 26.685251 \r\nL 238.635107 26.645172 \r\nL 238.732655 26.478598 \r\nL 239.183794 26.314089 \r\nL 239.204171 26.281804 \r\nL 239.20933 26.249482 \r\nL 239.858402 25.740555 \r\nL 239.948955 25.639794 \r\nL 240.062976 25.469012 \r\nL 240.071978 25.472246 \r\nL 240.192325 25.372243 \r\nL 240.264996 25.310155 \r\nL 240.307302 25.318123 \r\nL 240.707163 25.249097 \r\nL 240.810204 25.07832 \r\nL 241.149306 25.019818 \r\nL 241.368662 24.890321 \r\nL 241.622978 24.84597 \r\nL 241.810878 24.602855 \r\nL 242.364122 24.553171 \r\nL 242.488178 24.369155 \r\nL 242.531752 24.29534 \r\nL 242.571392 24.299703 \r\nL 242.898778 24.224741 \r\nL 242.902578 24.186063 \r\nL 243.009591 24.197614 \r\nL 243.252483 24.118513 \r\nL 243.362591 24.089544 \r\nL 243.364802 24.090979 \r\nL 243.652931 24.042762 \r\nL 243.707595 23.968455 \r\nL 243.762729 23.979823 \r\nL 243.894895 23.916545 \r\nL 244.068354 23.770874 \r\nL 244.071449 23.772262 \r\nL 244.390672 23.737146 \r\nL 244.512273 23.7194 \r\nL 244.636331 23.654372 \r\nL 244.700491 23.578029 \r\nL 244.725543 23.583503 \r\nL 245.030569 23.527332 \r\nL 245.104245 23.457136 \r\nL 245.146907 23.462548 \r\nL 245.371496 23.443531 \r\nL 245.521517 23.37135 \r\nL 245.642882 23.304212 \r\nL 245.6789 23.231421 \r\nL 245.7577 23.244634 \r\nL 246.013653 23.188519 \r\nL 246.125025 23.075972 \r\nL 246.151426 23.085067 \r\nL 246.584843 23.011736 \r\nL 246.927544 22.772339 \r\nL 247.331622 22.724775 \r\nL 247.401941 22.686949 \r\nL 247.446232 22.695716 \r\nL 247.551133 22.625918 \r\nL 247.663535 22.5495 \r\nL 248.00366 22.499579 \r\nL 248.111829 22.420934 \r\nL 248.22172 22.343164 \r\nL 248.245172 22.256786 \r\nL 248.324195 22.270949 \r\nL 248.506337 22.208799 \r\nL 248.620366 22.091113 \r\nL 248.625 22.092266 \r\nL 248.936998 22.041162 \r\nL 249.056178 21.829276 \r\nL 249.066156 21.831489 \r\nL 249.343406 21.864933 \r\nL 249.470487 21.833009 \r\nL 249.471561 21.834128 \r\nL 249.731034 21.767462 \r\nL 249.731969 21.721723 \r\nL 249.819419 21.730532 \r\nL 250.457205 21.712484 \r\nL 250.45835 21.66587 \r\nL 250.590145 21.582354 \r\nL 250.591352 21.583443 \r\nL 250.932551 21.52426 \r\nL 251.014007 21.438356 \r\nL 251.044173 21.442624 \r\nL 251.58361 21.424449 \r\nL 251.694062 21.393402 \r\nL 252.118412 21.345585 \r\nL 252.23651 21.311528 \r\nL 253.327637 21.346521 \r\nL 253.434837 21.308979 \r\nL 253.948926 21.263095 \r\nL 253.951829 21.211295 \r\nL 254.055733 21.221263 \r\nL 254.428623 21.158908 \r\nL 254.543265 21.111841 \r\nL 254.61482 21.063538 \r\nL 254.797889 21.030153 \r\nL 255.351411 20.991488 \r\nL 255.454 20.949363 \r\nL 255.460559 20.950443 \r\nL 256.006131 20.908357 \r\nL 256.132808 20.814973 \r\nL 256.140446 20.819246 \r\nL 256.663109 20.766138 \r\nL 256.686146 20.71071 \r\nL 256.772218 20.721303 \r\nL 256.97722 20.695205 \r\nL 257.080343 20.649562 \r\nL 257.087228 20.652728 \r\nL 257.899875 20.629093 \r\nL 258.023349 20.583895 \r\nL 258.023477 20.584964 \r\nL 258.149156 20.542551 \r\nL 258.268625 20.493381 \r\nL 258.574694 20.463722 \r\nL 258.575515 20.403298 \r\nL 258.678099 20.415731 \r\nL 258.950602 20.383897 \r\nL 258.952557 20.322648 \r\nL 259.060848 20.339058 \r\nL 259.324909 20.31017 \r\nL 259.414627 20.198591 \r\nL 259.437976 20.200596 \r\nL 260.30613 20.153376 \r\nL 260.366384 20.026638 \r\nL 260.424105 20.034447 \r\nL 260.778832 20.020499 \r\nL 260.873807 19.961525 \r\nL 260.882741 19.963475 \r\nL 261.783773 19.935809 \r\nL 261.930315 19.743963 \r\nL 262.010232 19.685009 \r\nL 262.09677 19.550535 \r\nL 262.117016 19.551415 \r\nL 262.689641 19.533325 \r\nL 262.729359 19.464746 \r\nL 262.797709 19.47522 \r\nL 263.476458 19.467411 \r\nL 263.479788 19.393788 \r\nL 263.58817 19.402529 \r\nL 264.336249 19.399579 \r\nL 264.463473 19.257918 \r\nL 266.398095 19.285998 \r\nL 266.481822 19.204927 \r\nL 266.504255 19.207662 \r\nL 266.960057 19.165647 \r\nL 266.960206 19.079773 \r\nL 267.049113 19.085925 \r\nL 268.684084 19.053176 \r\nL 268.685397 18.960279 \r\nL 268.789922 18.975543 \r\nL 269.405671 18.930432 \r\nL 269.522699 18.84014 \r\nL 269.525253 18.841876 \r\nL 269.792606 18.7541 \r\nL 269.902749 18.662902 \r\nL 269.907985 18.663691 \r\nL 270.42869 18.605219 \r\nL 270.471919 18.506701 \r\nL 270.522968 18.511841 \r\nL 270.923302 18.440635 \r\nL 271.022865 18.236126 \r\nL 271.03518 18.236737 \r\nL 271.487827 18.1587 \r\nL 271.6102 18.057549 \r\nL 274.399872 18.103388 \r\nL 274.517948 17.982292 \r\nL 275.122048 18.016204 \r\nL 275.268128 17.888949 \r\nL 280.167741 17.971796 \r\nL 280.167829 17.794803 \r\nL 280.27255 17.802561 \r\nL 286.41012 18.197463 \r\nL 287.554783 18.290991 \r\nL 287.55604 17.990537 \r\nL 287.665105 17.998934 \r\nL 288.087217 18.026582 \r\nL 288.193183 17.71629 \r\nL 288.224506 17.719341 \r\nL 291.826381 17.916075 \r\nL 291.899151 17.501616 \r\nL 296.007395 17.663414 \r\nL 296.249993 17.686393 \r\nL 298.945636 17.832516 \r\nL 299.308672 17.874454 \r\nL 301.879559 18.011825 \r\nL 302.153575 18.03873 \r\nL 302.328743 17.083636 \r\nL 349.684943 17.083636 \r\nL 349.684943 17.083636 \r\n\" style=\"fill:none;stroke:#ff0000;stroke-linecap:square;stroke-width:1.5;\"/>\r\n   </g>\r\n   <g id=\"line2d_14\">\r\n    <path clip-path=\"url(#pd522abd288)\" d=\"M 45.321307 17.083636 \r\nL 45.497187 17.115193 \r\nL 130.303705 17.209864 \r\nL 130.418678 17.241421 \r\nL 152.339808 17.336092 \r\nL 152.447797 17.399206 \r\nL 160.443132 17.493877 \r\nL 160.555699 17.525434 \r\nL 167.793412 17.620104 \r\nL 167.903506 17.651661 \r\nL 171.327102 17.746332 \r\nL 171.438306 17.777889 \r\nL 175.034023 17.87256 \r\nL 175.147585 17.935674 \r\nL 176.733947 18.030345 \r\nL 176.845916 18.061902 \r\nL 178.069192 18.156573 \r\nL 178.191872 18.219687 \r\nL 179.485475 18.314357 \r\nL 179.590851 18.409028 \r\nL 180.623602 18.503699 \r\nL 180.735739 18.535256 \r\nL 181.475061 18.629927 \r\nL 181.590165 18.693041 \r\nL 182.087341 18.787712 \r\nL 182.197005 18.819269 \r\nL 184.374753 18.913939 \r\nL 184.492698 18.945496 \r\nL 185.198241 19.040167 \r\nL 185.299693 19.071724 \r\nL 185.76415 19.166395 \r\nL 185.874742 19.197952 \r\nL 187.277241 19.292623 \r\nL 187.393273 19.355737 \r\nL 189.716433 19.450408 \r\nL 189.822992 19.481964 \r\nL 190.647004 19.576635 \r\nL 190.757296 19.608192 \r\nL 191.592378 19.702863 \r\nL 191.702278 19.73442 \r\nL 192.963552 19.829091 \r\nL 193.075552 19.860648 \r\nL 193.295717 19.955319 \r\nL 193.409238 19.986876 \r\nL 193.813188 20.081546 \r\nL 193.92424 20.14466 \r\nL 195.074164 20.239331 \r\nL 195.185997 20.302445 \r\nL 195.798451 20.397116 \r\nL 195.906867 20.428673 \r\nL 196.360114 20.523344 \r\nL 196.466941 20.618015 \r\nL 197.086918 20.712685 \r\nL 197.195178 20.744242 \r\nL 197.794859 20.838913 \r\nL 197.933866 20.902027 \r\nL 198.171845 20.996698 \r\nL 198.284941 21.028255 \r\nL 199.297132 21.122926 \r\nL 199.41166 21.249154 \r\nL 199.95224 21.343824 \r\nL 200.05741 21.406938 \r\nL 200.593235 21.501609 \r\nL 200.706245 21.564723 \r\nL 200.985038 21.659394 \r\nL 201.094012 21.690951 \r\nL 201.294275 21.785622 \r\nL 201.421859 21.848736 \r\nL 201.646593 21.943406 \r\nL 201.774813 22.00652 \r\nL 202.81558 22.101191 \r\nL 202.931376 22.132748 \r\nL 203.239395 22.227419 \r\nL 203.349165 22.32209 \r\nL 203.576151 22.416761 \r\nL 203.683225 22.448318 \r\nL 204.280206 22.542989 \r\nL 204.384954 22.574545 \r\nL 204.623387 22.669216 \r\nL 204.735021 22.763887 \r\nL 205.153782 22.858558 \r\nL 205.25952 22.953229 \r\nL 205.66688 23.0479 \r\nL 205.778448 23.111014 \r\nL 206.290012 23.205684 \r\nL 206.404319 23.300355 \r\nL 206.64838 23.395026 \r\nL 206.752265 23.45814 \r\nL 207.162796 23.552811 \r\nL 207.296421 23.710596 \r\nL 207.51739 23.805266 \r\nL 207.63036 23.836823 \r\nL 207.979794 23.931494 \r\nL 208.096637 23.994608 \r\nL 208.244033 24.089279 \r\nL 208.355563 24.120836 \r\nL 208.54783 24.215507 \r\nL 208.657674 24.310178 \r\nL 209.085232 24.404848 \r\nL 209.226085 24.531076 \r\nL 209.535202 24.625747 \r\nL 209.655265 24.751975 \r\nL 209.775881 24.846646 \r\nL 209.960135 24.90976 \r\nL 210.457269 25.004431 \r\nL 210.56046 25.035987 \r\nL 210.795481 25.130658 \r\nL 210.948117 25.32 \r\nL 211.091947 25.414671 \r\nL 211.203535 25.446228 \r\nL 211.40379 25.540899 \r\nL 211.521767 25.635569 \r\nL 211.667719 25.73024 \r\nL 211.785314 25.888025 \r\nL 212.028421 25.982696 \r\nL 212.145658 26.077367 \r\nL 212.661298 26.172038 \r\nL 212.775909 26.266708 \r\nL 212.908018 26.361379 \r\nL 213.021045 26.519164 \r\nL 213.238171 26.613835 \r\nL 213.34221 26.676949 \r\nL 213.497737 26.740063 \r\nL 213.735595 26.834734 \r\nL 213.85977 26.897847 \r\nL 214.152286 26.992518 \r\nL 214.282982 27.087189 \r\nL 214.367713 27.18186 \r\nL 214.475777 27.308088 \r\nL 214.789294 27.402759 \r\nL 214.936172 27.560543 \r\nL 215.184302 27.655214 \r\nL 215.297728 27.749885 \r\nL 215.719523 27.844556 \r\nL 215.815403 27.970784 \r\nL 215.996807 28.065455 \r\nL 216.098237 28.097011 \r\nL 216.452491 28.191682 \r\nL 216.599133 28.412581 \r\nL 216.927658 28.507252 \r\nL 217.039457 28.63348 \r\nL 217.140372 28.72815 \r\nL 217.259488 28.791264 \r\nL 217.292237 28.885935 \r\nL 217.579195 29.138391 \r\nL 217.776212 29.233062 \r\nL 217.92267 29.327732 \r\nL 218.094244 29.422403 \r\nL 218.215377 29.580188 \r\nL 218.375637 29.674859 \r\nL 218.486389 29.895758 \r\nL 218.629757 29.990428 \r\nL 218.74124 30.085099 \r\nL 218.829965 30.17977 \r\nL 218.945909 30.211327 \r\nL 219.035304 30.305998 \r\nL 219.150084 30.369112 \r\nL 219.499537 30.463783 \r\nL 219.639378 30.49534 \r\nL 219.769758 30.59001 \r\nL 219.887578 30.653124 \r\nL 220.182746 30.747795 \r\nL 220.288825 30.874023 \r\nL 220.495491 30.968694 \r\nL 220.64321 31.031808 \r\nL 220.763393 31.126479 \r\nL 220.922647 31.378934 \r\nL 221.082569 31.473605 \r\nL 221.196531 31.536719 \r\nL 221.331847 31.63139 \r\nL 221.717353 32.010073 \r\nL 221.980064 32.104744 \r\nL 222.079804 32.199415 \r\nL 222.211484 32.294086 \r\nL 222.438943 32.578098 \r\nL 222.565893 32.672769 \r\nL 222.671842 32.893668 \r\nL 222.778676 32.988339 \r\nL 222.885868 33.083009 \r\nL 223.015929 33.17768 \r\nL 223.122881 33.240794 \r\nL 223.269495 33.335465 \r\nL 223.398105 33.524807 \r\nL 223.561043 33.619478 \r\nL 223.828076 33.966604 \r\nL 223.920068 34.061275 \r\nL 224.063405 34.21906 \r\nL 224.164866 34.31373 \r\nL 224.284466 34.408401 \r\nL 224.434333 34.503072 \r\nL 224.547506 34.692414 \r\nL 224.687835 34.787085 \r\nL 224.802123 34.944869 \r\nL 225.31131 35.544451 \r\nL 225.477687 35.639122 \r\nL 225.598621 35.796907 \r\nL 225.753762 35.891578 \r\nL 225.942564 36.112476 \r\nL 226.027046 36.207147 \r\nL 226.23827 36.428046 \r\nL 226.312065 36.522717 \r\nL 226.490345 36.869843 \r\nL 226.555583 36.964514 \r\nL 226.712716 37.311641 \r\nL 226.744375 37.406311 \r\nL 226.921469 37.532539 \r\nL 227.037199 37.62721 \r\nL 227.161248 37.753438 \r\nL 227.258144 37.848109 \r\nL 227.410238 38.132121 \r\nL 227.545951 38.226792 \r\nL 227.581135 38.321463 \r\nL 227.692571 38.510805 \r\nL 227.764981 38.605475 \r\nL 227.88199 38.700146 \r\nL 227.994459 38.794817 \r\nL 228.094362 38.984159 \r\nL 229.15824 40.277994 \r\nL 229.290625 40.372665 \r\nL 229.418709 40.530449 \r\nL 229.778323 40.782905 \r\nL 229.900359 41.003804 \r\nL 230.478573 41.76117 \r\nL 230.585223 41.855841 \r\nL 230.725965 42.108297 \r\nL 231.343318 42.89722 \r\nL 231.416697 42.991891 \r\nL 231.604893 43.307461 \r\nL 231.746119 43.402132 \r\nL 231.856559 43.465246 \r\nL 231.91776 43.559916 \r\nL 232.409921 44.695967 \r\nL 232.531435 44.790637 \r\nL 232.719124 45.137764 \r\nL 232.780812 45.232435 \r\nL 232.870796 45.516447 \r\nL 233.225779 45.80046 \r\nL 233.34143 45.989801 \r\nL 233.580294 46.305371 \r\nL 233.693826 46.400042 \r\nL 233.831423 46.715611 \r\nL 233.979617 46.810282 \r\nL 235.013754 48.609028 \r\nL 235.1168 48.766813 \r\nL 235.981395 50.123762 \r\nL 236.152004 50.376217 \r\nL 236.253473 50.470888 \r\nL 236.344799 50.849572 \r\nL 236.496666 51.228255 \r\nL 237.209244 52.269634 \r\nL 237.364423 52.458976 \r\nL 238.290456 54.604848 \r\nL 238.448011 55.015089 \r\nL 238.677269 55.267544 \r\nL 238.787461 55.393772 \r\nL 238.908265 55.646228 \r\nL 239.022611 55.93024 \r\nL 240.921152 60.221985 \r\nL 241.030806 60.537555 \r\nL 241.376301 61.294922 \r\nL 241.622978 61.894504 \r\nL 241.650112 61.989175 \r\nL 241.775384 62.273187 \r\nL 241.950081 62.620313 \r\nL 242.108085 63.030554 \r\nL 242.21561 63.251452 \r\nL 242.324774 63.598579 \r\nL 243.158764 65.586667 \r\nL 243.309786 66.154692 \r\nL 243.392344 66.312476 \r\nL 243.493118 66.564932 \r\nL 243.582684 66.722717 \r\nL 243.722017 67.038286 \r\nL 244.223642 68.300564 \r\nL 244.338125 68.710805 \r\nL 244.410527 69.026374 \r\nL 244.569015 69.625956 \r\nL 245.313168 71.298474 \r\nL 245.521517 71.645601 \r\nL 245.763917 72.560752 \r\nL 245.885631 72.907879 \r\nL 246.799258 75.68489 \r\nL 246.927544 76.316029 \r\nL 247.45302 77.704535 \r\nL 247.772822 78.556573 \r\nL 248.000771 79.187712 \r\nL 248.139081 79.566395 \r\nL 248.221548 79.661066 \r\nL 248.324195 80.102863 \r\nL 248.467857 80.607774 \r\nL 248.620366 81.207356 \r\nL 248.879649 82.217179 \r\nL 249.012628 82.438077 \r\nL 249.359835 83.637241 \r\nL 249.470487 84.015925 \r\nL 249.559057 84.394608 \r\nL 249.665217 84.489279 \r\nL 249.856988 85.025747 \r\nL 250.14307 85.972456 \r\nL 250.422538 87.013835 \r\nL 250.599011 87.455632 \r\nL 254.471484 100.898892 \r\nL 254.667867 101.182905 \r\nL 254.771401 101.624702 \r\nL 254.94136 102.003386 \r\nL 255.116856 102.823866 \r\nL 255.191919 103.013208 \r\nL 255.312873 103.549676 \r\nL 255.397653 103.833689 \r\nL 255.510921 104.149258 \r\nL 255.609785 104.496385 \r\nL 255.971253 105.727106 \r\nL 256.08976 106.452915 \r\nL 258.441992 114.594608 \r\nL 258.551621 114.78395 \r\nL 258.765509 115.604431 \r\nL 259.598834 118.886353 \r\nL 259.828641 119.32815 \r\nL 259.878212 119.549049 \r\nL 260.018483 119.706834 \r\nL 260.116528 120.085517 \r\nL 260.202722 120.274859 \r\nL 260.539404 121.537137 \r\nL 260.71767 122.452288 \r\nL 260.944008 123.146541 \r\nL 261.061122 123.746123 \r\nL 261.128143 124.030136 \r\nL 261.325127 124.661275 \r\nL 262.899895 130.025956 \r\nL 262.979517 130.183741 \r\nL 263.266196 131.382905 \r\nL 263.410801 131.635361 \r\nL 263.525475 132.140272 \r\nL 263.86245 133.40255 \r\nL 264.510629 135.422194 \r\nL 264.742066 135.769321 \r\nL 264.934794 136.558245 \r\nL 265.502036 138.641003 \r\nL 265.720416 139.493041 \r\nL 265.856793 139.777053 \r\nL 266.321747 141.796698 \r\nL 266.594519 142.364723 \r\nL 266.979159 143.721672 \r\nL 267.20458 144.226583 \r\nL 267.443805 144.952393 \r\nL 267.773815 145.930658 \r\nL 267.894632 146.246228 \r\nL 268.50521 148.423657 \r\nL 268.577098 148.581442 \r\nL 269.481385 151.358454 \r\nL 269.918591 152.147377 \r\nL 270.105071 152.746959 \r\nL 270.164882 152.999415 \r\nL 270.522968 154.072351 \r\nL 270.570055 154.230136 \r\nL 270.832988 154.955946 \r\nL 271.381602 156.691578 \r\nL 271.487827 157.070261 \r\nL 271.566049 157.164932 \r\nL 271.797652 157.953856 \r\nL 271.961826 158.395653 \r\nL 272.062436 158.679666 \r\nL 272.343878 159.437032 \r\nL 272.479332 159.941944 \r\nL 272.556749 160.131285 \r\nL 272.703491 160.730867 \r\nL 272.912294 161.298892 \r\nL 273.036253 161.582905 \r\nL 273.294733 162.624284 \r\nL 273.357878 162.813626 \r\nL 273.929736 164.801714 \r\nL 274.083598 165.117283 \r\nL 274.169579 165.495967 \r\nL 274.280371 165.748422 \r\nL 274.360404 165.937764 \r\nL 274.595157 166.505789 \r\nL 274.774289 167.0107 \r\nL 274.959848 167.578725 \r\nL 275.08185 167.957409 \r\nL 276.034546 170.261066 \r\nL 276.159057 170.702863 \r\nL 276.32625 171.113103 \r\nL 276.714579 172.028255 \r\nL 277.412783 173.385204 \r\nL 277.588821 173.700773 \r\nL 277.673346 173.953229 \r\nL 277.73767 174.111014 \r\nL 277.839321 174.300355 \r\nL 277.911755 174.552811 \r\nL 278.04067 174.805266 \r\nL 278.695092 176.477785 \r\nL 278.832148 176.635569 \r\nL 278.978943 177.077367 \r\nL 279.196563 177.487607 \r\nL 279.368611 178.055632 \r\nL 279.548287 178.5921 \r\nL 279.720742 179.065455 \r\nL 280.030641 179.696594 \r\nL 280.197055 179.949049 \r\nL 280.53438 180.927315 \r\nL 280.751351 181.432226 \r\nL 280.88374 181.747795 \r\nL 280.983918 182.000251 \r\nL 281.148275 182.410491 \r\nL 281.341613 182.63139 \r\nL 281.479457 182.883845 \r\nL 281.835557 183.483427 \r\nL 281.985812 183.862111 \r\nL 282.234888 184.556364 \r\nL 282.355477 184.966604 \r\nL 282.493338 185.282173 \r\nL 282.627867 185.471515 \r\nL 282.75632 185.660857 \r\nL 283.158977 186.670679 \r\nL 283.254053 186.828464 \r\nL 283.42579 187.17559 \r\nL 283.675717 187.838286 \r\nL 283.820653 187.996071 \r\nL 283.930708 188.21697 \r\nL 284.099701 188.62721 \r\nL 285.41773 190.773083 \r\nL 285.525865 190.930867 \r\nL 286.249323 192.130031 \r\nL 286.353033 192.445601 \r\nL 286.837224 193.234525 \r\nL 286.997574 193.48698 \r\nL 287.345284 194.055005 \r\nL 287.55604 194.244347 \r\nL 287.687678 194.465246 \r\nL 287.954088 194.843929 \r\nL 288.26143 195.254169 \r\nL 288.76566 195.885308 \r\nL 288.949549 196.043093 \r\nL 289.275311 196.768903 \r\nL 289.513995 196.989801 \r\nL 289.638484 197.179143 \r\nL 289.735942 197.400042 \r\nL 290.112051 198.125852 \r\nL 290.201494 198.315193 \r\nL 290.427278 198.536092 \r\nL 293.184547 201.34466 \r\nL 293.434921 201.754901 \r\nL 294.315467 202.575381 \r\nL 294.470755 202.701609 \r\nL 295.016713 202.985622 \r\nL 295.143976 203.301191 \r\nL 296.035488 204.121672 \r\nL 296.156724 204.311014 \r\nL 296.249993 204.468798 \r\nL 296.850319 204.721254 \r\nL 297.128917 205.194608 \r\nL 297.852046 205.762633 \r\nL 297.944173 205.857304 \r\nL 300.001556 207.214253 \r\nL 302.05412 208.192518 \r\nL 302.47192 208.476531 \r\nL 304.009421 209.297011 \r\nL 304.149058 209.391682 \r\nL 305.367887 210.085935 \r\nL 305.582933 210.24372 \r\nL 305.968752 210.464619 \r\nL 306.46731 210.685517 \r\nL 307.315231 210.96953 \r\nL 308.38365 211.411327 \r\nL 308.508545 211.505998 \r\nL 309.021037 211.726897 \r\nL 309.362181 211.884681 \r\nL 309.902991 212.042466 \r\nL 310.152848 212.231808 \r\nL 310.920297 212.421149 \r\nL 311.574945 212.578934 \r\nL 313.431975 212.862947 \r\nL 315.384622 213.178516 \r\nL 316.571558 213.399415 \r\nL 317.72308 213.588757 \r\nL 332.268114 214.598579 \r\nL 349.684943 214.756364 \r\nL 349.684943 214.756364 \r\n\" style=\"fill:none;stroke:#0000ff;stroke-dasharray:5.55,2.4;stroke-dashoffset:0;stroke-width:1.5;\"/>\r\n   </g>\r\n   <g id=\"patch_3\">\r\n    <path d=\"M 30.103125 224.64 \r\nL 30.103125 7.2 \r\n\" style=\"fill:none;stroke:#000000;stroke-linecap:square;stroke-linejoin:miter;stroke-width:0.8;\"/>\r\n   </g>\r\n   <g id=\"patch_4\">\r\n    <path d=\"M 364.903125 224.64 \r\nL 364.903125 7.2 \r\n\" style=\"fill:none;stroke:#000000;stroke-linecap:square;stroke-linejoin:miter;stroke-width:0.8;\"/>\r\n   </g>\r\n   <g id=\"patch_5\">\r\n    <path d=\"M 30.103125 224.64 \r\nL 364.903125 224.64 \r\n\" style=\"fill:none;stroke:#000000;stroke-linecap:square;stroke-linejoin:miter;stroke-width:0.8;\"/>\r\n   </g>\r\n   <g id=\"patch_6\">\r\n    <path d=\"M 30.103125 7.2 \r\nL 364.903125 7.2 \r\n\" style=\"fill:none;stroke:#000000;stroke-linecap:square;stroke-linejoin:miter;stroke-width:0.8;\"/>\r\n   </g>\r\n  </g>\r\n </g>\r\n <defs>\r\n  <clipPath id=\"pd522abd288\">\r\n   <rect height=\"217.44\" width=\"334.8\" x=\"30.103125\" y=\"7.2\"/>\r\n  </clipPath>\r\n </defs>\r\n</svg>\r\n",
      "image/png": "[encoded data removed]"
     },
     "metadata": {
      "needs_background": "light"
     }
    }
   ],
   "source": [
    "plt.plot(threshold, precision[:-1],'r-')\n",
    "plt.plot(threshold, recall[:-1],'b--')\n",
    "plt.show()"
   ]
  },
  {
   "cell_type": "code",
   "execution_count": 105,
   "metadata": {},
   "outputs": [
    {
     "output_type": "execute_result",
     "data": {
      "text/plain": [
       "55735"
      ]
     },
     "metadata": {},
     "execution_count": 105
    }
   ],
   "source": [
    "len(precision)"
   ]
  },
  {
   "cell_type": "code",
   "execution_count": 106,
   "metadata": {},
   "outputs": [
    {
     "output_type": "execute_result",
     "data": {
      "text/plain": [
       "55734"
      ]
     },
     "metadata": {},
     "execution_count": 106
    }
   ],
   "source": [
    "len(threshold)"
   ]
  },
  {
   "cell_type": "code",
   "execution_count": 107,
   "metadata": {},
   "outputs": [
    {
     "output_type": "stream",
     "text": [
      "\u001b[1;31mSignature:\u001b[0m\n",
      "\u001b[0mprecision_recall_curve\u001b[0m\u001b[1;33m(\u001b[0m\u001b[1;33m\n",
      "\u001b[0m    \u001b[0my_true\u001b[0m\u001b[1;33m,\u001b[0m\u001b[1;33m\n",
      "\u001b[0m    \u001b[0mprobas_pred\u001b[0m\u001b[1;33m,\u001b[0m\u001b[1;33m\n",
      "\u001b[0m    \u001b[0mpos_label\u001b[0m\u001b[1;33m=\u001b[0m\u001b[1;32mNone\u001b[0m\u001b[1;33m,\u001b[0m\u001b[1;33m\n",
      "\u001b[0m    \u001b[0msample_weight\u001b[0m\u001b[1;33m=\u001b[0m\u001b[1;32mNone\u001b[0m\u001b[1;33m,\u001b[0m\u001b[1;33m\n",
      "\u001b[0m\u001b[1;33m)\u001b[0m\u001b[1;33m\u001b[0m\u001b[1;33m\u001b[0m\u001b[0m\n",
      "\u001b[1;31mDocstring:\u001b[0m\n",
      "Compute precision-recall pairs for different probability thresholds\n",
      "\n",
      "Note: this implementation is restricted to the binary classification task.\n",
      "\n",
      "The precision is the ratio ``tp / (tp + fp)`` where ``tp`` is the number of\n",
      "true positives and ``fp`` the number of false positives. The precision is\n",
      "intuitively the ability of the classifier not to label as positive a sample\n",
      "that is negative.\n",
      "\n",
      "The recall is the ratio ``tp / (tp + fn)`` where ``tp`` is the number of\n",
      "true positives and ``fn`` the number of false negatives. The recall is\n",
      "intuitively the ability of the classifier to find all the positive samples.\n",
      "\n",
      "The last precision and recall values are 1. and 0. respectively and do not\n",
      "have a corresponding threshold.  This ensures that the graph starts on the\n",
      "y axis.\n",
      "\n",
      "Read more in the :ref:`User Guide <precision_recall_f_measure_metrics>`.\n",
      "\n",
      "Parameters\n",
      "----------\n",
      "y_true : array, shape = [n_samples]\n",
      "    True binary labels. If labels are not either {-1, 1} or {0, 1}, then\n",
      "    pos_label should be explicitly given.\n",
      "\n",
      "probas_pred : array, shape = [n_samples]\n",
      "    Estimated probabilities or decision function.\n",
      "\n",
      "pos_label : int or str, default=None\n",
      "    The label of the positive class.\n",
      "    When ``pos_label=None``, if y_true is in {-1, 1} or {0, 1},\n",
      "    ``pos_label`` is set to 1, otherwise an error will be raised.\n",
      "\n",
      "sample_weight : array-like of shape (n_samples,), default=None\n",
      "    Sample weights.\n",
      "\n",
      "Returns\n",
      "-------\n",
      "precision : array, shape = [n_thresholds + 1]\n",
      "    Precision values such that element i is the precision of\n",
      "    predictions with score >= thresholds[i] and the last element is 1.\n",
      "\n",
      "recall : array, shape = [n_thresholds + 1]\n",
      "    Decreasing recall values such that element i is the recall of\n",
      "    predictions with score >= thresholds[i] and the last element is 0.\n",
      "\n",
      "thresholds : array, shape = [n_thresholds <= len(np.unique(probas_pred))]\n",
      "    Increasing thresholds on the decision function used to compute\n",
      "    precision and recall.\n",
      "\n",
      "See also\n",
      "--------\n",
      "average_precision_score : Compute average precision from prediction scores\n",
      "\n",
      "roc_curve : Compute Receiver operating characteristic (ROC) curve\n",
      "\n",
      "Examples\n",
      "--------\n",
      ">>> import numpy as np\n",
      ">>> from sklearn.metrics import precision_recall_curve\n",
      ">>> y_true = np.array([0, 0, 1, 1])\n",
      ">>> y_scores = np.array([0.1, 0.4, 0.35, 0.8])\n",
      ">>> precision, recall, thresholds = precision_recall_curve(\n",
      "...     y_true, y_scores)\n",
      ">>> precision\n",
      "array([0.66666667, 0.5       , 1.        , 1.        ])\n",
      ">>> recall\n",
      "array([1. , 0.5, 0.5, 0. ])\n",
      ">>> thresholds\n",
      "array([0.35, 0.4 , 0.8 ])\n",
      "\u001b[1;31mFile:\u001b[0m      d:\\anaconda\\lib\\site-packages\\sklearn\\metrics\\_ranking.py\n",
      "\u001b[1;31mType:\u001b[0m      function\n"
     ],
     "name": "stdout"
    }
   ],
   "source": [
    "precision_recall_curve?"
   ]
  },
  {
   "cell_type": "code",
   "execution_count": null,
   "metadata": {},
   "outputs": [],
   "source": []
  }
 ]
}