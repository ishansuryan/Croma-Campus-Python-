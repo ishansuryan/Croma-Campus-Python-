{
 "metadata": {
  "language_info": {
   "codemirror_mode": {
    "name": "ipython",
    "version": 3
   },
   "file_extension": ".py",
   "mimetype": "text/x-python",
   "name": "python",
   "nbconvert_exporter": "python",
   "pygments_lexer": "ipython3",
   "version": "3.8.5-final"
  },
  "orig_nbformat": 2,
  "kernelspec": {
   "name": "python3",
   "display_name": "Python 3",
   "language": "python"
  }
 },
 "nbformat": 4,
 "nbformat_minor": 2,
 "cells": [
  {
   "source": [
    "# Variables\n",
    "## Integer"
   ],
   "cell_type": "markdown",
   "metadata": {}
  },
  {
   "cell_type": "code",
   "execution_count": 5,
   "metadata": {},
   "outputs": [
    {
     "output_type": "stream",
     "name": "stdout",
     "text": [
      "<class 'int'>\n"
     ]
    }
   ],
   "source": [
    "a = 10\n",
    "print(type(a))"
   ]
  },
  {
   "source": [
    "## Float"
   ],
   "cell_type": "markdown",
   "metadata": {}
  },
  {
   "cell_type": "code",
   "execution_count": 14,
   "metadata": {},
   "outputs": [
    {
     "output_type": "stream",
     "name": "stdout",
     "text": [
      "<class 'float'>\n"
     ]
    }
   ],
   "source": [
    "a = 10.2\n",
    "print(type(a))"
   ]
  },
  {
   "source": [
    "## String"
   ],
   "cell_type": "markdown",
   "metadata": {}
  },
  {
   "cell_type": "code",
   "execution_count": 17,
   "metadata": {},
   "outputs": [
    {
     "output_type": "stream",
     "name": "stdout",
     "text": [
      "<class 'str'>\n"
     ]
    }
   ],
   "source": [
    "a = '10.2'\n",
    "print(type(a))"
   ]
  },
  {
   "cell_type": "code",
   "execution_count": 18,
   "metadata": {},
   "outputs": [
    {
     "output_type": "execute_result",
     "data": {
      "text/plain": [
       "'10.2'"
      ]
     },
     "metadata": {},
     "execution_count": 18
    }
   ],
   "source": []
  },
  {
   "cell_type": "code",
   "execution_count": 16,
   "metadata": {},
   "outputs": [
    {
     "output_type": "execute_result",
     "data": {
      "text/plain": [
       "float"
      ]
     },
     "metadata": {},
     "execution_count": 16
    }
   ],
   "source": [
    "type(a)"
   ]
  },
  {
   "source": [
    "# Strings"
   ],
   "cell_type": "markdown",
   "metadata": {}
  },
  {
   "cell_type": "code",
   "execution_count": 21,
   "metadata": {},
   "outputs": [
    {
     "output_type": "execute_result",
     "data": {
      "text/plain": [
       "'Hello how are you?'"
      ]
     },
     "metadata": {},
     "execution_count": 21
    }
   ],
   "source": [
    "a = 'Hello how are you?'\n",
    "a"
   ]
  },
  {
   "cell_type": "code",
   "execution_count": 25,
   "metadata": {},
   "outputs": [
    {
     "output_type": "stream",
     "name": "stdout",
     "text": [
      "the number is 1 the square is 1 the cube is 1\nthe number is 2 the square is 4 the cube is 8\nthe number is 3 the square is 9 the cube is 27\nthe number is 4 the square is 16 the cube is 64\nthe number is 5 the square is 25 the cube is 125\nthe number is 6 the square is 36 the cube is 216\nthe number is 7 the square is 49 the cube is 343\nthe number is 8 the square is 64 the cube is 512\nthe number is 9 the square is 81 the cube is 729\nthe number is 10 the square is 100 the cube is 1000\n"
     ]
    }
   ],
   "source": [
    "for i in range(1,11):\n",
    "    print(\"the number is {} the square is {} the cube is {}\".format(i,i**2,i**3))"
   ]
  },
  {
   "cell_type": "code",
   "execution_count": 31,
   "metadata": {},
   "outputs": [
    {
     "output_type": "stream",
     "name": "stdout",
     "text": [
      "the number is 1  the square is  1  the cube is    1\nthe number is 2  the square is  4  the cube is    8\nthe number is 3  the square is  9  the cube is   27\nthe number is 4  the square is 16  the cube is   64\nthe number is 5  the square is 25  the cube is  125\nthe number is 6  the square is 36  the cube is  216\nthe number is 7  the square is 49  the cube is  343\nthe number is 8  the square is 64  the cube is  512\nthe number is 9  the square is 81  the cube is  729\nthe number is 10 the square is 100 the cube is 1000\n"
     ]
    }
   ],
   "source": [
    "for i in range(1,11):\n",
    "    print(\"the number is {1:<2} the square is {2:^3} the cube is {0:4}\".format(i**3,i,i**2,))"
   ]
  },
  {
   "cell_type": "code",
   "execution_count": 33,
   "metadata": {},
   "outputs": [
    {
     "output_type": "stream",
     "name": "stdout",
     "text": [
      "the number is 1  the square is  1  the cube is    1\nthe number is 8  the square is  2  the cube is    4\nthe number is 27 the square is  3  the cube is    9\nthe number is 64 the square is  4  the cube is   16\nthe number is 125 the square is  5  the cube is   25\nthe number is 216 the square is  6  the cube is   36\nthe number is 343 the square is  7  the cube is   49\nthe number is 512 the square is  8  the cube is   64\nthe number is 729 the square is  9  the cube is   81\nthe number is 1000 the square is 10  the cube is  100\n"
     ]
    }
   ],
   "source": [
    "for i in range(1,11):\n",
    "    print(\"the number is {:<2} the square is {:^3} the cube is {:4}\".format(i**3,i,i**2,))"
   ]
  },
  {
   "cell_type": "code",
   "execution_count": 34,
   "metadata": {},
   "outputs": [
    {
     "output_type": "stream",
     "name": "stdout",
     "text": [
      "the number is 1  the square is  1  the cube is    1\nthe number is 2  the square is  4  the cube is    8\nthe number is 3  the square is  9  the cube is   27\nthe number is 4  the square is 16  the cube is   64\nthe number is 5  the square is 25  the cube is  125\nthe number is 6  the square is 36  the cube is  216\nthe number is 7  the square is 49  the cube is  343\nthe number is 8  the square is 64  the cube is  512\nthe number is 9  the square is 81  the cube is  729\nthe number is 10 the square is 100 the cube is 1000\n"
     ]
    }
   ],
   "source": [
    "for i in range(1,11):\n",
    "    print(f\"the number is {i:<2} the square is {i**2:^3} the cube is {i**3:4}\")"
   ]
  },
  {
   "cell_type": "code",
   "execution_count": 35,
   "metadata": {},
   "outputs": [],
   "source": [
    "import math\n",
    "pi = math.pi"
   ]
  },
  {
   "cell_type": "code",
   "execution_count": 47,
   "metadata": {},
   "outputs": [
    {
     "output_type": "stream",
     "name": "stdout",
     "text": [
      "3.1415926535897931159979634685441851615905761718750\n"
     ]
    }
   ],
   "source": [
    "print(f'{pi:10.49f}')"
   ]
  },
  {
   "cell_type": "code",
   "execution_count": null,
   "metadata": {},
   "outputs": [],
   "source": []
  }
 ]
}