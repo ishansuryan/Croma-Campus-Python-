{
 "cells": [
  {
   "cell_type": "code",
   "execution_count": 2,
   "source": [
    "# Wap to print sum of od numbers bwtween 1 to 7\n",
    "result = 0\n",
    "for i in range(1,8):\n",
    "    if i%2 != 0:\n",
    "        result +=i\n",
    "print('the sum is:',result)"
   ],
   "outputs": [
    {
     "output_type": "stream",
     "name": "stdout",
     "text": [
      "the sum is: 16\n"
     ]
    }
   ],
   "metadata": {}
  },
  {
   "cell_type": "markdown",
   "source": [
    "<img src = \"/mnt/New_Volume/Work_From_Home/Data/Star-Pattern-Programs.png\">"
   ],
   "metadata": {}
  },
  {
   "cell_type": "markdown",
   "source": [
    "# pattern 1:"
   ],
   "metadata": {}
  },
  {
   "cell_type": "code",
   "execution_count": 4,
   "source": [
    "for row in range(5):\n",
    "    for column in range(row+1):               # remenber last limit is not included in range so +1\n",
    "        print('*', end = '')\n",
    "    print()                                 # to go to next row after filling all columns in a row"
   ],
   "outputs": [
    {
     "output_type": "stream",
     "name": "stdout",
     "text": [
      "*\n",
      "**\n",
      "***\n",
      "****\n",
      "*****\n"
     ]
    }
   ],
   "metadata": {}
  },
  {
   "cell_type": "markdown",
   "source": [
    "# Pattern No. 2"
   ],
   "metadata": {}
  },
  {
   "cell_type": "code",
   "execution_count": 5,
   "source": [
    "for row in range(5):\n",
    "    for space in range(5-row-1):            # we need to print 4 spaces before printing a start and so on \n",
    "        print(' ', end = '')\n",
    "    for star in range(row+1):\n",
    "        print('*', end = '')\n",
    "    \n",
    "    print()"
   ],
   "outputs": [
    {
     "output_type": "stream",
     "name": "stdout",
     "text": [
      "    *\n",
      "   **\n",
      "  ***\n",
      " ****\n",
      "*****\n"
     ]
    }
   ],
   "metadata": {}
  },
  {
   "cell_type": "markdown",
   "source": [
    "# Pttern No. 3"
   ],
   "metadata": {}
  },
  {
   "cell_type": "code",
   "execution_count": 7,
   "source": [
    "for row in range(5): \n",
    "    for col in range(5-row): \n",
    "        print('*', end ='') \n",
    "    print('') "
   ],
   "outputs": [
    {
     "output_type": "stream",
     "name": "stdout",
     "text": [
      "*****\n",
      "****\n",
      "***\n",
      "**\n",
      "*\n"
     ]
    }
   ],
   "metadata": {}
  },
  {
   "cell_type": "markdown",
   "source": [
    "# Pattern No. 4"
   ],
   "metadata": {}
  },
  {
   "cell_type": "code",
   "execution_count": 12,
   "source": [
    "for row in range(5):\n",
    "    for space in range(row):           \n",
    "        print(' ', end = '')\n",
    "    for star in range(5-row):           # We need decreasing number of stars\n",
    "        print('*', end = '')\n",
    "    \n",
    "    print()"
   ],
   "outputs": [
    {
     "output_type": "stream",
     "name": "stdout",
     "text": [
      "*****\n",
      " ****\n",
      "  ***\n",
      "   **\n",
      "    *\n"
     ]
    }
   ],
   "metadata": {}
  },
  {
   "cell_type": "code",
   "execution_count": null,
   "source": [],
   "outputs": [],
   "metadata": {}
  }
 ],
 "metadata": {
  "orig_nbformat": 4,
  "language_info": {
   "name": "python"
  }
 },
 "nbformat": 4,
 "nbformat_minor": 2
}