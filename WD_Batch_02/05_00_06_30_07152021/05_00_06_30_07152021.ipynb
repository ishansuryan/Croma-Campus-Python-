{
 "cells": [
  {
   "cell_type": "markdown",
   "source": [
    "# While loop : Used Where we don't know how many times loop needs to run\n",
    "\n",
    "## syntax : while condition:"
   ],
   "metadata": {}
  },
  {
   "cell_type": "code",
   "execution_count": 5,
   "source": [
    "a = input(\"Enter a number\")\n",
    "\n",
    "while int(a)<5:\n",
    "    print('The number you entered is smaller than 5:->', a)\n",
    "    a = input('Enter a number')"
   ],
   "outputs": [
    {
     "output_type": "stream",
     "name": "stdout",
     "text": [
      "The number you entered is smaller than 5:-> 0\n",
      "The number you entered is smaller than 5:-> 1\n",
      "The number you entered is smaller than 5:-> 2\n"
     ]
    }
   ],
   "metadata": {}
  },
  {
   "cell_type": "markdown",
   "source": [
    "<img src = \"/mnt/New_Volume/Work_From_Home/Data/Star-Pattern-Programs.png\">"
   ],
   "metadata": {}
  },
  {
   "cell_type": "code",
   "execution_count": 6,
   "source": [
    "row = 0\n",
    "while row < 5:\n",
    "    column = 0\n",
    "    while column < row+1:\n",
    "        print('*', end = '')\n",
    "        column +=1\n",
    "    row+=1\n",
    "    print()"
   ],
   "outputs": [
    {
     "output_type": "stream",
     "name": "stdout",
     "text": [
      "*\n",
      "**\n",
      "***\n",
      "****\n",
      "*****\n"
     ]
    }
   ],
   "metadata": {}
  },
  {
   "cell_type": "code",
   "execution_count": 11,
   "source": [
    "gates = ['north','east','west','south']\n",
    "\n",
    "i = input(\"Enter the gate name to exit the game: \").lower()\n",
    "\n",
    "while True:\n",
    "    if i in gates:\n",
    "        print('Yay correct answer you win the game.')\n",
    "        break\n",
    "    print('Wrong exit please try again: ')\n",
    "    print('enter q/quit the game')\n",
    "    i = input(\"Enter the gate name to exit the game: \").lower()\n",
    "    if i == 'q' or i =='quit':\n",
    "        print(\"are you want to quit y/n\", end = '')\n",
    "        i = input(\"Enter the gate name to exit the game: \").lower()\n",
    "        if i == 'y':\n",
    "            print('You quit')\n",
    "            break"
   ],
   "outputs": [
    {
     "output_type": "stream",
     "name": "stdout",
     "text": [
      "Wrong exit please try again: \n",
      "enter q/quit the game\n",
      "Wrong exit please try again: \n",
      "enter q/quit the game\n",
      "are you want to quit y/nWrong exit please try again: \n",
      "enter q/quit the game\n",
      "are you want to quit y/n"
     ]
    }
   ],
   "metadata": {}
  },
  {
   "cell_type": "code",
   "execution_count": null,
   "source": [],
   "outputs": [],
   "metadata": {}
  }
 ],
 "metadata": {
  "orig_nbformat": 4,
  "language_info": {
   "name": "python"
  }
 },
 "nbformat": 4,
 "nbformat_minor": 2
}