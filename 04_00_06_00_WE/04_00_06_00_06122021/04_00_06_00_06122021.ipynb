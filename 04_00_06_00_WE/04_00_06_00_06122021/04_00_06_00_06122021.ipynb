{
 "metadata": {
  "language_info": {
   "codemirror_mode": {
    "name": "ipython",
    "version": 3
   },
   "file_extension": ".py",
   "mimetype": "text/x-python",
   "name": "python",
   "nbconvert_exporter": "python",
   "pygments_lexer": "ipython3",
   "version": "3.9.5"
  },
  "orig_nbformat": 4,
  "kernelspec": {
   "name": "python3",
   "display_name": "Python 3.9.5 64-bit"
  },
  "interpreter": {
   "hash": "767d51c1340bd893661ea55ea3124f6de3c7a262a8b4abca0554b478b1e2ff90"
  }
 },
 "nbformat": 4,
 "nbformat_minor": 2,
 "cells": [
  {
   "cell_type": "code",
   "execution_count": 28,
   "metadata": {},
   "outputs": [],
   "source": [
    "import pandas as pd\n",
    "import numpy as np"
   ]
  },
  {
   "cell_type": "code",
   "execution_count": 29,
   "metadata": {},
   "outputs": [],
   "source": [
    "fitness = pd.read_csv('/mnt/New_Volume/Work_From_Home/Data/CardioGoodFitness.csv')"
   ]
  },
  {
   "cell_type": "code",
   "execution_count": 30,
   "metadata": {},
   "outputs": [
    {
     "output_type": "execute_result",
     "data": {
      "text/plain": [
       "  Product  Age  Gender  Education MaritalStatus  Usage  Fitness  Income  Miles\n",
       "0   TM195   18    Male         14        Single      3        4   29562    112\n",
       "1   TM195   19    Male         15        Single      2        3   31836     75\n",
       "2   TM195   19  Female         14     Partnered      4        3   30699     66\n",
       "3   TM195   19    Male         12        Single      3        3   32973     85\n",
       "4   TM195   20    Male         13     Partnered      4        2   35247     47"
      ],
      "text/html": "<div>\n<style scoped>\n    .dataframe tbody tr th:only-of-type {\n        vertical-align: middle;\n    }\n\n    .dataframe tbody tr th {\n        vertical-align: top;\n    }\n\n    .dataframe thead th {\n        text-align: right;\n    }\n</style>\n<table border=\"1\" class=\"dataframe\">\n  <thead>\n    <tr style=\"text-align: right;\">\n      <th></th>\n      <th>Product</th>\n      <th>Age</th>\n      <th>Gender</th>\n      <th>Education</th>\n      <th>MaritalStatus</th>\n      <th>Usage</th>\n      <th>Fitness</th>\n      <th>Income</th>\n      <th>Miles</th>\n    </tr>\n  </thead>\n  <tbody>\n    <tr>\n      <th>0</th>\n      <td>TM195</td>\n      <td>18</td>\n      <td>Male</td>\n      <td>14</td>\n      <td>Single</td>\n      <td>3</td>\n      <td>4</td>\n      <td>29562</td>\n      <td>112</td>\n    </tr>\n    <tr>\n      <th>1</th>\n      <td>TM195</td>\n      <td>19</td>\n      <td>Male</td>\n      <td>15</td>\n      <td>Single</td>\n      <td>2</td>\n      <td>3</td>\n      <td>31836</td>\n      <td>75</td>\n    </tr>\n    <tr>\n      <th>2</th>\n      <td>TM195</td>\n      <td>19</td>\n      <td>Female</td>\n      <td>14</td>\n      <td>Partnered</td>\n      <td>4</td>\n      <td>3</td>\n      <td>30699</td>\n      <td>66</td>\n    </tr>\n    <tr>\n      <th>3</th>\n      <td>TM195</td>\n      <td>19</td>\n      <td>Male</td>\n      <td>12</td>\n      <td>Single</td>\n      <td>3</td>\n      <td>3</td>\n      <td>32973</td>\n      <td>85</td>\n    </tr>\n    <tr>\n      <th>4</th>\n      <td>TM195</td>\n      <td>20</td>\n      <td>Male</td>\n      <td>13</td>\n      <td>Partnered</td>\n      <td>4</td>\n      <td>2</td>\n      <td>35247</td>\n      <td>47</td>\n    </tr>\n  </tbody>\n</table>\n</div>"
     },
     "metadata": {},
     "execution_count": 30
    }
   ],
   "source": [
    "fitness.head()"
   ]
  },
  {
   "cell_type": "code",
   "execution_count": 31,
   "metadata": {},
   "outputs": [],
   "source": [
    "MaritalStatus = fitness['MaritalStatus']"
   ]
  },
  {
   "cell_type": "code",
   "execution_count": 32,
   "metadata": {},
   "outputs": [
    {
     "output_type": "execute_result",
     "data": {
      "text/plain": [
       "  Product  Age  Gender  Education  Usage  Fitness  Income  Miles\n",
       "0   TM195   18    Male         14      3        4   29562    112\n",
       "1   TM195   19    Male         15      2        3   31836     75\n",
       "2   TM195   19  Female         14      4        3   30699     66\n",
       "3   TM195   19    Male         12      3        3   32973     85\n",
       "4   TM195   20    Male         13      4        2   35247     47"
      ],
      "text/html": "<div>\n<style scoped>\n    .dataframe tbody tr th:only-of-type {\n        vertical-align: middle;\n    }\n\n    .dataframe tbody tr th {\n        vertical-align: top;\n    }\n\n    .dataframe thead th {\n        text-align: right;\n    }\n</style>\n<table border=\"1\" class=\"dataframe\">\n  <thead>\n    <tr style=\"text-align: right;\">\n      <th></th>\n      <th>Product</th>\n      <th>Age</th>\n      <th>Gender</th>\n      <th>Education</th>\n      <th>Usage</th>\n      <th>Fitness</th>\n      <th>Income</th>\n      <th>Miles</th>\n    </tr>\n  </thead>\n  <tbody>\n    <tr>\n      <th>0</th>\n      <td>TM195</td>\n      <td>18</td>\n      <td>Male</td>\n      <td>14</td>\n      <td>3</td>\n      <td>4</td>\n      <td>29562</td>\n      <td>112</td>\n    </tr>\n    <tr>\n      <th>1</th>\n      <td>TM195</td>\n      <td>19</td>\n      <td>Male</td>\n      <td>15</td>\n      <td>2</td>\n      <td>3</td>\n      <td>31836</td>\n      <td>75</td>\n    </tr>\n    <tr>\n      <th>2</th>\n      <td>TM195</td>\n      <td>19</td>\n      <td>Female</td>\n      <td>14</td>\n      <td>4</td>\n      <td>3</td>\n      <td>30699</td>\n      <td>66</td>\n    </tr>\n    <tr>\n      <th>3</th>\n      <td>TM195</td>\n      <td>19</td>\n      <td>Male</td>\n      <td>12</td>\n      <td>3</td>\n      <td>3</td>\n      <td>32973</td>\n      <td>85</td>\n    </tr>\n    <tr>\n      <th>4</th>\n      <td>TM195</td>\n      <td>20</td>\n      <td>Male</td>\n      <td>13</td>\n      <td>4</td>\n      <td>2</td>\n      <td>35247</td>\n      <td>47</td>\n    </tr>\n  </tbody>\n</table>\n</div>"
     },
     "metadata": {},
     "execution_count": 32
    }
   ],
   "source": [
    "new_fitness = fitness.drop('MaritalStatus',axis = 1)\n",
    "new_fitness.head()"
   ]
  },
  {
   "cell_type": "code",
   "execution_count": 33,
   "metadata": {},
   "outputs": [],
   "source": [
    "fitness.drop('MaritalStatus',axis = 1,inplace=True)"
   ]
  },
  {
   "cell_type": "code",
   "execution_count": 34,
   "metadata": {},
   "outputs": [
    {
     "output_type": "execute_result",
     "data": {
      "text/plain": [
       "  Product  Age  Gender  Education  Usage  Fitness  Income  Miles\n",
       "0   TM195   18    Male         14      3        4   29562    112\n",
       "1   TM195   19    Male         15      2        3   31836     75\n",
       "2   TM195   19  Female         14      4        3   30699     66\n",
       "3   TM195   19    Male         12      3        3   32973     85\n",
       "4   TM195   20    Male         13      4        2   35247     47"
      ],
      "text/html": "<div>\n<style scoped>\n    .dataframe tbody tr th:only-of-type {\n        vertical-align: middle;\n    }\n\n    .dataframe tbody tr th {\n        vertical-align: top;\n    }\n\n    .dataframe thead th {\n        text-align: right;\n    }\n</style>\n<table border=\"1\" class=\"dataframe\">\n  <thead>\n    <tr style=\"text-align: right;\">\n      <th></th>\n      <th>Product</th>\n      <th>Age</th>\n      <th>Gender</th>\n      <th>Education</th>\n      <th>Usage</th>\n      <th>Fitness</th>\n      <th>Income</th>\n      <th>Miles</th>\n    </tr>\n  </thead>\n  <tbody>\n    <tr>\n      <th>0</th>\n      <td>TM195</td>\n      <td>18</td>\n      <td>Male</td>\n      <td>14</td>\n      <td>3</td>\n      <td>4</td>\n      <td>29562</td>\n      <td>112</td>\n    </tr>\n    <tr>\n      <th>1</th>\n      <td>TM195</td>\n      <td>19</td>\n      <td>Male</td>\n      <td>15</td>\n      <td>2</td>\n      <td>3</td>\n      <td>31836</td>\n      <td>75</td>\n    </tr>\n    <tr>\n      <th>2</th>\n      <td>TM195</td>\n      <td>19</td>\n      <td>Female</td>\n      <td>14</td>\n      <td>4</td>\n      <td>3</td>\n      <td>30699</td>\n      <td>66</td>\n    </tr>\n    <tr>\n      <th>3</th>\n      <td>TM195</td>\n      <td>19</td>\n      <td>Male</td>\n      <td>12</td>\n      <td>3</td>\n      <td>3</td>\n      <td>32973</td>\n      <td>85</td>\n    </tr>\n    <tr>\n      <th>4</th>\n      <td>TM195</td>\n      <td>20</td>\n      <td>Male</td>\n      <td>13</td>\n      <td>4</td>\n      <td>2</td>\n      <td>35247</td>\n      <td>47</td>\n    </tr>\n  </tbody>\n</table>\n</div>"
     },
     "metadata": {},
     "execution_count": 34
    }
   ],
   "source": [
    "fitness.head()"
   ]
  },
  {
   "cell_type": "code",
   "execution_count": 35,
   "metadata": {},
   "outputs": [
    {
     "output_type": "execute_result",
     "data": {
      "text/plain": [
       "   Date        \\\n",
       "0  12/12/2019   \n",
       "1  12/12/2019   \n",
       "2  12/12/2019   \n",
       "3  12/12/2019   \n",
       "4  12/12/2019   \n",
       "\n",
       "  Description                                                          \\\n",
       "0  THE ROOM               GURGAON                ...                    \n",
       "1  CUT AND STYLEGURGAON                          ...                    \n",
       "2  MUMUSOGURGAON                                 ...                    \n",
       "3  THE ROOM               GURGAON                ...                    \n",
       "4  THE ROOM               GURGAON                ...                    \n",
       "\n",
       "  InternationTransactionAmount                        Category   Amount  \\\n",
       "0                            0                      Video game     -127   \n",
       "1                            0                      Occupation     -499   \n",
       "2                            0                                     -388   \n",
       "3                            0                      Video game     -108   \n",
       "4                            0                      Video game      -50   \n",
       "\n",
       "   TransactionUserName   TransactionType IsoCurrency         Locality  \\\n",
       "0         VIBHORE GOYAL         Domestic         INR  Central Park II   \n",
       "1           JASJIT KAUR         Domestic         INR         Sector 4   \n",
       "2           JASJIT KAUR         Domestic         INR        Sector 49   \n",
       "3         VIBHORE GOYAL         Domestic         INR  Central Park II   \n",
       "4         VIBHORE GOYAL         Domestic         INR  Central Park II   \n",
       "\n",
       "       City    State Country Unnamed: 12  \n",
       "0  Gurugram  Haryana   India         NaN  \n",
       "1  Gurugram  Haryana   India         NaN  \n",
       "2  Gurugram  Haryana   India         NaN  \n",
       "3  Gurugram  Haryana   India         NaN  \n",
       "4  Gurugram  Haryana   India         NaN  "
      ],
      "text/html": "<div>\n<style scoped>\n    .dataframe tbody tr th:only-of-type {\n        vertical-align: middle;\n    }\n\n    .dataframe tbody tr th {\n        vertical-align: top;\n    }\n\n    .dataframe thead th {\n        text-align: right;\n    }\n</style>\n<table border=\"1\" class=\"dataframe\">\n  <thead>\n    <tr style=\"text-align: right;\">\n      <th></th>\n      <th>Date</th>\n      <th>Description</th>\n      <th>InternationTransactionAmount</th>\n      <th>Category</th>\n      <th>Amount</th>\n      <th>TransactionUserName</th>\n      <th>TransactionType</th>\n      <th>IsoCurrency</th>\n      <th>Locality</th>\n      <th>City</th>\n      <th>State</th>\n      <th>Country</th>\n      <th>Unnamed: 12</th>\n    </tr>\n  </thead>\n  <tbody>\n    <tr>\n      <th>0</th>\n      <td>12/12/2019</td>\n      <td>THE ROOM               GURGAON                ...</td>\n      <td>0</td>\n      <td>Video game</td>\n      <td>-127</td>\n      <td>VIBHORE GOYAL</td>\n      <td>Domestic</td>\n      <td>INR</td>\n      <td>Central Park II</td>\n      <td>Gurugram</td>\n      <td>Haryana</td>\n      <td>India</td>\n      <td>NaN</td>\n    </tr>\n    <tr>\n      <th>1</th>\n      <td>12/12/2019</td>\n      <td>CUT AND STYLEGURGAON                          ...</td>\n      <td>0</td>\n      <td>Occupation</td>\n      <td>-499</td>\n      <td>JASJIT KAUR</td>\n      <td>Domestic</td>\n      <td>INR</td>\n      <td>Sector 4</td>\n      <td>Gurugram</td>\n      <td>Haryana</td>\n      <td>India</td>\n      <td>NaN</td>\n    </tr>\n    <tr>\n      <th>2</th>\n      <td>12/12/2019</td>\n      <td>MUMUSOGURGAON                                 ...</td>\n      <td>0</td>\n      <td></td>\n      <td>-388</td>\n      <td>JASJIT KAUR</td>\n      <td>Domestic</td>\n      <td>INR</td>\n      <td>Sector 49</td>\n      <td>Gurugram</td>\n      <td>Haryana</td>\n      <td>India</td>\n      <td>NaN</td>\n    </tr>\n    <tr>\n      <th>3</th>\n      <td>12/12/2019</td>\n      <td>THE ROOM               GURGAON                ...</td>\n      <td>0</td>\n      <td>Video game</td>\n      <td>-108</td>\n      <td>VIBHORE GOYAL</td>\n      <td>Domestic</td>\n      <td>INR</td>\n      <td>Central Park II</td>\n      <td>Gurugram</td>\n      <td>Haryana</td>\n      <td>India</td>\n      <td>NaN</td>\n    </tr>\n    <tr>\n      <th>4</th>\n      <td>12/12/2019</td>\n      <td>THE ROOM               GURGAON                ...</td>\n      <td>0</td>\n      <td>Video game</td>\n      <td>-50</td>\n      <td>VIBHORE GOYAL</td>\n      <td>Domestic</td>\n      <td>INR</td>\n      <td>Central Park II</td>\n      <td>Gurugram</td>\n      <td>Haryana</td>\n      <td>India</td>\n      <td>NaN</td>\n    </tr>\n  </tbody>\n</table>\n</div>"
     },
     "metadata": {},
     "execution_count": 35
    }
   ],
   "source": [
    "df = pd.read_csv('/mnt/New_Volume/Work_From_Home/Data/DataScienceCleanStatement.csv')\n",
    "df.head()"
   ]
  },
  {
   "cell_type": "code",
   "execution_count": 36,
   "metadata": {},
   "outputs": [
    {
     "output_type": "error",
     "ename": "KeyError",
     "evalue": "'Description'",
     "traceback": [
      "\u001b[0;31m---------------------------------------------------------------------------\u001b[0m",
      "\u001b[0;31mKeyError\u001b[0m                                  Traceback (most recent call last)",
      "\u001b[0;32m/usr/lib/python3.9/site-packages/pandas/core/indexes/base.py\u001b[0m in \u001b[0;36mget_loc\u001b[0;34m(self, key, method, tolerance)\u001b[0m\n\u001b[1;32m   3079\u001b[0m             \u001b[0;32mtry\u001b[0m\u001b[0;34m:\u001b[0m\u001b[0;34m\u001b[0m\u001b[0;34m\u001b[0m\u001b[0m\n\u001b[0;32m-> 3080\u001b[0;31m                 \u001b[0;32mreturn\u001b[0m \u001b[0mself\u001b[0m\u001b[0;34m.\u001b[0m\u001b[0m_engine\u001b[0m\u001b[0;34m.\u001b[0m\u001b[0mget_loc\u001b[0m\u001b[0;34m(\u001b[0m\u001b[0mcasted_key\u001b[0m\u001b[0;34m)\u001b[0m\u001b[0;34m\u001b[0m\u001b[0;34m\u001b[0m\u001b[0m\n\u001b[0m\u001b[1;32m   3081\u001b[0m             \u001b[0;32mexcept\u001b[0m \u001b[0mKeyError\u001b[0m \u001b[0;32mas\u001b[0m \u001b[0merr\u001b[0m\u001b[0;34m:\u001b[0m\u001b[0;34m\u001b[0m\u001b[0;34m\u001b[0m\u001b[0m\n",
      "\u001b[0;32mpandas/_libs/index.pyx\u001b[0m in \u001b[0;36mpandas._libs.index.IndexEngine.get_loc\u001b[0;34m()\u001b[0m\n",
      "\u001b[0;32mpandas/_libs/index.pyx\u001b[0m in \u001b[0;36mpandas._libs.index.IndexEngine.get_loc\u001b[0;34m()\u001b[0m\n",
      "\u001b[0;32mpandas/_libs/hashtable_class_helper.pxi\u001b[0m in \u001b[0;36mpandas._libs.hashtable.PyObjectHashTable.get_item\u001b[0;34m()\u001b[0m\n",
      "\u001b[0;32mpandas/_libs/hashtable_class_helper.pxi\u001b[0m in \u001b[0;36mpandas._libs.hashtable.PyObjectHashTable.get_item\u001b[0;34m()\u001b[0m\n",
      "\u001b[0;31mKeyError\u001b[0m: 'Description'",
      "\nThe above exception was the direct cause of the following exception:\n",
      "\u001b[0;31mKeyError\u001b[0m                                  Traceback (most recent call last)",
      "\u001b[0;32m<ipython-input-36-2d8be17728bf>\u001b[0m in \u001b[0;36m<module>\u001b[0;34m\u001b[0m\n\u001b[0;32m----> 1\u001b[0;31m \u001b[0mdf\u001b[0m\u001b[0;34m[\u001b[0m\u001b[0;34m'Description'\u001b[0m\u001b[0;34m]\u001b[0m\u001b[0;34m\u001b[0m\u001b[0;34m\u001b[0m\u001b[0m\n\u001b[0m",
      "\u001b[0;32m/usr/lib/python3.9/site-packages/pandas/core/frame.py\u001b[0m in \u001b[0;36m__getitem__\u001b[0;34m(self, key)\u001b[0m\n\u001b[1;32m   3022\u001b[0m             \u001b[0;32mif\u001b[0m \u001b[0mself\u001b[0m\u001b[0;34m.\u001b[0m\u001b[0mcolumns\u001b[0m\u001b[0;34m.\u001b[0m\u001b[0mnlevels\u001b[0m \u001b[0;34m>\u001b[0m \u001b[0;36m1\u001b[0m\u001b[0;34m:\u001b[0m\u001b[0;34m\u001b[0m\u001b[0;34m\u001b[0m\u001b[0m\n\u001b[1;32m   3023\u001b[0m                 \u001b[0;32mreturn\u001b[0m \u001b[0mself\u001b[0m\u001b[0;34m.\u001b[0m\u001b[0m_getitem_multilevel\u001b[0m\u001b[0;34m(\u001b[0m\u001b[0mkey\u001b[0m\u001b[0;34m)\u001b[0m\u001b[0;34m\u001b[0m\u001b[0;34m\u001b[0m\u001b[0m\n\u001b[0;32m-> 3024\u001b[0;31m             \u001b[0mindexer\u001b[0m \u001b[0;34m=\u001b[0m \u001b[0mself\u001b[0m\u001b[0;34m.\u001b[0m\u001b[0mcolumns\u001b[0m\u001b[0;34m.\u001b[0m\u001b[0mget_loc\u001b[0m\u001b[0;34m(\u001b[0m\u001b[0mkey\u001b[0m\u001b[0;34m)\u001b[0m\u001b[0;34m\u001b[0m\u001b[0;34m\u001b[0m\u001b[0m\n\u001b[0m\u001b[1;32m   3025\u001b[0m             \u001b[0;32mif\u001b[0m \u001b[0mis_integer\u001b[0m\u001b[0;34m(\u001b[0m\u001b[0mindexer\u001b[0m\u001b[0;34m)\u001b[0m\u001b[0;34m:\u001b[0m\u001b[0;34m\u001b[0m\u001b[0;34m\u001b[0m\u001b[0m\n\u001b[1;32m   3026\u001b[0m                 \u001b[0mindexer\u001b[0m \u001b[0;34m=\u001b[0m \u001b[0;34m[\u001b[0m\u001b[0mindexer\u001b[0m\u001b[0;34m]\u001b[0m\u001b[0;34m\u001b[0m\u001b[0;34m\u001b[0m\u001b[0m\n",
      "\u001b[0;32m/usr/lib/python3.9/site-packages/pandas/core/indexes/base.py\u001b[0m in \u001b[0;36mget_loc\u001b[0;34m(self, key, method, tolerance)\u001b[0m\n\u001b[1;32m   3080\u001b[0m                 \u001b[0;32mreturn\u001b[0m \u001b[0mself\u001b[0m\u001b[0;34m.\u001b[0m\u001b[0m_engine\u001b[0m\u001b[0;34m.\u001b[0m\u001b[0mget_loc\u001b[0m\u001b[0;34m(\u001b[0m\u001b[0mcasted_key\u001b[0m\u001b[0;34m)\u001b[0m\u001b[0;34m\u001b[0m\u001b[0;34m\u001b[0m\u001b[0m\n\u001b[1;32m   3081\u001b[0m             \u001b[0;32mexcept\u001b[0m \u001b[0mKeyError\u001b[0m \u001b[0;32mas\u001b[0m \u001b[0merr\u001b[0m\u001b[0;34m:\u001b[0m\u001b[0;34m\u001b[0m\u001b[0;34m\u001b[0m\u001b[0m\n\u001b[0;32m-> 3082\u001b[0;31m                 \u001b[0;32mraise\u001b[0m \u001b[0mKeyError\u001b[0m\u001b[0;34m(\u001b[0m\u001b[0mkey\u001b[0m\u001b[0;34m)\u001b[0m \u001b[0;32mfrom\u001b[0m \u001b[0merr\u001b[0m\u001b[0;34m\u001b[0m\u001b[0;34m\u001b[0m\u001b[0m\n\u001b[0m\u001b[1;32m   3083\u001b[0m \u001b[0;34m\u001b[0m\u001b[0m\n\u001b[1;32m   3084\u001b[0m         \u001b[0;32mif\u001b[0m \u001b[0mtolerance\u001b[0m \u001b[0;32mis\u001b[0m \u001b[0;32mnot\u001b[0m \u001b[0;32mNone\u001b[0m\u001b[0;34m:\u001b[0m\u001b[0;34m\u001b[0m\u001b[0;34m\u001b[0m\u001b[0m\n",
      "\u001b[0;31mKeyError\u001b[0m: 'Description'"
     ]
    }
   ],
   "source": [
    "df['Description']"
   ]
  },
  {
   "cell_type": "code",
   "execution_count": 37,
   "metadata": {},
   "outputs": [],
   "source": [
    "df.columns = [x.strip() for x in df.columns]"
   ]
  },
  {
   "cell_type": "code",
   "execution_count": 38,
   "metadata": {},
   "outputs": [
    {
     "output_type": "execute_result",
     "data": {
      "text/plain": [
       "Index(['Date', 'Description', 'InternationTransactionAmount', 'Category',\n",
       "       'Amount', 'TransactionUserName', 'TransactionType', 'IsoCurrency',\n",
       "       'Locality', 'City', 'State', 'Country', 'Unnamed: 12'],\n",
       "      dtype='object')"
      ]
     },
     "metadata": {},
     "execution_count": 38
    }
   ],
   "source": [
    "df.columns"
   ]
  },
  {
   "cell_type": "code",
   "execution_count": 39,
   "metadata": {},
   "outputs": [
    {
     "output_type": "stream",
     "name": "stdout",
     "text": [
      "<class 'pandas.core.frame.DataFrame'>\nRangeIndex: 1470 entries, 0 to 1469\nData columns (total 13 columns):\n #   Column                        Non-Null Count  Dtype \n---  ------                        --------------  ----- \n 0   Date                          1470 non-null   object\n 1   Description                   1470 non-null   object\n 2   InternationTransactionAmount  1470 non-null   object\n 3   Category                      1470 non-null   object\n 4   Amount                        1470 non-null   object\n 5   TransactionUserName           1470 non-null   object\n 6   TransactionType               1470 non-null   object\n 7   IsoCurrency                   1470 non-null   object\n 8   Locality                      1302 non-null   object\n 9   City                          1270 non-null   object\n 10  State                         1245 non-null   object\n 11  Country                       1307 non-null   object\n 12  Unnamed: 12                   4 non-null      object\ndtypes: object(13)\nmemory usage: 149.4+ KB\n"
     ]
    }
   ],
   "source": [
    "df.info()"
   ]
  },
  {
   "cell_type": "code",
   "execution_count": 40,
   "metadata": {},
   "outputs": [],
   "source": [
    "l = []\n",
    "for i in range(len(df)):\n",
    "    try:\n",
    "        df['InternationTransactionAmount'].iloc[i] = np.float16(df['InternationTransactionAmount'].iloc[i])\n",
    "    except:\n",
    "        l.append(i)"
   ]
  },
  {
   "cell_type": "code",
   "execution_count": 41,
   "metadata": {},
   "outputs": [
    {
     "output_type": "execute_result",
     "data": {
      "text/plain": [
       "[182]"
      ]
     },
     "metadata": {},
     "execution_count": 41
    }
   ],
   "source": [
    "l"
   ]
  },
  {
   "cell_type": "code",
   "execution_count": 42,
   "metadata": {},
   "outputs": [
    {
     "output_type": "execute_result",
     "data": {
      "text/plain": [
       "' F-2/7OKH  Delhi                                     '"
      ]
     },
     "metadata": {},
     "execution_count": 42
    }
   ],
   "source": [
    " df['InternationTransactionAmount'].iloc[182]"
   ]
  },
  {
   "cell_type": "code",
   "execution_count": null,
   "metadata": {},
   "outputs": [],
   "source": []
  }
 ]
}