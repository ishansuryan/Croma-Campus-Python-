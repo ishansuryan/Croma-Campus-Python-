{
 "metadata": {
  "language_info": {
   "codemirror_mode": {
    "name": "ipython",
    "version": 3
   },
   "file_extension": ".py",
   "mimetype": "text/x-python",
   "name": "python",
   "nbconvert_exporter": "python",
   "pygments_lexer": "ipython3",
   "version": "3.9.5"
  },
  "orig_nbformat": 2,
  "kernelspec": {
   "name": "python395jvsc74a57bd0d2152fd7f0bbc62aa1baff8c990435d1e2c7175d001561303988032604c11a48",
   "display_name": "Python 3.9.5 64-bit"
  },
  "metadata": {
   "interpreter": {
    "hash": "d2152fd7f0bbc62aa1baff8c990435d1e2c7175d001561303988032604c11a48"
   }
  }
 },
 "nbformat": 4,
 "nbformat_minor": 2,
 "cells": [
  {
   "cell_type": "code",
   "execution_count": 1,
   "metadata": {},
   "outputs": [],
   "source": [
    "import numpy as np"
   ]
  },
  {
   "cell_type": "code",
   "execution_count": 2,
   "metadata": {},
   "outputs": [
    {
     "output_type": "stream",
     "name": "stdout",
     "text": [
      "[1, 2, 3, 4, 5, 6]\n"
     ]
    },
    {
     "output_type": "execute_result",
     "data": {
      "text/plain": [
       "array([1, 2, 3, 4, 5, 6], dtype=int8)"
      ]
     },
     "metadata": {},
     "execution_count": 2
    }
   ],
   "source": [
    "l = [1,2,3,4,5,6]\n",
    "print(l)\n",
    "l = np.array(l,dtype = np.int8)\n",
    "l"
   ]
  },
  {
   "cell_type": "code",
   "execution_count": 3,
   "metadata": {},
   "outputs": [
    {
     "output_type": "execute_result",
     "data": {
      "text/plain": [
       "dtype('int8')"
      ]
     },
     "metadata": {},
     "execution_count": 3
    }
   ],
   "source": [
    "l.dtype"
   ]
  },
  {
   "cell_type": "code",
   "execution_count": 4,
   "metadata": {},
   "outputs": [
    {
     "output_type": "execute_result",
     "data": {
      "text/plain": [
       "array([1. , 2. , 3. , 4. , 5.5, 6. ])"
      ]
     },
     "metadata": {},
     "execution_count": 4
    }
   ],
   "source": [
    "l1 = [1,2,3,4,5.5,6]\n",
    "l1 = np.array(l1)\n",
    "l1"
   ]
  },
  {
   "cell_type": "code",
   "execution_count": 5,
   "metadata": {},
   "outputs": [
    {
     "output_type": "execute_result",
     "data": {
      "text/plain": [
       "array(['1', '2', '3', '4', '5.5', '6'], dtype='<U32')"
      ]
     },
     "metadata": {},
     "execution_count": 5
    }
   ],
   "source": [
    "l2 = [1,2,3,'4',5.5,6]\n",
    "l2 = np.array(l2)\n",
    "l2"
   ]
  },
  {
   "cell_type": "code",
   "execution_count": 6,
   "metadata": {},
   "outputs": [
    {
     "output_type": "execute_result",
     "data": {
      "text/plain": [
       "array([1, 3, 5, 7, 9])"
      ]
     },
     "metadata": {},
     "execution_count": 6
    }
   ],
   "source": [
    "l3 = np.arange(1,11,2)\n",
    "l3"
   ]
  },
  {
   "cell_type": "code",
   "execution_count": 7,
   "metadata": {},
   "outputs": [
    {
     "output_type": "execute_result",
     "data": {
      "text/plain": [
       "array([1.        , 1.21052632, 1.42105263, 1.63157895, 1.84210526,\n",
       "       2.05263158, 2.26315789, 2.47368421, 2.68421053, 2.89473684,\n",
       "       3.10526316, 3.31578947, 3.52631579, 3.73684211, 3.94736842,\n",
       "       4.15789474, 4.36842105, 4.57894737, 4.78947368, 5.        ])"
      ]
     },
     "metadata": {},
     "execution_count": 7
    }
   ],
   "source": [
    "l3 = np.linspace(1,5,20)\n",
    "l3"
   ]
  },
  {
   "cell_type": "code",
   "execution_count": 8,
   "metadata": {},
   "outputs": [
    {
     "output_type": "execute_result",
     "data": {
      "text/plain": [
       "array([[0.16127658, 0.05100833, 0.79063639, 0.27367555, 0.44131291],\n",
       "       [0.98761158, 0.98003142, 0.26288793, 0.14514269, 0.25110413],\n",
       "       [0.54969472, 0.27783331, 0.72207896, 0.75939115, 0.42171141]])"
      ]
     },
     "metadata": {},
     "execution_count": 8
    }
   ],
   "source": [
    "l4 = np.random.rand(3,5)\n",
    "l4"
   ]
  },
  {
   "cell_type": "code",
   "execution_count": 9,
   "metadata": {},
   "outputs": [
    {
     "output_type": "execute_result",
     "data": {
      "text/plain": [
       "array([[ 1,  2,  3],\n",
       "       [ 4,  5,  6],\n",
       "       [ 7,  8,  9],\n",
       "       [10, 11, 12]])"
      ]
     },
     "metadata": {},
     "execution_count": 9
    }
   ],
   "source": [
    "l5 = [[1,2,3],[4,5,6],[7,8,9],[10,11,12]]\n",
    "l5 = np.array(l5)\n",
    "l5"
   ]
  },
  {
   "cell_type": "code",
   "execution_count": 10,
   "metadata": {},
   "outputs": [
    {
     "output_type": "execute_result",
     "data": {
      "text/plain": [
       "(4, 3)"
      ]
     },
     "metadata": {},
     "execution_count": 10
    }
   ],
   "source": [
    "l5.shape"
   ]
  },
  {
   "cell_type": "code",
   "execution_count": 11,
   "metadata": {},
   "outputs": [
    {
     "output_type": "execute_result",
     "data": {
      "text/plain": [
       "2"
      ]
     },
     "metadata": {},
     "execution_count": 11
    }
   ],
   "source": [
    "l5.ndim"
   ]
  },
  {
   "cell_type": "code",
   "execution_count": 12,
   "metadata": {},
   "outputs": [
    {
     "output_type": "execute_result",
     "data": {
      "text/plain": [
       "array([[[[3.2, 3.2, 3.2, 3.2, 3.2],\n",
       "         [3.2, 3.2, 3.2, 3.2, 3.2],\n",
       "         [3.2, 3.2, 3.2, 3.2, 3.2],\n",
       "         [3.2, 3.2, 3.2, 3.2, 3.2]],\n",
       "\n",
       "        [[3.2, 3.2, 3.2, 3.2, 3.2],\n",
       "         [3.2, 3.2, 3.2, 3.2, 3.2],\n",
       "         [3.2, 3.2, 3.2, 3.2, 3.2],\n",
       "         [3.2, 3.2, 3.2, 3.2, 3.2]]],\n",
       "\n",
       "\n",
       "       [[[3.2, 3.2, 3.2, 3.2, 3.2],\n",
       "         [3.2, 3.2, 3.2, 3.2, 3.2],\n",
       "         [3.2, 3.2, 3.2, 3.2, 3.2],\n",
       "         [3.2, 3.2, 3.2, 3.2, 3.2]],\n",
       "\n",
       "        [[3.2, 3.2, 3.2, 3.2, 3.2],\n",
       "         [3.2, 3.2, 3.2, 3.2, 3.2],\n",
       "         [3.2, 3.2, 3.2, 3.2, 3.2],\n",
       "         [3.2, 3.2, 3.2, 3.2, 3.2]]],\n",
       "\n",
       "\n",
       "       [[[3.2, 3.2, 3.2, 3.2, 3.2],\n",
       "         [3.2, 3.2, 3.2, 3.2, 3.2],\n",
       "         [3.2, 3.2, 3.2, 3.2, 3.2],\n",
       "         [3.2, 3.2, 3.2, 3.2, 3.2]],\n",
       "\n",
       "        [[3.2, 3.2, 3.2, 3.2, 3.2],\n",
       "         [3.2, 3.2, 3.2, 3.2, 3.2],\n",
       "         [3.2, 3.2, 3.2, 3.2, 3.2],\n",
       "         [3.2, 3.2, 3.2, 3.2, 3.2]]]])"
      ]
     },
     "metadata": {},
     "execution_count": 12
    }
   ],
   "source": [
    "d_arr = np.full((3,2,4,5),3.2)\n",
    "d_arr"
   ]
  },
  {
   "cell_type": "code",
   "execution_count": 13,
   "metadata": {},
   "outputs": [
    {
     "output_type": "execute_result",
     "data": {
      "text/plain": [
       "4"
      ]
     },
     "metadata": {},
     "execution_count": 13
    }
   ],
   "source": [
    "d_arr.ndim"
   ]
  },
  {
   "cell_type": "code",
   "execution_count": 14,
   "metadata": {},
   "outputs": [
    {
     "output_type": "execute_result",
     "data": {
      "text/plain": [
       "array([[[20.        , 21.30434783],\n",
       "        [22.60869565, 23.91304348],\n",
       "        [25.2173913 , 26.52173913],\n",
       "        [27.82608696, 29.13043478]],\n",
       "\n",
       "       [[30.43478261, 31.73913043],\n",
       "        [33.04347826, 34.34782609],\n",
       "        [35.65217391, 36.95652174],\n",
       "        [38.26086957, 39.56521739]],\n",
       "\n",
       "       [[40.86956522, 42.17391304],\n",
       "        [43.47826087, 44.7826087 ],\n",
       "        [46.08695652, 47.39130435],\n",
       "        [48.69565217, 50.        ]]])"
      ]
     },
     "metadata": {},
     "execution_count": 14
    }
   ],
   "source": [
    "mat = np.linspace(20,50,24).reshape(3,4,2)\n",
    "mat"
   ]
  },
  {
   "cell_type": "code",
   "execution_count": 23,
   "metadata": {},
   "outputs": [
    {
     "output_type": "execute_result",
     "data": {
      "text/plain": [
       "array([[1, 2, 3],\n",
       "       [1, 2, 3],\n",
       "       [1, 2, 3]])"
      ]
     },
     "metadata": {},
     "execution_count": 23
    }
   ],
   "source": [
    "m1 = np.array([[1,2,3],[1,2,3],[1,2,3]])\n",
    "m1"
   ]
  },
  {
   "cell_type": "code",
   "execution_count": 24,
   "metadata": {},
   "outputs": [
    {
     "output_type": "execute_result",
     "data": {
      "text/plain": [
       "array([[1, 2, 3],\n",
       "       [1, 2, 3],\n",
       "       [1, 2, 3]])"
      ]
     },
     "metadata": {},
     "execution_count": 24
    }
   ],
   "source": [
    "m2 = np.array([[1,2,3],[1,2,3],[1,2,3]])\n",
    "m2"
   ]
  },
  {
   "cell_type": "code",
   "execution_count": 25,
   "metadata": {},
   "outputs": [
    {
     "output_type": "execute_result",
     "data": {
      "text/plain": [
       "array([[ 6, 12, 18],\n",
       "       [ 6, 12, 18],\n",
       "       [ 6, 12, 18]])"
      ]
     },
     "metadata": {},
     "execution_count": 25
    }
   ],
   "source": [
    "m1.dot(m2)"
   ]
  },
  {
   "cell_type": "code",
   "execution_count": 26,
   "metadata": {},
   "outputs": [
    {
     "output_type": "execute_result",
     "data": {
      "text/plain": [
       "array([[ 6, 12, 18],\n",
       "       [ 6, 12, 18],\n",
       "       [ 6, 12, 18]])"
      ]
     },
     "metadata": {},
     "execution_count": 26
    }
   ],
   "source": [
    "m2@m1"
   ]
  },
  {
   "cell_type": "code",
   "execution_count": 35,
   "metadata": {},
   "outputs": [
    {
     "output_type": "execute_result",
     "data": {
      "text/plain": [
       "'\\n2*x + 3*y = 15\\n7*x + 4*y= 10\\n'"
      ]
     },
     "metadata": {},
     "execution_count": 35
    }
   ],
   "source": [
    "'''\n",
    "2*x + 3*y = 15\n",
    "7*x + 4*y= 10\n",
    "'''"
   ]
  },
  {
   "cell_type": "code",
   "execution_count": 29,
   "metadata": {},
   "outputs": [],
   "source": [
    "indep = [[2,3],[7,4]]\n",
    "dep = [15,10]"
   ]
  },
  {
   "cell_type": "code",
   "execution_count": 32,
   "metadata": {},
   "outputs": [
    {
     "output_type": "execute_result",
     "data": {
      "text/plain": [
       "array([-2.30769231,  6.53846154])"
      ]
     },
     "metadata": {},
     "execution_count": 32
    }
   ],
   "source": [
    "sol = np.linalg.solve(indep,dep)\n",
    "sol"
   ]
  },
  {
   "cell_type": "code",
   "execution_count": 34,
   "metadata": {},
   "outputs": [
    {
     "output_type": "execute_result",
     "data": {
      "text/plain": [
       "array([15., 10.])"
      ]
     },
     "metadata": {},
     "execution_count": 34
    }
   ],
   "source": [
    "np.array(indep).dot(sol)"
   ]
  },
  {
   "cell_type": "code",
   "execution_count": 2,
   "metadata": {},
   "outputs": [],
   "source": [
    "import pandas as pd"
   ]
  },
  {
   "cell_type": "code",
   "execution_count": 20,
   "metadata": {},
   "outputs": [
    {
     "output_type": "execute_result",
     "data": {
      "text/plain": [
       "  Product  Age  Gender  Education MaritalStatus  Usage  Fitness  Income  Miles\n",
       "0   TM195   18    Male         14        Single      3        4   29562    112\n",
       "1   TM195   19    Male         15        Single      2        3   31836     75\n",
       "2   TM195   19  Female         14     Partnered      4        3   30699     66\n",
       "3   TM195   19    Male         12        Single      3        3   32973     85\n",
       "4   TM195   20    Male         13     Partnered      4        2   35247     47"
      ],
      "text/html": "<div>\n<style scoped>\n    .dataframe tbody tr th:only-of-type {\n        vertical-align: middle;\n    }\n\n    .dataframe tbody tr th {\n        vertical-align: top;\n    }\n\n    .dataframe thead th {\n        text-align: right;\n    }\n</style>\n<table border=\"1\" class=\"dataframe\">\n  <thead>\n    <tr style=\"text-align: right;\">\n      <th></th>\n      <th>Product</th>\n      <th>Age</th>\n      <th>Gender</th>\n      <th>Education</th>\n      <th>MaritalStatus</th>\n      <th>Usage</th>\n      <th>Fitness</th>\n      <th>Income</th>\n      <th>Miles</th>\n    </tr>\n  </thead>\n  <tbody>\n    <tr>\n      <th>0</th>\n      <td>TM195</td>\n      <td>18</td>\n      <td>Male</td>\n      <td>14</td>\n      <td>Single</td>\n      <td>3</td>\n      <td>4</td>\n      <td>29562</td>\n      <td>112</td>\n    </tr>\n    <tr>\n      <th>1</th>\n      <td>TM195</td>\n      <td>19</td>\n      <td>Male</td>\n      <td>15</td>\n      <td>Single</td>\n      <td>2</td>\n      <td>3</td>\n      <td>31836</td>\n      <td>75</td>\n    </tr>\n    <tr>\n      <th>2</th>\n      <td>TM195</td>\n      <td>19</td>\n      <td>Female</td>\n      <td>14</td>\n      <td>Partnered</td>\n      <td>4</td>\n      <td>3</td>\n      <td>30699</td>\n      <td>66</td>\n    </tr>\n    <tr>\n      <th>3</th>\n      <td>TM195</td>\n      <td>19</td>\n      <td>Male</td>\n      <td>12</td>\n      <td>Single</td>\n      <td>3</td>\n      <td>3</td>\n      <td>32973</td>\n      <td>85</td>\n    </tr>\n    <tr>\n      <th>4</th>\n      <td>TM195</td>\n      <td>20</td>\n      <td>Male</td>\n      <td>13</td>\n      <td>Partnered</td>\n      <td>4</td>\n      <td>2</td>\n      <td>35247</td>\n      <td>47</td>\n    </tr>\n  </tbody>\n</table>\n</div>"
     },
     "metadata": {},
     "execution_count": 20
    }
   ],
   "source": [
    "fitness = pd.read_csv(r'/mnt/New_Volume/Work_From_Home/Data/CardioGoodFitness.csv')\n",
    "fitness.head()"
   ]
  },
  {
   "cell_type": "code",
   "execution_count": 4,
   "metadata": {},
   "outputs": [
    {
     "output_type": "execute_result",
     "data": {
      "text/plain": [
       "0      TM195\n",
       "1      TM195\n",
       "2      TM195\n",
       "3      TM195\n",
       "4      TM195\n",
       "       ...  \n",
       "175    TM798\n",
       "176    TM798\n",
       "177    TM798\n",
       "178    TM798\n",
       "179    TM798\n",
       "Name: Product, Length: 180, dtype: object"
      ]
     },
     "metadata": {},
     "execution_count": 4
    }
   ],
   "source": [
    "fitness['Product']"
   ]
  },
  {
   "cell_type": "code",
   "execution_count": 5,
   "metadata": {},
   "outputs": [
    {
     "output_type": "execute_result",
     "data": {
      "text/plain": [
       "0      TM195\n",
       "1      TM195\n",
       "2      TM195\n",
       "3      TM195\n",
       "4      TM195\n",
       "       ...  \n",
       "175    TM798\n",
       "176    TM798\n",
       "177    TM798\n",
       "178    TM798\n",
       "179    TM798\n",
       "Name: Product, Length: 180, dtype: object"
      ]
     },
     "metadata": {},
     "execution_count": 5
    }
   ],
   "source": [
    "fitness.Product"
   ]
  },
  {
   "cell_type": "code",
   "execution_count": 6,
   "metadata": {},
   "outputs": [
    {
     "output_type": "execute_result",
     "data": {
      "text/plain": [
       "    Product  Usage  Gender\n",
       "0     TM195      3    Male\n",
       "1     TM195      2    Male\n",
       "2     TM195      4  Female\n",
       "3     TM195      3    Male\n",
       "4     TM195      4    Male\n",
       "..      ...    ...     ...\n",
       "175   TM798      6    Male\n",
       "176   TM798      5    Male\n",
       "177   TM798      5    Male\n",
       "178   TM798      4    Male\n",
       "179   TM798      4    Male\n",
       "\n",
       "[180 rows x 3 columns]"
      ],
      "text/html": "<div>\n<style scoped>\n    .dataframe tbody tr th:only-of-type {\n        vertical-align: middle;\n    }\n\n    .dataframe tbody tr th {\n        vertical-align: top;\n    }\n\n    .dataframe thead th {\n        text-align: right;\n    }\n</style>\n<table border=\"1\" class=\"dataframe\">\n  <thead>\n    <tr style=\"text-align: right;\">\n      <th></th>\n      <th>Product</th>\n      <th>Usage</th>\n      <th>Gender</th>\n    </tr>\n  </thead>\n  <tbody>\n    <tr>\n      <th>0</th>\n      <td>TM195</td>\n      <td>3</td>\n      <td>Male</td>\n    </tr>\n    <tr>\n      <th>1</th>\n      <td>TM195</td>\n      <td>2</td>\n      <td>Male</td>\n    </tr>\n    <tr>\n      <th>2</th>\n      <td>TM195</td>\n      <td>4</td>\n      <td>Female</td>\n    </tr>\n    <tr>\n      <th>3</th>\n      <td>TM195</td>\n      <td>3</td>\n      <td>Male</td>\n    </tr>\n    <tr>\n      <th>4</th>\n      <td>TM195</td>\n      <td>4</td>\n      <td>Male</td>\n    </tr>\n    <tr>\n      <th>...</th>\n      <td>...</td>\n      <td>...</td>\n      <td>...</td>\n    </tr>\n    <tr>\n      <th>175</th>\n      <td>TM798</td>\n      <td>6</td>\n      <td>Male</td>\n    </tr>\n    <tr>\n      <th>176</th>\n      <td>TM798</td>\n      <td>5</td>\n      <td>Male</td>\n    </tr>\n    <tr>\n      <th>177</th>\n      <td>TM798</td>\n      <td>5</td>\n      <td>Male</td>\n    </tr>\n    <tr>\n      <th>178</th>\n      <td>TM798</td>\n      <td>4</td>\n      <td>Male</td>\n    </tr>\n    <tr>\n      <th>179</th>\n      <td>TM798</td>\n      <td>4</td>\n      <td>Male</td>\n    </tr>\n  </tbody>\n</table>\n<p>180 rows × 3 columns</p>\n</div>"
     },
     "metadata": {},
     "execution_count": 6
    }
   ],
   "source": [
    "fitness[[\"Product\",'Usage','Gender']]"
   ]
  },
  {
   "cell_type": "code",
   "execution_count": 7,
   "metadata": {},
   "outputs": [
    {
     "output_type": "execute_result",
     "data": {
      "text/plain": [
       "   Product  Gender  Age\n",
       "0    TM195    Male   18\n",
       "1    TM195    Male   19\n",
       "2    TM195  Female   19\n",
       "3    TM195    Male   19\n",
       "4    TM195    Male   20\n",
       "6    TM195  Female   21\n",
       "8    TM195    Male   21\n",
       "10   TM195    Male   22"
      ],
      "text/html": "<div>\n<style scoped>\n    .dataframe tbody tr th:only-of-type {\n        vertical-align: middle;\n    }\n\n    .dataframe tbody tr th {\n        vertical-align: top;\n    }\n\n    .dataframe thead th {\n        text-align: right;\n    }\n</style>\n<table border=\"1\" class=\"dataframe\">\n  <thead>\n    <tr style=\"text-align: right;\">\n      <th></th>\n      <th>Product</th>\n      <th>Gender</th>\n      <th>Age</th>\n    </tr>\n  </thead>\n  <tbody>\n    <tr>\n      <th>0</th>\n      <td>TM195</td>\n      <td>Male</td>\n      <td>18</td>\n    </tr>\n    <tr>\n      <th>1</th>\n      <td>TM195</td>\n      <td>Male</td>\n      <td>19</td>\n    </tr>\n    <tr>\n      <th>2</th>\n      <td>TM195</td>\n      <td>Female</td>\n      <td>19</td>\n    </tr>\n    <tr>\n      <th>3</th>\n      <td>TM195</td>\n      <td>Male</td>\n      <td>19</td>\n    </tr>\n    <tr>\n      <th>4</th>\n      <td>TM195</td>\n      <td>Male</td>\n      <td>20</td>\n    </tr>\n    <tr>\n      <th>6</th>\n      <td>TM195</td>\n      <td>Female</td>\n      <td>21</td>\n    </tr>\n    <tr>\n      <th>8</th>\n      <td>TM195</td>\n      <td>Male</td>\n      <td>21</td>\n    </tr>\n    <tr>\n      <th>10</th>\n      <td>TM195</td>\n      <td>Male</td>\n      <td>22</td>\n    </tr>\n  </tbody>\n</table>\n</div>"
     },
     "metadata": {},
     "execution_count": 7
    }
   ],
   "source": [
    "fitness.loc[[0,1,2,3,4,6,8,10],['Product', 'Gender', 'Age']]"
   ]
  },
  {
   "cell_type": "code",
   "execution_count": 8,
   "metadata": {},
   "outputs": [
    {
     "output_type": "execute_result",
     "data": {
      "text/plain": [
       "'TM195'"
      ]
     },
     "metadata": {},
     "execution_count": 8
    }
   ],
   "source": [
    "fitness.Product[0]"
   ]
  },
  {
   "cell_type": "code",
   "execution_count": 9,
   "metadata": {},
   "outputs": [
    {
     "output_type": "execute_result",
     "data": {
      "text/plain": [
       "   Product  Gender  Age\n",
       "0    TM195    Male   18\n",
       "1    TM195    Male   19\n",
       "2    TM195  Female   19\n",
       "3    TM195    Male   19\n",
       "4    TM195    Male   20\n",
       "5    TM195  Female   20\n",
       "6    TM195  Female   21\n",
       "7    TM195    Male   21\n",
       "8    TM195    Male   21\n",
       "9    TM195  Female   21\n",
       "10   TM195    Male   22\n",
       "11   TM195  Female   22"
      ],
      "text/html": "<div>\n<style scoped>\n    .dataframe tbody tr th:only-of-type {\n        vertical-align: middle;\n    }\n\n    .dataframe tbody tr th {\n        vertical-align: top;\n    }\n\n    .dataframe thead th {\n        text-align: right;\n    }\n</style>\n<table border=\"1\" class=\"dataframe\">\n  <thead>\n    <tr style=\"text-align: right;\">\n      <th></th>\n      <th>Product</th>\n      <th>Gender</th>\n      <th>Age</th>\n    </tr>\n  </thead>\n  <tbody>\n    <tr>\n      <th>0</th>\n      <td>TM195</td>\n      <td>Male</td>\n      <td>18</td>\n    </tr>\n    <tr>\n      <th>1</th>\n      <td>TM195</td>\n      <td>Male</td>\n      <td>19</td>\n    </tr>\n    <tr>\n      <th>2</th>\n      <td>TM195</td>\n      <td>Female</td>\n      <td>19</td>\n    </tr>\n    <tr>\n      <th>3</th>\n      <td>TM195</td>\n      <td>Male</td>\n      <td>19</td>\n    </tr>\n    <tr>\n      <th>4</th>\n      <td>TM195</td>\n      <td>Male</td>\n      <td>20</td>\n    </tr>\n    <tr>\n      <th>5</th>\n      <td>TM195</td>\n      <td>Female</td>\n      <td>20</td>\n    </tr>\n    <tr>\n      <th>6</th>\n      <td>TM195</td>\n      <td>Female</td>\n      <td>21</td>\n    </tr>\n    <tr>\n      <th>7</th>\n      <td>TM195</td>\n      <td>Male</td>\n      <td>21</td>\n    </tr>\n    <tr>\n      <th>8</th>\n      <td>TM195</td>\n      <td>Male</td>\n      <td>21</td>\n    </tr>\n    <tr>\n      <th>9</th>\n      <td>TM195</td>\n      <td>Female</td>\n      <td>21</td>\n    </tr>\n    <tr>\n      <th>10</th>\n      <td>TM195</td>\n      <td>Male</td>\n      <td>22</td>\n    </tr>\n    <tr>\n      <th>11</th>\n      <td>TM195</td>\n      <td>Female</td>\n      <td>22</td>\n    </tr>\n  </tbody>\n</table>\n</div>"
     },
     "metadata": {},
     "execution_count": 9
    }
   ],
   "source": [
    "fitness.loc[0:11,['Product', 'Gender', 'Age']]"
   ]
  },
  {
   "cell_type": "code",
   "execution_count": 10,
   "metadata": {},
   "outputs": [
    {
     "output_type": "execute_result",
     "data": {
      "text/plain": [
       "   Product  Gender  Age\n",
       "0    TM195    Male   18\n",
       "1    TM195    Male   19\n",
       "2    TM195  Female   19\n",
       "3    TM195    Male   19\n",
       "4    TM195    Male   20\n",
       "5    TM195  Female   20\n",
       "6    TM195  Female   21\n",
       "7    TM195    Male   21\n",
       "8    TM195    Male   21\n",
       "9    TM195  Female   21\n",
       "10   TM195    Male   22"
      ],
      "text/html": "<div>\n<style scoped>\n    .dataframe tbody tr th:only-of-type {\n        vertical-align: middle;\n    }\n\n    .dataframe tbody tr th {\n        vertical-align: top;\n    }\n\n    .dataframe thead th {\n        text-align: right;\n    }\n</style>\n<table border=\"1\" class=\"dataframe\">\n  <thead>\n    <tr style=\"text-align: right;\">\n      <th></th>\n      <th>Product</th>\n      <th>Gender</th>\n      <th>Age</th>\n    </tr>\n  </thead>\n  <tbody>\n    <tr>\n      <th>0</th>\n      <td>TM195</td>\n      <td>Male</td>\n      <td>18</td>\n    </tr>\n    <tr>\n      <th>1</th>\n      <td>TM195</td>\n      <td>Male</td>\n      <td>19</td>\n    </tr>\n    <tr>\n      <th>2</th>\n      <td>TM195</td>\n      <td>Female</td>\n      <td>19</td>\n    </tr>\n    <tr>\n      <th>3</th>\n      <td>TM195</td>\n      <td>Male</td>\n      <td>19</td>\n    </tr>\n    <tr>\n      <th>4</th>\n      <td>TM195</td>\n      <td>Male</td>\n      <td>20</td>\n    </tr>\n    <tr>\n      <th>5</th>\n      <td>TM195</td>\n      <td>Female</td>\n      <td>20</td>\n    </tr>\n    <tr>\n      <th>6</th>\n      <td>TM195</td>\n      <td>Female</td>\n      <td>21</td>\n    </tr>\n    <tr>\n      <th>7</th>\n      <td>TM195</td>\n      <td>Male</td>\n      <td>21</td>\n    </tr>\n    <tr>\n      <th>8</th>\n      <td>TM195</td>\n      <td>Male</td>\n      <td>21</td>\n    </tr>\n    <tr>\n      <th>9</th>\n      <td>TM195</td>\n      <td>Female</td>\n      <td>21</td>\n    </tr>\n    <tr>\n      <th>10</th>\n      <td>TM195</td>\n      <td>Male</td>\n      <td>22</td>\n    </tr>\n  </tbody>\n</table>\n</div>"
     },
     "metadata": {},
     "execution_count": 10
    }
   ],
   "source": [
    "fitness.iloc[0:11,[0,2,1]]"
   ]
  },
  {
   "cell_type": "code",
   "execution_count": 11,
   "metadata": {},
   "outputs": [],
   "source": [
    "fitness.columns = ['Product', 'agee', 'Gender', 'Education', 'MaritalStatus', 'Usage','Fitness', 'Income', 'Miles']"
   ]
  },
  {
   "cell_type": "code",
   "execution_count": 21,
   "metadata": {},
   "outputs": [],
   "source": [
    "fitness.rename({'Product':'productt'}, inplace = True, axis = 1)"
   ]
  },
  {
   "cell_type": "code",
   "execution_count": 25,
   "metadata": {},
   "outputs": [
    {
     "output_type": "execute_result",
     "data": {
      "text/plain": [
       "'Prroductt'"
      ]
     },
     "metadata": {},
     "execution_count": 25
    }
   ],
   "source": [
    "fitness['productt'].name"
   ]
  },
  {
   "cell_type": "code",
   "execution_count": 28,
   "metadata": {},
   "outputs": [],
   "source": [
    "fitness['productt'].name = 'Prroductt'\n",
    "fitness['productt'] = pd.Series({fitness['productt'].name: fitness['productt']})"
   ]
  },
  {
   "cell_type": "code",
   "execution_count": 29,
   "metadata": {},
   "outputs": [
    {
     "output_type": "execute_result",
     "data": {
      "text/plain": [
       "    productt  Age  Gender  Education MaritalStatus  Usage  Fitness  Income  \\\n",
       "0        NaN   18    Male         14        Single      3        4   29562   \n",
       "1        NaN   19    Male         15        Single      2        3   31836   \n",
       "2        NaN   19  Female         14     Partnered      4        3   30699   \n",
       "3        NaN   19    Male         12        Single      3        3   32973   \n",
       "4        NaN   20    Male         13     Partnered      4        2   35247   \n",
       "..       ...  ...     ...        ...           ...    ...      ...     ...   \n",
       "175      NaN   40    Male         21        Single      6        5   83416   \n",
       "176      NaN   42    Male         18        Single      5        4   89641   \n",
       "177      NaN   45    Male         16        Single      5        5   90886   \n",
       "178      NaN   47    Male         18     Partnered      4        5  104581   \n",
       "179      NaN   48    Male         18     Partnered      4        5   95508   \n",
       "\n",
       "     Miles  \n",
       "0      112  \n",
       "1       75  \n",
       "2       66  \n",
       "3       85  \n",
       "4       47  \n",
       "..     ...  \n",
       "175    200  \n",
       "176    200  \n",
       "177    160  \n",
       "178    120  \n",
       "179    180  \n",
       "\n",
       "[180 rows x 9 columns]"
      ],
      "text/html": "<div>\n<style scoped>\n    .dataframe tbody tr th:only-of-type {\n        vertical-align: middle;\n    }\n\n    .dataframe tbody tr th {\n        vertical-align: top;\n    }\n\n    .dataframe thead th {\n        text-align: right;\n    }\n</style>\n<table border=\"1\" class=\"dataframe\">\n  <thead>\n    <tr style=\"text-align: right;\">\n      <th></th>\n      <th>productt</th>\n      <th>Age</th>\n      <th>Gender</th>\n      <th>Education</th>\n      <th>MaritalStatus</th>\n      <th>Usage</th>\n      <th>Fitness</th>\n      <th>Income</th>\n      <th>Miles</th>\n    </tr>\n  </thead>\n  <tbody>\n    <tr>\n      <th>0</th>\n      <td>NaN</td>\n      <td>18</td>\n      <td>Male</td>\n      <td>14</td>\n      <td>Single</td>\n      <td>3</td>\n      <td>4</td>\n      <td>29562</td>\n      <td>112</td>\n    </tr>\n    <tr>\n      <th>1</th>\n      <td>NaN</td>\n      <td>19</td>\n      <td>Male</td>\n      <td>15</td>\n      <td>Single</td>\n      <td>2</td>\n      <td>3</td>\n      <td>31836</td>\n      <td>75</td>\n    </tr>\n    <tr>\n      <th>2</th>\n      <td>NaN</td>\n      <td>19</td>\n      <td>Female</td>\n      <td>14</td>\n      <td>Partnered</td>\n      <td>4</td>\n      <td>3</td>\n      <td>30699</td>\n      <td>66</td>\n    </tr>\n    <tr>\n      <th>3</th>\n      <td>NaN</td>\n      <td>19</td>\n      <td>Male</td>\n      <td>12</td>\n      <td>Single</td>\n      <td>3</td>\n      <td>3</td>\n      <td>32973</td>\n      <td>85</td>\n    </tr>\n    <tr>\n      <th>4</th>\n      <td>NaN</td>\n      <td>20</td>\n      <td>Male</td>\n      <td>13</td>\n      <td>Partnered</td>\n      <td>4</td>\n      <td>2</td>\n      <td>35247</td>\n      <td>47</td>\n    </tr>\n    <tr>\n      <th>...</th>\n      <td>...</td>\n      <td>...</td>\n      <td>...</td>\n      <td>...</td>\n      <td>...</td>\n      <td>...</td>\n      <td>...</td>\n      <td>...</td>\n      <td>...</td>\n    </tr>\n    <tr>\n      <th>175</th>\n      <td>NaN</td>\n      <td>40</td>\n      <td>Male</td>\n      <td>21</td>\n      <td>Single</td>\n      <td>6</td>\n      <td>5</td>\n      <td>83416</td>\n      <td>200</td>\n    </tr>\n    <tr>\n      <th>176</th>\n      <td>NaN</td>\n      <td>42</td>\n      <td>Male</td>\n      <td>18</td>\n      <td>Single</td>\n      <td>5</td>\n      <td>4</td>\n      <td>89641</td>\n      <td>200</td>\n    </tr>\n    <tr>\n      <th>177</th>\n      <td>NaN</td>\n      <td>45</td>\n      <td>Male</td>\n      <td>16</td>\n      <td>Single</td>\n      <td>5</td>\n      <td>5</td>\n      <td>90886</td>\n      <td>160</td>\n    </tr>\n    <tr>\n      <th>178</th>\n      <td>NaN</td>\n      <td>47</td>\n      <td>Male</td>\n      <td>18</td>\n      <td>Partnered</td>\n      <td>4</td>\n      <td>5</td>\n      <td>104581</td>\n      <td>120</td>\n    </tr>\n    <tr>\n      <th>179</th>\n      <td>NaN</td>\n      <td>48</td>\n      <td>Male</td>\n      <td>18</td>\n      <td>Partnered</td>\n      <td>4</td>\n      <td>5</td>\n      <td>95508</td>\n      <td>180</td>\n    </tr>\n  </tbody>\n</table>\n<p>180 rows × 9 columns</p>\n</div>"
     },
     "metadata": {},
     "execution_count": 29
    }
   ],
   "source": [
    "fitness"
   ]
  },
  {
   "cell_type": "code",
   "execution_count": 122,
   "metadata": {},
   "outputs": [
    {
     "output_type": "execute_result",
     "data": {
      "text/plain": [
       "  Product  agee  Gender  Education MaritalStatus  Usage  Fitness  Income  \\\n",
       "0   TM195    18    Male         14        Single      3        4   29562   \n",
       "1   TM195    19    Male         15        Single      2        3   31836   \n",
       "2   TM195    19  Female         14     Partnered      4        3   30699   \n",
       "3   TM195    19    Male         12        Single      3        3   32973   \n",
       "4   TM195    20    Male         13     Partnered      4        2   35247   \n",
       "\n",
       "   Miles  \n",
       "0    112  \n",
       "1     75  \n",
       "2     66  \n",
       "3     85  \n",
       "4     47  "
      ],
      "text/html": "<div>\n<style scoped>\n    .dataframe tbody tr th:only-of-type {\n        vertical-align: middle;\n    }\n\n    .dataframe tbody tr th {\n        vertical-align: top;\n    }\n\n    .dataframe thead th {\n        text-align: right;\n    }\n</style>\n<table border=\"1\" class=\"dataframe\">\n  <thead>\n    <tr style=\"text-align: right;\">\n      <th></th>\n      <th>Product</th>\n      <th>agee</th>\n      <th>Gender</th>\n      <th>Education</th>\n      <th>MaritalStatus</th>\n      <th>Usage</th>\n      <th>Fitness</th>\n      <th>Income</th>\n      <th>Miles</th>\n    </tr>\n  </thead>\n  <tbody>\n    <tr>\n      <th>0</th>\n      <td>TM195</td>\n      <td>18</td>\n      <td>Male</td>\n      <td>14</td>\n      <td>Single</td>\n      <td>3</td>\n      <td>4</td>\n      <td>29562</td>\n      <td>112</td>\n    </tr>\n    <tr>\n      <th>1</th>\n      <td>TM195</td>\n      <td>19</td>\n      <td>Male</td>\n      <td>15</td>\n      <td>Single</td>\n      <td>2</td>\n      <td>3</td>\n      <td>31836</td>\n      <td>75</td>\n    </tr>\n    <tr>\n      <th>2</th>\n      <td>TM195</td>\n      <td>19</td>\n      <td>Female</td>\n      <td>14</td>\n      <td>Partnered</td>\n      <td>4</td>\n      <td>3</td>\n      <td>30699</td>\n      <td>66</td>\n    </tr>\n    <tr>\n      <th>3</th>\n      <td>TM195</td>\n      <td>19</td>\n      <td>Male</td>\n      <td>12</td>\n      <td>Single</td>\n      <td>3</td>\n      <td>3</td>\n      <td>32973</td>\n      <td>85</td>\n    </tr>\n    <tr>\n      <th>4</th>\n      <td>TM195</td>\n      <td>20</td>\n      <td>Male</td>\n      <td>13</td>\n      <td>Partnered</td>\n      <td>4</td>\n      <td>2</td>\n      <td>35247</td>\n      <td>47</td>\n    </tr>\n  </tbody>\n</table>\n</div>"
     },
     "metadata": {},
     "execution_count": 122
    }
   ],
   "source": [
    "fitness.head()"
   ]
  }
 ]
}