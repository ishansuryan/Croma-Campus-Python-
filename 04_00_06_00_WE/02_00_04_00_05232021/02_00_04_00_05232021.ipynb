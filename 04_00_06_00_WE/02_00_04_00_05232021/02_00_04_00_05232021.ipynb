{
 "metadata": {
  "language_info": {
   "codemirror_mode": {
    "name": "ipython",
    "version": 3
   },
   "file_extension": ".py",
   "mimetype": "text/x-python",
   "name": "python",
   "nbconvert_exporter": "python",
   "pygments_lexer": "ipython3",
   "version": "3.9.5"
  },
  "orig_nbformat": 2,
  "kernelspec": {
   "name": "python395jvsc74a57bd0d2152fd7f0bbc62aa1baff8c990435d1e2c7175d001561303988032604c11a48",
   "display_name": "Python 3.9.5 64-bit"
  },
  "metadata": {
   "interpreter": {
    "hash": "d2152fd7f0bbc62aa1baff8c990435d1e2c7175d001561303988032604c11a48"
   }
  }
 },
 "nbformat": 4,
 "nbformat_minor": 2,
 "cells": [
  {
   "source": [
    "# NUMPY"
   ],
   "cell_type": "markdown",
   "metadata": {}
  },
  {
   "cell_type": "code",
   "execution_count": 2,
   "metadata": {},
   "outputs": [],
   "source": [
    "import numpy as np"
   ]
  },
  {
   "cell_type": "code",
   "execution_count": 3,
   "metadata": {},
   "outputs": [
    {
     "output_type": "execute_result",
     "data": {
      "text/plain": [
       "array([1., 2., 3., 5., 4., 6.])"
      ]
     },
     "metadata": {},
     "execution_count": 3
    }
   ],
   "source": [
    "l = [1,2,3,5,4,6.0]\n",
    "a = np.array(l)\n",
    "a"
   ]
  },
  {
   "cell_type": "code",
   "execution_count": 20,
   "metadata": {},
   "outputs": [
    {
     "output_type": "execute_result",
     "data": {
      "text/plain": [
       "array(['10', 'a', '3'], dtype='<U21')"
      ]
     },
     "metadata": {},
     "execution_count": 20
    }
   ],
   "source": [
    "l1 = ['10','a',3]\n",
    "b = np.array(l1)\n",
    "b"
   ]
  },
  {
   "cell_type": "code",
   "execution_count": 21,
   "metadata": {},
   "outputs": [
    {
     "output_type": "execute_result",
     "data": {
      "text/plain": [
       "numpy.str_"
      ]
     },
     "metadata": {},
     "execution_count": 21
    }
   ],
   "source": [
    "x= b[2]\n",
    "type(x)"
   ]
  },
  {
   "cell_type": "code",
   "execution_count": 33,
   "metadata": {},
   "outputs": [
    {
     "output_type": "execute_result",
     "data": {
      "text/plain": [
       "array([[0.96874518, 0.07298104, 0.12566293, 0.58459113, 0.72641024],\n",
       "       [0.70900898, 0.24642438, 0.48998044, 0.24103081, 0.14187056],\n",
       "       [0.38204073, 0.78295248, 0.53362317, 0.1332437 , 0.28200009],\n",
       "       [0.3439944 , 0.55133172, 0.93524151, 0.05973168, 0.31604373],\n",
       "       [0.71887335, 0.35354717, 0.35234927, 0.97046719, 0.91150271],\n",
       "       [0.69218798, 0.26852627, 0.97753095, 0.97893345, 0.13831802],\n",
       "       [0.93649779, 0.66085112, 0.93911229, 0.71007088, 0.9933045 ],\n",
       "       [0.33957466, 0.19018784, 0.06415377, 0.94258879, 0.33290697],\n",
       "       [0.8740118 , 0.84328914, 0.36540701, 0.51442812, 0.69032954],\n",
       "       [0.43745712, 0.91163544, 0.40182799, 0.53265747, 0.29813845]])"
      ]
     },
     "metadata": {},
     "execution_count": 33
    }
   ],
   "source": [
    "arr = np.random.rand(10,5)\n",
    "arr"
   ]
  },
  {
   "cell_type": "code",
   "execution_count": 34,
   "metadata": {},
   "outputs": [
    {
     "output_type": "execute_result",
     "data": {
      "text/plain": [
       "(10, 5)"
      ]
     },
     "metadata": {},
     "execution_count": 34
    }
   ],
   "source": [
    "arr.shape"
   ]
  },
  {
   "cell_type": "code",
   "execution_count": 35,
   "metadata": {},
   "outputs": [
    {
     "output_type": "execute_result",
     "data": {
      "text/plain": [
       "50"
      ]
     },
     "metadata": {},
     "execution_count": 35
    }
   ],
   "source": [
    "arr.size"
   ]
  },
  {
   "cell_type": "code",
   "execution_count": 37,
   "metadata": {},
   "outputs": [
    {
     "output_type": "execute_result",
     "data": {
      "text/plain": [
       "dtype('float64')"
      ]
     },
     "metadata": {},
     "execution_count": 37
    }
   ],
   "source": [
    "arr.dtype"
   ]
  },
  {
   "cell_type": "code",
   "execution_count": 38,
   "metadata": {},
   "outputs": [
    {
     "output_type": "execute_result",
     "data": {
      "text/plain": [
       "2"
      ]
     },
     "metadata": {},
     "execution_count": 38
    }
   ],
   "source": [
    "arr.ndim            # rank of array"
   ]
  },
  {
   "cell_type": "code",
   "execution_count": 39,
   "metadata": {},
   "outputs": [
    {
     "output_type": "execute_result",
     "data": {
      "text/plain": [
       "0.24642437555412433"
      ]
     },
     "metadata": {},
     "execution_count": 39
    }
   ],
   "source": [
    "arr[1,1]"
   ]
  },
  {
   "cell_type": "code",
   "execution_count": 40,
   "metadata": {},
   "outputs": [
    {
     "output_type": "execute_result",
     "data": {
      "text/plain": [
       "array([[0.48998044, 0.24103081, 0.14187056],\n",
       "       [0.53362317, 0.1332437 , 0.28200009],\n",
       "       [0.93524151, 0.05973168, 0.31604373],\n",
       "       [0.35234927, 0.97046719, 0.91150271],\n",
       "       [0.97753095, 0.97893345, 0.13831802]])"
      ]
     },
     "metadata": {},
     "execution_count": 40
    }
   ],
   "source": [
    "arr[1:6,2:5] "
   ]
  },
  {
   "cell_type": "code",
   "execution_count": 41,
   "metadata": {},
   "outputs": [
    {
     "output_type": "execute_result",
     "data": {
      "text/plain": [
       "array([[[0.96874518, 0.07298104, 0.12566293, 0.58459113, 0.72641024],\n",
       "        [0.70900898, 0.24642438, 0.48998044, 0.24103081, 0.14187056],\n",
       "        [0.38204073, 0.78295248, 0.53362317, 0.1332437 , 0.28200009],\n",
       "        [0.3439944 , 0.55133172, 0.93524151, 0.05973168, 0.31604373],\n",
       "        [0.71887335, 0.35354717, 0.35234927, 0.97046719, 0.91150271]],\n",
       "\n",
       "       [[0.69218798, 0.26852627, 0.97753095, 0.97893345, 0.13831802],\n",
       "        [0.93649779, 0.66085112, 0.93911229, 0.71007088, 0.9933045 ],\n",
       "        [0.33957466, 0.19018784, 0.06415377, 0.94258879, 0.33290697],\n",
       "        [0.8740118 , 0.84328914, 0.36540701, 0.51442812, 0.69032954],\n",
       "        [0.43745712, 0.91163544, 0.40182799, 0.53265747, 0.29813845]]])"
      ]
     },
     "metadata": {},
     "execution_count": 41
    }
   ],
   "source": [
    "arr.reshape(2,5,5)"
   ]
  },
  {
   "cell_type": "code",
   "execution_count": 44,
   "metadata": {},
   "outputs": [
    {
     "output_type": "execute_result",
     "data": {
      "text/plain": [
       "array([[[0.96874518, 0.07298104, 0.12566293, 0.58459113, 0.72641024],\n",
       "        [0.70900898, 0.24642438, 0.48998044, 0.24103081, 0.14187056],\n",
       "        [0.38204073, 0.78295248, 0.53362317, 0.1332437 , 0.28200009],\n",
       "        [0.3439944 , 0.55133172, 0.93524151, 0.05973168, 0.31604373],\n",
       "        [0.71887335, 0.35354717, 0.35234927, 0.97046719, 0.91150271]],\n",
       "\n",
       "       [[0.69218798, 0.26852627, 0.97753095, 0.97893345, 0.13831802],\n",
       "        [0.93649779, 0.66085112, 0.93911229, 0.71007088, 0.9933045 ],\n",
       "        [0.33957466, 0.19018784, 0.06415377, 0.94258879, 0.33290697],\n",
       "        [0.8740118 , 0.84328914, 0.36540701, 0.51442812, 0.69032954],\n",
       "        [0.43745712, 0.91163544, 0.40182799, 0.53265747, 0.29813845]]])"
      ]
     },
     "metadata": {},
     "execution_count": 44
    }
   ],
   "source": [
    "arr.reshape(-1,5,5)"
   ]
  },
  {
   "cell_type": "code",
   "execution_count": 46,
   "metadata": {},
   "outputs": [
    {
     "output_type": "execute_result",
     "data": {
      "text/plain": [
       "array([[0.96874518, 0.07298104, 0.12566293, 0.58459113, 0.72641024],\n",
       "       [0.70900898, 0.24642438, 0.48998044, 0.24103081, 0.14187056],\n",
       "       [0.38204073, 0.78295248, 0.53362317, 0.1332437 , 0.28200009],\n",
       "       [0.3439944 , 0.55133172, 0.93524151, 0.05973168, 0.31604373],\n",
       "       [0.71887335, 0.35354717, 0.35234927, 0.97046719, 0.91150271],\n",
       "       [0.69218798, 0.26852627, 0.97753095, 0.97893345, 0.13831802],\n",
       "       [0.93649779, 0.66085112, 0.93911229, 0.71007088, 0.9933045 ],\n",
       "       [0.33957466, 0.19018784, 0.06415377, 0.94258879, 0.33290697],\n",
       "       [0.8740118 , 0.84328914, 0.36540701, 0.51442812, 0.69032954],\n",
       "       [0.43745712, 0.91163544, 0.40182799, 0.53265747, 0.29813845]])"
      ]
     },
     "metadata": {},
     "execution_count": 46
    }
   ],
   "source": [
    "arr"
   ]
  },
  {
   "cell_type": "code",
   "execution_count": 47,
   "metadata": {},
   "outputs": [
    {
     "output_type": "execute_result",
     "data": {
      "text/plain": [
       "0.5393515190166042"
      ]
     },
     "metadata": {},
     "execution_count": 47
    }
   ],
   "source": [
    "arr.mean()"
   ]
  },
  {
   "cell_type": "code",
   "execution_count": 50,
   "metadata": {},
   "outputs": [
    {
     "output_type": "execute_result",
     "data": {
      "text/plain": [
       "0.29925466014982144"
      ]
     },
     "metadata": {},
     "execution_count": 50
    }
   ],
   "source": [
    "arr.std()"
   ]
  },
  {
   "cell_type": "code",
   "execution_count": 52,
   "metadata": {},
   "outputs": [
    {
     "output_type": "execute_result",
     "data": {
      "text/plain": [
       "0.08955335162138514"
      ]
     },
     "metadata": {},
     "execution_count": 52
    }
   ],
   "source": [
    "arr.var()"
   ]
  },
  {
   "cell_type": "code",
   "execution_count": 53,
   "metadata": {},
   "outputs": [
    {
     "output_type": "execute_result",
     "data": {
      "text/plain": [
       "0.08955335162138513"
      ]
     },
     "metadata": {},
     "execution_count": 53
    }
   ],
   "source": [
    "(arr.std()**2)"
   ]
  },
  {
   "cell_type": "code",
   "execution_count": 54,
   "metadata": {},
   "outputs": [
    {
     "output_type": "execute_result",
     "data": {
      "text/plain": [
       "0.29925466014982144"
      ]
     },
     "metadata": {},
     "execution_count": 54
    }
   ],
   "source": [
    "np.sqrt(arr.var())"
   ]
  },
  {
   "cell_type": "code",
   "execution_count": 58,
   "metadata": {},
   "outputs": [
    {
     "output_type": "stream",
     "name": "stdout",
     "text": [
      "mean    = 0.5393515190166042\nsum    = 26.96757595083021\nstd    = 0.29925466014982144\nvar    = 0.08955335162138514\nmax    = 0.9933044987461694\nmin    = 0.059731679098740775\nprod    = 5.6072899289641225e-19\n"
     ]
    }
   ],
   "source": [
    "for i in (arr.mean,arr.sum,arr.std,arr.var,arr.max,arr.min,arr.prod):\n",
    "    print(f'{i.__name__}    = {i()}')"
   ]
  },
  {
   "cell_type": "code",
   "execution_count": 61,
   "metadata": {},
   "outputs": [
    {
     "output_type": "execute_result",
     "data": {
      "text/plain": [
       "array([6.40239199, 4.8817266 , 5.18488933, 5.66774323, 4.83082481])"
      ]
     },
     "metadata": {},
     "execution_count": 61
    }
   ],
   "source": [
    "arr.sum(axis = 0)"
   ]
  },
  {
   "cell_type": "code",
   "execution_count": 62,
   "metadata": {},
   "outputs": [
    {
     "output_type": "execute_result",
     "data": {
      "text/plain": [
       "array([2.47839053, 1.82831516, 2.11386019, 2.20634304, 3.30673969,\n",
       "       3.05549667, 4.23983657, 1.86941203, 3.28746561, 2.58171647])"
      ]
     },
     "metadata": {},
     "execution_count": 62
    }
   ],
   "source": [
    "arr.sum(axis = 1)"
   ]
  },
  {
   "cell_type": "code",
   "execution_count": 63,
   "metadata": {},
   "outputs": [
    {
     "output_type": "execute_result",
     "data": {
      "text/plain": [
       "(10, 5)"
      ]
     },
     "metadata": {},
     "execution_count": 63
    }
   ],
   "source": [
    "arr.shape"
   ]
  },
  {
   "cell_type": "code",
   "execution_count": 65,
   "metadata": {},
   "outputs": [
    {
     "output_type": "execute_result",
     "data": {
      "text/plain": [
       "(5, 10)"
      ]
     },
     "metadata": {},
     "execution_count": 65
    }
   ],
   "source": [
    "arr.T.shape"
   ]
  },
  {
   "cell_type": "code",
   "execution_count": 66,
   "metadata": {},
   "outputs": [
    {
     "output_type": "execute_result",
     "data": {
      "text/plain": [
       "array([0.125     , 0.79166667])"
      ]
     },
     "metadata": {},
     "execution_count": 66
    }
   ],
   "source": [
    "coeff = [[2,6],[5,3]]\n",
    "dep = [5,3]\n",
    "sol = np.linalg.solve(coeff, dep)\n",
    "sol"
   ]
  },
  {
   "cell_type": "code",
   "execution_count": 70,
   "metadata": {},
   "outputs": [
    {
     "output_type": "execute_result",
     "data": {
      "text/plain": [
       "array([[0., 0., 0.],\n",
       "       [0., 0., 0.],\n",
       "       [0., 0., 0.]])"
      ]
     },
     "metadata": {},
     "execution_count": 70
    }
   ],
   "source": [
    "m = np.zeros((3,3))\n",
    "m"
   ]
  },
  {
   "cell_type": "code",
   "execution_count": 74,
   "metadata": {},
   "outputs": [],
   "source": [
    "m[1:3,1:3]= 20"
   ]
  },
  {
   "cell_type": "code",
   "execution_count": 75,
   "metadata": {},
   "outputs": [
    {
     "output_type": "execute_result",
     "data": {
      "text/plain": [
       "array([[ 0.,  0.,  0.],\n",
       "       [ 0., 20., 20.],\n",
       "       [ 0., 20., 20.]])"
      ]
     },
     "metadata": {},
     "execution_count": 75
    }
   ],
   "source": [
    "m"
   ]
  },
  {
   "cell_type": "code",
   "execution_count": 76,
   "metadata": {},
   "outputs": [],
   "source": [
    "import pandas as pd"
   ]
  },
  {
   "cell_type": "code",
   "execution_count": 78,
   "metadata": {},
   "outputs": [
    {
     "output_type": "execute_result",
     "data": {
      "text/plain": [
       "       Activity Period Operating Airline Operating Airline IATA Code  \\\n",
       "0               200507      ATA Airlines                          TZ   \n",
       "1               200507      ATA Airlines                          TZ   \n",
       "2               200507      ATA Airlines                          TZ   \n",
       "3               200507       Air Canada                           AC   \n",
       "4               200507       Air Canada                           AC   \n",
       "...                ...               ...                         ...   \n",
       "15002           201603    Virgin America                          VX   \n",
       "15003           201603    Virgin America                          VX   \n",
       "15004           201603    Virgin America                          VX   \n",
       "15005           201603   Virgin Atlantic                          VS   \n",
       "15006           201603   Virgin Atlantic                          VS   \n",
       "\n",
       "      Published Airline Published Airline IATA Code    GEO Summary GEO Region  \\\n",
       "0          ATA Airlines                          TZ       Domestic         US   \n",
       "1          ATA Airlines                          TZ       Domestic         US   \n",
       "2          ATA Airlines                          TZ       Domestic         US   \n",
       "3           Air Canada                           AC  International     Canada   \n",
       "4           Air Canada                           AC  International     Canada   \n",
       "...                 ...                         ...            ...        ...   \n",
       "15002    Virgin America                          VX       Domestic         US   \n",
       "15003    Virgin America                          VX  International     Mexico   \n",
       "15004    Virgin America                          VX  International     Mexico   \n",
       "15005   Virgin Atlantic                          VS  International     Europe   \n",
       "15006   Virgin Atlantic                          VS  International     Europe   \n",
       "\n",
       "      Activity Type Code Price Category Code       Terminal Boarding Area  \\\n",
       "0               Deplaned            Low Fare     Terminal 1             B   \n",
       "1               Enplaned            Low Fare     Terminal 1             B   \n",
       "2         Thru / Transit            Low Fare     Terminal 1             B   \n",
       "3               Deplaned               Other     Terminal 1             B   \n",
       "4               Enplaned               Other     Terminal 1             B   \n",
       "...                  ...                 ...            ...           ...   \n",
       "15002           Enplaned            Low Fare     Terminal 2             D   \n",
       "15003           Deplaned            Low Fare  International             A   \n",
       "15004           Enplaned            Low Fare     Terminal 2             D   \n",
       "15005           Deplaned               Other  International             A   \n",
       "15006           Enplaned               Other  International             A   \n",
       "\n",
       "       Passenger Count Adjusted Activity Type Code  Adjusted Passenger Count  \\\n",
       "0                27271                    Deplaned                     27271   \n",
       "1                29131                    Enplaned                     29131   \n",
       "2                 5415          Thru / Transit * 2                     10830   \n",
       "3                35156                    Deplaned                     35156   \n",
       "4                34090                    Enplaned                     34090   \n",
       "...                ...                         ...                       ...   \n",
       "15002           194636                    Enplaned                    194636   \n",
       "15003             4189                    Deplaned                      4189   \n",
       "15004             4693                    Enplaned                      4693   \n",
       "15005            12313                    Deplaned                     12313   \n",
       "15006            10898                    Enplaned                     10898   \n",
       "\n",
       "       Year  Month  \n",
       "0      2005   July  \n",
       "1      2005   July  \n",
       "2      2005   July  \n",
       "3      2005   July  \n",
       "4      2005   July  \n",
       "...     ...    ...  \n",
       "15002  2016  March  \n",
       "15003  2016  March  \n",
       "15004  2016  March  \n",
       "15005  2016  March  \n",
       "15006  2016  March  \n",
       "\n",
       "[15007 rows x 16 columns]"
      ],
      "text/html": "<div>\n<style scoped>\n    .dataframe tbody tr th:only-of-type {\n        vertical-align: middle;\n    }\n\n    .dataframe tbody tr th {\n        vertical-align: top;\n    }\n\n    .dataframe thead th {\n        text-align: right;\n    }\n</style>\n<table border=\"1\" class=\"dataframe\">\n  <thead>\n    <tr style=\"text-align: right;\">\n      <th></th>\n      <th>Activity Period</th>\n      <th>Operating Airline</th>\n      <th>Operating Airline IATA Code</th>\n      <th>Published Airline</th>\n      <th>Published Airline IATA Code</th>\n      <th>GEO Summary</th>\n      <th>GEO Region</th>\n      <th>Activity Type Code</th>\n      <th>Price Category Code</th>\n      <th>Terminal</th>\n      <th>Boarding Area</th>\n      <th>Passenger Count</th>\n      <th>Adjusted Activity Type Code</th>\n      <th>Adjusted Passenger Count</th>\n      <th>Year</th>\n      <th>Month</th>\n    </tr>\n  </thead>\n  <tbody>\n    <tr>\n      <th>0</th>\n      <td>200507</td>\n      <td>ATA Airlines</td>\n      <td>TZ</td>\n      <td>ATA Airlines</td>\n      <td>TZ</td>\n      <td>Domestic</td>\n      <td>US</td>\n      <td>Deplaned</td>\n      <td>Low Fare</td>\n      <td>Terminal 1</td>\n      <td>B</td>\n      <td>27271</td>\n      <td>Deplaned</td>\n      <td>27271</td>\n      <td>2005</td>\n      <td>July</td>\n    </tr>\n    <tr>\n      <th>1</th>\n      <td>200507</td>\n      <td>ATA Airlines</td>\n      <td>TZ</td>\n      <td>ATA Airlines</td>\n      <td>TZ</td>\n      <td>Domestic</td>\n      <td>US</td>\n      <td>Enplaned</td>\n      <td>Low Fare</td>\n      <td>Terminal 1</td>\n      <td>B</td>\n      <td>29131</td>\n      <td>Enplaned</td>\n      <td>29131</td>\n      <td>2005</td>\n      <td>July</td>\n    </tr>\n    <tr>\n      <th>2</th>\n      <td>200507</td>\n      <td>ATA Airlines</td>\n      <td>TZ</td>\n      <td>ATA Airlines</td>\n      <td>TZ</td>\n      <td>Domestic</td>\n      <td>US</td>\n      <td>Thru / Transit</td>\n      <td>Low Fare</td>\n      <td>Terminal 1</td>\n      <td>B</td>\n      <td>5415</td>\n      <td>Thru / Transit * 2</td>\n      <td>10830</td>\n      <td>2005</td>\n      <td>July</td>\n    </tr>\n    <tr>\n      <th>3</th>\n      <td>200507</td>\n      <td>Air Canada</td>\n      <td>AC</td>\n      <td>Air Canada</td>\n      <td>AC</td>\n      <td>International</td>\n      <td>Canada</td>\n      <td>Deplaned</td>\n      <td>Other</td>\n      <td>Terminal 1</td>\n      <td>B</td>\n      <td>35156</td>\n      <td>Deplaned</td>\n      <td>35156</td>\n      <td>2005</td>\n      <td>July</td>\n    </tr>\n    <tr>\n      <th>4</th>\n      <td>200507</td>\n      <td>Air Canada</td>\n      <td>AC</td>\n      <td>Air Canada</td>\n      <td>AC</td>\n      <td>International</td>\n      <td>Canada</td>\n      <td>Enplaned</td>\n      <td>Other</td>\n      <td>Terminal 1</td>\n      <td>B</td>\n      <td>34090</td>\n      <td>Enplaned</td>\n      <td>34090</td>\n      <td>2005</td>\n      <td>July</td>\n    </tr>\n    <tr>\n      <th>...</th>\n      <td>...</td>\n      <td>...</td>\n      <td>...</td>\n      <td>...</td>\n      <td>...</td>\n      <td>...</td>\n      <td>...</td>\n      <td>...</td>\n      <td>...</td>\n      <td>...</td>\n      <td>...</td>\n      <td>...</td>\n      <td>...</td>\n      <td>...</td>\n      <td>...</td>\n      <td>...</td>\n    </tr>\n    <tr>\n      <th>15002</th>\n      <td>201603</td>\n      <td>Virgin America</td>\n      <td>VX</td>\n      <td>Virgin America</td>\n      <td>VX</td>\n      <td>Domestic</td>\n      <td>US</td>\n      <td>Enplaned</td>\n      <td>Low Fare</td>\n      <td>Terminal 2</td>\n      <td>D</td>\n      <td>194636</td>\n      <td>Enplaned</td>\n      <td>194636</td>\n      <td>2016</td>\n      <td>March</td>\n    </tr>\n    <tr>\n      <th>15003</th>\n      <td>201603</td>\n      <td>Virgin America</td>\n      <td>VX</td>\n      <td>Virgin America</td>\n      <td>VX</td>\n      <td>International</td>\n      <td>Mexico</td>\n      <td>Deplaned</td>\n      <td>Low Fare</td>\n      <td>International</td>\n      <td>A</td>\n      <td>4189</td>\n      <td>Deplaned</td>\n      <td>4189</td>\n      <td>2016</td>\n      <td>March</td>\n    </tr>\n    <tr>\n      <th>15004</th>\n      <td>201603</td>\n      <td>Virgin America</td>\n      <td>VX</td>\n      <td>Virgin America</td>\n      <td>VX</td>\n      <td>International</td>\n      <td>Mexico</td>\n      <td>Enplaned</td>\n      <td>Low Fare</td>\n      <td>Terminal 2</td>\n      <td>D</td>\n      <td>4693</td>\n      <td>Enplaned</td>\n      <td>4693</td>\n      <td>2016</td>\n      <td>March</td>\n    </tr>\n    <tr>\n      <th>15005</th>\n      <td>201603</td>\n      <td>Virgin Atlantic</td>\n      <td>VS</td>\n      <td>Virgin Atlantic</td>\n      <td>VS</td>\n      <td>International</td>\n      <td>Europe</td>\n      <td>Deplaned</td>\n      <td>Other</td>\n      <td>International</td>\n      <td>A</td>\n      <td>12313</td>\n      <td>Deplaned</td>\n      <td>12313</td>\n      <td>2016</td>\n      <td>March</td>\n    </tr>\n    <tr>\n      <th>15006</th>\n      <td>201603</td>\n      <td>Virgin Atlantic</td>\n      <td>VS</td>\n      <td>Virgin Atlantic</td>\n      <td>VS</td>\n      <td>International</td>\n      <td>Europe</td>\n      <td>Enplaned</td>\n      <td>Other</td>\n      <td>International</td>\n      <td>A</td>\n      <td>10898</td>\n      <td>Enplaned</td>\n      <td>10898</td>\n      <td>2016</td>\n      <td>March</td>\n    </tr>\n  </tbody>\n</table>\n<p>15007 rows × 16 columns</p>\n</div>"
     },
     "metadata": {},
     "execution_count": 78
    }
   ],
   "source": [
    "traffic = pd.read_csv('/home/athharv/Downloads/air_traffic_data.csv')\n",
    "traffic"
   ]
  },
  {
   "cell_type": "code",
   "execution_count": 81,
   "metadata": {},
   "outputs": [
    {
     "output_type": "execute_result",
     "data": {
      "text/plain": [
       "                             Activity Period  Adjusted Passenger Count  \\\n",
       "Published Airline IATA Code                                              \n",
       "4T                                  200606.5                     320.0   \n",
       "5Y                                  201309.0                      35.5   \n",
       "9W                                  200809.5                    4264.0   \n",
       "A8                                  200703.0                       5.0   \n",
       "AA                                  200910.5                  118358.0   \n",
       "...                                      ...                       ...   \n",
       "WN                                  201112.0                  108403.0   \n",
       "WO                                  200907.0                     259.0   \n",
       "WS                                  201205.0                    6751.0   \n",
       "XP                                  200608.0                      73.0   \n",
       "YX                                  200711.5                    2898.5   \n",
       "\n",
       "                             Passenger Count    Year  \n",
       "Published Airline IATA Code                           \n",
       "4T                                     276.0  2006.0  \n",
       "5Y                                      34.0  2013.0  \n",
       "9W                                    4264.0  2008.0  \n",
       "A8                                       5.0  2007.0  \n",
       "AA                                  118358.0  2009.0  \n",
       "...                                      ...     ...  \n",
       "WN                                  108403.0  2011.0  \n",
       "WO                                     259.0  2009.0  \n",
       "WS                                    6751.0  2012.0  \n",
       "XP                                      73.0  2006.0  \n",
       "YX                                    2898.5  2007.0  \n",
       "\n",
       "[64 rows x 4 columns]"
      ],
      "text/html": "<div>\n<style scoped>\n    .dataframe tbody tr th:only-of-type {\n        vertical-align: middle;\n    }\n\n    .dataframe tbody tr th {\n        vertical-align: top;\n    }\n\n    .dataframe thead th {\n        text-align: right;\n    }\n</style>\n<table border=\"1\" class=\"dataframe\">\n  <thead>\n    <tr style=\"text-align: right;\">\n      <th></th>\n      <th>Activity Period</th>\n      <th>Adjusted Passenger Count</th>\n      <th>Passenger Count</th>\n      <th>Year</th>\n    </tr>\n    <tr>\n      <th>Published Airline IATA Code</th>\n      <th></th>\n      <th></th>\n      <th></th>\n      <th></th>\n    </tr>\n  </thead>\n  <tbody>\n    <tr>\n      <th>4T</th>\n      <td>200606.5</td>\n      <td>320.0</td>\n      <td>276.0</td>\n      <td>2006.0</td>\n    </tr>\n    <tr>\n      <th>5Y</th>\n      <td>201309.0</td>\n      <td>35.5</td>\n      <td>34.0</td>\n      <td>2013.0</td>\n    </tr>\n    <tr>\n      <th>9W</th>\n      <td>200809.5</td>\n      <td>4264.0</td>\n      <td>4264.0</td>\n      <td>2008.0</td>\n    </tr>\n    <tr>\n      <th>A8</th>\n      <td>200703.0</td>\n      <td>5.0</td>\n      <td>5.0</td>\n      <td>2007.0</td>\n    </tr>\n    <tr>\n      <th>AA</th>\n      <td>200910.5</td>\n      <td>118358.0</td>\n      <td>118358.0</td>\n      <td>2009.0</td>\n    </tr>\n    <tr>\n      <th>...</th>\n      <td>...</td>\n      <td>...</td>\n      <td>...</td>\n      <td>...</td>\n    </tr>\n    <tr>\n      <th>WN</th>\n      <td>201112.0</td>\n      <td>108403.0</td>\n      <td>108403.0</td>\n      <td>2011.0</td>\n    </tr>\n    <tr>\n      <th>WO</th>\n      <td>200907.0</td>\n      <td>259.0</td>\n      <td>259.0</td>\n      <td>2009.0</td>\n    </tr>\n    <tr>\n      <th>WS</th>\n      <td>201205.0</td>\n      <td>6751.0</td>\n      <td>6751.0</td>\n      <td>2012.0</td>\n    </tr>\n    <tr>\n      <th>XP</th>\n      <td>200608.0</td>\n      <td>73.0</td>\n      <td>73.0</td>\n      <td>2006.0</td>\n    </tr>\n    <tr>\n      <th>YX</th>\n      <td>200711.5</td>\n      <td>2898.5</td>\n      <td>2898.5</td>\n      <td>2007.0</td>\n    </tr>\n  </tbody>\n</table>\n<p>64 rows × 4 columns</p>\n</div>"
     },
     "metadata": {},
     "execution_count": 81
    }
   ],
   "source": [
    "pd.pivot_table(data = traffic, index = 'Published Airline IATA Code',aggfunc='median')"
   ]
  },
  {
   "cell_type": "code",
   "execution_count": 82,
   "metadata": {},
   "outputs": [
    {
     "output_type": "stream",
     "name": "stdout",
     "text": [
      "0 1\n1 2\n2 3\n3 5\n4 4\n5 6\n6 9\n7 8\n8 7\n"
     ]
    }
   ],
   "source": [
    "x = [1,2,3,5,4,6,9,8,7]\n",
    "for i,v in enumerate(x):\n",
    "    print(i,v)"
   ]
  },
  {
   "cell_type": "code",
   "execution_count": 83,
   "metadata": {},
   "outputs": [
    {
     "output_type": "execute_result",
     "data": {
      "text/plain": [
       "0    1\n",
       "1    2\n",
       "2    3\n",
       "3    5\n",
       "4    4\n",
       "5    6\n",
       "6    9\n",
       "7    8\n",
       "8    7\n",
       "dtype: int64"
      ]
     },
     "metadata": {},
     "execution_count": 83
    }
   ],
   "source": [
    "x_ = pd.Series(x)\n",
    "x_"
   ]
  },
  {
   "cell_type": "code",
   "execution_count": 88,
   "metadata": {},
   "outputs": [
    {
     "output_type": "execute_result",
     "data": {
      "text/plain": [
       "0     1\n",
       "1     4\n",
       "2     9\n",
       "3    25\n",
       "4    16\n",
       "5    36\n",
       "6    81\n",
       "7    64\n",
       "8    49\n",
       "dtype: int64"
      ]
     },
     "metadata": {},
     "execution_count": 88
    }
   ],
   "source": [
    "z = np.square(x_)\n",
    "z"
   ]
  },
  {
   "cell_type": "code",
   "execution_count": 89,
   "metadata": {},
   "outputs": [
    {
     "output_type": "execute_result",
     "data": {
      "text/plain": [
       "pandas.core.series.Series"
      ]
     },
     "metadata": {},
     "execution_count": 89
    }
   ],
   "source": [
    "type(z)"
   ]
  },
  {
   "cell_type": "code",
   "execution_count": null,
   "metadata": {},
   "outputs": [],
   "source": []
  }
 ]
}