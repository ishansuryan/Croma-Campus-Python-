{
 "metadata": {
  "language_info": {
   "codemirror_mode": {
    "name": "ipython",
    "version": 3
   },
   "file_extension": ".py",
   "mimetype": "text/x-python",
   "name": "python",
   "nbconvert_exporter": "python",
   "pygments_lexer": "ipython3",
   "version": "3.9.5"
  },
  "orig_nbformat": 2,
  "kernelspec": {
   "name": "python395jvsc74a57bd04e1d9a8909477db77738c33245c29c7265277ef753467dede8cf3f814cde494e",
   "display_name": "Python 3.9.5 64-bit"
  },
  "metadata": {
   "interpreter": {
    "hash": "4e1d9a8909477db77738c33245c29c7265277ef753467dede8cf3f814cde494e"
   }
  }
 },
 "nbformat": 4,
 "nbformat_minor": 2,
 "cells": [
  {
   "cell_type": "code",
   "execution_count": 1,
   "metadata": {},
   "outputs": [],
   "source": [
    "import numpy as np"
   ]
  },
  {
   "cell_type": "code",
   "execution_count": 2,
   "metadata": {},
   "outputs": [],
   "source": [
    "a = np.random.rand(5,3)"
   ]
  },
  {
   "cell_type": "code",
   "execution_count": 3,
   "metadata": {},
   "outputs": [
    {
     "output_type": "execute_result",
     "data": {
      "text/plain": [
       "array([[0.83770083, 0.76346513, 0.88548083],\n",
       "       [0.83723778, 0.48224226, 0.56537928],\n",
       "       [0.398396  , 0.63587034, 0.83804826],\n",
       "       [0.3403531 , 0.90021452, 0.42478363],\n",
       "       [0.25808261, 0.72103842, 0.98647568]])"
      ]
     },
     "metadata": {},
     "execution_count": 3
    }
   ],
   "source": [
    "a"
   ]
  },
  {
   "cell_type": "code",
   "execution_count": 4,
   "metadata": {},
   "outputs": [],
   "source": [
    "b = np.random.rand(5,2)"
   ]
  },
  {
   "cell_type": "code",
   "execution_count": 5,
   "metadata": {},
   "outputs": [
    {
     "output_type": "execute_result",
     "data": {
      "text/plain": [
       "array([[0.04573044, 0.99029958],\n",
       "       [0.44623983, 0.12298667],\n",
       "       [0.52028107, 0.52630318],\n",
       "       [0.45795665, 0.51411241],\n",
       "       [0.21533061, 0.14941331]])"
      ]
     },
     "metadata": {},
     "execution_count": 5
    }
   ],
   "source": [
    "b"
   ]
  },
  {
   "cell_type": "code",
   "execution_count": 6,
   "metadata": {},
   "outputs": [
    {
     "output_type": "execute_result",
     "data": {
      "text/plain": [
       "array([[0.83770083, 0.76346513, 0.88548083, 0.04573044, 0.99029958],\n",
       "       [0.83723778, 0.48224226, 0.56537928, 0.44623983, 0.12298667],\n",
       "       [0.398396  , 0.63587034, 0.83804826, 0.52028107, 0.52630318],\n",
       "       [0.3403531 , 0.90021452, 0.42478363, 0.45795665, 0.51411241],\n",
       "       [0.25808261, 0.72103842, 0.98647568, 0.21533061, 0.14941331]])"
      ]
     },
     "metadata": {},
     "execution_count": 6
    }
   ],
   "source": [
    "c = np.concatenate((a,b), axis = 1)\n",
    "c"
   ]
  },
  {
   "cell_type": "code",
   "execution_count": 7,
   "metadata": {},
   "outputs": [
    {
     "output_type": "stream",
     "text": [
      "\u001b[0;31mType:\u001b[0m        CClass\n",
      "\u001b[0;31mString form:\u001b[0m <numpy.lib.index_tricks.CClass object at 0x7f095db9f790>\n",
      "\u001b[0;31mLength:\u001b[0m      0\n",
      "\u001b[0;31mFile:\u001b[0m        /usr/lib/python3.9/site-packages/numpy/lib/index_tricks.py\n",
      "\u001b[0;31mDocstring:\u001b[0m  \n",
      "Translates slice objects to concatenation along the second axis.\n",
      "\n",
      "This is short-hand for ``np.r_['-1,2,0', index expression]``, which is\n",
      "useful because of its common occurrence. In particular, arrays will be\n",
      "stacked along their last axis after being upgraded to at least 2-D with\n",
      "1's post-pended to the shape (column vectors made out of 1-D arrays).\n",
      "\n",
      "See Also\n",
      "--------\n",
      "column_stack : Stack 1-D arrays as columns into a 2-D array.\n",
      "r_ : For more detailed documentation.\n",
      "\n",
      "Examples\n",
      "--------\n",
      ">>> np.c_[np.array([1,2,3]), np.array([4,5,6])]\n",
      "array([[1, 4],\n",
      "       [2, 5],\n",
      "       [3, 6]])\n",
      ">>> np.c_[np.array([[1,2,3]]), 0, 0, np.array([[4,5,6]])]\n",
      "array([[1, 2, 3, ..., 4, 5, 6]])\n"
     ],
     "name": "stdout"
    }
   ],
   "source": [
    "np.c_?"
   ]
  },
  {
   "cell_type": "code",
   "execution_count": 8,
   "metadata": {},
   "outputs": [
    {
     "output_type": "execute_result",
     "data": {
      "text/plain": [
       "array([[1, 2, 3, 0, 0, 4, 5, 6]])"
      ]
     },
     "metadata": {},
     "execution_count": 8
    }
   ],
   "source": [
    "np.c_[np.array([[1,2,3]]), 0, 0, np.array([[4,5,6]])]"
   ]
  },
  {
   "cell_type": "code",
   "execution_count": 9,
   "metadata": {},
   "outputs": [
    {
     "output_type": "execute_result",
     "data": {
      "text/plain": [
       "array([[1, 4],\n",
       "       [2, 5],\n",
       "       [3, 6]])"
      ]
     },
     "metadata": {},
     "execution_count": 9
    }
   ],
   "source": [
    "np.c_[np.array([1,2,3]), np.array([4,5,6])]"
   ]
  },
  {
   "cell_type": "code",
   "execution_count": 10,
   "metadata": {},
   "outputs": [
    {
     "output_type": "execute_result",
     "data": {
      "text/plain": [
       "array([[0.67983491, 0.714379  ],\n",
       "       [0.91659875, 0.13599176],\n",
       "       [0.67186497, 0.67018328],\n",
       "       [0.09784462, 0.00962614],\n",
       "       [0.53554431, 0.98214329]])"
      ]
     },
     "metadata": {},
     "execution_count": 10
    }
   ],
   "source": [
    "d =  np.random.rand(5,2)\n",
    "d"
   ]
  },
  {
   "cell_type": "code",
   "execution_count": 11,
   "metadata": {},
   "outputs": [
    {
     "output_type": "execute_result",
     "data": {
      "text/plain": [
       "array([[0.83770083, 0.76346513, 0.88548083, 0.67983491, 0.714379  ],\n",
       "       [0.83723778, 0.48224226, 0.56537928, 0.91659875, 0.13599176],\n",
       "       [0.398396  , 0.63587034, 0.83804826, 0.67186497, 0.67018328],\n",
       "       [0.3403531 , 0.90021452, 0.42478363, 0.09784462, 0.00962614],\n",
       "       [0.25808261, 0.72103842, 0.98647568, 0.53554431, 0.98214329]])"
      ]
     },
     "metadata": {},
     "execution_count": 11
    }
   ],
   "source": [
    "np.c_[a,d]"
   ]
  },
  {
   "cell_type": "code",
   "execution_count": 12,
   "metadata": {},
   "outputs": [],
   "source": [
    "import pandas as pd\n",
    "pd.set_option('display.max_columns', 30)"
   ]
  },
  {
   "cell_type": "code",
   "execution_count": 13,
   "metadata": {},
   "outputs": [
    {
     "output_type": "execute_result",
     "data": {
      "text/plain": [
       "   symboling normalized_losses Fuel_type make num_of_doors   aspiration  \\\n",
       "0          3                 ?       gas  std          two  convertible   \n",
       "1          3                 ?       gas  std          two  convertible   \n",
       "2          1                 ?       gas  std          two    hatchback   \n",
       "3          2               164       gas  std         four        sedan   \n",
       "4          2               164       gas  std         four        sedan   \n",
       "\n",
       "  wheel_base engine_location  drive_wheels   body_style  length  width  \\\n",
       "0        rwd           front          88.6  alfa-romero   168.8   64.1   \n",
       "1        rwd           front          88.6  alfa-romero   168.8   64.1   \n",
       "2        rwd           front          94.5  alfa-romero   171.2   65.5   \n",
       "3        fwd           front          99.8         audi   176.6   66.2   \n",
       "4        4wd           front          99.4         audi   176.6   66.4   \n",
       "\n",
       "   height  curb_weight engine_type num_of_cylinders  engine_size fuel_system  \\\n",
       "0    48.8         2548        dohc             four          130        mpfi   \n",
       "1    48.8         2548        dohc             four          130        mpfi   \n",
       "2    52.4         2823        ohcv              six          152        mpfi   \n",
       "3    54.3         2337         ohc             four          109        mpfi   \n",
       "4    54.3         2824         ohc             five          136        mpfi   \n",
       "\n",
       "   bore stroke  compression_ratio horsepower peak_rpm  city_mpg  highway_mpg  \\\n",
       "0  3.47   2.68                9.0        111     5000        21           27   \n",
       "1  3.47   2.68                9.0        111     5000        21           27   \n",
       "2  2.68   3.47                9.0        154     5000        19           26   \n",
       "3  3.19    3.4               10.0        102     5500        24           30   \n",
       "4  3.19    3.4                8.0        115     5500        18           22   \n",
       "\n",
       "   price  \n",
       "0  13495  \n",
       "1  16500  \n",
       "2  16500  \n",
       "3  13950  \n",
       "4  17450  "
      ],
      "text/html": "<div>\n<style scoped>\n    .dataframe tbody tr th:only-of-type {\n        vertical-align: middle;\n    }\n\n    .dataframe tbody tr th {\n        vertical-align: top;\n    }\n\n    .dataframe thead th {\n        text-align: right;\n    }\n</style>\n<table border=\"1\" class=\"dataframe\">\n  <thead>\n    <tr style=\"text-align: right;\">\n      <th></th>\n      <th>symboling</th>\n      <th>normalized_losses</th>\n      <th>Fuel_type</th>\n      <th>make</th>\n      <th>num_of_doors</th>\n      <th>aspiration</th>\n      <th>wheel_base</th>\n      <th>engine_location</th>\n      <th>drive_wheels</th>\n      <th>body_style</th>\n      <th>length</th>\n      <th>width</th>\n      <th>height</th>\n      <th>curb_weight</th>\n      <th>engine_type</th>\n      <th>num_of_cylinders</th>\n      <th>engine_size</th>\n      <th>fuel_system</th>\n      <th>bore</th>\n      <th>stroke</th>\n      <th>compression_ratio</th>\n      <th>horsepower</th>\n      <th>peak_rpm</th>\n      <th>city_mpg</th>\n      <th>highway_mpg</th>\n      <th>price</th>\n    </tr>\n  </thead>\n  <tbody>\n    <tr>\n      <th>0</th>\n      <td>3</td>\n      <td>?</td>\n      <td>gas</td>\n      <td>std</td>\n      <td>two</td>\n      <td>convertible</td>\n      <td>rwd</td>\n      <td>front</td>\n      <td>88.6</td>\n      <td>alfa-romero</td>\n      <td>168.8</td>\n      <td>64.1</td>\n      <td>48.8</td>\n      <td>2548</td>\n      <td>dohc</td>\n      <td>four</td>\n      <td>130</td>\n      <td>mpfi</td>\n      <td>3.47</td>\n      <td>2.68</td>\n      <td>9.0</td>\n      <td>111</td>\n      <td>5000</td>\n      <td>21</td>\n      <td>27</td>\n      <td>13495</td>\n    </tr>\n    <tr>\n      <th>1</th>\n      <td>3</td>\n      <td>?</td>\n      <td>gas</td>\n      <td>std</td>\n      <td>two</td>\n      <td>convertible</td>\n      <td>rwd</td>\n      <td>front</td>\n      <td>88.6</td>\n      <td>alfa-romero</td>\n      <td>168.8</td>\n      <td>64.1</td>\n      <td>48.8</td>\n      <td>2548</td>\n      <td>dohc</td>\n      <td>four</td>\n      <td>130</td>\n      <td>mpfi</td>\n      <td>3.47</td>\n      <td>2.68</td>\n      <td>9.0</td>\n      <td>111</td>\n      <td>5000</td>\n      <td>21</td>\n      <td>27</td>\n      <td>16500</td>\n    </tr>\n    <tr>\n      <th>2</th>\n      <td>1</td>\n      <td>?</td>\n      <td>gas</td>\n      <td>std</td>\n      <td>two</td>\n      <td>hatchback</td>\n      <td>rwd</td>\n      <td>front</td>\n      <td>94.5</td>\n      <td>alfa-romero</td>\n      <td>171.2</td>\n      <td>65.5</td>\n      <td>52.4</td>\n      <td>2823</td>\n      <td>ohcv</td>\n      <td>six</td>\n      <td>152</td>\n      <td>mpfi</td>\n      <td>2.68</td>\n      <td>3.47</td>\n      <td>9.0</td>\n      <td>154</td>\n      <td>5000</td>\n      <td>19</td>\n      <td>26</td>\n      <td>16500</td>\n    </tr>\n    <tr>\n      <th>3</th>\n      <td>2</td>\n      <td>164</td>\n      <td>gas</td>\n      <td>std</td>\n      <td>four</td>\n      <td>sedan</td>\n      <td>fwd</td>\n      <td>front</td>\n      <td>99.8</td>\n      <td>audi</td>\n      <td>176.6</td>\n      <td>66.2</td>\n      <td>54.3</td>\n      <td>2337</td>\n      <td>ohc</td>\n      <td>four</td>\n      <td>109</td>\n      <td>mpfi</td>\n      <td>3.19</td>\n      <td>3.4</td>\n      <td>10.0</td>\n      <td>102</td>\n      <td>5500</td>\n      <td>24</td>\n      <td>30</td>\n      <td>13950</td>\n    </tr>\n    <tr>\n      <th>4</th>\n      <td>2</td>\n      <td>164</td>\n      <td>gas</td>\n      <td>std</td>\n      <td>four</td>\n      <td>sedan</td>\n      <td>4wd</td>\n      <td>front</td>\n      <td>99.4</td>\n      <td>audi</td>\n      <td>176.6</td>\n      <td>66.4</td>\n      <td>54.3</td>\n      <td>2824</td>\n      <td>ohc</td>\n      <td>five</td>\n      <td>136</td>\n      <td>mpfi</td>\n      <td>3.19</td>\n      <td>3.4</td>\n      <td>8.0</td>\n      <td>115</td>\n      <td>5500</td>\n      <td>18</td>\n      <td>22</td>\n      <td>17450</td>\n    </tr>\n  </tbody>\n</table>\n</div>"
     },
     "metadata": {},
     "execution_count": 13
    }
   ],
   "source": [
    "cp = pd.read_csv('/home/athharv/Downloads/car_price.csv')\n",
    "cp.head()"
   ]
  },
  {
   "cell_type": "code",
   "execution_count": 14,
   "metadata": {},
   "outputs": [
    {
     "output_type": "execute_result",
     "data": {
      "text/plain": [
       "     symboling Fuel_type\n",
       "0            3       gas\n",
       "1            3       gas\n",
       "2            1       gas\n",
       "3            2       gas\n",
       "4            2       gas\n",
       "..         ...       ...\n",
       "200         -1       gas\n",
       "201         -1       gas\n",
       "202         -1       gas\n",
       "203         -1    diesel\n",
       "204         -1       gas\n",
       "\n",
       "[205 rows x 2 columns]"
      ],
      "text/html": "<div>\n<style scoped>\n    .dataframe tbody tr th:only-of-type {\n        vertical-align: middle;\n    }\n\n    .dataframe tbody tr th {\n        vertical-align: top;\n    }\n\n    .dataframe thead th {\n        text-align: right;\n    }\n</style>\n<table border=\"1\" class=\"dataframe\">\n  <thead>\n    <tr style=\"text-align: right;\">\n      <th></th>\n      <th>symboling</th>\n      <th>Fuel_type</th>\n    </tr>\n  </thead>\n  <tbody>\n    <tr>\n      <th>0</th>\n      <td>3</td>\n      <td>gas</td>\n    </tr>\n    <tr>\n      <th>1</th>\n      <td>3</td>\n      <td>gas</td>\n    </tr>\n    <tr>\n      <th>2</th>\n      <td>1</td>\n      <td>gas</td>\n    </tr>\n    <tr>\n      <th>3</th>\n      <td>2</td>\n      <td>gas</td>\n    </tr>\n    <tr>\n      <th>4</th>\n      <td>2</td>\n      <td>gas</td>\n    </tr>\n    <tr>\n      <th>...</th>\n      <td>...</td>\n      <td>...</td>\n    </tr>\n    <tr>\n      <th>200</th>\n      <td>-1</td>\n      <td>gas</td>\n    </tr>\n    <tr>\n      <th>201</th>\n      <td>-1</td>\n      <td>gas</td>\n    </tr>\n    <tr>\n      <th>202</th>\n      <td>-1</td>\n      <td>gas</td>\n    </tr>\n    <tr>\n      <th>203</th>\n      <td>-1</td>\n      <td>diesel</td>\n    </tr>\n    <tr>\n      <th>204</th>\n      <td>-1</td>\n      <td>gas</td>\n    </tr>\n  </tbody>\n</table>\n<p>205 rows × 2 columns</p>\n</div>"
     },
     "metadata": {},
     "execution_count": 14
    }
   ],
   "source": [
    "cp[['symboling','Fuel_type']]"
   ]
  },
  {
   "cell_type": "code",
   "execution_count": 15,
   "metadata": {},
   "outputs": [
    {
     "output_type": "execute_result",
     "data": {
      "text/plain": [
       "0      3\n",
       "1      3\n",
       "2      1\n",
       "3      2\n",
       "4      2\n",
       "      ..\n",
       "200   -1\n",
       "201   -1\n",
       "202   -1\n",
       "203   -1\n",
       "204   -1\n",
       "Name: symboling, Length: 205, dtype: int64"
      ]
     },
     "metadata": {},
     "execution_count": 15
    }
   ],
   "source": [
    "cp.symboling"
   ]
  },
  {
   "cell_type": "code",
   "execution_count": 16,
   "metadata": {},
   "outputs": [
    {
     "output_type": "execute_result",
     "data": {
      "text/plain": [
       "     symboling normalized_losses Fuel_type   make num_of_doors\n",
       "0            3                 ?       gas    std          two\n",
       "1            3                 ?       gas    std          two\n",
       "2            1                 ?       gas    std          two\n",
       "3            2               164       gas    std         four\n",
       "4            2               164       gas    std         four\n",
       "..         ...               ...       ...    ...          ...\n",
       "200         -1                95       gas    std         four\n",
       "201         -1                95       gas  turbo         four\n",
       "202         -1                95       gas    std         four\n",
       "203         -1                95    diesel  turbo         four\n",
       "204         -1                95       gas  turbo         four\n",
       "\n",
       "[205 rows x 5 columns]"
      ],
      "text/html": "<div>\n<style scoped>\n    .dataframe tbody tr th:only-of-type {\n        vertical-align: middle;\n    }\n\n    .dataframe tbody tr th {\n        vertical-align: top;\n    }\n\n    .dataframe thead th {\n        text-align: right;\n    }\n</style>\n<table border=\"1\" class=\"dataframe\">\n  <thead>\n    <tr style=\"text-align: right;\">\n      <th></th>\n      <th>symboling</th>\n      <th>normalized_losses</th>\n      <th>Fuel_type</th>\n      <th>make</th>\n      <th>num_of_doors</th>\n    </tr>\n  </thead>\n  <tbody>\n    <tr>\n      <th>0</th>\n      <td>3</td>\n      <td>?</td>\n      <td>gas</td>\n      <td>std</td>\n      <td>two</td>\n    </tr>\n    <tr>\n      <th>1</th>\n      <td>3</td>\n      <td>?</td>\n      <td>gas</td>\n      <td>std</td>\n      <td>two</td>\n    </tr>\n    <tr>\n      <th>2</th>\n      <td>1</td>\n      <td>?</td>\n      <td>gas</td>\n      <td>std</td>\n      <td>two</td>\n    </tr>\n    <tr>\n      <th>3</th>\n      <td>2</td>\n      <td>164</td>\n      <td>gas</td>\n      <td>std</td>\n      <td>four</td>\n    </tr>\n    <tr>\n      <th>4</th>\n      <td>2</td>\n      <td>164</td>\n      <td>gas</td>\n      <td>std</td>\n      <td>four</td>\n    </tr>\n    <tr>\n      <th>...</th>\n      <td>...</td>\n      <td>...</td>\n      <td>...</td>\n      <td>...</td>\n      <td>...</td>\n    </tr>\n    <tr>\n      <th>200</th>\n      <td>-1</td>\n      <td>95</td>\n      <td>gas</td>\n      <td>std</td>\n      <td>four</td>\n    </tr>\n    <tr>\n      <th>201</th>\n      <td>-1</td>\n      <td>95</td>\n      <td>gas</td>\n      <td>turbo</td>\n      <td>four</td>\n    </tr>\n    <tr>\n      <th>202</th>\n      <td>-1</td>\n      <td>95</td>\n      <td>gas</td>\n      <td>std</td>\n      <td>four</td>\n    </tr>\n    <tr>\n      <th>203</th>\n      <td>-1</td>\n      <td>95</td>\n      <td>diesel</td>\n      <td>turbo</td>\n      <td>four</td>\n    </tr>\n    <tr>\n      <th>204</th>\n      <td>-1</td>\n      <td>95</td>\n      <td>gas</td>\n      <td>turbo</td>\n      <td>four</td>\n    </tr>\n  </tbody>\n</table>\n<p>205 rows × 5 columns</p>\n</div>"
     },
     "metadata": {},
     "execution_count": 16
    }
   ],
   "source": [
    "cp[list(cp.columns[:5])]"
   ]
  },
  {
   "cell_type": "code",
   "execution_count": 17,
   "metadata": {},
   "outputs": [
    {
     "output_type": "execute_result",
     "data": {
      "text/plain": [
       "     drive_wheels  length  width  height  compression_ratio\n",
       "0            88.6   168.8   64.1    48.8                9.0\n",
       "1            88.6   168.8   64.1    48.8                9.0\n",
       "2            94.5   171.2   65.5    52.4                9.0\n",
       "3            99.8   176.6   66.2    54.3               10.0\n",
       "4            99.4   176.6   66.4    54.3                8.0\n",
       "..            ...     ...    ...     ...                ...\n",
       "200         109.1   188.8   68.9    55.5                9.5\n",
       "201         109.1   188.8   68.8    55.5                8.7\n",
       "202         109.1   188.8   68.9    55.5                8.8\n",
       "203         109.1   188.8   68.9    55.5               23.0\n",
       "204         109.1   188.8   68.9    55.5                9.5\n",
       "\n",
       "[205 rows x 5 columns]"
      ],
      "text/html": "<div>\n<style scoped>\n    .dataframe tbody tr th:only-of-type {\n        vertical-align: middle;\n    }\n\n    .dataframe tbody tr th {\n        vertical-align: top;\n    }\n\n    .dataframe thead th {\n        text-align: right;\n    }\n</style>\n<table border=\"1\" class=\"dataframe\">\n  <thead>\n    <tr style=\"text-align: right;\">\n      <th></th>\n      <th>drive_wheels</th>\n      <th>length</th>\n      <th>width</th>\n      <th>height</th>\n      <th>compression_ratio</th>\n    </tr>\n  </thead>\n  <tbody>\n    <tr>\n      <th>0</th>\n      <td>88.6</td>\n      <td>168.8</td>\n      <td>64.1</td>\n      <td>48.8</td>\n      <td>9.0</td>\n    </tr>\n    <tr>\n      <th>1</th>\n      <td>88.6</td>\n      <td>168.8</td>\n      <td>64.1</td>\n      <td>48.8</td>\n      <td>9.0</td>\n    </tr>\n    <tr>\n      <th>2</th>\n      <td>94.5</td>\n      <td>171.2</td>\n      <td>65.5</td>\n      <td>52.4</td>\n      <td>9.0</td>\n    </tr>\n    <tr>\n      <th>3</th>\n      <td>99.8</td>\n      <td>176.6</td>\n      <td>66.2</td>\n      <td>54.3</td>\n      <td>10.0</td>\n    </tr>\n    <tr>\n      <th>4</th>\n      <td>99.4</td>\n      <td>176.6</td>\n      <td>66.4</td>\n      <td>54.3</td>\n      <td>8.0</td>\n    </tr>\n    <tr>\n      <th>...</th>\n      <td>...</td>\n      <td>...</td>\n      <td>...</td>\n      <td>...</td>\n      <td>...</td>\n    </tr>\n    <tr>\n      <th>200</th>\n      <td>109.1</td>\n      <td>188.8</td>\n      <td>68.9</td>\n      <td>55.5</td>\n      <td>9.5</td>\n    </tr>\n    <tr>\n      <th>201</th>\n      <td>109.1</td>\n      <td>188.8</td>\n      <td>68.8</td>\n      <td>55.5</td>\n      <td>8.7</td>\n    </tr>\n    <tr>\n      <th>202</th>\n      <td>109.1</td>\n      <td>188.8</td>\n      <td>68.9</td>\n      <td>55.5</td>\n      <td>8.8</td>\n    </tr>\n    <tr>\n      <th>203</th>\n      <td>109.1</td>\n      <td>188.8</td>\n      <td>68.9</td>\n      <td>55.5</td>\n      <td>23.0</td>\n    </tr>\n    <tr>\n      <th>204</th>\n      <td>109.1</td>\n      <td>188.8</td>\n      <td>68.9</td>\n      <td>55.5</td>\n      <td>9.5</td>\n    </tr>\n  </tbody>\n</table>\n<p>205 rows × 5 columns</p>\n</div>"
     },
     "metadata": {},
     "execution_count": 17
    }
   ],
   "source": [
    "cp.select_dtypes(include = 'float')"
   ]
  },
  {
   "cell_type": "code",
   "execution_count": 32,
   "metadata": {},
   "outputs": [
    {
     "output_type": "execute_result",
     "data": {
      "text/plain": [
       "   symboling normalized_losses Fuel_type make num_of_doors\n",
       "0          3                 ?       gas  std          two\n",
       "1          3                 ?       gas  std          two\n",
       "2          1                 ?       gas  std          two\n",
       "3          2               164       gas  std         four"
      ],
      "text/html": "<div>\n<style scoped>\n    .dataframe tbody tr th:only-of-type {\n        vertical-align: middle;\n    }\n\n    .dataframe tbody tr th {\n        vertical-align: top;\n    }\n\n    .dataframe thead th {\n        text-align: right;\n    }\n</style>\n<table border=\"1\" class=\"dataframe\">\n  <thead>\n    <tr style=\"text-align: right;\">\n      <th></th>\n      <th>symboling</th>\n      <th>normalized_losses</th>\n      <th>Fuel_type</th>\n      <th>make</th>\n      <th>num_of_doors</th>\n    </tr>\n  </thead>\n  <tbody>\n    <tr>\n      <th>0</th>\n      <td>3</td>\n      <td>?</td>\n      <td>gas</td>\n      <td>std</td>\n      <td>two</td>\n    </tr>\n    <tr>\n      <th>1</th>\n      <td>3</td>\n      <td>?</td>\n      <td>gas</td>\n      <td>std</td>\n      <td>two</td>\n    </tr>\n    <tr>\n      <th>2</th>\n      <td>1</td>\n      <td>?</td>\n      <td>gas</td>\n      <td>std</td>\n      <td>two</td>\n    </tr>\n    <tr>\n      <th>3</th>\n      <td>2</td>\n      <td>164</td>\n      <td>gas</td>\n      <td>std</td>\n      <td>four</td>\n    </tr>\n  </tbody>\n</table>\n</div>"
     },
     "metadata": {},
     "execution_count": 32
    }
   ],
   "source": [
    "cp.iloc[1:3,0:5]"
   ]
  },
  {
   "cell_type": "code",
   "execution_count": 42,
   "metadata": {},
   "outputs": [
    {
     "output_type": "execute_result",
     "data": {
      "text/plain": [
       "  symboling normalized_losses Fuel_type make num_of_doors\n",
       "0         3                 ?       gas  std          two\n",
       "1         3                 ?       gas  std          two\n",
       "2         1                 ?       gas  std          two\n",
       "3         2               164       gas  std         four\n",
       "4         2               164       gas  std         four"
      ],
      "text/html": "<div>\n<style scoped>\n    .dataframe tbody tr th:only-of-type {\n        vertical-align: middle;\n    }\n\n    .dataframe tbody tr th {\n        vertical-align: top;\n    }\n\n    .dataframe thead th {\n        text-align: right;\n    }\n</style>\n<table border=\"1\" class=\"dataframe\">\n  <thead>\n    <tr style=\"text-align: right;\">\n      <th></th>\n      <th>symboling</th>\n      <th>normalized_losses</th>\n      <th>Fuel_type</th>\n      <th>make</th>\n      <th>num_of_doors</th>\n    </tr>\n  </thead>\n  <tbody>\n    <tr>\n      <th>0</th>\n      <td>3</td>\n      <td>?</td>\n      <td>gas</td>\n      <td>std</td>\n      <td>two</td>\n    </tr>\n    <tr>\n      <th>1</th>\n      <td>3</td>\n      <td>?</td>\n      <td>gas</td>\n      <td>std</td>\n      <td>two</td>\n    </tr>\n    <tr>\n      <th>2</th>\n      <td>1</td>\n      <td>?</td>\n      <td>gas</td>\n      <td>std</td>\n      <td>two</td>\n    </tr>\n    <tr>\n      <th>3</th>\n      <td>2</td>\n      <td>164</td>\n      <td>gas</td>\n      <td>std</td>\n      <td>four</td>\n    </tr>\n    <tr>\n      <th>4</th>\n      <td>2</td>\n      <td>164</td>\n      <td>gas</td>\n      <td>std</td>\n      <td>four</td>\n    </tr>\n  </tbody>\n</table>\n</div>"
     },
     "metadata": {},
     "execution_count": 42
    }
   ],
   "source": [
    "cp.loc[:4,list(cp.columns)[0:5]]"
   ]
  },
  {
   "cell_type": "code",
   "execution_count": 41,
   "metadata": {},
   "outputs": [],
   "source": [
    "cp.iloc[0:2,0] = 3"
   ]
  },
  {
   "cell_type": "code",
   "execution_count": 37,
   "metadata": {},
   "outputs": [],
   "source": [
    "cp.loc[0:1,['symboling','normalized_losses']] = 4"
   ]
  },
  {
   "cell_type": "code",
   "execution_count": 44,
   "metadata": {},
   "outputs": [
    {
     "output_type": "execute_result",
     "data": {
      "text/plain": [
       "array([[3, '?', 'gas', 'std', 'two'],\n",
       "       [3, '?', 'gas', 'std', 'two'],\n",
       "       [1, '?', 'gas', 'std', 'two'],\n",
       "       [2, '164', 'gas', 'std', 'four'],\n",
       "       [2, '164', 'gas', 'std', 'four']], dtype=object)"
      ]
     },
     "metadata": {},
     "execution_count": 44
    }
   ],
   "source": [
    "arr = np.array(cp.loc[:4,list(cp.columns)[0:5]])\n",
    "arr"
   ]
  },
  {
   "cell_type": "code",
   "execution_count": 47,
   "metadata": {},
   "outputs": [
    {
     "output_type": "execute_result",
     "data": {
      "text/plain": [
       "array([[3, '?', 'std'],\n",
       "       [3, '?', 'std']], dtype=object)"
      ]
     },
     "metadata": {},
     "execution_count": 47
    }
   ],
   "source": [
    "arr[0:2,[0,1,3]]"
   ]
  },
  {
   "cell_type": "code",
   "execution_count": 48,
   "metadata": {},
   "outputs": [
    {
     "output_type": "execute_result",
     "data": {
      "text/plain": [
       "  symboling normalized_losses make\n",
       "0         3                 ?  std\n",
       "1         3                 ?  std"
      ],
      "text/html": "<div>\n<style scoped>\n    .dataframe tbody tr th:only-of-type {\n        vertical-align: middle;\n    }\n\n    .dataframe tbody tr th {\n        vertical-align: top;\n    }\n\n    .dataframe thead th {\n        text-align: right;\n    }\n</style>\n<table border=\"1\" class=\"dataframe\">\n  <thead>\n    <tr style=\"text-align: right;\">\n      <th></th>\n      <th>symboling</th>\n      <th>normalized_losses</th>\n      <th>make</th>\n    </tr>\n  </thead>\n  <tbody>\n    <tr>\n      <th>0</th>\n      <td>3</td>\n      <td>?</td>\n      <td>std</td>\n    </tr>\n    <tr>\n      <th>1</th>\n      <td>3</td>\n      <td>?</td>\n      <td>std</td>\n    </tr>\n  </tbody>\n</table>\n</div>"
     },
     "metadata": {},
     "execution_count": 48
    }
   ],
   "source": [
    "cp.iloc[0:2,[0,1,3]]"
   ]
  },
  {
   "cell_type": "code",
   "execution_count": null,
   "metadata": {},
   "outputs": [],
   "source": []
  }
 ]
}