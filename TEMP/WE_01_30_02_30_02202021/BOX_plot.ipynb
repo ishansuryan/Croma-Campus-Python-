{
 "metadata": {
  "language_info": {
   "codemirror_mode": {
    "name": "ipython",
    "version": 3
   },
   "file_extension": ".py",
   "mimetype": "text/x-python",
   "name": "python",
   "nbconvert_exporter": "python",
   "pygments_lexer": "ipython3",
   "version": "3.8.5"
  },
  "orig_nbformat": 2,
  "kernelspec": {
   "name": "python3",
   "display_name": "Python 3.8.5 64-bit ('base': conda)",
   "metadata": {
    "interpreter": {
     "hash": "b3ba2566441a7c06988d0923437866b63cedc61552a5af99d1f4fb67d367b25f"
    }
   }
  }
 },
 "nbformat": 4,
 "nbformat_minor": 2,
 "cells": [
  {
   "cell_type": "code",
   "execution_count": 2,
   "metadata": {},
   "outputs": [],
   "source": [
    "import numpy as np\n",
    "import pandas as pd"
   ]
  },
  {
   "cell_type": "code",
   "execution_count": 18,
   "metadata": {},
   "outputs": [],
   "source": [
    "s = pd.Series([2,-1,3,5], index = ['s03242021_01','s03242021_02','s03242021_03','s03242021_04'])"
   ]
  },
  {
   "cell_type": "code",
   "execution_count": 19,
   "metadata": {},
   "outputs": [
    {
     "output_type": "execute_result",
     "data": {
      "text/plain": [
       "s03242021_01     4\n",
       "s03242021_02     1\n",
       "s03242021_03     9\n",
       "s03242021_04    25\n",
       "dtype: int64"
      ]
     },
     "metadata": {},
     "execution_count": 19
    }
   ],
   "source": [
    "np.square(s)"
   ]
  },
  {
   "cell_type": "code",
   "execution_count": 20,
   "metadata": {},
   "outputs": [
    {
     "output_type": "execute_result",
     "data": {
      "text/plain": [
       "s03242021_01    1002\n",
       "s03242021_02     999\n",
       "s03242021_03    1003\n",
       "s03242021_04    1005\n",
       "dtype: int64"
      ]
     },
     "metadata": {},
     "execution_count": 20
    }
   ],
   "source": [
    "s + [1000]"
   ]
  },
  {
   "cell_type": "code",
   "execution_count": 21,
   "metadata": {},
   "outputs": [],
   "source": [
    "x = pd.DataFrame()"
   ]
  },
  {
   "cell_type": "code",
   "execution_count": 22,
   "metadata": {},
   "outputs": [],
   "source": [
    "x['numbers'] = s"
   ]
  },
  {
   "cell_type": "code",
   "execution_count": 23,
   "metadata": {},
   "outputs": [],
   "source": [
    "x['square'] = np.square(s)"
   ]
  },
  {
   "cell_type": "code",
   "execution_count": 24,
   "metadata": {},
   "outputs": [],
   "source": [
    "x['cube'] = np.power(s,3)"
   ]
  },
  {
   "cell_type": "code",
   "execution_count": 46,
   "metadata": {},
   "outputs": [
    {
     "output_type": "execute_result",
     "data": {
      "text/plain": [
       "[9, 81, 729]"
      ]
     },
     "metadata": {},
     "execution_count": 46
    }
   ],
   "source": [
    "y = [9,81,729]\n",
    "y"
   ]
  },
  {
   "cell_type": "code",
   "execution_count": 47,
   "metadata": {},
   "outputs": [],
   "source": [
    "x.loc['new student'] = y"
   ]
  },
  {
   "cell_type": "code",
   "execution_count": 48,
   "metadata": {},
   "outputs": [
    {
     "output_type": "execute_result",
     "data": {
      "text/plain": [
       "              numbers  square  cube\n",
       "s03242021_01        2       4     8\n",
       "s03242021_02       -1       1    -1\n",
       "s03242021_03        3       9    27\n",
       "s03242021_04        5      25   125\n",
       "new student         9      81   729"
      ],
      "text/html": "<div>\n<style scoped>\n    .dataframe tbody tr th:only-of-type {\n        vertical-align: middle;\n    }\n\n    .dataframe tbody tr th {\n        vertical-align: top;\n    }\n\n    .dataframe thead th {\n        text-align: right;\n    }\n</style>\n<table border=\"1\" class=\"dataframe\">\n  <thead>\n    <tr style=\"text-align: right;\">\n      <th></th>\n      <th>numbers</th>\n      <th>square</th>\n      <th>cube</th>\n    </tr>\n  </thead>\n  <tbody>\n    <tr>\n      <th>s03242021_01</th>\n      <td>2</td>\n      <td>4</td>\n      <td>8</td>\n    </tr>\n    <tr>\n      <th>s03242021_02</th>\n      <td>-1</td>\n      <td>1</td>\n      <td>-1</td>\n    </tr>\n    <tr>\n      <th>s03242021_03</th>\n      <td>3</td>\n      <td>9</td>\n      <td>27</td>\n    </tr>\n    <tr>\n      <th>s03242021_04</th>\n      <td>5</td>\n      <td>25</td>\n      <td>125</td>\n    </tr>\n    <tr>\n      <th>new student</th>\n      <td>9</td>\n      <td>81</td>\n      <td>729</td>\n    </tr>\n  </tbody>\n</table>\n</div>"
     },
     "metadata": {},
     "execution_count": 48
    }
   ],
   "source": [
    "x"
   ]
  },
  {
   "cell_type": "code",
   "execution_count": 50,
   "metadata": {},
   "outputs": [],
   "source": [
    "l = list(x.columns)"
   ]
  },
  {
   "cell_type": "code",
   "execution_count": 52,
   "metadata": {},
   "outputs": [
    {
     "output_type": "execute_result",
     "data": {
      "text/plain": [
       "['cube', 'numbers', 'square']"
      ]
     },
     "metadata": {},
     "execution_count": 52
    }
   ],
   "source": [
    "l.sort()\n",
    "l"
   ]
  },
  {
   "cell_type": "code",
   "execution_count": 59,
   "metadata": {},
   "outputs": [
    {
     "output_type": "execute_result",
     "data": {
      "text/plain": [
       "              cube  numbers  square\n",
       "s03242021_01     8        2       4\n",
       "s03242021_02    -1       -1       1\n",
       "s03242021_03    27        3       9\n",
       "s03242021_04   125        5      25\n",
       "new student    729        9      81"
      ],
      "text/html": "<div>\n<style scoped>\n    .dataframe tbody tr th:only-of-type {\n        vertical-align: middle;\n    }\n\n    .dataframe tbody tr th {\n        vertical-align: top;\n    }\n\n    .dataframe thead th {\n        text-align: right;\n    }\n</style>\n<table border=\"1\" class=\"dataframe\">\n  <thead>\n    <tr style=\"text-align: right;\">\n      <th></th>\n      <th>cube</th>\n      <th>numbers</th>\n      <th>square</th>\n    </tr>\n  </thead>\n  <tbody>\n    <tr>\n      <th>s03242021_01</th>\n      <td>8</td>\n      <td>2</td>\n      <td>4</td>\n    </tr>\n    <tr>\n      <th>s03242021_02</th>\n      <td>-1</td>\n      <td>-1</td>\n      <td>1</td>\n    </tr>\n    <tr>\n      <th>s03242021_03</th>\n      <td>27</td>\n      <td>3</td>\n      <td>9</td>\n    </tr>\n    <tr>\n      <th>s03242021_04</th>\n      <td>125</td>\n      <td>5</td>\n      <td>25</td>\n    </tr>\n    <tr>\n      <th>new student</th>\n      <td>729</td>\n      <td>9</td>\n      <td>81</td>\n    </tr>\n  </tbody>\n</table>\n</div>"
     },
     "metadata": {},
     "execution_count": 59
    }
   ],
   "source": [
    "x = x[l]\n",
    "x"
   ]
  },
  {
   "cell_type": "code",
   "execution_count": null,
   "metadata": {},
   "outputs": [],
   "source": []
  }
 ]
}