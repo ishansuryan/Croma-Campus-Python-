{
 "cells": [
  {
   "cell_type": "code",
   "execution_count": 1,
   "metadata": {},
   "outputs": [
    {
     "data": {
      "text/plain": [
       "8"
      ]
     },
     "execution_count": 1,
     "metadata": {},
     "output_type": "execute_result"
    }
   ],
   "source": [
    "10-2"
   ]
  },
  {
   "cell_type": "code",
   "execution_count": 2,
   "metadata": {},
   "outputs": [
    {
     "name": "stdout",
     "output_type": "stream",
     "text": [
      "Defaulting to user installation because normal site-packages is not writeable\n",
      "Requirement already satisfied: numpy in /usr/lib/python3.9/site-packages (1.20.3)\n",
      "\u001b[31mERROR: Exception:\n",
      "Traceback (most recent call last):\n",
      "  File \"/usr/lib/python3.9/site-packages/pip/_internal/cli/base_command.py\", line 223, in _main\n",
      "    status = self.run(options, args)\n",
      "  File \"/usr/lib/python3.9/site-packages/pip/_internal/cli/req_command.py\", line 180, in wrapper\n",
      "    return func(self, options, args)\n",
      "  File \"/usr/lib/python3.9/site-packages/pip/_internal/commands/install.py\", line 320, in run\n",
      "    requirement_set = resolver.resolve(\n",
      "  File \"/usr/lib/python3.9/site-packages/pip/_internal/resolution/resolvelib/resolver.py\", line 121, in resolve\n",
      "    self._result = resolver.resolve(\n",
      "  File \"/usr/lib/python3.9/site-packages/resolvelib/resolvers.py\", line 454, in resolve\n",
      "    state = resolution.resolve(requirements, max_rounds=max_rounds)\n",
      "  File \"/usr/lib/python3.9/site-packages/resolvelib/resolvers.py\", line 348, in resolve\n",
      "    failure_causes = self._attempt_to_pin_criterion(name, criterion)\n",
      "  File \"/usr/lib/python3.9/site-packages/resolvelib/resolvers.py\", line 217, in _attempt_to_pin_criterion\n",
      "    satisfied = all(\n",
      "  File \"/usr/lib/python3.9/site-packages/resolvelib/resolvers.py\", line 218, in <genexpr>\n",
      "    self._p.is_satisfied_by(requirement=r, candidate=candidate)\n",
      "  File \"/usr/lib/python3.9/site-packages/pip/_internal/resolution/resolvelib/provider.py\", line 165, in is_satisfied_by\n",
      "    return requirement.is_satisfied_by(candidate)\n",
      "  File \"/usr/lib/python3.9/site-packages/pip/_internal/resolution/resolvelib/requirements.py\", line 112, in is_satisfied_by\n",
      "    return spec.contains(candidate.version, prereleases=True)\n",
      "  File \"/usr/lib/python3.9/site-packages/packaging/specifiers.py\", line 790, in contains\n",
      "    item = parse(item)\n",
      "  File \"/usr/lib/python3.9/site-packages/packaging/version.py\", line 57, in parse\n",
      "    return Version(version)\n",
      "  File \"/usr/lib/python3.9/site-packages/packaging/version.py\", line 296, in __init__\n",
      "    match = self._regex.search(version)\n",
      "TypeError: expected string or bytes-like object\u001b[0m\n",
      "Note: you may need to restart the kernel to use updated packages.\n"
     ]
    }
   ],
   "source": [
    "pip install numpy"
   ]
  },
  {
   "cell_type": "code",
   "execution_count": null,
   "metadata": {},
   "outputs": [],
   "source": []
  }
 ],
 "metadata": {
  "interpreter": {
   "hash": "e7370f93d1d0cde622a1f8e1c04877d8463912d04d973331ad4851f04de6915a"
  },
  "kernelspec": {
   "display_name": "Python 3.9.5 64-bit",
   "name": "python3"
  },
  "language_info": {
   "codemirror_mode": {
    "name": "ipython",
    "version": 3
   },
   "file_extension": ".py",
   "mimetype": "text/x-python",
   "name": "python",
   "nbconvert_exporter": "python",
   "pygments_lexer": "ipython3",
   "version": "3.9.5"
  },
  "orig_nbformat": 4
 },
 "nbformat": 4,
 "nbformat_minor": 2
}