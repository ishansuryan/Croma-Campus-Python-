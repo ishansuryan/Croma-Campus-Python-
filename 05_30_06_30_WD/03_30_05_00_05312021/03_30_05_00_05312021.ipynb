{
 "metadata": {
  "language_info": {
   "codemirror_mode": {
    "name": "ipython",
    "version": 3
   },
   "file_extension": ".py",
   "mimetype": "text/x-python",
   "name": "python",
   "nbconvert_exporter": "python",
   "pygments_lexer": "ipython3",
   "version": "3.9.5"
  },
  "orig_nbformat": 2,
  "kernelspec": {
   "name": "python395jvsc74a57bd0d2152fd7f0bbc62aa1baff8c990435d1e2c7175d001561303988032604c11a48",
   "display_name": "Python 3.9.5 64-bit"
  },
  "metadata": {
   "interpreter": {
    "hash": "d2152fd7f0bbc62aa1baff8c990435d1e2c7175d001561303988032604c11a48"
   }
  }
 },
 "nbformat": 4,
 "nbformat_minor": 2,
 "cells": [
  {
   "cell_type": "code",
   "execution_count": 1,
   "metadata": {},
   "outputs": [],
   "source": [
    "import pandas as pd\n",
    "import numpy as np"
   ]
  },
  {
   "cell_type": "code",
   "execution_count": 48,
   "metadata": {},
   "outputs": [],
   "source": [
    "file = pd.read_csv(\"file:///mnt/Data/One banc/DataScienceCleanStatement.csv\")"
   ]
  },
  {
   "cell_type": "code",
   "execution_count": 49,
   "metadata": {},
   "outputs": [
    {
     "output_type": "execute_result",
     "data": {
      "text/plain": [
       "   Date        \\\n",
       "0  12/12/2019   \n",
       "1  12/12/2019   \n",
       "2  12/12/2019   \n",
       "3  12/12/2019   \n",
       "4  12/12/2019   \n",
       "\n",
       "  Description                                                          \\\n",
       "0  THE ROOM               GURGAON                ...                    \n",
       "1  CUT AND STYLEGURGAON                          ...                    \n",
       "2  MUMUSOGURGAON                                 ...                    \n",
       "3  THE ROOM               GURGAON                ...                    \n",
       "4  THE ROOM               GURGAON                ...                    \n",
       "\n",
       "  InternationTransactionAmount                        Category   Amount  \\\n",
       "0                            0                      Video game     -127   \n",
       "1                            0                      Occupation     -499   \n",
       "2                            0                                     -388   \n",
       "3                            0                      Video game     -108   \n",
       "4                            0                      Video game      -50   \n",
       "\n",
       "   TransactionUserName   TransactionType IsoCurrency         Locality  \\\n",
       "0         VIBHORE GOYAL         Domestic         INR  Central Park II   \n",
       "1           JASJIT KAUR         Domestic         INR         Sector 4   \n",
       "2           JASJIT KAUR         Domestic         INR        Sector 49   \n",
       "3         VIBHORE GOYAL         Domestic         INR  Central Park II   \n",
       "4         VIBHORE GOYAL         Domestic         INR  Central Park II   \n",
       "\n",
       "       City    State Country Unnamed: 12  \n",
       "0  Gurugram  Haryana   India         NaN  \n",
       "1  Gurugram  Haryana   India         NaN  \n",
       "2  Gurugram  Haryana   India         NaN  \n",
       "3  Gurugram  Haryana   India         NaN  \n",
       "4  Gurugram  Haryana   India         NaN  "
      ],
      "text/html": "<div>\n<style scoped>\n    .dataframe tbody tr th:only-of-type {\n        vertical-align: middle;\n    }\n\n    .dataframe tbody tr th {\n        vertical-align: top;\n    }\n\n    .dataframe thead th {\n        text-align: right;\n    }\n</style>\n<table border=\"1\" class=\"dataframe\">\n  <thead>\n    <tr style=\"text-align: right;\">\n      <th></th>\n      <th>Date</th>\n      <th>Description</th>\n      <th>InternationTransactionAmount</th>\n      <th>Category</th>\n      <th>Amount</th>\n      <th>TransactionUserName</th>\n      <th>TransactionType</th>\n      <th>IsoCurrency</th>\n      <th>Locality</th>\n      <th>City</th>\n      <th>State</th>\n      <th>Country</th>\n      <th>Unnamed: 12</th>\n    </tr>\n  </thead>\n  <tbody>\n    <tr>\n      <th>0</th>\n      <td>12/12/2019</td>\n      <td>THE ROOM               GURGAON                ...</td>\n      <td>0</td>\n      <td>Video game</td>\n      <td>-127</td>\n      <td>VIBHORE GOYAL</td>\n      <td>Domestic</td>\n      <td>INR</td>\n      <td>Central Park II</td>\n      <td>Gurugram</td>\n      <td>Haryana</td>\n      <td>India</td>\n      <td>NaN</td>\n    </tr>\n    <tr>\n      <th>1</th>\n      <td>12/12/2019</td>\n      <td>CUT AND STYLEGURGAON                          ...</td>\n      <td>0</td>\n      <td>Occupation</td>\n      <td>-499</td>\n      <td>JASJIT KAUR</td>\n      <td>Domestic</td>\n      <td>INR</td>\n      <td>Sector 4</td>\n      <td>Gurugram</td>\n      <td>Haryana</td>\n      <td>India</td>\n      <td>NaN</td>\n    </tr>\n    <tr>\n      <th>2</th>\n      <td>12/12/2019</td>\n      <td>MUMUSOGURGAON                                 ...</td>\n      <td>0</td>\n      <td></td>\n      <td>-388</td>\n      <td>JASJIT KAUR</td>\n      <td>Domestic</td>\n      <td>INR</td>\n      <td>Sector 49</td>\n      <td>Gurugram</td>\n      <td>Haryana</td>\n      <td>India</td>\n      <td>NaN</td>\n    </tr>\n    <tr>\n      <th>3</th>\n      <td>12/12/2019</td>\n      <td>THE ROOM               GURGAON                ...</td>\n      <td>0</td>\n      <td>Video game</td>\n      <td>-108</td>\n      <td>VIBHORE GOYAL</td>\n      <td>Domestic</td>\n      <td>INR</td>\n      <td>Central Park II</td>\n      <td>Gurugram</td>\n      <td>Haryana</td>\n      <td>India</td>\n      <td>NaN</td>\n    </tr>\n    <tr>\n      <th>4</th>\n      <td>12/12/2019</td>\n      <td>THE ROOM               GURGAON                ...</td>\n      <td>0</td>\n      <td>Video game</td>\n      <td>-50</td>\n      <td>VIBHORE GOYAL</td>\n      <td>Domestic</td>\n      <td>INR</td>\n      <td>Central Park II</td>\n      <td>Gurugram</td>\n      <td>Haryana</td>\n      <td>India</td>\n      <td>NaN</td>\n    </tr>\n  </tbody>\n</table>\n</div>"
     },
     "metadata": {},
     "execution_count": 49
    }
   ],
   "source": [
    "file.head()"
   ]
  },
  {
   "cell_type": "code",
   "execution_count": 55,
   "metadata": {},
   "outputs": [
    {
     "output_type": "stream",
     "name": "stdout",
     "text": [
      "<class 'pandas.core.frame.DataFrame'>\nRangeIndex: 1470 entries, 0 to 1469\nData columns (total 13 columns):\n #   Column                        Non-Null Count  Dtype \n---  ------                        --------------  ----- \n 0   Date                          1470 non-null   object\n 1   Description                   1470 non-null   object\n 2   InternationTransactionAmount  1470 non-null   object\n 3   Category                      1470 non-null   object\n 4   Amount                        1470 non-null   object\n 5   TransactionUserName           1470 non-null   object\n 6   TransactionType               1470 non-null   object\n 7   IsoCurrency                   1470 non-null   object\n 8   Locality                      1302 non-null   object\n 9   City                          1270 non-null   object\n 10  State                         1245 non-null   object\n 11  Country                       1307 non-null   object\n 12  Unnamed: 12                   4 non-null      object\ndtypes: object(13)\nmemory usage: 149.4+ KB\n"
     ]
    }
   ],
   "source": [
    "file.info()"
   ]
  },
  {
   "cell_type": "code",
   "execution_count": 50,
   "metadata": {},
   "outputs": [],
   "source": [
    "# file.columns = file.columns.str.strip()\n",
    "file.columns = [x.strip() for x in file.columns]"
   ]
  },
  {
   "cell_type": "code",
   "execution_count": 51,
   "metadata": {},
   "outputs": [
    {
     "output_type": "execute_result",
     "data": {
      "text/plain": [
       "Index(['Date', 'Description', 'InternationTransactionAmount', 'Category',\n",
       "       'Amount', 'TransactionUserName', 'TransactionType', 'IsoCurrency',\n",
       "       'Locality', 'City', 'State', 'Country', 'Unnamed: 12'],\n",
       "      dtype='object')"
      ]
     },
     "metadata": {},
     "execution_count": 51
    }
   ],
   "source": [
    "file.columns"
   ]
  },
  {
   "cell_type": "code",
   "execution_count": 52,
   "metadata": {},
   "outputs": [
    {
     "output_type": "execute_result",
     "data": {
      "text/plain": [
       "0                     THE ROOM GURGAON\n",
       "1                 CUT AND STYLEGURGAON\n",
       "2                        MUMUSOGURGAON\n",
       "3                     THE ROOM GURGAON\n",
       "4                     THE ROOM GURGAON\n",
       "                     ...              \n",
       "1465    KFC SEC 47 SOHNA ROAD GGURGAON\n",
       "1466           SPICEJET LIMITEDGURGAON\n",
       "1467          CAFE COFFEE DAYILD TRADE\n",
       "1468         SHOPPERS STOP LTD GURGAON\n",
       "1469         TATA INDICOM-DOCOMOMUMBAI\n",
       "Name: Description, Length: 1470, dtype: object"
      ]
     },
     "metadata": {},
     "execution_count": 52
    }
   ],
   "source": [
    "file['Description'] = [' '.join(x.split()) for x in file['Description']]\n",
    "file['Description']"
   ]
  },
  {
   "cell_type": "code",
   "execution_count": 53,
   "metadata": {},
   "outputs": [
    {
     "output_type": "execute_result",
     "data": {
      "text/plain": [
       "0                     THE ROOM GURGAON\n",
       "1                 CUT AND STYL GURGAON\n",
       "2                        MUMUS GURGAON\n",
       "3                     THE ROOM GURGAON\n",
       "4                     THE ROOM GURGAON\n",
       "                     ...              \n",
       "1465    KFC SEC 47 SOHNA ROAD  GURGAON\n",
       "1466           SPICEJET LIMITE GURGAON\n",
       "1467          CAFE COFFEE DAYILD TRADE\n",
       "1468         SHOPPERS STOP LTD GURGAON\n",
       "1469         TATA INDICOM-DOCOMOMUMBAI\n",
       "Name: Description, Length: 1470, dtype: object"
      ]
     },
     "metadata": {},
     "execution_count": 53
    }
   ],
   "source": [
    "file['Description'] = [re.sub(r'[\\S]GURGAON', ' GURGAON',x) for x in file['Description']]\n",
    "file['Description']"
   ]
  },
  {
   "cell_type": "code",
   "execution_count": 21,
   "metadata": {},
   "outputs": [
    {
     "output_type": "execute_result",
     "data": {
      "text/plain": [
       "         Date           Description InternationTransactionAmount  \\\n",
       "0  12/12/2019      THE ROOM GURGAON                            0   \n",
       "1  12/12/2019  CUT AND STYLEGURGAON                            0   \n",
       "2  12/12/2019         MUMUSOGURGAON                            0   \n",
       "3  12/12/2019      THE ROOM GURGAON                            0   \n",
       "4  12/12/2019      THE ROOM GURGAON                            0   \n",
       "\n",
       "                         Category Amount   TransactionUserName  \\\n",
       "0                      Video game   -127         VIBHORE GOYAL   \n",
       "1                      Occupation   -499           JASJIT KAUR   \n",
       "2                                   -388           JASJIT KAUR   \n",
       "3                      Video game   -108         VIBHORE GOYAL   \n",
       "4                      Video game    -50         VIBHORE GOYAL   \n",
       "\n",
       "   TransactionType IsoCurrency         Locality      City    State Country  \\\n",
       "0         Domestic         INR  Central Park II  Gurugram  Haryana   India   \n",
       "1         Domestic         INR         Sector 4  Gurugram  Haryana   India   \n",
       "2         Domestic         INR        Sector 49  Gurugram  Haryana   India   \n",
       "3         Domestic         INR  Central Park II  Gurugram  Haryana   India   \n",
       "4         Domestic         INR  Central Park II  Gurugram  Haryana   India   \n",
       "\n",
       "  Unnamed: 12  \n",
       "0         NaN  \n",
       "1         NaN  \n",
       "2         NaN  \n",
       "3         NaN  \n",
       "4         NaN  "
      ],
      "text/html": "<div>\n<style scoped>\n    .dataframe tbody tr th:only-of-type {\n        vertical-align: middle;\n    }\n\n    .dataframe tbody tr th {\n        vertical-align: top;\n    }\n\n    .dataframe thead th {\n        text-align: right;\n    }\n</style>\n<table border=\"1\" class=\"dataframe\">\n  <thead>\n    <tr style=\"text-align: right;\">\n      <th></th>\n      <th>Date</th>\n      <th>Description</th>\n      <th>InternationTransactionAmount</th>\n      <th>Category</th>\n      <th>Amount</th>\n      <th>TransactionUserName</th>\n      <th>TransactionType</th>\n      <th>IsoCurrency</th>\n      <th>Locality</th>\n      <th>City</th>\n      <th>State</th>\n      <th>Country</th>\n      <th>Unnamed: 12</th>\n    </tr>\n  </thead>\n  <tbody>\n    <tr>\n      <th>0</th>\n      <td>12/12/2019</td>\n      <td>THE ROOM GURGAON</td>\n      <td>0</td>\n      <td>Video game</td>\n      <td>-127</td>\n      <td>VIBHORE GOYAL</td>\n      <td>Domestic</td>\n      <td>INR</td>\n      <td>Central Park II</td>\n      <td>Gurugram</td>\n      <td>Haryana</td>\n      <td>India</td>\n      <td>NaN</td>\n    </tr>\n    <tr>\n      <th>1</th>\n      <td>12/12/2019</td>\n      <td>CUT AND STYLEGURGAON</td>\n      <td>0</td>\n      <td>Occupation</td>\n      <td>-499</td>\n      <td>JASJIT KAUR</td>\n      <td>Domestic</td>\n      <td>INR</td>\n      <td>Sector 4</td>\n      <td>Gurugram</td>\n      <td>Haryana</td>\n      <td>India</td>\n      <td>NaN</td>\n    </tr>\n    <tr>\n      <th>2</th>\n      <td>12/12/2019</td>\n      <td>MUMUSOGURGAON</td>\n      <td>0</td>\n      <td></td>\n      <td>-388</td>\n      <td>JASJIT KAUR</td>\n      <td>Domestic</td>\n      <td>INR</td>\n      <td>Sector 49</td>\n      <td>Gurugram</td>\n      <td>Haryana</td>\n      <td>India</td>\n      <td>NaN</td>\n    </tr>\n    <tr>\n      <th>3</th>\n      <td>12/12/2019</td>\n      <td>THE ROOM GURGAON</td>\n      <td>0</td>\n      <td>Video game</td>\n      <td>-108</td>\n      <td>VIBHORE GOYAL</td>\n      <td>Domestic</td>\n      <td>INR</td>\n      <td>Central Park II</td>\n      <td>Gurugram</td>\n      <td>Haryana</td>\n      <td>India</td>\n      <td>NaN</td>\n    </tr>\n    <tr>\n      <th>4</th>\n      <td>12/12/2019</td>\n      <td>THE ROOM GURGAON</td>\n      <td>0</td>\n      <td>Video game</td>\n      <td>-50</td>\n      <td>VIBHORE GOYAL</td>\n      <td>Domestic</td>\n      <td>INR</td>\n      <td>Central Park II</td>\n      <td>Gurugram</td>\n      <td>Haryana</td>\n      <td>India</td>\n      <td>NaN</td>\n    </tr>\n  </tbody>\n</table>\n</div>"
     },
     "metadata": {},
     "execution_count": 21
    }
   ],
   "source": [
    "file.head()"
   ]
  },
  {
   "cell_type": "code",
   "execution_count": 46,
   "metadata": {},
   "outputs": [
    {
     "output_type": "stream",
     "name": "stdout",
     "text": [
      "Help on module re:\n\nNAME\n    re - Support for regular expressions (RE).\n\nMODULE REFERENCE\n    https://docs.python.org/3.9/library/re\n    \n    The following documentation is automatically generated from the Python\n    source files.  It may be incomplete, incorrect or include features that\n    are considered implementation detail and may vary between Python\n    implementations.  When in doubt, consult the module reference at the\n    location listed above.\n\nDESCRIPTION\n    This module provides regular expression matching operations similar to\n    those found in Perl.  It supports both 8-bit and Unicode strings; both\n    the pattern and the strings being processed can contain null bytes and\n    characters outside the US ASCII range.\n    \n    Regular expressions can contain both special and ordinary characters.\n    Most ordinary characters, like \"A\", \"a\", or \"0\", are the simplest\n    regular expressions; they simply match themselves.  You can\n    concatenate ordinary characters, so last matches the string 'last'.\n    \n    The special characters are:\n        \".\"      Matches any character except a newline.\n        \"^\"      Matches the start of the string.\n        \"$\"      Matches the end of the string or just before the newline at\n                 the end of the string.\n        \"*\"      Matches 0 or more (greedy) repetitions of the preceding RE.\n                 Greedy means that it will match as many repetitions as possible.\n        \"+\"      Matches 1 or more (greedy) repetitions of the preceding RE.\n        \"?\"      Matches 0 or 1 (greedy) of the preceding RE.\n        *?,+?,?? Non-greedy versions of the previous three special characters.\n        {m,n}    Matches from m to n repetitions of the preceding RE.\n        {m,n}?   Non-greedy version of the above.\n        \"\\\\\"     Either escapes special characters or signals a special sequence.\n        []       Indicates a set of characters.\n                 A \"^\" as the first character indicates a complementing set.\n        \"|\"      A|B, creates an RE that will match either A or B.\n        (...)    Matches the RE inside the parentheses.\n                 The contents can be retrieved or matched later in the string.\n        (?aiLmsux) The letters set the corresponding flags defined below.\n        (?:...)  Non-grouping version of regular parentheses.\n        (?P<name>...) The substring matched by the group is accessible by name.\n        (?P=name)     Matches the text matched earlier by the group named name.\n        (?#...)  A comment; ignored.\n        (?=...)  Matches if ... matches next, but doesn't consume the string.\n        (?!...)  Matches if ... doesn't match next.\n        (?<=...) Matches if preceded by ... (must be fixed length).\n        (?<!...) Matches if not preceded by ... (must be fixed length).\n        (?(id/name)yes|no) Matches yes pattern if the group with id/name matched,\n                           the (optional) no pattern otherwise.\n    \n    The special sequences consist of \"\\\\\" and a character from the list\n    below.  If the ordinary character is not on the list, then the\n    resulting RE will match the second character.\n        \\number  Matches the contents of the group of the same number.\n        \\A       Matches only at the start of the string.\n        \\Z       Matches only at the end of the string.\n        \\b       Matches the empty string, but only at the start or end of a word.\n        \\B       Matches the empty string, but not at the start or end of a word.\n        \\d       Matches any decimal digit; equivalent to the set [0-9] in\n                 bytes patterns or string patterns with the ASCII flag.\n                 In string patterns without the ASCII flag, it will match the whole\n                 range of Unicode digits.\n        \\D       Matches any non-digit character; equivalent to [^\\d].\n        \\s       Matches any whitespace character; equivalent to [ \\t\\n\\r\\f\\v] in\n                 bytes patterns or string patterns with the ASCII flag.\n                 In string patterns without the ASCII flag, it will match the whole\n                 range of Unicode whitespace characters.\n        \\S       Matches any non-whitespace character; equivalent to [^\\s].\n        \\w       Matches any alphanumeric character; equivalent to [a-zA-Z0-9_]\n                 in bytes patterns or string patterns with the ASCII flag.\n                 In string patterns without the ASCII flag, it will match the\n                 range of Unicode alphanumeric characters (letters plus digits\n                 plus underscore).\n                 With LOCALE, it will match the set [0-9_] plus characters defined\n                 as letters for the current locale.\n        \\W       Matches the complement of \\w.\n        \\\\       Matches a literal backslash.\n    \n    This module exports the following functions:\n        match     Match a regular expression pattern to the beginning of a string.\n        fullmatch Match a regular expression pattern to all of a string.\n        search    Search a string for the presence of a pattern.\n        sub       Substitute occurrences of a pattern found in a string.\n        subn      Same as sub, but also return the number of substitutions made.\n        split     Split a string by the occurrences of a pattern.\n        findall   Find all occurrences of a pattern in a string.\n        finditer  Return an iterator yielding a Match object for each match.\n        compile   Compile a pattern into a Pattern object.\n        purge     Clear the regular expression cache.\n        escape    Backslash all non-alphanumerics in a string.\n    \n    Each function other than purge and escape can take an optional 'flags' argument\n    consisting of one or more of the following module constants, joined by \"|\".\n    A, L, and U are mutually exclusive.\n        A  ASCII       For string patterns, make \\w, \\W, \\b, \\B, \\d, \\D\n                       match the corresponding ASCII character categories\n                       (rather than the whole Unicode categories, which is the\n                       default).\n                       For bytes patterns, this flag is the only available\n                       behaviour and needn't be specified.\n        I  IGNORECASE  Perform case-insensitive matching.\n        L  LOCALE      Make \\w, \\W, \\b, \\B, dependent on the current locale.\n        M  MULTILINE   \"^\" matches the beginning of lines (after a newline)\n                       as well as the string.\n                       \"$\" matches the end of lines (before a newline) as well\n                       as the end of the string.\n        S  DOTALL      \".\" matches any character at all, including the newline.\n        X  VERBOSE     Ignore whitespace and comments for nicer looking RE's.\n        U  UNICODE     For compatibility only. Ignored for string patterns (it\n                       is the default), and forbidden for bytes patterns.\n    \n    This module also defines an exception 'error'.\n\nCLASSES\n    builtins.Exception(builtins.BaseException)\n        error\n    builtins.object\n        Match\n        Pattern\n    \n    class Match(builtins.object)\n     |  The result of re.match() and re.search().\n     |  Match objects always have a boolean value of True.\n     |  \n     |  Methods defined here:\n     |  \n     |  __copy__(self, /)\n     |  \n     |  __deepcopy__(self, memo, /)\n     |  \n     |  __getitem__(self, key, /)\n     |      Return self[key].\n     |  \n     |  __repr__(self, /)\n     |      Return repr(self).\n     |  \n     |  end(self, group=0, /)\n     |      Return index of the end of the substring matched by group.\n     |  \n     |  expand(self, /, template)\n     |      Return the string obtained by doing backslash substitution on the string template, as done by the sub() method.\n     |  \n     |  group(...)\n     |      group([group1, ...]) -> str or tuple.\n     |      Return subgroup(s) of the match by indices or names.\n     |      For 0 returns the entire match.\n     |  \n     |  groupdict(self, /, default=None)\n     |      Return a dictionary containing all the named subgroups of the match, keyed by the subgroup name.\n     |      \n     |      default\n     |        Is used for groups that did not participate in the match.\n     |  \n     |  groups(self, /, default=None)\n     |      Return a tuple containing all the subgroups of the match, from 1.\n     |      \n     |      default\n     |        Is used for groups that did not participate in the match.\n     |  \n     |  span(self, group=0, /)\n     |      For match object m, return the 2-tuple (m.start(group), m.end(group)).\n     |  \n     |  start(self, group=0, /)\n     |      Return index of the start of the substring matched by group.\n     |  \n     |  ----------------------------------------------------------------------\n     |  Class methods defined here:\n     |  \n     |  __class_getitem__(...) from builtins.type\n     |      See PEP 585\n     |  \n     |  ----------------------------------------------------------------------\n     |  Data descriptors defined here:\n     |  \n     |  endpos\n     |      The index into the string beyond which the RE engine will not go.\n     |  \n     |  lastgroup\n     |      The name of the last matched capturing group.\n     |  \n     |  lastindex\n     |      The integer index of the last matched capturing group.\n     |  \n     |  pos\n     |      The index into the string at which the RE engine started looking for a match.\n     |  \n     |  re\n     |      The regular expression object.\n     |  \n     |  regs\n     |  \n     |  string\n     |      The string passed to match() or search().\n    \n    class Pattern(builtins.object)\n     |  Compiled regular expression object.\n     |  \n     |  Methods defined here:\n     |  \n     |  __copy__(self, /)\n     |  \n     |  __deepcopy__(self, memo, /)\n     |  \n     |  __eq__(self, value, /)\n     |      Return self==value.\n     |  \n     |  __ge__(self, value, /)\n     |      Return self>=value.\n     |  \n     |  __gt__(self, value, /)\n     |      Return self>value.\n     |  \n     |  __hash__(self, /)\n     |      Return hash(self).\n     |  \n     |  __le__(self, value, /)\n     |      Return self<=value.\n     |  \n     |  __lt__(self, value, /)\n     |      Return self<value.\n     |  \n     |  __ne__(self, value, /)\n     |      Return self!=value.\n     |  \n     |  __repr__(self, /)\n     |      Return repr(self).\n     |  \n     |  findall(self, /, string, pos=0, endpos=9223372036854775807)\n     |      Return a list of all non-overlapping matches of pattern in string.\n     |  \n     |  finditer(self, /, string, pos=0, endpos=9223372036854775807)\n     |      Return an iterator over all non-overlapping matches for the RE pattern in string.\n     |      \n     |      For each match, the iterator returns a match object.\n     |  \n     |  fullmatch(self, /, string, pos=0, endpos=9223372036854775807)\n     |      Matches against all of the string.\n     |  \n     |  match(self, /, string, pos=0, endpos=9223372036854775807)\n     |      Matches zero or more characters at the beginning of the string.\n     |  \n     |  scanner(self, /, string, pos=0, endpos=9223372036854775807)\n     |  \n     |  search(self, /, string, pos=0, endpos=9223372036854775807)\n     |      Scan through string looking for a match, and return a corresponding match object instance.\n     |      \n     |      Return None if no position in the string matches.\n     |  \n     |  split(self, /, string, maxsplit=0)\n     |      Split string by the occurrences of pattern.\n     |  \n     |  sub(self, /, repl, string, count=0)\n     |      Return the string obtained by replacing the leftmost non-overlapping occurrences of pattern in string by the replacement repl.\n     |  \n     |  subn(self, /, repl, string, count=0)\n     |      Return the tuple (new_string, number_of_subs_made) found by replacing the leftmost non-overlapping occurrences of pattern with the replacement repl.\n     |  \n     |  ----------------------------------------------------------------------\n     |  Class methods defined here:\n     |  \n     |  __class_getitem__(...) from builtins.type\n     |      See PEP 585\n     |  \n     |  ----------------------------------------------------------------------\n     |  Data descriptors defined here:\n     |  \n     |  flags\n     |      The regex matching flags.\n     |  \n     |  groupindex\n     |      A dictionary mapping group names to group numbers.\n     |  \n     |  groups\n     |      The number of capturing groups in the pattern.\n     |  \n     |  pattern\n     |      The pattern string from which the RE object was compiled.\n    \n    class error(builtins.Exception)\n     |  error(msg, pattern=None, pos=None)\n     |  \n     |  Exception raised for invalid regular expressions.\n     |  \n     |  Attributes:\n     |  \n     |      msg: The unformatted error message\n     |      pattern: The regular expression pattern\n     |      pos: The index in the pattern where compilation failed (may be None)\n     |      lineno: The line corresponding to pos (may be None)\n     |      colno: The column corresponding to pos (may be None)\n     |  \n     |  Method resolution order:\n     |      error\n     |      builtins.Exception\n     |      builtins.BaseException\n     |      builtins.object\n     |  \n     |  Methods defined here:\n     |  \n     |  __init__(self, msg, pattern=None, pos=None)\n     |      Initialize self.  See help(type(self)) for accurate signature.\n     |  \n     |  ----------------------------------------------------------------------\n     |  Data descriptors defined here:\n     |  \n     |  __weakref__\n     |      list of weak references to the object (if defined)\n     |  \n     |  ----------------------------------------------------------------------\n     |  Static methods inherited from builtins.Exception:\n     |  \n     |  __new__(*args, **kwargs) from builtins.type\n     |      Create and return a new object.  See help(type) for accurate signature.\n     |  \n     |  ----------------------------------------------------------------------\n     |  Methods inherited from builtins.BaseException:\n     |  \n     |  __delattr__(self, name, /)\n     |      Implement delattr(self, name).\n     |  \n     |  __getattribute__(self, name, /)\n     |      Return getattr(self, name).\n     |  \n     |  __reduce__(...)\n     |      Helper for pickle.\n     |  \n     |  __repr__(self, /)\n     |      Return repr(self).\n     |  \n     |  __setattr__(self, name, value, /)\n     |      Implement setattr(self, name, value).\n     |  \n     |  __setstate__(...)\n     |  \n     |  __str__(self, /)\n     |      Return str(self).\n     |  \n     |  with_traceback(...)\n     |      Exception.with_traceback(tb) --\n     |      set self.__traceback__ to tb and return self.\n     |  \n     |  ----------------------------------------------------------------------\n     |  Data descriptors inherited from builtins.BaseException:\n     |  \n     |  __cause__\n     |      exception cause\n     |  \n     |  __context__\n     |      exception context\n     |  \n     |  __dict__\n     |  \n     |  __suppress_context__\n     |  \n     |  __traceback__\n     |  \n     |  args\n\nFUNCTIONS\n    compile(pattern, flags=0)\n        Compile a regular expression pattern, returning a Pattern object.\n    \n    escape(pattern)\n        Escape special characters in a string.\n    \n    findall(pattern, string, flags=0)\n        Return a list of all non-overlapping matches in the string.\n        \n        If one or more capturing groups are present in the pattern, return\n        a list of groups; this will be a list of tuples if the pattern\n        has more than one group.\n        \n        Empty matches are included in the result.\n    \n    finditer(pattern, string, flags=0)\n        Return an iterator over all non-overlapping matches in the\n        string.  For each match, the iterator returns a Match object.\n        \n        Empty matches are included in the result.\n    \n    fullmatch(pattern, string, flags=0)\n        Try to apply the pattern to all of the string, returning\n        a Match object, or None if no match was found.\n    \n    match(pattern, string, flags=0)\n        Try to apply the pattern at the start of the string, returning\n        a Match object, or None if no match was found.\n    \n    purge()\n        Clear the regular expression caches\n    \n    search(pattern, string, flags=0)\n        Scan through string looking for a match to the pattern, returning\n        a Match object, or None if no match was found.\n    \n    split(pattern, string, maxsplit=0, flags=0)\n        Split the source string by the occurrences of the pattern,\n        returning a list containing the resulting substrings.  If\n        capturing parentheses are used in pattern, then the text of all\n        groups in the pattern are also returned as part of the resulting\n        list.  If maxsplit is nonzero, at most maxsplit splits occur,\n        and the remainder of the string is returned as the final element\n        of the list.\n    \n    sub(pattern, repl, string, count=0, flags=0)\n        Return the string obtained by replacing the leftmost\n        non-overlapping occurrences of the pattern in string by the\n        replacement repl.  repl can be either a string or a callable;\n        if a string, backslash escapes in it are processed.  If it is\n        a callable, it's passed the Match object and must return\n        a replacement string to be used.\n    \n    subn(pattern, repl, string, count=0, flags=0)\n        Return a 2-tuple containing (new_string, number).\n        new_string is the string obtained by replacing the leftmost\n        non-overlapping occurrences of the pattern in the source\n        string by the replacement repl.  number is the number of\n        substitutions that were made. repl can be either a string or a\n        callable; if a string, backslash escapes in it are processed.\n        If it is a callable, it's passed the Match object and must\n        return a replacement string to be used.\n    \n    template(pattern, flags=0)\n        Compile a template pattern, returning a Pattern object\n\nDATA\n    A = re.ASCII\n    ASCII = re.ASCII\n    DOTALL = re.DOTALL\n    I = re.IGNORECASE\n    IGNORECASE = re.IGNORECASE\n    L = re.LOCALE\n    LOCALE = re.LOCALE\n    M = re.MULTILINE\n    MULTILINE = re.MULTILINE\n    S = re.DOTALL\n    U = re.UNICODE\n    UNICODE = re.UNICODE\n    VERBOSE = re.VERBOSE\n    X = re.VERBOSE\n    __all__ = ['match', 'fullmatch', 'search', 'sub', 'subn', 'split', 'fi...\n\nVERSION\n    2.2.1\n\nFILE\n    /usr/lib/python3.9/re.py\n\n\n"
     ]
    }
   ],
   "source": [
    "import re\n",
    "help(re)"
   ]
  },
  {
   "cell_type": "code",
   "execution_count": 29,
   "metadata": {},
   "outputs": [
    {
     "output_type": "stream",
     "name": "stdout",
     "text": [
      "Help on class str in module builtins:\n\nclass str(object)\n |  str(object='') -> str\n |  str(bytes_or_buffer[, encoding[, errors]]) -> str\n |  \n |  Create a new string object from the given object. If encoding or\n |  errors is specified, then the object must expose a data buffer\n |  that will be decoded using the given encoding and error handler.\n |  Otherwise, returns the result of object.__str__() (if defined)\n |  or repr(object).\n |  encoding defaults to sys.getdefaultencoding().\n |  errors defaults to 'strict'.\n |  \n |  Methods defined here:\n |  \n |  __add__(self, value, /)\n |      Return self+value.\n |  \n |  __contains__(self, key, /)\n |      Return key in self.\n |  \n |  __eq__(self, value, /)\n |      Return self==value.\n |  \n |  __format__(self, format_spec, /)\n |      Return a formatted version of the string as described by format_spec.\n |  \n |  __ge__(self, value, /)\n |      Return self>=value.\n |  \n |  __getattribute__(self, name, /)\n |      Return getattr(self, name).\n |  \n |  __getitem__(self, key, /)\n |      Return self[key].\n |  \n |  __getnewargs__(...)\n |  \n |  __gt__(self, value, /)\n |      Return self>value.\n |  \n |  __hash__(self, /)\n |      Return hash(self).\n |  \n |  __iter__(self, /)\n |      Implement iter(self).\n |  \n |  __le__(self, value, /)\n |      Return self<=value.\n |  \n |  __len__(self, /)\n |      Return len(self).\n |  \n |  __lt__(self, value, /)\n |      Return self<value.\n |  \n |  __mod__(self, value, /)\n |      Return self%value.\n |  \n |  __mul__(self, value, /)\n |      Return self*value.\n |  \n |  __ne__(self, value, /)\n |      Return self!=value.\n |  \n |  __repr__(self, /)\n |      Return repr(self).\n |  \n |  __rmod__(self, value, /)\n |      Return value%self.\n |  \n |  __rmul__(self, value, /)\n |      Return value*self.\n |  \n |  __sizeof__(self, /)\n |      Return the size of the string in memory, in bytes.\n |  \n |  __str__(self, /)\n |      Return str(self).\n |  \n |  capitalize(self, /)\n |      Return a capitalized version of the string.\n |      \n |      More specifically, make the first character have upper case and the rest lower\n |      case.\n |  \n |  casefold(self, /)\n |      Return a version of the string suitable for caseless comparisons.\n |  \n |  center(self, width, fillchar=' ', /)\n |      Return a centered string of length width.\n |      \n |      Padding is done using the specified fill character (default is a space).\n |  \n |  count(...)\n |      S.count(sub[, start[, end]]) -> int\n |      \n |      Return the number of non-overlapping occurrences of substring sub in\n |      string S[start:end].  Optional arguments start and end are\n |      interpreted as in slice notation.\n |  \n |  encode(self, /, encoding='utf-8', errors='strict')\n |      Encode the string using the codec registered for encoding.\n |      \n |      encoding\n |        The encoding in which to encode the string.\n |      errors\n |        The error handling scheme to use for encoding errors.\n |        The default is 'strict' meaning that encoding errors raise a\n |        UnicodeEncodeError.  Other possible values are 'ignore', 'replace' and\n |        'xmlcharrefreplace' as well as any other name registered with\n |        codecs.register_error that can handle UnicodeEncodeErrors.\n |  \n |  endswith(...)\n |      S.endswith(suffix[, start[, end]]) -> bool\n |      \n |      Return True if S ends with the specified suffix, False otherwise.\n |      With optional start, test S beginning at that position.\n |      With optional end, stop comparing S at that position.\n |      suffix can also be a tuple of strings to try.\n |  \n |  expandtabs(self, /, tabsize=8)\n |      Return a copy where all tab characters are expanded using spaces.\n |      \n |      If tabsize is not given, a tab size of 8 characters is assumed.\n |  \n |  find(...)\n |      S.find(sub[, start[, end]]) -> int\n |      \n |      Return the lowest index in S where substring sub is found,\n |      such that sub is contained within S[start:end].  Optional\n |      arguments start and end are interpreted as in slice notation.\n |      \n |      Return -1 on failure.\n |  \n |  format(...)\n |      S.format(*args, **kwargs) -> str\n |      \n |      Return a formatted version of S, using substitutions from args and kwargs.\n |      The substitutions are identified by braces ('{' and '}').\n |  \n |  format_map(...)\n |      S.format_map(mapping) -> str\n |      \n |      Return a formatted version of S, using substitutions from mapping.\n |      The substitutions are identified by braces ('{' and '}').\n |  \n |  index(...)\n |      S.index(sub[, start[, end]]) -> int\n |      \n |      Return the lowest index in S where substring sub is found,\n |      such that sub is contained within S[start:end].  Optional\n |      arguments start and end are interpreted as in slice notation.\n |      \n |      Raises ValueError when the substring is not found.\n |  \n |  isalnum(self, /)\n |      Return True if the string is an alpha-numeric string, False otherwise.\n |      \n |      A string is alpha-numeric if all characters in the string are alpha-numeric and\n |      there is at least one character in the string.\n |  \n |  isalpha(self, /)\n |      Return True if the string is an alphabetic string, False otherwise.\n |      \n |      A string is alphabetic if all characters in the string are alphabetic and there\n |      is at least one character in the string.\n |  \n |  isascii(self, /)\n |      Return True if all characters in the string are ASCII, False otherwise.\n |      \n |      ASCII characters have code points in the range U+0000-U+007F.\n |      Empty string is ASCII too.\n |  \n |  isdecimal(self, /)\n |      Return True if the string is a decimal string, False otherwise.\n |      \n |      A string is a decimal string if all characters in the string are decimal and\n |      there is at least one character in the string.\n |  \n |  isdigit(self, /)\n |      Return True if the string is a digit string, False otherwise.\n |      \n |      A string is a digit string if all characters in the string are digits and there\n |      is at least one character in the string.\n |  \n |  isidentifier(self, /)\n |      Return True if the string is a valid Python identifier, False otherwise.\n |      \n |      Call keyword.iskeyword(s) to test whether string s is a reserved identifier,\n |      such as \"def\" or \"class\".\n |  \n |  islower(self, /)\n |      Return True if the string is a lowercase string, False otherwise.\n |      \n |      A string is lowercase if all cased characters in the string are lowercase and\n |      there is at least one cased character in the string.\n |  \n |  isnumeric(self, /)\n |      Return True if the string is a numeric string, False otherwise.\n |      \n |      A string is numeric if all characters in the string are numeric and there is at\n |      least one character in the string.\n |  \n |  isprintable(self, /)\n |      Return True if the string is printable, False otherwise.\n |      \n |      A string is printable if all of its characters are considered printable in\n |      repr() or if it is empty.\n |  \n |  isspace(self, /)\n |      Return True if the string is a whitespace string, False otherwise.\n |      \n |      A string is whitespace if all characters in the string are whitespace and there\n |      is at least one character in the string.\n |  \n |  istitle(self, /)\n |      Return True if the string is a title-cased string, False otherwise.\n |      \n |      In a title-cased string, upper- and title-case characters may only\n |      follow uncased characters and lowercase characters only cased ones.\n |  \n |  isupper(self, /)\n |      Return True if the string is an uppercase string, False otherwise.\n |      \n |      A string is uppercase if all cased characters in the string are uppercase and\n |      there is at least one cased character in the string.\n |  \n |  join(self, iterable, /)\n |      Concatenate any number of strings.\n |      \n |      The string whose method is called is inserted in between each given string.\n |      The result is returned as a new string.\n |      \n |      Example: '.'.join(['ab', 'pq', 'rs']) -> 'ab.pq.rs'\n |  \n |  ljust(self, width, fillchar=' ', /)\n |      Return a left-justified string of length width.\n |      \n |      Padding is done using the specified fill character (default is a space).\n |  \n |  lower(self, /)\n |      Return a copy of the string converted to lowercase.\n |  \n |  lstrip(self, chars=None, /)\n |      Return a copy of the string with leading whitespace removed.\n |      \n |      If chars is given and not None, remove characters in chars instead.\n |  \n |  partition(self, sep, /)\n |      Partition the string into three parts using the given separator.\n |      \n |      This will search for the separator in the string.  If the separator is found,\n |      returns a 3-tuple containing the part before the separator, the separator\n |      itself, and the part after it.\n |      \n |      If the separator is not found, returns a 3-tuple containing the original string\n |      and two empty strings.\n |  \n |  removeprefix(self, prefix, /)\n |      Return a str with the given prefix string removed if present.\n |      \n |      If the string starts with the prefix string, return string[len(prefix):].\n |      Otherwise, return a copy of the original string.\n |  \n |  removesuffix(self, suffix, /)\n |      Return a str with the given suffix string removed if present.\n |      \n |      If the string ends with the suffix string and that suffix is not empty,\n |      return string[:-len(suffix)]. Otherwise, return a copy of the original\n |      string.\n |  \n |  replace(self, old, new, count=-1, /)\n |      Return a copy with all occurrences of substring old replaced by new.\n |      \n |        count\n |          Maximum number of occurrences to replace.\n |          -1 (the default value) means replace all occurrences.\n |      \n |      If the optional argument count is given, only the first count occurrences are\n |      replaced.\n |  \n |  rfind(...)\n |      S.rfind(sub[, start[, end]]) -> int\n |      \n |      Return the highest index in S where substring sub is found,\n |      such that sub is contained within S[start:end].  Optional\n |      arguments start and end are interpreted as in slice notation.\n |      \n |      Return -1 on failure.\n |  \n |  rindex(...)\n |      S.rindex(sub[, start[, end]]) -> int\n |      \n |      Return the highest index in S where substring sub is found,\n |      such that sub is contained within S[start:end].  Optional\n |      arguments start and end are interpreted as in slice notation.\n |      \n |      Raises ValueError when the substring is not found.\n |  \n |  rjust(self, width, fillchar=' ', /)\n |      Return a right-justified string of length width.\n |      \n |      Padding is done using the specified fill character (default is a space).\n |  \n |  rpartition(self, sep, /)\n |      Partition the string into three parts using the given separator.\n |      \n |      This will search for the separator in the string, starting at the end. If\n |      the separator is found, returns a 3-tuple containing the part before the\n |      separator, the separator itself, and the part after it.\n |      \n |      If the separator is not found, returns a 3-tuple containing two empty strings\n |      and the original string.\n |  \n |  rsplit(self, /, sep=None, maxsplit=-1)\n |      Return a list of the words in the string, using sep as the delimiter string.\n |      \n |        sep\n |          The delimiter according which to split the string.\n |          None (the default value) means split according to any whitespace,\n |          and discard empty strings from the result.\n |        maxsplit\n |          Maximum number of splits to do.\n |          -1 (the default value) means no limit.\n |      \n |      Splits are done starting at the end of the string and working to the front.\n |  \n |  rstrip(self, chars=None, /)\n |      Return a copy of the string with trailing whitespace removed.\n |      \n |      If chars is given and not None, remove characters in chars instead.\n |  \n |  split(self, /, sep=None, maxsplit=-1)\n |      Return a list of the words in the string, using sep as the delimiter string.\n |      \n |      sep\n |        The delimiter according which to split the string.\n |        None (the default value) means split according to any whitespace,\n |        and discard empty strings from the result.\n |      maxsplit\n |        Maximum number of splits to do.\n |        -1 (the default value) means no limit.\n |  \n |  splitlines(self, /, keepends=False)\n |      Return a list of the lines in the string, breaking at line boundaries.\n |      \n |      Line breaks are not included in the resulting list unless keepends is given and\n |      true.\n |  \n |  startswith(...)\n |      S.startswith(prefix[, start[, end]]) -> bool\n |      \n |      Return True if S starts with the specified prefix, False otherwise.\n |      With optional start, test S beginning at that position.\n |      With optional end, stop comparing S at that position.\n |      prefix can also be a tuple of strings to try.\n |  \n |  strip(self, chars=None, /)\n |      Return a copy of the string with leading and trailing whitespace removed.\n |      \n |      If chars is given and not None, remove characters in chars instead.\n |  \n |  swapcase(self, /)\n |      Convert uppercase characters to lowercase and lowercase characters to uppercase.\n |  \n |  title(self, /)\n |      Return a version of the string where each word is titlecased.\n |      \n |      More specifically, words start with uppercased characters and all remaining\n |      cased characters have lower case.\n |  \n |  translate(self, table, /)\n |      Replace each character in the string using the given translation table.\n |      \n |        table\n |          Translation table, which must be a mapping of Unicode ordinals to\n |          Unicode ordinals, strings, or None.\n |      \n |      The table must implement lookup/indexing via __getitem__, for instance a\n |      dictionary or list.  If this operation raises LookupError, the character is\n |      left untouched.  Characters mapped to None are deleted.\n |  \n |  upper(self, /)\n |      Return a copy of the string converted to uppercase.\n |  \n |  zfill(self, width, /)\n |      Pad a numeric string with zeros on the left, to fill a field of the given width.\n |      \n |      The string is never truncated.\n |  \n |  ----------------------------------------------------------------------\n |  Static methods defined here:\n |  \n |  __new__(*args, **kwargs) from builtins.type\n |      Create and return a new object.  See help(type) for accurate signature.\n |  \n |  maketrans(...)\n |      Return a translation table usable for str.translate().\n |      \n |      If there is only one argument, it must be a dictionary mapping Unicode\n |      ordinals (integers) or characters to Unicode ordinals, strings or None.\n |      Character keys will be then converted to ordinals.\n |      If there are two arguments, they must be strings of equal length, and\n |      in the resulting dictionary, each character in x will be mapped to the\n |      character at the same position in y. If there is a third argument, it\n |      must be a string, whose characters will be mapped to None in the result.\n\n"
     ]
    }
   ],
   "source": [
    "help(str)"
   ]
  },
  {
   "cell_type": "code",
   "execution_count": null,
   "metadata": {},
   "outputs": [],
   "source": []
  }
 ]
}