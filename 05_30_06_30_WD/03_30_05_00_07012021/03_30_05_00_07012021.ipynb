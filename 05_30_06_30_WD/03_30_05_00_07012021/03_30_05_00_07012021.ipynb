{
 "cells": [
  {
   "cell_type": "code",
   "execution_count": 33,
   "metadata": {},
   "outputs": [],
   "source": [
    "import numpy as np\n",
    "%matplotlib inline\n",
    "import matplotlib.pyplot as plt\n",
    "import pandas as pd\n",
    "pd.set_option('display.max_columns',40)"
   ]
  },
  {
   "cell_type": "code",
   "execution_count": 2,
   "metadata": {},
   "outputs": [],
   "source": [
    "np.random.seed(42)\n",
    "x = 2*np.random.rand(100,1)-1\n",
    "y = 4*x -2 + np.random.rand(100,1)"
   ]
  },
  {
   "cell_type": "code",
   "execution_count": 3,
   "metadata": {},
   "outputs": [],
   "source": [
    "x_b = np.c_[np.ones((100,1)),x]             # adding bias term\n",
    "# x_b"
   ]
  },
  {
   "cell_type": "code",
   "execution_count": 4,
   "metadata": {},
   "outputs": [
    {
     "data": {
      "image/png": "[encoded data removed]",
      "text/plain": [
       "<Figure size 432x288 with 1 Axes>"
      ]
     },
     "metadata": {
      "needs_background": "light"
     },
     "output_type": "display_data"
    }
   ],
   "source": [
    "plt.plot(x,y,'b*')\n",
    "plt.show()"
   ]
  },
  {
   "cell_type": "code",
   "execution_count": 5,
   "metadata": {},
   "outputs": [],
   "source": [
    "sol = np.linalg.inv(x_b.T.dot(x_b)).dot(x_b.T).dot(y)"
   ]
  },
  {
   "cell_type": "code",
   "execution_count": 6,
   "metadata": {},
   "outputs": [
    {
     "data": {
      "text/plain": [
       "array([[-1.50316817],\n",
       "       [ 3.98323418]])"
      ]
     },
     "execution_count": 6,
     "metadata": {},
     "output_type": "execute_result"
    }
   ],
   "source": [
    "sol"
   ]
  },
  {
   "cell_type": "code",
   "execution_count": 7,
   "metadata": {},
   "outputs": [],
   "source": [
    "x_new = np.linspace(-1,1, 200).reshape(200,1)\n",
    "x_new_b = np.c_[np.ones((200,1)), x_new]\n",
    "y_new = x_new_b.dot(sol)"
   ]
  },
  {
   "cell_type": "code",
   "execution_count": 8,
   "metadata": {},
   "outputs": [
    {
     "data": {
      "image/png": "[encoded data removed]",
      "text/plain": [
       "<Figure size 432x288 with 1 Axes>"
      ]
     },
     "metadata": {
      "needs_background": "light"
     },
     "output_type": "display_data"
    }
   ],
   "source": [
    "plt.plot(x,y,'bo')      # scattered points\n",
    "plt.plot(x_new,y_new,'r-')\n",
    "plt.show()"
   ]
  },
  {
   "cell_type": "code",
   "execution_count": 9,
   "metadata": {},
   "outputs": [
    {
     "data": {
      "text/plain": [
       "array([0.59768158, 0.6759869 , 0.29928174, 0.73074027, 0.57873939,\n",
       "       0.80901767, 0.1672485 , 0.31214497, 0.35793155, 0.4917473 ])"
      ]
     },
     "execution_count": 9,
     "metadata": {},
     "output_type": "execute_result"
    }
   ],
   "source": [
    "np.random.seed(102)\n",
    "z = np.random.rand(10)\n",
    "z"
   ]
  },
  {
   "cell_type": "markdown",
   "metadata": {},
   "source": [
    "# Finding the solution from gradient descent"
   ]
  },
  {
   "cell_type": "code",
   "execution_count": 10,
   "metadata": {},
   "outputs": [],
   "source": [
    "np.random.seed(42)\n",
    "theta = 0.1\n",
    "eta= 0.2\n",
    "m = 10\n",
    "iterations = 1000\n",
    "shuffled_index = np.random.permutation(100)\n",
    "x_b = x_b[shuffled_index]\n",
    "y = y[shuffled_index]\n",
    "for i in range(0,len(x),m):\n",
    "    x_i = x_b[i:i+m]\n",
    "    y_i = y[i:i+m]\n",
    "    gradients = 2/m * x_i.T.dot(x_i.dot(theta) -y_i)\n",
    "    # if i<10:\n",
    "        # print(theta)\n",
    "    theta = theta - eta *  gradients"
   ]
  },
  {
   "cell_type": "code",
   "execution_count": 11,
   "metadata": {},
   "outputs": [
    {
     "data": {
      "text/plain": [
       "array([83, 53, 70, 45, 44, 39, 22, 80, 10,  0, 18, 30, 73, 33, 90,  4, 76,\n",
       "       77, 12, 31, 55, 88, 26, 42, 69, 15, 40, 96,  9, 72, 11, 47, 85, 28,\n",
       "       93,  5, 66, 65, 35, 16, 49, 34,  7, 95, 27, 19, 81, 25, 62, 13, 24,\n",
       "        3, 17, 38,  8, 78,  6, 64, 36, 89, 56, 99, 54, 43, 50, 67, 46, 68,\n",
       "       61, 97, 79, 41, 58, 48, 98, 57, 75, 32, 94, 59, 63, 84, 37, 29,  1,\n",
       "       52, 21,  2, 23, 87, 91, 74, 86, 82, 20, 60, 71, 14, 92, 51])"
      ]
     },
     "execution_count": 11,
     "metadata": {},
     "output_type": "execute_result"
    }
   ],
   "source": [
    "shuffled_index"
   ]
  },
  {
   "cell_type": "code",
   "execution_count": 12,
   "metadata": {},
   "outputs": [
    {
     "data": {
      "text/plain": [
       "array([-1.53640257,  3.18274668])"
      ]
     },
     "execution_count": 12,
     "metadata": {},
     "output_type": "execute_result"
    }
   ],
   "source": [
    "theta[:,0]"
   ]
  },
  {
   "cell_type": "code",
   "execution_count": 13,
   "metadata": {},
   "outputs": [
    {
     "data": {
      "text/plain": [
       "LinearRegression()"
      ]
     },
     "execution_count": 13,
     "metadata": {},
     "output_type": "execute_result"
    }
   ],
   "source": [
    "from sklearn.linear_model import LinearRegression\n",
    "lin_reg = LinearRegression()\n",
    "lin_reg.fit(x,y)"
   ]
  },
  {
   "cell_type": "code",
   "execution_count": 14,
   "metadata": {},
   "outputs": [
    {
     "data": {
      "text/plain": [
       "(array([[0.65947657]]), array([-1.70139213]))"
      ]
     },
     "execution_count": 14,
     "metadata": {},
     "output_type": "execute_result"
    }
   ],
   "source": [
    "lin_reg.coef_, lin_reg.intercept_"
   ]
  },
  {
   "cell_type": "code",
   "execution_count": 15,
   "metadata": {},
   "outputs": [],
   "source": [
    "from sklearn.linear_model import SGDRegressor\n",
    "sgd_reg = SGDRegressor()"
   ]
  },
  {
   "cell_type": "code",
   "execution_count": 16,
   "metadata": {},
   "outputs": [
    {
     "data": {
      "text/plain": [
       "SGDRegressor()"
      ]
     },
     "execution_count": 16,
     "metadata": {},
     "output_type": "execute_result"
    }
   ],
   "source": [
    "sgd_reg.fit(x,y.ravel())"
   ]
  },
  {
   "cell_type": "code",
   "execution_count": 17,
   "metadata": {},
   "outputs": [
    {
     "data": {
      "text/plain": [
       "(array([0.54877451]), array([-1.69026635]))"
      ]
     },
     "execution_count": 17,
     "metadata": {},
     "output_type": "execute_result"
    }
   ],
   "source": [
    "sgd_reg.coef_, sgd_reg.intercept_"
   ]
  },
  {
   "cell_type": "code",
   "execution_count": 18,
   "metadata": {},
   "outputs": [],
   "source": [
    "y_new_sgd = x_new_b.dot(theta[:,0])"
   ]
  },
  {
   "cell_type": "code",
   "execution_count": 19,
   "metadata": {},
   "outputs": [
    {
     "data": {
      "image/png": "[encoded data removed]",
      "text/plain": [
       "<Figure size 432x288 with 1 Axes>"
      ]
     },
     "metadata": {
      "needs_background": "light"
     },
     "output_type": "display_data"
    }
   ],
   "source": [
    "plt.plot(x_new,y_new_sgd,'g-')\n",
    "plt.plot(x,y,'b*')\n",
    "plt.show()"
   ]
  },
  {
   "cell_type": "code",
   "execution_count": 88,
   "metadata": {},
   "outputs": [],
   "source": [
    "import pandas as pd"
   ]
  },
  {
   "cell_type": "code",
   "execution_count": 89,
   "metadata": {},
   "outputs": [
    {
     "data": {
      "text/html": [
       "<div>\n",
       "<style scoped>\n",
       "    .dataframe tbody tr th:only-of-type {\n",
       "        vertical-align: middle;\n",
       "    }\n",
       "\n",
       "    .dataframe tbody tr th {\n",
       "        vertical-align: top;\n",
       "    }\n",
       "\n",
       "    .dataframe thead th {\n",
       "        text-align: right;\n",
       "    }\n",
       "</style>\n",
       "<table border=\"1\" class=\"dataframe\">\n",
       "  <thead>\n",
       "    <tr style=\"text-align: right;\">\n",
       "      <th></th>\n",
       "      <th>symboling</th>\n",
       "      <th>normalized_losses</th>\n",
       "      <th>Fuel_type</th>\n",
       "      <th>make</th>\n",
       "      <th>num_of_doors</th>\n",
       "      <th>aspiration</th>\n",
       "      <th>wheel_base</th>\n",
       "      <th>engine_location</th>\n",
       "      <th>drive_wheels</th>\n",
       "      <th>body_style</th>\n",
       "      <th>length</th>\n",
       "      <th>width</th>\n",
       "      <th>height</th>\n",
       "      <th>curb_weight</th>\n",
       "      <th>engine_type</th>\n",
       "      <th>num_of_cylinders</th>\n",
       "      <th>engine_size</th>\n",
       "      <th>fuel_system</th>\n",
       "      <th>bore</th>\n",
       "      <th>stroke</th>\n",
       "      <th>compression_ratio</th>\n",
       "      <th>horsepower</th>\n",
       "      <th>peak_rpm</th>\n",
       "      <th>city_mpg</th>\n",
       "      <th>highway_mpg</th>\n",
       "      <th>price</th>\n",
       "    </tr>\n",
       "  </thead>\n",
       "  <tbody>\n",
       "    <tr>\n",
       "      <th>0</th>\n",
       "      <td>3</td>\n",
       "      <td>NaN</td>\n",
       "      <td>gas</td>\n",
       "      <td>std</td>\n",
       "      <td>two</td>\n",
       "      <td>convertible</td>\n",
       "      <td>rwd</td>\n",
       "      <td>front</td>\n",
       "      <td>88.6</td>\n",
       "      <td>alfa-romero</td>\n",
       "      <td>168.8</td>\n",
       "      <td>64.1</td>\n",
       "      <td>48.8</td>\n",
       "      <td>2548</td>\n",
       "      <td>dohc</td>\n",
       "      <td>four</td>\n",
       "      <td>130</td>\n",
       "      <td>mpfi</td>\n",
       "      <td>3.47</td>\n",
       "      <td>2.68</td>\n",
       "      <td>9.0</td>\n",
       "      <td>111</td>\n",
       "      <td>5000</td>\n",
       "      <td>21</td>\n",
       "      <td>27</td>\n",
       "      <td>13495</td>\n",
       "    </tr>\n",
       "    <tr>\n",
       "      <th>1</th>\n",
       "      <td>3</td>\n",
       "      <td>?</td>\n",
       "      <td>gas</td>\n",
       "      <td>std</td>\n",
       "      <td>two</td>\n",
       "      <td>convertible</td>\n",
       "      <td>rwd</td>\n",
       "      <td>front</td>\n",
       "      <td>88.6</td>\n",
       "      <td>alfa-romero</td>\n",
       "      <td>168.8</td>\n",
       "      <td>64.1</td>\n",
       "      <td>48.8</td>\n",
       "      <td>2548</td>\n",
       "      <td>dohc</td>\n",
       "      <td>four</td>\n",
       "      <td>130</td>\n",
       "      <td>mpfi</td>\n",
       "      <td>3.47</td>\n",
       "      <td>2.68</td>\n",
       "      <td>9.0</td>\n",
       "      <td>111</td>\n",
       "      <td>5000</td>\n",
       "      <td>21</td>\n",
       "      <td>27</td>\n",
       "      <td>16500</td>\n",
       "    </tr>\n",
       "    <tr>\n",
       "      <th>2</th>\n",
       "      <td>1</td>\n",
       "      <td>?</td>\n",
       "      <td>gas</td>\n",
       "      <td>std</td>\n",
       "      <td>two</td>\n",
       "      <td>hatchback</td>\n",
       "      <td>rwd</td>\n",
       "      <td>front</td>\n",
       "      <td>94.5</td>\n",
       "      <td>alfa-romero</td>\n",
       "      <td>171.2</td>\n",
       "      <td>65.5</td>\n",
       "      <td>52.4</td>\n",
       "      <td>2823</td>\n",
       "      <td>ohcv</td>\n",
       "      <td>six</td>\n",
       "      <td>152</td>\n",
       "      <td>mpfi</td>\n",
       "      <td>2.68</td>\n",
       "      <td>3.47</td>\n",
       "      <td>9.0</td>\n",
       "      <td>154</td>\n",
       "      <td>5000</td>\n",
       "      <td>19</td>\n",
       "      <td>26</td>\n",
       "      <td>16500</td>\n",
       "    </tr>\n",
       "    <tr>\n",
       "      <th>3</th>\n",
       "      <td>2</td>\n",
       "      <td>164</td>\n",
       "      <td>gas</td>\n",
       "      <td>std</td>\n",
       "      <td>four</td>\n",
       "      <td>sedan</td>\n",
       "      <td>fwd</td>\n",
       "      <td>front</td>\n",
       "      <td>99.8</td>\n",
       "      <td>audi</td>\n",
       "      <td>176.6</td>\n",
       "      <td>66.2</td>\n",
       "      <td>54.3</td>\n",
       "      <td>2337</td>\n",
       "      <td>ohc</td>\n",
       "      <td>four</td>\n",
       "      <td>109</td>\n",
       "      <td>mpfi</td>\n",
       "      <td>3.19</td>\n",
       "      <td>3.4</td>\n",
       "      <td>10.0</td>\n",
       "      <td>102</td>\n",
       "      <td>5500</td>\n",
       "      <td>24</td>\n",
       "      <td>30</td>\n",
       "      <td>13950</td>\n",
       "    </tr>\n",
       "    <tr>\n",
       "      <th>4</th>\n",
       "      <td>2</td>\n",
       "      <td>164</td>\n",
       "      <td>gas</td>\n",
       "      <td>std</td>\n",
       "      <td>four</td>\n",
       "      <td>sedan</td>\n",
       "      <td>4wd</td>\n",
       "      <td>front</td>\n",
       "      <td>99.4</td>\n",
       "      <td>audi</td>\n",
       "      <td>176.6</td>\n",
       "      <td>66.4</td>\n",
       "      <td>54.3</td>\n",
       "      <td>2824</td>\n",
       "      <td>ohc</td>\n",
       "      <td>five</td>\n",
       "      <td>136</td>\n",
       "      <td>mpfi</td>\n",
       "      <td>3.19</td>\n",
       "      <td>3.4</td>\n",
       "      <td>8.0</td>\n",
       "      <td>115</td>\n",
       "      <td>5500</td>\n",
       "      <td>18</td>\n",
       "      <td>22</td>\n",
       "      <td>17450</td>\n",
       "    </tr>\n",
       "  </tbody>\n",
       "</table>\n",
       "</div>"
      ],
      "text/plain": [
       "   symboling normalized_losses Fuel_type make num_of_doors   aspiration  \\\n",
       "0          3               NaN       gas  std          two  convertible   \n",
       "1          3                 ?       gas  std          two  convertible   \n",
       "2          1                 ?       gas  std          two    hatchback   \n",
       "3          2               164       gas  std         four        sedan   \n",
       "4          2               164       gas  std         four        sedan   \n",
       "\n",
       "  wheel_base engine_location  drive_wheels   body_style  length  width  \\\n",
       "0        rwd           front          88.6  alfa-romero   168.8   64.1   \n",
       "1        rwd           front          88.6  alfa-romero   168.8   64.1   \n",
       "2        rwd           front          94.5  alfa-romero   171.2   65.5   \n",
       "3        fwd           front          99.8         audi   176.6   66.2   \n",
       "4        4wd           front          99.4         audi   176.6   66.4   \n",
       "\n",
       "   height  curb_weight engine_type num_of_cylinders  engine_size fuel_system  \\\n",
       "0    48.8         2548        dohc             four          130        mpfi   \n",
       "1    48.8         2548        dohc             four          130        mpfi   \n",
       "2    52.4         2823        ohcv              six          152        mpfi   \n",
       "3    54.3         2337         ohc             four          109        mpfi   \n",
       "4    54.3         2824         ohc             five          136        mpfi   \n",
       "\n",
       "   bore stroke  compression_ratio horsepower peak_rpm  city_mpg  highway_mpg  \\\n",
       "0  3.47   2.68                9.0        111     5000        21           27   \n",
       "1  3.47   2.68                9.0        111     5000        21           27   \n",
       "2  2.68   3.47                9.0        154     5000        19           26   \n",
       "3  3.19    3.4               10.0        102     5500        24           30   \n",
       "4  3.19    3.4                8.0        115     5500        18           22   \n",
       "\n",
       "   price  \n",
       "0  13495  \n",
       "1  16500  \n",
       "2  16500  \n",
       "3  13950  \n",
       "4  17450  "
      ]
     },
     "execution_count": 89,
     "metadata": {},
     "output_type": "execute_result"
    }
   ],
   "source": [
    "car = pd.read_csv('/mnt/New_Volume/Work_From_Home/Data/car_price_clean.csv')\n",
    "car.head()"
   ]
  },
  {
   "cell_type": "code",
   "execution_count": null,
   "metadata": {},
   "outputs": [],
   "source": []
  },
  {
   "cell_type": "code",
   "execution_count": 90,
   "metadata": {},
   "outputs": [],
   "source": [
    "cols = list(car.columns)\n",
    "for i in cols:\n",
    "    car[i] = car[i].replace('?', np.nan)"
   ]
  },
  {
   "cell_type": "code",
   "execution_count": 91,
   "metadata": {},
   "outputs": [
    {
     "data": {
      "text/plain": [
       "symboling             0\n",
       "normalized_losses    41\n",
       "Fuel_type             0\n",
       "make                  0\n",
       "num_of_doors          2\n",
       "aspiration            0\n",
       "wheel_base            0\n",
       "engine_location       0\n",
       "drive_wheels          0\n",
       "body_style            0\n",
       "length                0\n",
       "width                 0\n",
       "height                0\n",
       "curb_weight           0\n",
       "engine_type           0\n",
       "num_of_cylinders      0\n",
       "engine_size           0\n",
       "fuel_system           0\n",
       "bore                  4\n",
       "stroke                4\n",
       "compression_ratio     0\n",
       "horsepower            2\n",
       "peak_rpm              2\n",
       "city_mpg              0\n",
       "highway_mpg           0\n",
       "price                 4\n",
       "dtype: int64"
      ]
     },
     "execution_count": 91,
     "metadata": {},
     "output_type": "execute_result"
    }
   ],
   "source": [
    "car.isna().sum()"
   ]
  },
  {
   "cell_type": "code",
   "execution_count": 92,
   "metadata": {},
   "outputs": [],
   "source": [
    "l = {}\n",
    "for i,val in enumerate(car.columns):\n",
    "    l[val] = i"
   ]
  },
  {
   "cell_type": "code",
   "execution_count": 93,
   "metadata": {},
   "outputs": [
    {
     "data": {
      "text/plain": [
       "{'symboling': 0,\n",
       " 'normalized_losses': 1,\n",
       " 'Fuel_type': 2,\n",
       " 'make': 3,\n",
       " 'num_of_doors': 4,\n",
       " 'aspiration': 5,\n",
       " 'wheel_base': 6,\n",
       " 'engine_location': 7,\n",
       " 'drive_wheels': 8,\n",
       " 'body_style': 9,\n",
       " 'length': 10,\n",
       " 'width': 11,\n",
       " 'height': 12,\n",
       " 'curb_weight': 13,\n",
       " 'engine_type': 14,\n",
       " 'num_of_cylinders': 15,\n",
       " 'engine_size': 16,\n",
       " 'fuel_system': 17,\n",
       " 'bore': 18,\n",
       " 'stroke': 19,\n",
       " 'compression_ratio': 20,\n",
       " 'horsepower': 21,\n",
       " 'peak_rpm': 22,\n",
       " 'city_mpg': 23,\n",
       " 'highway_mpg': 24,\n",
       " 'price': 25}"
      ]
     },
     "execution_count": 93,
     "metadata": {},
     "output_type": "execute_result"
    }
   ],
   "source": [
    "l"
   ]
  },
  {
   "cell_type": "code",
   "execution_count": 94,
   "metadata": {},
   "outputs": [
    {
     "name": "stdout",
     "output_type": "stream",
     "text": [
      "<class 'pandas.core.frame.DataFrame'>\n",
      "RangeIndex: 205 entries, 0 to 204\n",
      "Data columns (total 26 columns):\n",
      " #   Column             Non-Null Count  Dtype  \n",
      "---  ------             --------------  -----  \n",
      " 0   symboling          205 non-null    int64  \n",
      " 1   normalized_losses  164 non-null    object \n",
      " 2   Fuel_type          205 non-null    object \n",
      " 3   make               205 non-null    object \n",
      " 4   num_of_doors       203 non-null    object \n",
      " 5   aspiration         205 non-null    object \n",
      " 6   wheel_base         205 non-null    object \n",
      " 7   engine_location    205 non-null    object \n",
      " 8   drive_wheels       205 non-null    float64\n",
      " 9   body_style         205 non-null    object \n",
      " 10  length             205 non-null    float64\n",
      " 11  width              205 non-null    float64\n",
      " 12  height             205 non-null    float64\n",
      " 13  curb_weight        205 non-null    int64  \n",
      " 14  engine_type        205 non-null    object \n",
      " 15  num_of_cylinders   205 non-null    object \n",
      " 16  engine_size        205 non-null    int64  \n",
      " 17  fuel_system        205 non-null    object \n",
      " 18  bore               201 non-null    object \n",
      " 19  stroke             201 non-null    object \n",
      " 20  compression_ratio  205 non-null    float64\n",
      " 21  horsepower         203 non-null    object \n",
      " 22  peak_rpm           203 non-null    object \n",
      " 23  city_mpg           205 non-null    int64  \n",
      " 24  highway_mpg        205 non-null    int64  \n",
      " 25  price              201 non-null    object \n",
      "dtypes: float64(5), int64(5), object(16)\n",
      "memory usage: 41.8+ KB\n"
     ]
    }
   ],
   "source": [
    "car.info()"
   ]
  },
  {
   "cell_type": "code",
   "execution_count": 95,
   "metadata": {},
   "outputs": [],
   "source": [
    "from sklearn.impute import SimpleImputer                            # to fill missing values\n",
    "from sklearn.preprocessing import StandardScaler, OneHotEncoder     # scler for sacling the values one hotencoder to convrt categorical cols to numerical\n",
    "from sklearn.pipeline import Pipeline, FeatureUnion                 # pipeline to follw a precedure/ fixed path, feature union to merge two pipelines in to one\n",
    "from sklearn.base import BaseEstimator,TransformerMixin"
   ]
  },
  {
   "cell_type": "code",
   "execution_count": 96,
   "metadata": {},
   "outputs": [],
   "source": [
    "# to separate the Data into numerical and catecorical columns creating our custom classes\n",
    "# Writinf a class for returning categorical data out of complete data\n",
    "class categorical(BaseEstimator, TransformerMixin):\n",
    "    \n",
    "    def fit(self, x,y=None):\n",
    "        return self\n",
    "    \n",
    "    def transform(self, x,y = None):\n",
    "        l_i = [l[x] for x in l_cat]\n",
    "        d_ = x.iloc[:,l_i]\n",
    "        # d_ = x['Fuel_type','make','num_of_doors','aspiration','wheel_base','engine_location','body_style','engine_type','num_of_cylinders','fuel_system']\n",
    "        return np.array(d_)"
   ]
  },
  {
   "cell_type": "code",
   "execution_count": 106,
   "metadata": {},
   "outputs": [
    {
     "data": {
      "text/plain": [
       "10"
      ]
     },
     "execution_count": 106,
     "metadata": {},
     "output_type": "execute_result"
    }
   ],
   "source": [
    "l_cat = ['Fuel_type','make','num_of_doors','aspiration','wheel_base','engine_location','body_style','engine_type','num_of_cylinders','fuel_system']\n",
    "len(l_cat)"
   ]
  },
  {
   "cell_type": "code",
   "execution_count": 107,
   "metadata": {},
   "outputs": [
    {
     "data": {
      "text/plain": [
       "15"
      ]
     },
     "execution_count": 107,
     "metadata": {},
     "output_type": "execute_result"
    }
   ],
   "source": [
    "l_num = ['symboling','normalized_losses','drive_wheels','length','width','height','curb_weight','engine_size','bore','stroke','compression_ratio','horsepower','peak_rpm','city_mpg','highway_mpg']\n",
    "len(l_num)"
   ]
  },
  {
   "cell_type": "code",
   "execution_count": 108,
   "metadata": {},
   "outputs": [],
   "source": [
    "# Writing a class for returning numerical data out of complete data\n",
    "class numerical(BaseEstimator, TransformerMixin):\n",
    "    \n",
    "    def fit(self, x,y=None):\n",
    "        return self\n",
    "    \n",
    "    def transform(self, x,y = None):\n",
    "        l_i = [l[x] for x in l_num]\n",
    "        d_ = x.iloc[:,l_i]\n",
    "        return np.array(d_).astype(np.float64)"
   ]
  },
  {
   "cell_type": "code",
   "execution_count": 109,
   "metadata": {},
   "outputs": [
    {
     "data": {
      "text/plain": [
       "array([[ 3.000e+00,        nan,  8.860e+01, ...,  5.000e+03,  2.100e+01,\n",
       "         2.700e+01],\n",
       "       [ 3.000e+00,        nan,  8.860e+01, ...,  5.000e+03,  2.100e+01,\n",
       "         2.700e+01],\n",
       "       [ 1.000e+00,        nan,  9.450e+01, ...,  5.000e+03,  1.900e+01,\n",
       "         2.600e+01],\n",
       "       ...,\n",
       "       [-1.000e+00,  9.500e+01,  1.091e+02, ...,  5.500e+03,  1.800e+01,\n",
       "         2.300e+01],\n",
       "       [-1.000e+00,  9.500e+01,  1.091e+02, ...,  4.800e+03,  2.600e+01,\n",
       "         2.700e+01],\n",
       "       [-1.000e+00,  9.500e+01,  1.091e+02, ...,  5.400e+03,  1.900e+01,\n",
       "         2.500e+01]])"
      ]
     },
     "execution_count": 109,
     "metadata": {},
     "output_type": "execute_result"
    }
   ],
   "source": [
    "num = numerical()\n",
    "num.transform(car)"
   ]
  },
  {
   "cell_type": "code",
   "execution_count": 110,
   "metadata": {},
   "outputs": [
    {
     "data": {
      "text/plain": [
       "array([['gas', 'std', 'two', ..., 'dohc', 'four', 'mpfi'],\n",
       "       ['gas', 'std', 'two', ..., 'dohc', 'four', 'mpfi'],\n",
       "       ['gas', 'std', 'two', ..., 'ohcv', 'six', 'mpfi'],\n",
       "       ...,\n",
       "       ['gas', 'std', 'four', ..., 'ohcv', 'six', 'mpfi'],\n",
       "       ['diesel', 'turbo', 'four', ..., 'ohc', 'six', 'idi'],\n",
       "       ['gas', 'turbo', 'four', ..., 'ohc', 'four', 'mpfi']], dtype=object)"
      ]
     },
     "execution_count": 110,
     "metadata": {},
     "output_type": "execute_result"
    }
   ],
   "source": [
    "cat = categorical()\n",
    "cat.transform(car)"
   ]
  },
  {
   "cell_type": "code",
   "execution_count": 111,
   "metadata": {},
   "outputs": [],
   "source": [
    "num_pipeline= Pipeline([('num_extractor',numerical()),('imputer', SimpleImputer(strategy = 'median')),('scale_data', StandardScaler())])\n",
    "cat_pipeline= Pipeline([('cat_extractor',categorical()),('encoder', OneHotEncoder(sparse=False))])"
   ]
  },
  {
   "cell_type": "code",
   "execution_count": 105,
   "metadata": {},
   "outputs": [
    {
     "data": {
      "text/plain": [
       "(205, 61)"
      ]
     },
     "execution_count": 105,
     "metadata": {},
     "output_type": "execute_result"
    }
   ],
   "source": [
    "# cat_pipeline.fit_transform(car)\n",
    "# num_pipeline.fit_transform((car))"
   ]
  },
  {
   "cell_type": "code",
   "execution_count": 117,
   "metadata": {},
   "outputs": [],
   "source": [
    "union = FeatureUnion(transformer_list=[('numerical_pipeline',num_pipeline),('category_pipeline',cat_pipeline)])"
   ]
  },
  {
   "cell_type": "code",
   "execution_count": 118,
   "metadata": {},
   "outputs": [],
   "source": [
    "data_prepared = union.fit_transform(car)"
   ]
  },
  {
   "cell_type": "code",
   "execution_count": 119,
   "metadata": {},
   "outputs": [
    {
     "data": {
      "text/plain": [
       "array([ 1.74347043, -0.17650339, -1.6907718 , -0.42652147, -0.84478235,\n",
       "       -2.0204173 , -0.01456628,  0.07444893,  0.52048915, -1.84134525,\n",
       "       -0.28834891,  0.17330945, -0.26498274, -0.64655303, -0.54605874,\n",
       "        0.        ,  1.        ,  1.        ,  0.        ,  0.        ,\n",
       "        1.        ,  0.        ,  1.        ,  0.        ,  0.        ,\n",
       "        0.        ,  0.        ,  0.        ,  0.        ,  1.        ,\n",
       "        1.        ,  0.        ,  1.        ,  0.        ,  0.        ,\n",
       "        0.        ,  0.        ,  0.        ,  0.        ,  0.        ,\n",
       "        0.        ,  0.        ,  0.        ,  0.        ,  0.        ,\n",
       "        0.        ,  0.        ,  0.        ,  0.        ,  0.        ,\n",
       "        0.        ,  0.        ,  0.        ,  0.        ,  1.        ,\n",
       "        0.        ,  0.        ,  0.        ,  0.        ,  0.        ,\n",
       "        0.        ,  0.        ,  0.        ,  1.        ,  0.        ,\n",
       "        0.        ,  0.        ,  0.        ,  0.        ,  0.        ,\n",
       "        0.        ,  0.        ,  0.        ,  1.        ,  0.        ,\n",
       "        0.        ])"
      ]
     },
     "execution_count": 119,
     "metadata": {},
     "output_type": "execute_result"
    }
   ],
   "source": [
    "data_prepared[0]"
   ]
  },
  {
   "cell_type": "code",
   "execution_count": null,
   "metadata": {},
   "outputs": [],
   "source": []
  }
 ],
 "metadata": {
  "interpreter": {
   "hash": "4e1d9a8909477db77738c33245c29c7265277ef753467dede8cf3f814cde494e"
  },
  "kernelspec": {
   "display_name": "Python 3.9.5 64-bit",
   "name": "python3"
  },
  "language_info": {
   "codemirror_mode": {
    "name": "ipython",
    "version": 3
   },
   "file_extension": ".py",
   "mimetype": "text/x-python",
   "name": "python",
   "nbconvert_exporter": "python",
   "pygments_lexer": "ipython3",
   "version": "3.9.5"
  },
  "orig_nbformat": 4
 },
 "nbformat": 4,
 "nbformat_minor": 2
}