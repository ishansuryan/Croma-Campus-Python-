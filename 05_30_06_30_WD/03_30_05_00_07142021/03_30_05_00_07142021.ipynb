{
 "cells": [
  {
   "cell_type": "code",
   "execution_count": 2,
   "source": [
    "import numpy as np"
   ],
   "outputs": [],
   "metadata": {}
  },
  {
   "cell_type": "code",
   "execution_count": 11,
   "source": [
    "a = np.array([x for x in range(1,100,3)])\n",
    "\n",
    "m = a.mean()"
   ],
   "outputs": [],
   "metadata": {}
  },
  {
   "cell_type": "code",
   "execution_count": 12,
   "source": [
    "s = a.std()"
   ],
   "outputs": [],
   "metadata": {}
  },
  {
   "cell_type": "code",
   "execution_count": 13,
   "source": [
    "new_a = (a-m)/s"
   ],
   "outputs": [],
   "metadata": {}
  },
  {
   "cell_type": "code",
   "execution_count": 14,
   "source": [
    "new_a"
   ],
   "outputs": [
    {
     "output_type": "execute_result",
     "data": {
      "text/plain": [
       "array([-1.6803361 , -1.57531509, -1.47029409, -1.36527308, -1.26025208,\n",
       "       -1.15523107, -1.05021006, -0.94518906, -0.84016805, -0.73514704,\n",
       "       -0.63012604, -0.52510503, -0.42008403, -0.31506302, -0.21004201,\n",
       "       -0.10502101,  0.        ,  0.10502101,  0.21004201,  0.31506302,\n",
       "        0.42008403,  0.52510503,  0.63012604,  0.73514704,  0.84016805,\n",
       "        0.94518906,  1.05021006,  1.15523107,  1.26025208,  1.36527308,\n",
       "        1.47029409,  1.57531509,  1.6803361 ])"
      ]
     },
     "metadata": {},
     "execution_count": 14
    }
   ],
   "metadata": {}
  },
  {
   "cell_type": "code",
   "execution_count": 15,
   "source": [
    "new_a.mean(), new_a.std()"
   ],
   "outputs": [
    {
     "output_type": "execute_result",
     "data": {
      "text/plain": [
       "(1.3457248783335231e-17, 0.9999999999999999)"
      ]
     },
     "metadata": {},
     "execution_count": 15
    }
   ],
   "metadata": {}
  },
  {
   "cell_type": "code",
   "execution_count": null,
   "source": [],
   "outputs": [],
   "metadata": {}
  }
 ],
 "metadata": {
  "orig_nbformat": 4,
  "language_info": {
   "name": "python"
  }
 },
 "nbformat": 4,
 "nbformat_minor": 2
}