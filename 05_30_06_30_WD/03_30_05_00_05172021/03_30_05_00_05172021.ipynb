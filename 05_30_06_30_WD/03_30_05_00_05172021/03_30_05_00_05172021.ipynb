{
 "metadata": {
  "language_info": {
   "codemirror_mode": {
    "name": "ipython",
    "version": 3
   },
   "file_extension": ".py",
   "mimetype": "text/x-python",
   "name": "python",
   "nbconvert_exporter": "python",
   "pygments_lexer": "ipython3",
   "version": "3.9.5"
  },
  "orig_nbformat": 2,
  "kernelspec": {
   "name": "python395jvsc74a57bd0d2152fd7f0bbc62aa1baff8c990435d1e2c7175d001561303988032604c11a48",
   "display_name": "Python 3.9.5 64-bit"
  },
  "metadata": {
   "interpreter": {
    "hash": "d2152fd7f0bbc62aa1baff8c990435d1e2c7175d001561303988032604c11a48"
   }
  }
 },
 "nbformat": 4,
 "nbformat_minor": 2,
 "cells": [
  {
   "cell_type": "code",
   "execution_count": 20,
   "metadata": {},
   "outputs": [],
   "source": [
    "import pandas as pd\n",
    "pd.set_option('display.max_columns', 26)\n",
    "pd.set_option('display.max_rows', 10)"
   ]
  },
  {
   "cell_type": "code",
   "execution_count": 53,
   "metadata": {},
   "outputs": [
    {
     "output_type": "execute_result",
     "data": {
      "text/plain": [
       "   symboling normalized_losses Fuel_type make num_of_doors   aspiration  \\\n",
       "0          3                 ?       gas  std          two  convertible   \n",
       "1          3                 ?       gas  std          two  convertible   \n",
       "2          1                 ?       gas  std          two    hatchback   \n",
       "3          2               164       gas  std         four        sedan   \n",
       "4          2               164       gas  std         four        sedan   \n",
       "\n",
       "  wheel_base engine_location  drive_wheels   body_style  length  width  \\\n",
       "0        rwd           front          88.6  alfa-romero   168.8   64.1   \n",
       "1        rwd           front          88.6  alfa-romero   168.8   64.1   \n",
       "2        rwd           front          94.5  alfa-romero   171.2   65.5   \n",
       "3        fwd           front          99.8         audi   176.6   66.2   \n",
       "4        4wd           front          99.4         audi   176.6   66.4   \n",
       "\n",
       "   height  curb_weight engine_type num_of_cylinders  engine_size fuel_system  \\\n",
       "0    48.8         2548        dohc             four          130        mpfi   \n",
       "1    48.8         2548        dohc             four          130        mpfi   \n",
       "2    52.4         2823        ohcv              six          152        mpfi   \n",
       "3    54.3         2337         ohc             four          109        mpfi   \n",
       "4    54.3         2824         ohc             five          136        mpfi   \n",
       "\n",
       "   bore stroke  compression_ratio horsepower peak_rpm  city_mpg  highway_mpg  \\\n",
       "0  3.47   2.68                9.0        111     5000        21           27   \n",
       "1  3.47   2.68                9.0        111     5000        21           27   \n",
       "2  2.68   3.47                9.0        154     5000        19           26   \n",
       "3  3.19    3.4               10.0        102     5500        24           30   \n",
       "4  3.19    3.4                8.0        115     5500        18           22   \n",
       "\n",
       "   price  \n",
       "0  13495  \n",
       "1  16500  \n",
       "2  16500  \n",
       "3  13950  \n",
       "4  17450  "
      ],
      "text/html": "<div>\n<style scoped>\n    .dataframe tbody tr th:only-of-type {\n        vertical-align: middle;\n    }\n\n    .dataframe tbody tr th {\n        vertical-align: top;\n    }\n\n    .dataframe thead th {\n        text-align: right;\n    }\n</style>\n<table border=\"1\" class=\"dataframe\">\n  <thead>\n    <tr style=\"text-align: right;\">\n      <th></th>\n      <th>symboling</th>\n      <th>normalized_losses</th>\n      <th>Fuel_type</th>\n      <th>make</th>\n      <th>num_of_doors</th>\n      <th>aspiration</th>\n      <th>wheel_base</th>\n      <th>engine_location</th>\n      <th>drive_wheels</th>\n      <th>body_style</th>\n      <th>length</th>\n      <th>width</th>\n      <th>height</th>\n      <th>curb_weight</th>\n      <th>engine_type</th>\n      <th>num_of_cylinders</th>\n      <th>engine_size</th>\n      <th>fuel_system</th>\n      <th>bore</th>\n      <th>stroke</th>\n      <th>compression_ratio</th>\n      <th>horsepower</th>\n      <th>peak_rpm</th>\n      <th>city_mpg</th>\n      <th>highway_mpg</th>\n      <th>price</th>\n    </tr>\n  </thead>\n  <tbody>\n    <tr>\n      <th>0</th>\n      <td>3</td>\n      <td>?</td>\n      <td>gas</td>\n      <td>std</td>\n      <td>two</td>\n      <td>convertible</td>\n      <td>rwd</td>\n      <td>front</td>\n      <td>88.6</td>\n      <td>alfa-romero</td>\n      <td>168.8</td>\n      <td>64.1</td>\n      <td>48.8</td>\n      <td>2548</td>\n      <td>dohc</td>\n      <td>four</td>\n      <td>130</td>\n      <td>mpfi</td>\n      <td>3.47</td>\n      <td>2.68</td>\n      <td>9.0</td>\n      <td>111</td>\n      <td>5000</td>\n      <td>21</td>\n      <td>27</td>\n      <td>13495</td>\n    </tr>\n    <tr>\n      <th>1</th>\n      <td>3</td>\n      <td>?</td>\n      <td>gas</td>\n      <td>std</td>\n      <td>two</td>\n      <td>convertible</td>\n      <td>rwd</td>\n      <td>front</td>\n      <td>88.6</td>\n      <td>alfa-romero</td>\n      <td>168.8</td>\n      <td>64.1</td>\n      <td>48.8</td>\n      <td>2548</td>\n      <td>dohc</td>\n      <td>four</td>\n      <td>130</td>\n      <td>mpfi</td>\n      <td>3.47</td>\n      <td>2.68</td>\n      <td>9.0</td>\n      <td>111</td>\n      <td>5000</td>\n      <td>21</td>\n      <td>27</td>\n      <td>16500</td>\n    </tr>\n    <tr>\n      <th>2</th>\n      <td>1</td>\n      <td>?</td>\n      <td>gas</td>\n      <td>std</td>\n      <td>two</td>\n      <td>hatchback</td>\n      <td>rwd</td>\n      <td>front</td>\n      <td>94.5</td>\n      <td>alfa-romero</td>\n      <td>171.2</td>\n      <td>65.5</td>\n      <td>52.4</td>\n      <td>2823</td>\n      <td>ohcv</td>\n      <td>six</td>\n      <td>152</td>\n      <td>mpfi</td>\n      <td>2.68</td>\n      <td>3.47</td>\n      <td>9.0</td>\n      <td>154</td>\n      <td>5000</td>\n      <td>19</td>\n      <td>26</td>\n      <td>16500</td>\n    </tr>\n    <tr>\n      <th>3</th>\n      <td>2</td>\n      <td>164</td>\n      <td>gas</td>\n      <td>std</td>\n      <td>four</td>\n      <td>sedan</td>\n      <td>fwd</td>\n      <td>front</td>\n      <td>99.8</td>\n      <td>audi</td>\n      <td>176.6</td>\n      <td>66.2</td>\n      <td>54.3</td>\n      <td>2337</td>\n      <td>ohc</td>\n      <td>four</td>\n      <td>109</td>\n      <td>mpfi</td>\n      <td>3.19</td>\n      <td>3.4</td>\n      <td>10.0</td>\n      <td>102</td>\n      <td>5500</td>\n      <td>24</td>\n      <td>30</td>\n      <td>13950</td>\n    </tr>\n    <tr>\n      <th>4</th>\n      <td>2</td>\n      <td>164</td>\n      <td>gas</td>\n      <td>std</td>\n      <td>four</td>\n      <td>sedan</td>\n      <td>4wd</td>\n      <td>front</td>\n      <td>99.4</td>\n      <td>audi</td>\n      <td>176.6</td>\n      <td>66.4</td>\n      <td>54.3</td>\n      <td>2824</td>\n      <td>ohc</td>\n      <td>five</td>\n      <td>136</td>\n      <td>mpfi</td>\n      <td>3.19</td>\n      <td>3.4</td>\n      <td>8.0</td>\n      <td>115</td>\n      <td>5500</td>\n      <td>18</td>\n      <td>22</td>\n      <td>17450</td>\n    </tr>\n  </tbody>\n</table>\n</div>"
     },
     "metadata": {},
     "execution_count": 53
    }
   ],
   "source": [
    "car = pd.read_csv('/mnt/New_Volume/Work From Home/Data/car_price.csv')\n",
    "car.head()"
   ]
  },
  {
   "cell_type": "code",
   "execution_count": 54,
   "metadata": {},
   "outputs": [
    {
     "output_type": "execute_result",
     "data": {
      "text/plain": [
       "     symboling normalized_losses Fuel_type   make num_of_doors aspiration  \\\n",
       "200         -1                95       gas    std         four      sedan   \n",
       "201         -1                95       gas  turbo         four      sedan   \n",
       "202         -1                95       gas    std         four      sedan   \n",
       "203         -1                95    diesel  turbo         four      sedan   \n",
       "204         -1                95       gas  turbo         four      sedan   \n",
       "\n",
       "    wheel_base engine_location  drive_wheels body_style  length  width  \\\n",
       "200        rwd           front         109.1      volvo   188.8   68.9   \n",
       "201        rwd           front         109.1      volvo   188.8   68.8   \n",
       "202        rwd           front         109.1      volvo   188.8   68.9   \n",
       "203        rwd           front         109.1      volvo   188.8   68.9   \n",
       "204        rwd           front         109.1      volvo   188.8   68.9   \n",
       "\n",
       "     height  curb_weight engine_type num_of_cylinders  engine_size  \\\n",
       "200    55.5         2952         ohc             four          141   \n",
       "201    55.5         3049         ohc             four          141   \n",
       "202    55.5         3012        ohcv              six          173   \n",
       "203    55.5         3217         ohc              six          145   \n",
       "204    55.5         3062         ohc             four          141   \n",
       "\n",
       "    fuel_system  bore stroke  compression_ratio horsepower peak_rpm  city_mpg  \\\n",
       "200        mpfi  3.78   3.15                9.5        114     5400        23   \n",
       "201        mpfi  3.78   3.15                8.7        160     5300        19   \n",
       "202        mpfi  3.58   2.87                8.8        134     5500        18   \n",
       "203         idi  3.01    3.4               23.0        106     4800        26   \n",
       "204        mpfi  3.78   3.15                9.5        114     5400        19   \n",
       "\n",
       "     highway_mpg  price  \n",
       "200           28  16845  \n",
       "201           25  19045  \n",
       "202           23  21485  \n",
       "203           27  22470  \n",
       "204           25  22625  "
      ],
      "text/html": "<div>\n<style scoped>\n    .dataframe tbody tr th:only-of-type {\n        vertical-align: middle;\n    }\n\n    .dataframe tbody tr th {\n        vertical-align: top;\n    }\n\n    .dataframe thead th {\n        text-align: right;\n    }\n</style>\n<table border=\"1\" class=\"dataframe\">\n  <thead>\n    <tr style=\"text-align: right;\">\n      <th></th>\n      <th>symboling</th>\n      <th>normalized_losses</th>\n      <th>Fuel_type</th>\n      <th>make</th>\n      <th>num_of_doors</th>\n      <th>aspiration</th>\n      <th>wheel_base</th>\n      <th>engine_location</th>\n      <th>drive_wheels</th>\n      <th>body_style</th>\n      <th>length</th>\n      <th>width</th>\n      <th>height</th>\n      <th>curb_weight</th>\n      <th>engine_type</th>\n      <th>num_of_cylinders</th>\n      <th>engine_size</th>\n      <th>fuel_system</th>\n      <th>bore</th>\n      <th>stroke</th>\n      <th>compression_ratio</th>\n      <th>horsepower</th>\n      <th>peak_rpm</th>\n      <th>city_mpg</th>\n      <th>highway_mpg</th>\n      <th>price</th>\n    </tr>\n  </thead>\n  <tbody>\n    <tr>\n      <th>200</th>\n      <td>-1</td>\n      <td>95</td>\n      <td>gas</td>\n      <td>std</td>\n      <td>four</td>\n      <td>sedan</td>\n      <td>rwd</td>\n      <td>front</td>\n      <td>109.1</td>\n      <td>volvo</td>\n      <td>188.8</td>\n      <td>68.9</td>\n      <td>55.5</td>\n      <td>2952</td>\n      <td>ohc</td>\n      <td>four</td>\n      <td>141</td>\n      <td>mpfi</td>\n      <td>3.78</td>\n      <td>3.15</td>\n      <td>9.5</td>\n      <td>114</td>\n      <td>5400</td>\n      <td>23</td>\n      <td>28</td>\n      <td>16845</td>\n    </tr>\n    <tr>\n      <th>201</th>\n      <td>-1</td>\n      <td>95</td>\n      <td>gas</td>\n      <td>turbo</td>\n      <td>four</td>\n      <td>sedan</td>\n      <td>rwd</td>\n      <td>front</td>\n      <td>109.1</td>\n      <td>volvo</td>\n      <td>188.8</td>\n      <td>68.8</td>\n      <td>55.5</td>\n      <td>3049</td>\n      <td>ohc</td>\n      <td>four</td>\n      <td>141</td>\n      <td>mpfi</td>\n      <td>3.78</td>\n      <td>3.15</td>\n      <td>8.7</td>\n      <td>160</td>\n      <td>5300</td>\n      <td>19</td>\n      <td>25</td>\n      <td>19045</td>\n    </tr>\n    <tr>\n      <th>202</th>\n      <td>-1</td>\n      <td>95</td>\n      <td>gas</td>\n      <td>std</td>\n      <td>four</td>\n      <td>sedan</td>\n      <td>rwd</td>\n      <td>front</td>\n      <td>109.1</td>\n      <td>volvo</td>\n      <td>188.8</td>\n      <td>68.9</td>\n      <td>55.5</td>\n      <td>3012</td>\n      <td>ohcv</td>\n      <td>six</td>\n      <td>173</td>\n      <td>mpfi</td>\n      <td>3.58</td>\n      <td>2.87</td>\n      <td>8.8</td>\n      <td>134</td>\n      <td>5500</td>\n      <td>18</td>\n      <td>23</td>\n      <td>21485</td>\n    </tr>\n    <tr>\n      <th>203</th>\n      <td>-1</td>\n      <td>95</td>\n      <td>diesel</td>\n      <td>turbo</td>\n      <td>four</td>\n      <td>sedan</td>\n      <td>rwd</td>\n      <td>front</td>\n      <td>109.1</td>\n      <td>volvo</td>\n      <td>188.8</td>\n      <td>68.9</td>\n      <td>55.5</td>\n      <td>3217</td>\n      <td>ohc</td>\n      <td>six</td>\n      <td>145</td>\n      <td>idi</td>\n      <td>3.01</td>\n      <td>3.4</td>\n      <td>23.0</td>\n      <td>106</td>\n      <td>4800</td>\n      <td>26</td>\n      <td>27</td>\n      <td>22470</td>\n    </tr>\n    <tr>\n      <th>204</th>\n      <td>-1</td>\n      <td>95</td>\n      <td>gas</td>\n      <td>turbo</td>\n      <td>four</td>\n      <td>sedan</td>\n      <td>rwd</td>\n      <td>front</td>\n      <td>109.1</td>\n      <td>volvo</td>\n      <td>188.8</td>\n      <td>68.9</td>\n      <td>55.5</td>\n      <td>3062</td>\n      <td>ohc</td>\n      <td>four</td>\n      <td>141</td>\n      <td>mpfi</td>\n      <td>3.78</td>\n      <td>3.15</td>\n      <td>9.5</td>\n      <td>114</td>\n      <td>5400</td>\n      <td>19</td>\n      <td>25</td>\n      <td>22625</td>\n    </tr>\n  </tbody>\n</table>\n</div>"
     },
     "metadata": {},
     "execution_count": 54
    }
   ],
   "source": [
    "car.tail()"
   ]
  },
  {
   "cell_type": "code",
   "execution_count": 55,
   "metadata": {},
   "outputs": [
    {
     "output_type": "execute_result",
     "data": {
      "text/plain": [
       "0        ?\n",
       "1        ?\n",
       "2        ?\n",
       "3      164\n",
       "4      164\n",
       "      ... \n",
       "200     95\n",
       "201     95\n",
       "202     95\n",
       "203     95\n",
       "204     95\n",
       "Name: normalized_losses, Length: 205, dtype: object"
      ]
     },
     "metadata": {},
     "execution_count": 55
    }
   ],
   "source": [
    "car.normalized_losses"
   ]
  },
  {
   "cell_type": "code",
   "execution_count": 56,
   "metadata": {},
   "outputs": [
    {
     "output_type": "execute_result",
     "data": {
      "text/plain": [
       "    normalized_losses num_of_doors   aspiration  curb_weight\n",
       "0                   ?          two  convertible         2548\n",
       "1                   ?          two  convertible         2548\n",
       "2                   ?          two    hatchback         2823\n",
       "3                 164         four        sedan         2337\n",
       "4                 164         four        sedan         2824\n",
       "..                ...          ...          ...          ...\n",
       "200                95         four        sedan         2952\n",
       "201                95         four        sedan         3049\n",
       "202                95         four        sedan         3012\n",
       "203                95         four        sedan         3217\n",
       "204                95         four        sedan         3062\n",
       "\n",
       "[205 rows x 4 columns]"
      ],
      "text/html": "<div>\n<style scoped>\n    .dataframe tbody tr th:only-of-type {\n        vertical-align: middle;\n    }\n\n    .dataframe tbody tr th {\n        vertical-align: top;\n    }\n\n    .dataframe thead th {\n        text-align: right;\n    }\n</style>\n<table border=\"1\" class=\"dataframe\">\n  <thead>\n    <tr style=\"text-align: right;\">\n      <th></th>\n      <th>normalized_losses</th>\n      <th>num_of_doors</th>\n      <th>aspiration</th>\n      <th>curb_weight</th>\n    </tr>\n  </thead>\n  <tbody>\n    <tr>\n      <th>0</th>\n      <td>?</td>\n      <td>two</td>\n      <td>convertible</td>\n      <td>2548</td>\n    </tr>\n    <tr>\n      <th>1</th>\n      <td>?</td>\n      <td>two</td>\n      <td>convertible</td>\n      <td>2548</td>\n    </tr>\n    <tr>\n      <th>2</th>\n      <td>?</td>\n      <td>two</td>\n      <td>hatchback</td>\n      <td>2823</td>\n    </tr>\n    <tr>\n      <th>3</th>\n      <td>164</td>\n      <td>four</td>\n      <td>sedan</td>\n      <td>2337</td>\n    </tr>\n    <tr>\n      <th>4</th>\n      <td>164</td>\n      <td>four</td>\n      <td>sedan</td>\n      <td>2824</td>\n    </tr>\n    <tr>\n      <th>...</th>\n      <td>...</td>\n      <td>...</td>\n      <td>...</td>\n      <td>...</td>\n    </tr>\n    <tr>\n      <th>200</th>\n      <td>95</td>\n      <td>four</td>\n      <td>sedan</td>\n      <td>2952</td>\n    </tr>\n    <tr>\n      <th>201</th>\n      <td>95</td>\n      <td>four</td>\n      <td>sedan</td>\n      <td>3049</td>\n    </tr>\n    <tr>\n      <th>202</th>\n      <td>95</td>\n      <td>four</td>\n      <td>sedan</td>\n      <td>3012</td>\n    </tr>\n    <tr>\n      <th>203</th>\n      <td>95</td>\n      <td>four</td>\n      <td>sedan</td>\n      <td>3217</td>\n    </tr>\n    <tr>\n      <th>204</th>\n      <td>95</td>\n      <td>four</td>\n      <td>sedan</td>\n      <td>3062</td>\n    </tr>\n  </tbody>\n</table>\n<p>205 rows × 4 columns</p>\n</div>"
     },
     "metadata": {},
     "execution_count": 56
    }
   ],
   "source": [
    "car[['normalized_losses','num_of_doors','aspiration','curb_weight']]"
   ]
  },
  {
   "cell_type": "code",
   "execution_count": 46,
   "metadata": {},
   "outputs": [
    {
     "output_type": "execute_result",
     "data": {
      "text/plain": [
       "0      1158.181818\n",
       "1      1158.181818\n",
       "2      1283.181818\n",
       "3      1062.272727\n",
       "4      1283.636364\n",
       "          ...     \n",
       "200    1341.818182\n",
       "201    1385.909091\n",
       "202    1369.090909\n",
       "203    1462.272727\n",
       "204    1391.818182\n",
       "Name: weight_KG, Length: 205, dtype: float64"
      ]
     },
     "metadata": {},
     "execution_count": 46
    }
   ],
   "source": [
    "wt = car['curb_weight']/2.2\n",
    "wt = pd.Series(wt,name = 'weight_KG')           # creating a single column\n",
    "wt"
   ]
  },
  {
   "source": [
    "# Methods to add column to Dataframe\n",
    "## Method 1"
   ],
   "cell_type": "markdown",
   "metadata": {}
  },
  {
   "cell_type": "code",
   "execution_count": 52,
   "metadata": {},
   "outputs": [
    {
     "output_type": "stream",
     "name": "stdout",
     "text": [
      "{0: 'symboling', 1: 'normalized_losses', 2: 'Fuel_type', 3: 'make', 4: 'num_of_doors', 5: 'aspiration', 6: 'wheel_base', 7: 'engine_location', 8: 'drive_wheels', 9: 'body_style', 10: 'length', 11: 'width', 12: 'height', 13: 'curb_weight', 14: 'weight_KG', 15: 'engine_type', 16: 'num_of_cylinders', 17: 'engine_size', 18: 'fuel_system', 19: 'bore', 20: 'stroke', 21: 'compression_ratio', 22: 'horsepower', 23: 'peak_rpm', 24: 'city_mpg', 25: 'highway_mpg', 26: 'price'}\n"
     ]
    }
   ],
   "source": [
    "print({x:val for x,val in enumerate(car.columns)})"
   ]
  },
  {
   "cell_type": "code",
   "execution_count": 50,
   "metadata": {},
   "outputs": [],
   "source": [
    "car.insert(14, 'weight_KG', wt)"
   ]
  },
  {
   "cell_type": "code",
   "execution_count": 51,
   "metadata": {},
   "outputs": [
    {
     "output_type": "execute_result",
     "data": {
      "text/plain": [
       "   symboling normalized_losses Fuel_type make num_of_doors   aspiration  \\\n",
       "0          3                 ?       gas  std          two  convertible   \n",
       "1          3                 ?       gas  std          two  convertible   \n",
       "2          1                 ?       gas  std          two    hatchback   \n",
       "3          2               164       gas  std         four        sedan   \n",
       "4          2               164       gas  std         four        sedan   \n",
       "\n",
       "  wheel_base engine_location  drive_wheels   body_style  length  width  \\\n",
       "0        rwd           front          88.6  alfa-romero   168.8   64.1   \n",
       "1        rwd           front          88.6  alfa-romero   168.8   64.1   \n",
       "2        rwd           front          94.5  alfa-romero   171.2   65.5   \n",
       "3        fwd           front          99.8         audi   176.6   66.2   \n",
       "4        4wd           front          99.4         audi   176.6   66.4   \n",
       "\n",
       "   height  ...    weight_KG  engine_type num_of_cylinders engine_size  \\\n",
       "0    48.8  ...  1158.181818         dohc             four         130   \n",
       "1    48.8  ...  1158.181818         dohc             four         130   \n",
       "2    52.4  ...  1283.181818         ohcv              six         152   \n",
       "3    54.3  ...  1062.272727          ohc             four         109   \n",
       "4    54.3  ...  1283.636364          ohc             five         136   \n",
       "\n",
       "   fuel_system  bore stroke compression_ratio  horsepower peak_rpm city_mpg  \\\n",
       "0         mpfi  3.47   2.68               9.0         111     5000       21   \n",
       "1         mpfi  3.47   2.68               9.0         111     5000       21   \n",
       "2         mpfi  2.68   3.47               9.0         154     5000       19   \n",
       "3         mpfi  3.19    3.4              10.0         102     5500       24   \n",
       "4         mpfi  3.19    3.4               8.0         115     5500       18   \n",
       "\n",
       "   highway_mpg  price  \n",
       "0           27  13495  \n",
       "1           27  16500  \n",
       "2           26  16500  \n",
       "3           30  13950  \n",
       "4           22  17450  \n",
       "\n",
       "[5 rows x 27 columns]"
      ],
      "text/html": "<div>\n<style scoped>\n    .dataframe tbody tr th:only-of-type {\n        vertical-align: middle;\n    }\n\n    .dataframe tbody tr th {\n        vertical-align: top;\n    }\n\n    .dataframe thead th {\n        text-align: right;\n    }\n</style>\n<table border=\"1\" class=\"dataframe\">\n  <thead>\n    <tr style=\"text-align: right;\">\n      <th></th>\n      <th>symboling</th>\n      <th>normalized_losses</th>\n      <th>Fuel_type</th>\n      <th>make</th>\n      <th>num_of_doors</th>\n      <th>aspiration</th>\n      <th>wheel_base</th>\n      <th>engine_location</th>\n      <th>drive_wheels</th>\n      <th>body_style</th>\n      <th>length</th>\n      <th>width</th>\n      <th>height</th>\n      <th>...</th>\n      <th>weight_KG</th>\n      <th>engine_type</th>\n      <th>num_of_cylinders</th>\n      <th>engine_size</th>\n      <th>fuel_system</th>\n      <th>bore</th>\n      <th>stroke</th>\n      <th>compression_ratio</th>\n      <th>horsepower</th>\n      <th>peak_rpm</th>\n      <th>city_mpg</th>\n      <th>highway_mpg</th>\n      <th>price</th>\n    </tr>\n  </thead>\n  <tbody>\n    <tr>\n      <th>0</th>\n      <td>3</td>\n      <td>?</td>\n      <td>gas</td>\n      <td>std</td>\n      <td>two</td>\n      <td>convertible</td>\n      <td>rwd</td>\n      <td>front</td>\n      <td>88.6</td>\n      <td>alfa-romero</td>\n      <td>168.8</td>\n      <td>64.1</td>\n      <td>48.8</td>\n      <td>...</td>\n      <td>1158.181818</td>\n      <td>dohc</td>\n      <td>four</td>\n      <td>130</td>\n      <td>mpfi</td>\n      <td>3.47</td>\n      <td>2.68</td>\n      <td>9.0</td>\n      <td>111</td>\n      <td>5000</td>\n      <td>21</td>\n      <td>27</td>\n      <td>13495</td>\n    </tr>\n    <tr>\n      <th>1</th>\n      <td>3</td>\n      <td>?</td>\n      <td>gas</td>\n      <td>std</td>\n      <td>two</td>\n      <td>convertible</td>\n      <td>rwd</td>\n      <td>front</td>\n      <td>88.6</td>\n      <td>alfa-romero</td>\n      <td>168.8</td>\n      <td>64.1</td>\n      <td>48.8</td>\n      <td>...</td>\n      <td>1158.181818</td>\n      <td>dohc</td>\n      <td>four</td>\n      <td>130</td>\n      <td>mpfi</td>\n      <td>3.47</td>\n      <td>2.68</td>\n      <td>9.0</td>\n      <td>111</td>\n      <td>5000</td>\n      <td>21</td>\n      <td>27</td>\n      <td>16500</td>\n    </tr>\n    <tr>\n      <th>2</th>\n      <td>1</td>\n      <td>?</td>\n      <td>gas</td>\n      <td>std</td>\n      <td>two</td>\n      <td>hatchback</td>\n      <td>rwd</td>\n      <td>front</td>\n      <td>94.5</td>\n      <td>alfa-romero</td>\n      <td>171.2</td>\n      <td>65.5</td>\n      <td>52.4</td>\n      <td>...</td>\n      <td>1283.181818</td>\n      <td>ohcv</td>\n      <td>six</td>\n      <td>152</td>\n      <td>mpfi</td>\n      <td>2.68</td>\n      <td>3.47</td>\n      <td>9.0</td>\n      <td>154</td>\n      <td>5000</td>\n      <td>19</td>\n      <td>26</td>\n      <td>16500</td>\n    </tr>\n    <tr>\n      <th>3</th>\n      <td>2</td>\n      <td>164</td>\n      <td>gas</td>\n      <td>std</td>\n      <td>four</td>\n      <td>sedan</td>\n      <td>fwd</td>\n      <td>front</td>\n      <td>99.8</td>\n      <td>audi</td>\n      <td>176.6</td>\n      <td>66.2</td>\n      <td>54.3</td>\n      <td>...</td>\n      <td>1062.272727</td>\n      <td>ohc</td>\n      <td>four</td>\n      <td>109</td>\n      <td>mpfi</td>\n      <td>3.19</td>\n      <td>3.4</td>\n      <td>10.0</td>\n      <td>102</td>\n      <td>5500</td>\n      <td>24</td>\n      <td>30</td>\n      <td>13950</td>\n    </tr>\n    <tr>\n      <th>4</th>\n      <td>2</td>\n      <td>164</td>\n      <td>gas</td>\n      <td>std</td>\n      <td>four</td>\n      <td>sedan</td>\n      <td>4wd</td>\n      <td>front</td>\n      <td>99.4</td>\n      <td>audi</td>\n      <td>176.6</td>\n      <td>66.4</td>\n      <td>54.3</td>\n      <td>...</td>\n      <td>1283.636364</td>\n      <td>ohc</td>\n      <td>five</td>\n      <td>136</td>\n      <td>mpfi</td>\n      <td>3.19</td>\n      <td>3.4</td>\n      <td>8.0</td>\n      <td>115</td>\n      <td>5500</td>\n      <td>18</td>\n      <td>22</td>\n      <td>17450</td>\n    </tr>\n  </tbody>\n</table>\n<p>5 rows × 27 columns</p>\n</div>"
     },
     "metadata": {},
     "execution_count": 51
    }
   ],
   "source": [
    "car.head()"
   ]
  },
  {
   "source": [
    "# Method 2"
   ],
   "cell_type": "markdown",
   "metadata": {}
  },
  {
   "cell_type": "code",
   "execution_count": null,
   "metadata": {},
   "outputs": [],
   "source": [
    "pd.concat([car,wt])"
   ]
  },
  {
   "source": [
    "# Method 3"
   ],
   "cell_type": "markdown",
   "metadata": {}
  },
  {
   "cell_type": "code",
   "execution_count": 57,
   "metadata": {},
   "outputs": [
    {
     "output_type": "execute_result",
     "data": {
      "text/plain": [
       "   symboling normalized_losses Fuel_type make num_of_doors   aspiration  \\\n",
       "0          3                 ?       gas  std          two  convertible   \n",
       "1          3                 ?       gas  std          two  convertible   \n",
       "2          1                 ?       gas  std          two    hatchback   \n",
       "3          2               164       gas  std         four        sedan   \n",
       "4          2               164       gas  std         four        sedan   \n",
       "\n",
       "  wheel_base engine_location  drive_wheels   body_style  length  width  \\\n",
       "0        rwd           front          88.6  alfa-romero   168.8   64.1   \n",
       "1        rwd           front          88.6  alfa-romero   168.8   64.1   \n",
       "2        rwd           front          94.5  alfa-romero   171.2   65.5   \n",
       "3        fwd           front          99.8         audi   176.6   66.2   \n",
       "4        4wd           front          99.4         audi   176.6   66.4   \n",
       "\n",
       "   height  ...  engine_type num_of_cylinders engine_size  fuel_system  bore  \\\n",
       "0    48.8  ...         dohc             four         130         mpfi  3.47   \n",
       "1    48.8  ...         dohc             four         130         mpfi  3.47   \n",
       "2    52.4  ...         ohcv              six         152         mpfi  2.68   \n",
       "3    54.3  ...          ohc             four         109         mpfi  3.19   \n",
       "4    54.3  ...          ohc             five         136         mpfi  3.19   \n",
       "\n",
       "  stroke compression_ratio  horsepower peak_rpm city_mpg  highway_mpg  price  \\\n",
       "0   2.68               9.0         111     5000       21           27  13495   \n",
       "1   2.68               9.0         111     5000       21           27  16500   \n",
       "2   3.47               9.0         154     5000       19           26  16500   \n",
       "3    3.4              10.0         102     5500       24           30  13950   \n",
       "4    3.4               8.0         115     5500       18           22  17450   \n",
       "\n",
       "     weight_kg  \n",
       "0  1158.181818  \n",
       "1  1158.181818  \n",
       "2  1283.181818  \n",
       "3  1062.272727  \n",
       "4  1283.636364  \n",
       "\n",
       "[5 rows x 27 columns]"
      ],
      "text/html": "<div>\n<style scoped>\n    .dataframe tbody tr th:only-of-type {\n        vertical-align: middle;\n    }\n\n    .dataframe tbody tr th {\n        vertical-align: top;\n    }\n\n    .dataframe thead th {\n        text-align: right;\n    }\n</style>\n<table border=\"1\" class=\"dataframe\">\n  <thead>\n    <tr style=\"text-align: right;\">\n      <th></th>\n      <th>symboling</th>\n      <th>normalized_losses</th>\n      <th>Fuel_type</th>\n      <th>make</th>\n      <th>num_of_doors</th>\n      <th>aspiration</th>\n      <th>wheel_base</th>\n      <th>engine_location</th>\n      <th>drive_wheels</th>\n      <th>body_style</th>\n      <th>length</th>\n      <th>width</th>\n      <th>height</th>\n      <th>...</th>\n      <th>engine_type</th>\n      <th>num_of_cylinders</th>\n      <th>engine_size</th>\n      <th>fuel_system</th>\n      <th>bore</th>\n      <th>stroke</th>\n      <th>compression_ratio</th>\n      <th>horsepower</th>\n      <th>peak_rpm</th>\n      <th>city_mpg</th>\n      <th>highway_mpg</th>\n      <th>price</th>\n      <th>weight_kg</th>\n    </tr>\n  </thead>\n  <tbody>\n    <tr>\n      <th>0</th>\n      <td>3</td>\n      <td>?</td>\n      <td>gas</td>\n      <td>std</td>\n      <td>two</td>\n      <td>convertible</td>\n      <td>rwd</td>\n      <td>front</td>\n      <td>88.6</td>\n      <td>alfa-romero</td>\n      <td>168.8</td>\n      <td>64.1</td>\n      <td>48.8</td>\n      <td>...</td>\n      <td>dohc</td>\n      <td>four</td>\n      <td>130</td>\n      <td>mpfi</td>\n      <td>3.47</td>\n      <td>2.68</td>\n      <td>9.0</td>\n      <td>111</td>\n      <td>5000</td>\n      <td>21</td>\n      <td>27</td>\n      <td>13495</td>\n      <td>1158.181818</td>\n    </tr>\n    <tr>\n      <th>1</th>\n      <td>3</td>\n      <td>?</td>\n      <td>gas</td>\n      <td>std</td>\n      <td>two</td>\n      <td>convertible</td>\n      <td>rwd</td>\n      <td>front</td>\n      <td>88.6</td>\n      <td>alfa-romero</td>\n      <td>168.8</td>\n      <td>64.1</td>\n      <td>48.8</td>\n      <td>...</td>\n      <td>dohc</td>\n      <td>four</td>\n      <td>130</td>\n      <td>mpfi</td>\n      <td>3.47</td>\n      <td>2.68</td>\n      <td>9.0</td>\n      <td>111</td>\n      <td>5000</td>\n      <td>21</td>\n      <td>27</td>\n      <td>16500</td>\n      <td>1158.181818</td>\n    </tr>\n    <tr>\n      <th>2</th>\n      <td>1</td>\n      <td>?</td>\n      <td>gas</td>\n      <td>std</td>\n      <td>two</td>\n      <td>hatchback</td>\n      <td>rwd</td>\n      <td>front</td>\n      <td>94.5</td>\n      <td>alfa-romero</td>\n      <td>171.2</td>\n      <td>65.5</td>\n      <td>52.4</td>\n      <td>...</td>\n      <td>ohcv</td>\n      <td>six</td>\n      <td>152</td>\n      <td>mpfi</td>\n      <td>2.68</td>\n      <td>3.47</td>\n      <td>9.0</td>\n      <td>154</td>\n      <td>5000</td>\n      <td>19</td>\n      <td>26</td>\n      <td>16500</td>\n      <td>1283.181818</td>\n    </tr>\n    <tr>\n      <th>3</th>\n      <td>2</td>\n      <td>164</td>\n      <td>gas</td>\n      <td>std</td>\n      <td>four</td>\n      <td>sedan</td>\n      <td>fwd</td>\n      <td>front</td>\n      <td>99.8</td>\n      <td>audi</td>\n      <td>176.6</td>\n      <td>66.2</td>\n      <td>54.3</td>\n      <td>...</td>\n      <td>ohc</td>\n      <td>four</td>\n      <td>109</td>\n      <td>mpfi</td>\n      <td>3.19</td>\n      <td>3.4</td>\n      <td>10.0</td>\n      <td>102</td>\n      <td>5500</td>\n      <td>24</td>\n      <td>30</td>\n      <td>13950</td>\n      <td>1062.272727</td>\n    </tr>\n    <tr>\n      <th>4</th>\n      <td>2</td>\n      <td>164</td>\n      <td>gas</td>\n      <td>std</td>\n      <td>four</td>\n      <td>sedan</td>\n      <td>4wd</td>\n      <td>front</td>\n      <td>99.4</td>\n      <td>audi</td>\n      <td>176.6</td>\n      <td>66.4</td>\n      <td>54.3</td>\n      <td>...</td>\n      <td>ohc</td>\n      <td>five</td>\n      <td>136</td>\n      <td>mpfi</td>\n      <td>3.19</td>\n      <td>3.4</td>\n      <td>8.0</td>\n      <td>115</td>\n      <td>5500</td>\n      <td>18</td>\n      <td>22</td>\n      <td>17450</td>\n      <td>1283.636364</td>\n    </tr>\n  </tbody>\n</table>\n<p>5 rows × 27 columns</p>\n</div>"
     },
     "metadata": {},
     "execution_count": 57
    }
   ],
   "source": [
    "car['weight_kg'] = car['curb_weight']/2.2\n",
    "car.head()s"
   ]
  },
  {
   "cell_type": "code",
   "execution_count": null,
   "metadata": {},
   "outputs": [],
   "source": []
  }
 ]
}